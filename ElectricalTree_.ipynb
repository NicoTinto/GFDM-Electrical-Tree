{
 "cells": [
  {
   "cell_type": "code",
   "source": [
    "import numpy as np\n",
    "import matplotlib.pyplot as plt\n",
    "import random\n",
    "import time\n",
    "from scipy.sparse.linalg import LinearOperator\n",
    "from scipy.sparse.linalg import spilu\n",
    "from scipy.sparse.linalg import gmres\n",
    "from math import *\n",
    "from scipy.sparse import csr_matrix\n",
    "from scipy.sparse import csc_matrix\n",
    "from numpy.linalg import cond\n",
    "from scipy.sparse.linalg import spsolve\n",
    "from numpy.linalg import solve, norm\n",
    "from numpy.random import rand\n",
    "from scipy import sparse\n",
    "from scipy.sparse import coo_matrix, linalg as sla\n",
    "from scipy.linalg import qr, solve_triangular\n",
    "from scipy.special import factorial\n",
    "from scipy.ndimage import convolve\n",
    "from sklearn.neighbors import NearestNeighbors\n",
    "from mpl_toolkits.axes_grid1 import make_axes_locatable\n",
    "import matplotlib.colors as mcolors\n",
    "import cProfile\n",
    "import pstats\n",
    "import io"
   ],
   "metadata": {
    "id": "8aYlfb5-pubs"
   },
   "execution_count": 1,
   "outputs": []
  },
  {
   "cell_type": "markdown",
   "source": [
    "#Funcion para knn\n",
    "El algoritmo de vecinos mas cercanos se usa con el fin de obtener la distancia entre un punto y su vecino mas cercano, de esta forma luego puedo filtrar por distancia"
   ],
   "metadata": {
    "id": "aq4ZUspz2O0k"
   }
  },
  {
   "cell_type": "code",
   "source": [
    "def knn(M2):\n",
    "    coordenadas_raw = M2['p'].flatten()\n",
    "    clase = M2['v'].flatten()\n",
    "\n",
    "    # Extracci\u00f3n y conversi\u00f3n desde array estructurado\n",
    "    coordenadas = np.column_stack((coordenadas_raw['x'], coordenadas_raw['y'])).astype(np.float32)\n",
    "\n",
    "    # Filtrar puntos de clase 1\n",
    "    coordenadas_objetivo = coordenadas[clase == 1]\n",
    "\n",
    "    # Modelo de vecinos m\u00e1s cercanos\n",
    "    modelo = NearestNeighbors(n_neighbors=1, n_jobs=-1)\n",
    "    modelo.fit(coordenadas_objetivo)\n",
    "\n",
    "    distancias, indices = modelo.kneighbors(coordenadas)\n",
    "    vecinos = coordenadas_objetivo[indices]\n",
    "\n",
    "    return distancias, clase"
   ],
   "metadata": {
    "id": "jRMMfE0b2OHY"
   },
   "execution_count": 2,
   "outputs": []
  },
  {
   "cell_type": "markdown",
   "source": [
    "#Generacion de la geometria"
   ],
   "metadata": {
    "id": "DT_5ziLesO7X"
   }
  },
  {
   "cell_type": "code",
   "source": [
    "alpha, etha, Reli, Fr, veces, pot, e, dt, frec, b, no, nc, Ip, lamb = 1, 1, 250, 5, 1, 15, 1, 0.001, 50, 1, 5*10**5, 10**13, 9.6, 60*(10**(-9))\n",
    "expon=5\n",
    "const = b * no / nc\n",
    "cuadrado=(alpha*((10)**(-expon))) #Tama\u00f1o real de la grilla en discretizacion uniforme\n",
    "'identificacion de la matriz M2: '\n",
    "'La matriz M2 guarda la geometria del sistema donde posee valores numericos para representar las distintas partes de ella de la siguiente forma: '\n",
    "'1: Punta sometida a Alta Tensi\u00f3n'\n",
    "'0: Material Aislante'\n",
    "'2: Placa aterrizada a tierra (V=0)'\n",
    "'9: \u00c1rbol el\u00e9ctrico (En esta simulaci\u00f3n en particular posee el mismo potencial de la punta, por lo que es un \u00e1rbol conductor)'\n",
    "###################################################################################\n",
    "################# Construccion de geometria #######################################\n",
    "###################################################################################\n",
    "#esta parte se realiza una sola vez, se escribe un archivo de texto con la geometria inicial para luego ser pasado a la matriz de geometria M2\n",
    "\n",
    "for tt in range(1):\n",
    "    b=open('tam3case'+str(tt)+'.txt','w')\n",
    "    tama=int((10**(-3))/(cuadrado))\n",
    "    div=2\n",
    "    pal=''\n",
    "    for j in range(tama):\n",
    "        for i in range(2*tama):\n",
    "            a=((0.06*10**(-3))-cuadrado*j)*tan(pi/8)\n",
    "            if j<tama-3-div:\n",
    "                if i*cuadrado>((tama*cuadrado)-a) and i*cuadrado<((tama*cuadrado)+a) and 2*a>=0.000006:\n",
    "                    b.write('1 ')\n",
    "                    tamapunta=j+1\n",
    "                else:\n",
    "                    b.write('0 ')\n",
    "            elif j==tama-3-div: #genero la rugosidad aleatoria\n",
    "                if i%div==0 and i!=2*tama:\n",
    "                    r=random.choice((0,2))\n",
    "                    b.write((str(r)+' ')*div)\n",
    "                    pal=pal+(str(r)+' ')*div\n",
    "            elif j>tama-3-div and j<=tama-4 :\n",
    "                if i==0:\n",
    "                    b.write(pal)\n",
    "            elif j>tama-4:\n",
    "                b.write('2 ')\n",
    "        b.write('\\n')\n",
    "    b.close()\n",
    "totaldist = tama - tamapunta - 3 / div\n",
    "delta = alpha * 10**(-expon)\n",
    "tx, ty = int(0.002 / delta), int(0.001 / delta)\n",
    "dt = np.dtype([('v', float), ('p', [('x', int), ('y', int)])])\n",
    "M2 = np.zeros((ty, tx), dtype=dt)\n",
    "matriz_danno = np.zeros((ty, tx))\n",
    "with open('tam3case0.txt') as a:\n",
    "    for contfila, linea in enumerate(a):\n",
    "        M2['v'][contfila, :len(linea.strip().split())] = list(map(int, linea.strip().split()))"
   ],
   "metadata": {
    "id": "L0m0--1qsIdB"
   },
   "execution_count": 3,
   "outputs": []
  },
  {
   "cell_type": "markdown",
   "source": [
    "#Diferencias finitas generalizadas"
   ],
   "metadata": {
    "id": "FzcRsPCJsvZp"
   }
  },
  {
   "cell_type": "code",
   "execution_count": 4,
   "metadata": {
    "colab": {
     "base_uri": "https://localhost:8080/"
    },
    "id": "u_duGucIC5PU",
    "outputId": "6891aa6d-792b-4eb5-b168-74e341bea130"
   },
   "outputs": [
    {
     "output_type": "stream",
     "name": "stdout",
     "text": [
      "Tiempo de ejecuci\u00f3n A: 15.5472 segundos\n"
     ]
    }
   ],
   "source": [
    "\n",
    "start = time.time()\n",
    "t, tiempo, inf, u = 0, [], [], [1] * 4\n",
    "lar = len(u) + 1\n",
    "\n",
    "###################################################################################\n",
    "############################ condiciones de borde #################################\n",
    "###################################################################################\n",
    "\n",
    "x_coords, y_coords = np.meshgrid(range(M2.shape[0]), range(M2.shape[1]), indexing='ij')\n",
    "xx,yy=x_coords,y_coords\n",
    "xx,yy=xx.ravel(),yy.ravel()\n",
    "M2['p']['x'], M2['p']['y'] = x_coords, y_coords\n",
    "values = {1: pot, 9: pot, 2: 0, 0: 0, -1:0,-2:0,-3:0,-4:0} #diccionario con las condiciones de dirichlet\n",
    "\n",
    "\n",
    "positions = {k: np.where(M2['v'].ravel() == k) for k in values}\n",
    "n = M2['v'].size\n",
    "sistema, B = np.zeros((n, n)), np.zeros(n)\n",
    "\n",
    "#condiciones de dirichlet\n",
    "for k, v in values.items():\n",
    "    sistema[positions[k], positions[k]], B[positions[k]] = 1, v\n",
    "\n",
    "#########################################################################################################\n",
    "################################ Calculo del problema de minimos cuadrados ##############################\n",
    "#########################################################################################################\n",
    "\n",
    "xx = xx.astype(np.float32)\n",
    "yy = yy.astype(np.float32)\n",
    "\n",
    "vec=np.sqrt((xx[positions[0]][:,None]-xx)**2 + (yy[positions[0]][:,None]-yy)**2) #Mapeo la distancia entre los puntos de interes (aislante) y todos los demas puntos\n",
    "#separo entre distancia en x e y\n",
    "vec_x=-xx[positions[0]][:,None]+xx\n",
    "vec_y=-yy[positions[0]][:,None]+yy\n",
    "\n",
    "#obtengo para cada uno de mis puntos, los vecinos segun un radio de influencia\n",
    "vec_wh=np.where((np.abs(vec)<=2) & (np.abs(vec)>0.1))\n",
    "puntos_ordenados,vecinos_ordenados=vec_wh[0],vec_wh[1]\n",
    "indices_unicos, posiciones = np.unique(puntos_ordenados, return_index=True)\n",
    "vecinos_separados = np.split(vecinos_ordenados, posiciones[1:])\n",
    "estructura_vecinos = dict(zip(indices_unicos, vecinos_separados)) #me indica los vecinos de punto a los demas puntos en un diccionario\n",
    "indices_unicos = np.array(list(estructura_vecinos.keys()))\n",
    "M2['v'][M2['v'] == 2] = -5\n",
    "sistema_Ex=np.copy(sistema)\n",
    "sistema_Ey=np.copy(sistema)\n",
    "#Condiciones de Neumman\n",
    "##Caracterizo los bordes de manera distinta al resto de los puntos (con -1,-2) de modo de aplicar las condiciones de neumman en tales bordes\n",
    "M2['v'][:,0]=np.where(M2['v'][:,0]==0,-1,M2['v'][:,0])\n",
    "M2['v'][0,:]=np.where(M2['v'][0,:]==0,-2,M2['v'][0,:])\n",
    "M2['v'][:,-1]=np.where(M2['v'][:,-1]==0,-1,M2['v'][:,-1])\n",
    "M2['v'][-1,:]=np.where(M2['v'][-1,:]==0,-2,M2['v'][-1,:])\n",
    "positions_neumann1=np.where(M2['v'].ravel() == -1)[0]\n",
    "positions_neumann2=np.where(M2['v'].ravel() == -2)[0]\n",
    "#Algoritmo de minimos cuadrados para el problema de diferencias finitas generalizadas\n",
    "for k in indices_unicos: #itero para cada vecino\n",
    "    vecinos_k=len(estructura_vecinos[k])\n",
    "    largo_com=len(estructura_vecinos[k][estructura_vecinos[k]<k])\n",
    "    matriz_resultados = np.array([vec_x[k][estructura_vecinos[k]],vec_y[k][estructura_vecinos[k]],0.5*(vec_x[k][estructura_vecinos[k]])**2,0.5*(vec_y[k][estructura_vecinos[k]])**2]) #Matriz A del problema de minimos cuadrados\n",
    "    matriz_f=np.zeros((vecinos_k,vecinos_k+1))\n",
    "    pme=len(np.where(estructura_vecinos[k]<k)[0])\n",
    "    matriz_f[:,pme]=-1\n",
    "    matriz_f[:,:pme]=np.eye(vecinos_k)[:,:pme]\n",
    "    matriz_f[:,pme+1:]=np.eye(vecinos_k)[:,pme:]\n",
    "    Q,R=qr(matriz_resultados.T,mode='economic')\n",
    "    C=Q.T@matriz_f\n",
    "    Af=solve_triangular(R, C, lower=False)\n",
    "    if positions[0][0][k] in positions_neumann1:\n",
    "      sistema[positions[0][0][k],estructura_vecinos[k][:pme]]=Af[1][:pme]\n",
    "      sistema[positions[0][0][k],positions[0][0][k]]=Af[1][pme]\n",
    "      sistema[positions[0][0][k],estructura_vecinos[k][pme:]]=Af[1][pme+1:]\n",
    "    elif positions[0][0][k] in positions_neumann2:\n",
    "      sistema[positions[0][0][k],estructura_vecinos[k][:pme]]=Af[0][:pme]\n",
    "      sistema[positions[0][0][k],positions[0][0][k]]=Af[0][pme]\n",
    "      sistema[positions[0][0][k],estructura_vecinos[k][pme:]]=Af[0][pme+1:]\n",
    "    else:\n",
    "      sistema[positions[0][0][k],estructura_vecinos[k][:pme]]=Af[2][:pme]+Af[3][:pme]\n",
    "      sistema[positions[0][0][k],positions[0][0][k]]=Af[2][pme]+Af[3][pme]\n",
    "      sistema[positions[0][0][k],estructura_vecinos[k][pme:]]=Af[2][pme+1:]+Af[3][pme+1:]\n",
    "    sistema_Ex[positions[0][0][k],estructura_vecinos[k][:pme]]=Af[0][:pme]\n",
    "    sistema_Ex[positions[0][0][k],positions[0][0][k]]=Af[0][pme]\n",
    "    sistema_Ex[positions[0][0][k],estructura_vecinos[k][pme:]]=Af[0][pme+1:]\n",
    "    sistema_Ey[positions[0][0][k],estructura_vecinos[k][:pme]]=Af[1][:pme]\n",
    "    sistema_Ey[positions[0][0][k],positions[0][0][k]]=Af[1][pme]\n",
    "    sistema_Ey[positions[0][0][k],estructura_vecinos[k][pme:]]=Af[1][pme+1:]\n",
    "end = time.time()\n",
    "print(f\"Tiempo de ejecuci\u00f3n A: {end - start:.4f} segundos\")\n",
    "\n",
    "#resolucion del sistema de ecuaciones para el paso 1, por medio de matrices Sparse y GMRES\n",
    "sistema_sparse = csr_matrix(sistema)\n",
    "V, info = gmres(sistema_sparse, B, atol=1e-5, maxiter=500)\n",
    "V_2d = V.reshape(ty, tx)\n",
    "\n",
    "\n",
    "###Observaci\u00f3n: Otra ventaja de usar diferencias finitas generalizadas es que se puede obtener el valor de las derivadas de primer orden del potencial electrico y por ende la magnitud del campo electrico en las direcciones X e Y sin la necesidad de pasar por np.grad (me ahorro el costo computacional de calcular el gradiente)\n",
    "### Idea, como en el estado del arte se ocupan grillas cuadradas y los puntos de halton o la distribucion de puntos en general no es equiespaciada, se podria generar una grilla basada en quadtrees de manera que quede pseudo-equiespaciada"
   ]
  },
  {
   "cell_type": "markdown",
   "source": [
    "#Modelo de crecimiento del \u00e1rbol el\u00e9ctrico"
   ],
   "metadata": {
    "id": "xzYFGs93sz8F"
   }
  },
  {
   "cell_type": "code",
   "source": [
    "##########################################################################################################\n",
    "#################################### MODELO DE CRECIMIENTO ###############################################\n",
    "##########################################################################################################\n",
    "\n",
    "radio=2\n",
    "def arbol(V_2d, delta, M2,sistema,B):\n",
    "    'aprovecho diferencias finitas generalizadas para obtener el potencial, puesto que tambien me entrega la primera derivada'\n",
    "    Ex=sistema_Ex@V\n",
    "    Ey=sistema_Ey@V\n",
    "    E_magnitud = 0.01*np.sqrt(Ex**2 + Ey**2) #0.01 transformacion de unidades para pasar a kV/cm\n",
    "    distancias,clase=knn(M2)\n",
    "    index_=np.where(distancias<radio)[0] #posibles vecinos\n",
    "    index_=index_[index_>800]\n",
    "    id_e=np.where(clase[index_]==0)\n",
    "    index_E=index_[id_e] #ahora los filtro para que solo participen los que son aislantes\n",
    "    flat = E_magnitud[index_E]\n",
    "    #modelo de crecimiento basado en probabilidades\n",
    "    probabilidades = (flat**2) / (flat**2).sum()\n",
    "    idx = np.random.choice(len(flat), p=probabilidades) #idx es la posicion de la celda en el sistema de ecuaciones, esto se usa para identificarla en el sistema\n",
    "    idx=index_E[idx]\n",
    "    #la celda escogida se transforma en arbol por lo que ahora su potencial es conocido\n",
    "    #sistema=sistema.tolil()\n",
    "    sistema[idx,:]=0\n",
    "    sistema[idx,idx]=1\n",
    "    #sistema=sistema.tocsc()\n",
    "    i, j = np.unravel_index(idx, M2['v'].shape)\n",
    "    B[idx]=15\n",
    "    M2['v'][i][j]=1\n",
    "    return (M2['v'],sistema,B) #el algoritmo entrega como salida la geometria y el sistema de ecuaciones nuevo\n",
    "from ipywidgets import interact, IntSlider\n",
    "import matplotlib.pyplot as plt\n",
    "from mpl_toolkits.axes_grid1 import make_axes_locatable\n",
    "# Asumiendo que tx, ty ya est\u00e1n definidos como dimensiones de V_2d\n",
    "from ipywidgets import interact, IntSlider\n",
    "import matplotlib.pyplot as plt\n",
    "from mpl_toolkits.axes_grid1 import make_axes_locatable\n",
    "import matplotlib.colors as mcolors\n",
    "\n",
    "# Prealocamos los arrays para potencial y geometr\u00eda\n",
    "\n",
    "n_times=500 ##Numero de iteraciones\n",
    "mapas_V_2d = np.zeros((n_times, ty, tx))\n",
    "geometrias = np.zeros((n_times, *M2['v'].shape))  # Guardamos la geometr\u00eda (\u00e1rbol)\n",
    "\n",
    "t = 0\n",
    "pr = cProfile.Profile()\n",
    "pr.enable()\n",
    "\n",
    "sistema_sparse = csr_matrix(sistema)\n",
    "\n",
    "for i in range(n_times):\n",
    "    start = time.time()\n",
    "    M2['v'], sistema_sparse, B = arbol(V_2d, delta, M2, sistema_sparse, B)\n",
    "\n",
    "    if i % 50 == 0: #se usa un precondicionador M basado en ILU de la matriz del sistema, esta se rearma cada 50 iteraciones\n",
    "        try:\n",
    "            ilu = spilu(sistema_sparse)\n",
    "            M = LinearOperator(sistema_sparse.shape, ilu.solve)\n",
    "        except RuntimeError as e:\n",
    "            print(f\"Fallo en la factorizaci\u00f3n ILU: {e}\")\n",
    "            M = None\n",
    "\n",
    "    V, info = gmres(sistema_sparse, B, M=M, x0=V, atol=1e-5, maxiter=100)\n",
    "\n",
    "    if info == 0:\n",
    "        print(f\"Iteraci\u00f3n {i}: Convergi\u00f3 correctamente.\")\n",
    "    elif info > 0:\n",
    "        print(f\"Iteraci\u00f3n {i}: No convergi\u00f3 tras {info} iteraciones.\")\n",
    "    else:\n",
    "        print(f\"Iteraci\u00f3n {i}: Error interno.\")\n",
    "\n",
    "    V_2d = V.reshape(ty, tx)\n",
    "    mapas_V_2d[i] = V_2d\n",
    "    geometrias[i] = M2['v']  # Guardamos geometr\u00eda actual\n",
    "\n",
    "    end = time.time()\n",
    "    t += end - start\n",
    "    print(f\"Tiempo de ejecuci\u00f3n: {end - start:.4f} segundos\")\n",
    "\n",
    "pr.disable()\n",
    "s = io.StringIO()\n",
    "ps = pstats.Stats(pr, stream=s).sort_stats('cumulative')\n",
    "ps.print_stats(40)\n",
    "print(s.getvalue())\n",
    "\n",
    "# Funci\u00f3n para visualizar mapa de calor y geometr\u00eda\n",
    "def plot_iteracion(iteracion):\n",
    "    # Mapa de calor del potencial\n",
    "    ux = range(mapas_V_2d.shape[1] + 1)\n",
    "    uy = range(mapas_V_2d.shape[2] + 1)\n",
    "    xx_2d, yy_2d = np.meshgrid(ux, uy, indexing='ij')\n",
    "\n",
    "    fig, axs = plt.subplots(1, 2, figsize=(20, 10))\n",
    "\n",
    "    pcm = axs[0].pcolormesh(\n",
    "        np.max(uy) - yy_2d,\n",
    "        np.max(ux) - xx_2d,\n",
    "        mapas_V_2d[iteracion],\n",
    "        cmap='inferno'\n",
    "    )\n",
    "    axs[0].set_title(f\"Iteraci\u00f3n {iteracion} - Potencial\", fontsize=16)\n",
    "    axs[0].set_xlabel(\"x\")\n",
    "    axs[0].set_ylabel(\"y\")\n",
    "    axs[0].set_aspect('equal')\n",
    "\n",
    "    divider = make_axes_locatable(axs[0])\n",
    "    cax = divider.append_axes(\"right\", size=\"5%\", pad=0.1)\n",
    "    plt.colorbar(pcm, cax=cax)\n",
    "\n",
    "    # Geometr\u00eda\n",
    "    data_volteada = np.fliplr(geometrias[iteracion])\n",
    "    cmap = mcolors.ListedColormap(['black', 'blue', 'green', 'yellow'])\n",
    "    bounds = [-5, 0, 1, 9]\n",
    "    norm = mcolors.BoundaryNorm(bounds, cmap.N)\n",
    "\n",
    "    axs[1].imshow(data_volteada, cmap=cmap, norm=norm, interpolation='nearest')\n",
    "    axs[1].set_title(f\"Iteraci\u00f3n {iteracion} - Geometr\u00eda\", fontsize=16)\n",
    "    axs[1].set_xlabel(\"x\")\n",
    "    axs[1].set_ylabel(\"y\")\n",
    "\n",
    "    plt.tight_layout()\n",
    "    plt.show()\n",
    "\n"
   ],
   "metadata": {
    "colab": {
     "base_uri": "https://localhost:8080/"
    },
    "id": "QbQODvhhsmlA",
    "outputId": "cd2f7bc2-3b02-4119-ee16-b58af845cd5b"
   },
   "execution_count": 5,
   "outputs": [
    {
     "output_type": "stream",
     "name": "stderr",
     "text": [
      "/usr/local/lib/python3.11/dist-packages/scipy/sparse/_index.py:151: SparseEfficiencyWarning: Changing the sparsity structure of a csr_matrix is expensive. lil and dok are more efficient.\n",
      "  self._set_arrayXarray(i, j, x)\n",
      "<ipython-input-5-e9ab6229a877>:57: SparseEfficiencyWarning: spilu converted its input to CSC format\n",
      "  ilu = spilu(sistema_sparse)\n"
     ]
    },
    {
     "output_type": "stream",
     "name": "stdout",
     "text": [
      "Iteraci\u00f3n 0: Convergi\u00f3 correctamente.\n",
      "Tiempo de ejecuci\u00f3n: 0.9548 segundos\n"
     ]
    },
    {
     "output_type": "stream",
     "name": "stderr",
     "text": [
      "/usr/local/lib/python3.11/dist-packages/scipy/sparse/_index.py:151: SparseEfficiencyWarning: Changing the sparsity structure of a csr_matrix is expensive. lil and dok are more efficient.\n",
      "  self._set_arrayXarray(i, j, x)\n"
     ]
    },
    {
     "output_type": "stream",
     "name": "stdout",
     "text": [
      "Iteraci\u00f3n 1: Convergi\u00f3 correctamente.\n",
      "Tiempo de ejecuci\u00f3n: 0.5789 segundos\n"
     ]
    },
    {
     "output_type": "stream",
     "name": "stderr",
     "text": [
      "/usr/local/lib/python3.11/dist-packages/scipy/sparse/_index.py:151: SparseEfficiencyWarning: Changing the sparsity structure of a csr_matrix is expensive. lil and dok are more efficient.\n",
      "  self._set_arrayXarray(i, j, x)\n"
     ]
    },
    {
     "output_type": "stream",
     "name": "stdout",
     "text": [
      "Iteraci\u00f3n 2: Convergi\u00f3 correctamente.\n",
      "Tiempo de ejecuci\u00f3n: 0.6080 segundos\n"
     ]
    },
    {
     "output_type": "stream",
     "name": "stderr",
     "text": [
      "/usr/local/lib/python3.11/dist-packages/scipy/sparse/_index.py:151: SparseEfficiencyWarning: Changing the sparsity structure of a csr_matrix is expensive. lil and dok are more efficient.\n",
      "  self._set_arrayXarray(i, j, x)\n"
     ]
    },
    {
     "output_type": "stream",
     "name": "stdout",
     "text": [
      "Iteraci\u00f3n 3: Convergi\u00f3 correctamente.\n",
      "Tiempo de ejecuci\u00f3n: 0.6258 segundos\n"
     ]
    },
    {
     "output_type": "stream",
     "name": "stderr",
     "text": [
      "/usr/local/lib/python3.11/dist-packages/scipy/sparse/_index.py:151: SparseEfficiencyWarning: Changing the sparsity structure of a csr_matrix is expensive. lil and dok are more efficient.\n",
      "  self._set_arrayXarray(i, j, x)\n"
     ]
    },
    {
     "output_type": "stream",
     "name": "stdout",
     "text": [
      "Iteraci\u00f3n 4: Convergi\u00f3 correctamente.\n",
      "Tiempo de ejecuci\u00f3n: 0.6578 segundos\n"
     ]
    },
    {
     "output_type": "stream",
     "name": "stderr",
     "text": [
      "/usr/local/lib/python3.11/dist-packages/scipy/sparse/_index.py:151: SparseEfficiencyWarning: Changing the sparsity structure of a csr_matrix is expensive. lil and dok are more efficient.\n",
      "  self._set_arrayXarray(i, j, x)\n"
     ]
    },
    {
     "output_type": "stream",
     "name": "stdout",
     "text": [
      "Iteraci\u00f3n 5: Convergi\u00f3 correctamente.\n",
      "Tiempo de ejecuci\u00f3n: 0.6366 segundos\n"
     ]
    },
    {
     "output_type": "stream",
     "name": "stderr",
     "text": [
      "/usr/local/lib/python3.11/dist-packages/scipy/sparse/_index.py:151: SparseEfficiencyWarning: Changing the sparsity structure of a csr_matrix is expensive. lil and dok are more efficient.\n",
      "  self._set_arrayXarray(i, j, x)\n"
     ]
    },
    {
     "output_type": "stream",
     "name": "stdout",
     "text": [
      "Iteraci\u00f3n 6: Convergi\u00f3 correctamente.\n",
      "Tiempo de ejecuci\u00f3n: 0.7889 segundos\n"
     ]
    },
    {
     "output_type": "stream",
     "name": "stderr",
     "text": [
      "/usr/local/lib/python3.11/dist-packages/scipy/sparse/_index.py:151: SparseEfficiencyWarning: Changing the sparsity structure of a csr_matrix is expensive. lil and dok are more efficient.\n",
      "  self._set_arrayXarray(i, j, x)\n"
     ]
    },
    {
     "output_type": "stream",
     "name": "stdout",
     "text": [
      "Iteraci\u00f3n 7: Convergi\u00f3 correctamente.\n",
      "Tiempo de ejecuci\u00f3n: 1.7654 segundos\n"
     ]
    },
    {
     "output_type": "stream",
     "name": "stderr",
     "text": [
      "/usr/local/lib/python3.11/dist-packages/scipy/sparse/_index.py:151: SparseEfficiencyWarning: Changing the sparsity structure of a csr_matrix is expensive. lil and dok are more efficient.\n",
      "  self._set_arrayXarray(i, j, x)\n"
     ]
    },
    {
     "output_type": "stream",
     "name": "stdout",
     "text": [
      "Iteraci\u00f3n 8: Convergi\u00f3 correctamente.\n",
      "Tiempo de ejecuci\u00f3n: 0.9984 segundos\n"
     ]
    },
    {
     "output_type": "stream",
     "name": "stderr",
     "text": [
      "/usr/local/lib/python3.11/dist-packages/scipy/sparse/_index.py:151: SparseEfficiencyWarning: Changing the sparsity structure of a csr_matrix is expensive. lil and dok are more efficient.\n",
      "  self._set_arrayXarray(i, j, x)\n"
     ]
    },
    {
     "output_type": "stream",
     "name": "stdout",
     "text": [
      "Iteraci\u00f3n 9: Convergi\u00f3 correctamente.\n",
      "Tiempo de ejecuci\u00f3n: 1.0573 segundos\n"
     ]
    },
    {
     "output_type": "stream",
     "name": "stderr",
     "text": [
      "/usr/local/lib/python3.11/dist-packages/scipy/sparse/_index.py:151: SparseEfficiencyWarning: Changing the sparsity structure of a csr_matrix is expensive. lil and dok are more efficient.\n",
      "  self._set_arrayXarray(i, j, x)\n"
     ]
    },
    {
     "output_type": "stream",
     "name": "stdout",
     "text": [
      "Iteraci\u00f3n 10: Convergi\u00f3 correctamente.\n",
      "Tiempo de ejecuci\u00f3n: 0.7711 segundos\n"
     ]
    },
    {
     "output_type": "stream",
     "name": "stderr",
     "text": [
      "/usr/local/lib/python3.11/dist-packages/scipy/sparse/_index.py:151: SparseEfficiencyWarning: Changing the sparsity structure of a csr_matrix is expensive. lil and dok are more efficient.\n",
      "  self._set_arrayXarray(i, j, x)\n"
     ]
    },
    {
     "output_type": "stream",
     "name": "stdout",
     "text": [
      "Iteraci\u00f3n 11: Convergi\u00f3 correctamente.\n",
      "Tiempo de ejecuci\u00f3n: 0.9560 segundos\n"
     ]
    },
    {
     "output_type": "stream",
     "name": "stderr",
     "text": [
      "/usr/local/lib/python3.11/dist-packages/scipy/sparse/_index.py:151: SparseEfficiencyWarning: Changing the sparsity structure of a csr_matrix is expensive. lil and dok are more efficient.\n",
      "  self._set_arrayXarray(i, j, x)\n"
     ]
    },
    {
     "output_type": "stream",
     "name": "stdout",
     "text": [
      "Iteraci\u00f3n 12: Convergi\u00f3 correctamente.\n",
      "Tiempo de ejecuci\u00f3n: 0.7527 segundos\n"
     ]
    },
    {
     "output_type": "stream",
     "name": "stderr",
     "text": [
      "/usr/local/lib/python3.11/dist-packages/scipy/sparse/_index.py:151: SparseEfficiencyWarning: Changing the sparsity structure of a csr_matrix is expensive. lil and dok are more efficient.\n",
      "  self._set_arrayXarray(i, j, x)\n"
     ]
    },
    {
     "output_type": "stream",
     "name": "stdout",
     "text": [
      "Iteraci\u00f3n 13: Convergi\u00f3 correctamente.\n",
      "Tiempo de ejecuci\u00f3n: 0.9862 segundos\n"
     ]
    },
    {
     "output_type": "stream",
     "name": "stderr",
     "text": [
      "/usr/local/lib/python3.11/dist-packages/scipy/sparse/_index.py:151: SparseEfficiencyWarning: Changing the sparsity structure of a csr_matrix is expensive. lil and dok are more efficient.\n",
      "  self._set_arrayXarray(i, j, x)\n"
     ]
    },
    {
     "output_type": "stream",
     "name": "stdout",
     "text": [
      "Iteraci\u00f3n 14: Convergi\u00f3 correctamente.\n",
      "Tiempo de ejecuci\u00f3n: 1.0809 segundos\n"
     ]
    },
    {
     "output_type": "stream",
     "name": "stderr",
     "text": [
      "/usr/local/lib/python3.11/dist-packages/scipy/sparse/_index.py:151: SparseEfficiencyWarning: Changing the sparsity structure of a csr_matrix is expensive. lil and dok are more efficient.\n",
      "  self._set_arrayXarray(i, j, x)\n"
     ]
    },
    {
     "output_type": "stream",
     "name": "stdout",
     "text": [
      "Iteraci\u00f3n 15: Convergi\u00f3 correctamente.\n",
      "Tiempo de ejecuci\u00f3n: 1.0465 segundos\n"
     ]
    },
    {
     "output_type": "stream",
     "name": "stderr",
     "text": [
      "/usr/local/lib/python3.11/dist-packages/scipy/sparse/_index.py:151: SparseEfficiencyWarning: Changing the sparsity structure of a csr_matrix is expensive. lil and dok are more efficient.\n",
      "  self._set_arrayXarray(i, j, x)\n"
     ]
    },
    {
     "output_type": "stream",
     "name": "stdout",
     "text": [
      "Iteraci\u00f3n 16: Convergi\u00f3 correctamente.\n",
      "Tiempo de ejecuci\u00f3n: 1.0133 segundos\n"
     ]
    },
    {
     "output_type": "stream",
     "name": "stderr",
     "text": [
      "/usr/local/lib/python3.11/dist-packages/scipy/sparse/_index.py:151: SparseEfficiencyWarning: Changing the sparsity structure of a csr_matrix is expensive. lil and dok are more efficient.\n",
      "  self._set_arrayXarray(i, j, x)\n"
     ]
    },
    {
     "output_type": "stream",
     "name": "stdout",
     "text": [
      "Iteraci\u00f3n 17: Convergi\u00f3 correctamente.\n",
      "Tiempo de ejecuci\u00f3n: 1.0559 segundos\n"
     ]
    },
    {
     "output_type": "stream",
     "name": "stderr",
     "text": [
      "/usr/local/lib/python3.11/dist-packages/scipy/sparse/_index.py:151: SparseEfficiencyWarning: Changing the sparsity structure of a csr_matrix is expensive. lil and dok are more efficient.\n",
      "  self._set_arrayXarray(i, j, x)\n"
     ]
    },
    {
     "output_type": "stream",
     "name": "stdout",
     "text": [
      "Iteraci\u00f3n 18: Convergi\u00f3 correctamente.\n",
      "Tiempo de ejecuci\u00f3n: 1.8893 segundos\n"
     ]
    },
    {
     "output_type": "stream",
     "name": "stderr",
     "text": [
      "/usr/local/lib/python3.11/dist-packages/scipy/sparse/_index.py:151: SparseEfficiencyWarning: Changing the sparsity structure of a csr_matrix is expensive. lil and dok are more efficient.\n",
      "  self._set_arrayXarray(i, j, x)\n"
     ]
    },
    {
     "output_type": "stream",
     "name": "stdout",
     "text": [
      "Iteraci\u00f3n 19: Convergi\u00f3 correctamente.\n",
      "Tiempo de ejecuci\u00f3n: 1.1757 segundos\n"
     ]
    },
    {
     "output_type": "stream",
     "name": "stderr",
     "text": [
      "/usr/local/lib/python3.11/dist-packages/scipy/sparse/_index.py:151: SparseEfficiencyWarning: Changing the sparsity structure of a csr_matrix is expensive. lil and dok are more efficient.\n",
      "  self._set_arrayXarray(i, j, x)\n"
     ]
    },
    {
     "output_type": "stream",
     "name": "stdout",
     "text": [
      "Iteraci\u00f3n 20: Convergi\u00f3 correctamente.\n",
      "Tiempo de ejecuci\u00f3n: 1.1041 segundos\n"
     ]
    },
    {
     "output_type": "stream",
     "name": "stderr",
     "text": [
      "/usr/local/lib/python3.11/dist-packages/scipy/sparse/_index.py:151: SparseEfficiencyWarning: Changing the sparsity structure of a csr_matrix is expensive. lil and dok are more efficient.\n",
      "  self._set_arrayXarray(i, j, x)\n"
     ]
    },
    {
     "output_type": "stream",
     "name": "stdout",
     "text": [
      "Iteraci\u00f3n 21: Convergi\u00f3 correctamente.\n",
      "Tiempo de ejecuci\u00f3n: 0.7921 segundos\n"
     ]
    },
    {
     "output_type": "stream",
     "name": "stderr",
     "text": [
      "/usr/local/lib/python3.11/dist-packages/scipy/sparse/_index.py:151: SparseEfficiencyWarning: Changing the sparsity structure of a csr_matrix is expensive. lil and dok are more efficient.\n",
      "  self._set_arrayXarray(i, j, x)\n"
     ]
    },
    {
     "output_type": "stream",
     "name": "stdout",
     "text": [
      "Iteraci\u00f3n 22: Convergi\u00f3 correctamente.\n",
      "Tiempo de ejecuci\u00f3n: 0.9728 segundos\n"
     ]
    },
    {
     "output_type": "stream",
     "name": "stderr",
     "text": [
      "/usr/local/lib/python3.11/dist-packages/scipy/sparse/_index.py:151: SparseEfficiencyWarning: Changing the sparsity structure of a csr_matrix is expensive. lil and dok are more efficient.\n",
      "  self._set_arrayXarray(i, j, x)\n"
     ]
    },
    {
     "output_type": "stream",
     "name": "stdout",
     "text": [
      "Iteraci\u00f3n 23: Convergi\u00f3 correctamente.\n",
      "Tiempo de ejecuci\u00f3n: 0.9395 segundos\n"
     ]
    },
    {
     "output_type": "stream",
     "name": "stderr",
     "text": [
      "/usr/local/lib/python3.11/dist-packages/scipy/sparse/_index.py:151: SparseEfficiencyWarning: Changing the sparsity structure of a csr_matrix is expensive. lil and dok are more efficient.\n",
      "  self._set_arrayXarray(i, j, x)\n"
     ]
    },
    {
     "output_type": "stream",
     "name": "stdout",
     "text": [
      "Iteraci\u00f3n 24: Convergi\u00f3 correctamente.\n",
      "Tiempo de ejecuci\u00f3n: 1.3529 segundos\n"
     ]
    },
    {
     "output_type": "stream",
     "name": "stderr",
     "text": [
      "/usr/local/lib/python3.11/dist-packages/scipy/sparse/_index.py:151: SparseEfficiencyWarning: Changing the sparsity structure of a csr_matrix is expensive. lil and dok are more efficient.\n",
      "  self._set_arrayXarray(i, j, x)\n"
     ]
    },
    {
     "output_type": "stream",
     "name": "stdout",
     "text": [
      "Iteraci\u00f3n 25: Convergi\u00f3 correctamente.\n",
      "Tiempo de ejecuci\u00f3n: 1.3689 segundos\n"
     ]
    },
    {
     "output_type": "stream",
     "name": "stderr",
     "text": [
      "/usr/local/lib/python3.11/dist-packages/scipy/sparse/_index.py:151: SparseEfficiencyWarning: Changing the sparsity structure of a csr_matrix is expensive. lil and dok are more efficient.\n",
      "  self._set_arrayXarray(i, j, x)\n"
     ]
    },
    {
     "output_type": "stream",
     "name": "stdout",
     "text": [
      "Iteraci\u00f3n 26: Convergi\u00f3 correctamente.\n",
      "Tiempo de ejecuci\u00f3n: 1.1460 segundos\n"
     ]
    },
    {
     "output_type": "stream",
     "name": "stderr",
     "text": [
      "/usr/local/lib/python3.11/dist-packages/scipy/sparse/_index.py:151: SparseEfficiencyWarning: Changing the sparsity structure of a csr_matrix is expensive. lil and dok are more efficient.\n",
      "  self._set_arrayXarray(i, j, x)\n"
     ]
    },
    {
     "output_type": "stream",
     "name": "stdout",
     "text": [
      "Iteraci\u00f3n 27: Convergi\u00f3 correctamente.\n",
      "Tiempo de ejecuci\u00f3n: 1.0713 segundos\n"
     ]
    },
    {
     "output_type": "stream",
     "name": "stderr",
     "text": [
      "/usr/local/lib/python3.11/dist-packages/scipy/sparse/_index.py:151: SparseEfficiencyWarning: Changing the sparsity structure of a csr_matrix is expensive. lil and dok are more efficient.\n",
      "  self._set_arrayXarray(i, j, x)\n"
     ]
    },
    {
     "output_type": "stream",
     "name": "stdout",
     "text": [
      "Iteraci\u00f3n 28: Convergi\u00f3 correctamente.\n",
      "Tiempo de ejecuci\u00f3n: 2.6292 segundos\n"
     ]
    },
    {
     "output_type": "stream",
     "name": "stderr",
     "text": [
      "/usr/local/lib/python3.11/dist-packages/scipy/sparse/_index.py:151: SparseEfficiencyWarning: Changing the sparsity structure of a csr_matrix is expensive. lil and dok are more efficient.\n",
      "  self._set_arrayXarray(i, j, x)\n"
     ]
    },
    {
     "output_type": "stream",
     "name": "stdout",
     "text": [
      "Iteraci\u00f3n 29: Convergi\u00f3 correctamente.\n",
      "Tiempo de ejecuci\u00f3n: 1.2250 segundos\n"
     ]
    },
    {
     "output_type": "stream",
     "name": "stderr",
     "text": [
      "/usr/local/lib/python3.11/dist-packages/scipy/sparse/_index.py:151: SparseEfficiencyWarning: Changing the sparsity structure of a csr_matrix is expensive. lil and dok are more efficient.\n",
      "  self._set_arrayXarray(i, j, x)\n"
     ]
    },
    {
     "output_type": "stream",
     "name": "stdout",
     "text": [
      "Iteraci\u00f3n 30: Convergi\u00f3 correctamente.\n",
      "Tiempo de ejecuci\u00f3n: 1.4509 segundos\n"
     ]
    },
    {
     "output_type": "stream",
     "name": "stderr",
     "text": [
      "/usr/local/lib/python3.11/dist-packages/scipy/sparse/_index.py:151: SparseEfficiencyWarning: Changing the sparsity structure of a csr_matrix is expensive. lil and dok are more efficient.\n",
      "  self._set_arrayXarray(i, j, x)\n"
     ]
    },
    {
     "output_type": "stream",
     "name": "stdout",
     "text": [
      "Iteraci\u00f3n 31: Convergi\u00f3 correctamente.\n",
      "Tiempo de ejecuci\u00f3n: 0.8904 segundos\n"
     ]
    },
    {
     "output_type": "stream",
     "name": "stderr",
     "text": [
      "/usr/local/lib/python3.11/dist-packages/scipy/sparse/_index.py:151: SparseEfficiencyWarning: Changing the sparsity structure of a csr_matrix is expensive. lil and dok are more efficient.\n",
      "  self._set_arrayXarray(i, j, x)\n"
     ]
    },
    {
     "output_type": "stream",
     "name": "stdout",
     "text": [
      "Iteraci\u00f3n 32: Convergi\u00f3 correctamente.\n",
      "Tiempo de ejecuci\u00f3n: 0.9265 segundos\n"
     ]
    },
    {
     "output_type": "stream",
     "name": "stderr",
     "text": [
      "/usr/local/lib/python3.11/dist-packages/scipy/sparse/_index.py:151: SparseEfficiencyWarning: Changing the sparsity structure of a csr_matrix is expensive. lil and dok are more efficient.\n",
      "  self._set_arrayXarray(i, j, x)\n"
     ]
    },
    {
     "output_type": "stream",
     "name": "stdout",
     "text": [
      "Iteraci\u00f3n 33: Convergi\u00f3 correctamente.\n",
      "Tiempo de ejecuci\u00f3n: 0.9938 segundos\n"
     ]
    },
    {
     "output_type": "stream",
     "name": "stderr",
     "text": [
      "/usr/local/lib/python3.11/dist-packages/scipy/sparse/_index.py:151: SparseEfficiencyWarning: Changing the sparsity structure of a csr_matrix is expensive. lil and dok are more efficient.\n",
      "  self._set_arrayXarray(i, j, x)\n"
     ]
    },
    {
     "output_type": "stream",
     "name": "stdout",
     "text": [
      "Iteraci\u00f3n 34: Convergi\u00f3 correctamente.\n",
      "Tiempo de ejecuci\u00f3n: 0.7367 segundos\n"
     ]
    },
    {
     "output_type": "stream",
     "name": "stderr",
     "text": [
      "/usr/local/lib/python3.11/dist-packages/scipy/sparse/_index.py:151: SparseEfficiencyWarning: Changing the sparsity structure of a csr_matrix is expensive. lil and dok are more efficient.\n",
      "  self._set_arrayXarray(i, j, x)\n"
     ]
    },
    {
     "output_type": "stream",
     "name": "stdout",
     "text": [
      "Iteraci\u00f3n 35: Convergi\u00f3 correctamente.\n",
      "Tiempo de ejecuci\u00f3n: 0.8528 segundos\n"
     ]
    },
    {
     "output_type": "stream",
     "name": "stderr",
     "text": [
      "/usr/local/lib/python3.11/dist-packages/scipy/sparse/_index.py:151: SparseEfficiencyWarning: Changing the sparsity structure of a csr_matrix is expensive. lil and dok are more efficient.\n",
      "  self._set_arrayXarray(i, j, x)\n"
     ]
    },
    {
     "output_type": "stream",
     "name": "stdout",
     "text": [
      "Iteraci\u00f3n 36: Convergi\u00f3 correctamente.\n",
      "Tiempo de ejecuci\u00f3n: 1.2829 segundos\n"
     ]
    },
    {
     "output_type": "stream",
     "name": "stderr",
     "text": [
      "/usr/local/lib/python3.11/dist-packages/scipy/sparse/_index.py:151: SparseEfficiencyWarning: Changing the sparsity structure of a csr_matrix is expensive. lil and dok are more efficient.\n",
      "  self._set_arrayXarray(i, j, x)\n"
     ]
    },
    {
     "output_type": "stream",
     "name": "stdout",
     "text": [
      "Iteraci\u00f3n 37: Convergi\u00f3 correctamente.\n",
      "Tiempo de ejecuci\u00f3n: 2.3341 segundos\n"
     ]
    },
    {
     "output_type": "stream",
     "name": "stderr",
     "text": [
      "/usr/local/lib/python3.11/dist-packages/scipy/sparse/_index.py:151: SparseEfficiencyWarning: Changing the sparsity structure of a csr_matrix is expensive. lil and dok are more efficient.\n",
      "  self._set_arrayXarray(i, j, x)\n"
     ]
    },
    {
     "output_type": "stream",
     "name": "stdout",
     "text": [
      "Iteraci\u00f3n 38: Convergi\u00f3 correctamente.\n",
      "Tiempo de ejecuci\u00f3n: 1.3596 segundos\n"
     ]
    },
    {
     "output_type": "stream",
     "name": "stderr",
     "text": [
      "/usr/local/lib/python3.11/dist-packages/scipy/sparse/_index.py:151: SparseEfficiencyWarning: Changing the sparsity structure of a csr_matrix is expensive. lil and dok are more efficient.\n",
      "  self._set_arrayXarray(i, j, x)\n"
     ]
    },
    {
     "output_type": "stream",
     "name": "stdout",
     "text": [
      "Iteraci\u00f3n 39: Convergi\u00f3 correctamente.\n",
      "Tiempo de ejecuci\u00f3n: 1.2866 segundos\n"
     ]
    },
    {
     "output_type": "stream",
     "name": "stderr",
     "text": [
      "/usr/local/lib/python3.11/dist-packages/scipy/sparse/_index.py:151: SparseEfficiencyWarning: Changing the sparsity structure of a csr_matrix is expensive. lil and dok are more efficient.\n",
      "  self._set_arrayXarray(i, j, x)\n"
     ]
    },
    {
     "output_type": "stream",
     "name": "stdout",
     "text": [
      "Iteraci\u00f3n 40: Convergi\u00f3 correctamente.\n",
      "Tiempo de ejecuci\u00f3n: 1.1107 segundos\n"
     ]
    },
    {
     "output_type": "stream",
     "name": "stderr",
     "text": [
      "/usr/local/lib/python3.11/dist-packages/scipy/sparse/_index.py:151: SparseEfficiencyWarning: Changing the sparsity structure of a csr_matrix is expensive. lil and dok are more efficient.\n",
      "  self._set_arrayXarray(i, j, x)\n"
     ]
    },
    {
     "output_type": "stream",
     "name": "stdout",
     "text": [
      "Iteraci\u00f3n 41: Convergi\u00f3 correctamente.\n",
      "Tiempo de ejecuci\u00f3n: 1.2665 segundos\n"
     ]
    },
    {
     "output_type": "stream",
     "name": "stderr",
     "text": [
      "/usr/local/lib/python3.11/dist-packages/scipy/sparse/_index.py:151: SparseEfficiencyWarning: Changing the sparsity structure of a csr_matrix is expensive. lil and dok are more efficient.\n",
      "  self._set_arrayXarray(i, j, x)\n"
     ]
    },
    {
     "output_type": "stream",
     "name": "stdout",
     "text": [
      "Iteraci\u00f3n 42: Convergi\u00f3 correctamente.\n",
      "Tiempo de ejecuci\u00f3n: 0.9969 segundos\n"
     ]
    },
    {
     "output_type": "stream",
     "name": "stderr",
     "text": [
      "/usr/local/lib/python3.11/dist-packages/scipy/sparse/_index.py:151: SparseEfficiencyWarning: Changing the sparsity structure of a csr_matrix is expensive. lil and dok are more efficient.\n",
      "  self._set_arrayXarray(i, j, x)\n"
     ]
    },
    {
     "output_type": "stream",
     "name": "stdout",
     "text": [
      "Iteraci\u00f3n 43: Convergi\u00f3 correctamente.\n",
      "Tiempo de ejecuci\u00f3n: 1.0497 segundos\n"
     ]
    },
    {
     "output_type": "stream",
     "name": "stderr",
     "text": [
      "/usr/local/lib/python3.11/dist-packages/scipy/sparse/_index.py:151: SparseEfficiencyWarning: Changing the sparsity structure of a csr_matrix is expensive. lil and dok are more efficient.\n",
      "  self._set_arrayXarray(i, j, x)\n"
     ]
    },
    {
     "output_type": "stream",
     "name": "stdout",
     "text": [
      "Iteraci\u00f3n 44: Convergi\u00f3 correctamente.\n",
      "Tiempo de ejecuci\u00f3n: 1.2802 segundos\n"
     ]
    },
    {
     "output_type": "stream",
     "name": "stderr",
     "text": [
      "/usr/local/lib/python3.11/dist-packages/scipy/sparse/_index.py:151: SparseEfficiencyWarning: Changing the sparsity structure of a csr_matrix is expensive. lil and dok are more efficient.\n",
      "  self._set_arrayXarray(i, j, x)\n"
     ]
    },
    {
     "output_type": "stream",
     "name": "stdout",
     "text": [
      "Iteraci\u00f3n 45: Convergi\u00f3 correctamente.\n",
      "Tiempo de ejecuci\u00f3n: 1.5293 segundos\n"
     ]
    },
    {
     "output_type": "stream",
     "name": "stderr",
     "text": [
      "/usr/local/lib/python3.11/dist-packages/scipy/sparse/_index.py:151: SparseEfficiencyWarning: Changing the sparsity structure of a csr_matrix is expensive. lil and dok are more efficient.\n",
      "  self._set_arrayXarray(i, j, x)\n"
     ]
    },
    {
     "output_type": "stream",
     "name": "stdout",
     "text": [
      "Iteraci\u00f3n 46: Convergi\u00f3 correctamente.\n",
      "Tiempo de ejecuci\u00f3n: 2.2874 segundos\n"
     ]
    },
    {
     "output_type": "stream",
     "name": "stderr",
     "text": [
      "/usr/local/lib/python3.11/dist-packages/scipy/sparse/_index.py:151: SparseEfficiencyWarning: Changing the sparsity structure of a csr_matrix is expensive. lil and dok are more efficient.\n",
      "  self._set_arrayXarray(i, j, x)\n"
     ]
    },
    {
     "output_type": "stream",
     "name": "stdout",
     "text": [
      "Iteraci\u00f3n 47: Convergi\u00f3 correctamente.\n",
      "Tiempo de ejecuci\u00f3n: 1.4660 segundos\n"
     ]
    },
    {
     "output_type": "stream",
     "name": "stderr",
     "text": [
      "/usr/local/lib/python3.11/dist-packages/scipy/sparse/_index.py:151: SparseEfficiencyWarning: Changing the sparsity structure of a csr_matrix is expensive. lil and dok are more efficient.\n",
      "  self._set_arrayXarray(i, j, x)\n"
     ]
    },
    {
     "output_type": "stream",
     "name": "stdout",
     "text": [
      "Iteraci\u00f3n 48: Convergi\u00f3 correctamente.\n",
      "Tiempo de ejecuci\u00f3n: 0.7344 segundos\n"
     ]
    },
    {
     "output_type": "stream",
     "name": "stderr",
     "text": [
      "/usr/local/lib/python3.11/dist-packages/scipy/sparse/_index.py:151: SparseEfficiencyWarning: Changing the sparsity structure of a csr_matrix is expensive. lil and dok are more efficient.\n",
      "  self._set_arrayXarray(i, j, x)\n"
     ]
    },
    {
     "output_type": "stream",
     "name": "stdout",
     "text": [
      "Iteraci\u00f3n 49: Convergi\u00f3 correctamente.\n",
      "Tiempo de ejecuci\u00f3n: 1.7240 segundos\n"
     ]
    },
    {
     "output_type": "stream",
     "name": "stderr",
     "text": [
      "/usr/local/lib/python3.11/dist-packages/scipy/sparse/_index.py:151: SparseEfficiencyWarning: Changing the sparsity structure of a csr_matrix is expensive. lil and dok are more efficient.\n",
      "  self._set_arrayXarray(i, j, x)\n",
      "<ipython-input-5-e9ab6229a877>:57: SparseEfficiencyWarning: spilu converted its input to CSC format\n",
      "  ilu = spilu(sistema_sparse)\n"
     ]
    },
    {
     "output_type": "stream",
     "name": "stdout",
     "text": [
      "Iteraci\u00f3n 50: Convergi\u00f3 correctamente.\n",
      "Tiempo de ejecuci\u00f3n: 1.8670 segundos\n"
     ]
    },
    {
     "output_type": "stream",
     "name": "stderr",
     "text": [
      "/usr/local/lib/python3.11/dist-packages/scipy/sparse/_index.py:151: SparseEfficiencyWarning: Changing the sparsity structure of a csr_matrix is expensive. lil and dok are more efficient.\n",
      "  self._set_arrayXarray(i, j, x)\n"
     ]
    },
    {
     "output_type": "stream",
     "name": "stdout",
     "text": [
      "Iteraci\u00f3n 51: Convergi\u00f3 correctamente.\n",
      "Tiempo de ejecuci\u00f3n: 0.3218 segundos\n"
     ]
    },
    {
     "output_type": "stream",
     "name": "stderr",
     "text": [
      "/usr/local/lib/python3.11/dist-packages/scipy/sparse/_index.py:151: SparseEfficiencyWarning: Changing the sparsity structure of a csr_matrix is expensive. lil and dok are more efficient.\n",
      "  self._set_arrayXarray(i, j, x)\n"
     ]
    },
    {
     "output_type": "stream",
     "name": "stdout",
     "text": [
      "Iteraci\u00f3n 52: Convergi\u00f3 correctamente.\n",
      "Tiempo de ejecuci\u00f3n: 0.3280 segundos\n"
     ]
    },
    {
     "output_type": "stream",
     "name": "stderr",
     "text": [
      "/usr/local/lib/python3.11/dist-packages/scipy/sparse/_index.py:151: SparseEfficiencyWarning: Changing the sparsity structure of a csr_matrix is expensive. lil and dok are more efficient.\n",
      "  self._set_arrayXarray(i, j, x)\n"
     ]
    },
    {
     "output_type": "stream",
     "name": "stdout",
     "text": [
      "Iteraci\u00f3n 53: Convergi\u00f3 correctamente.\n",
      "Tiempo de ejecuci\u00f3n: 0.3706 segundos\n"
     ]
    },
    {
     "output_type": "stream",
     "name": "stderr",
     "text": [
      "/usr/local/lib/python3.11/dist-packages/scipy/sparse/_index.py:151: SparseEfficiencyWarning: Changing the sparsity structure of a csr_matrix is expensive. lil and dok are more efficient.\n",
      "  self._set_arrayXarray(i, j, x)\n"
     ]
    },
    {
     "output_type": "stream",
     "name": "stdout",
     "text": [
      "Iteraci\u00f3n 54: Convergi\u00f3 correctamente.\n",
      "Tiempo de ejecuci\u00f3n: 0.3484 segundos\n"
     ]
    },
    {
     "output_type": "stream",
     "name": "stderr",
     "text": [
      "/usr/local/lib/python3.11/dist-packages/scipy/sparse/_index.py:151: SparseEfficiencyWarning: Changing the sparsity structure of a csr_matrix is expensive. lil and dok are more efficient.\n",
      "  self._set_arrayXarray(i, j, x)\n"
     ]
    },
    {
     "output_type": "stream",
     "name": "stdout",
     "text": [
      "Iteraci\u00f3n 55: Convergi\u00f3 correctamente.\n",
      "Tiempo de ejecuci\u00f3n: 0.3751 segundos\n"
     ]
    },
    {
     "output_type": "stream",
     "name": "stderr",
     "text": [
      "/usr/local/lib/python3.11/dist-packages/scipy/sparse/_index.py:151: SparseEfficiencyWarning: Changing the sparsity structure of a csr_matrix is expensive. lil and dok are more efficient.\n",
      "  self._set_arrayXarray(i, j, x)\n"
     ]
    },
    {
     "output_type": "stream",
     "name": "stdout",
     "text": [
      "Iteraci\u00f3n 56: Convergi\u00f3 correctamente.\n",
      "Tiempo de ejecuci\u00f3n: 0.3698 segundos\n"
     ]
    },
    {
     "output_type": "stream",
     "name": "stderr",
     "text": [
      "/usr/local/lib/python3.11/dist-packages/scipy/sparse/_index.py:151: SparseEfficiencyWarning: Changing the sparsity structure of a csr_matrix is expensive. lil and dok are more efficient.\n",
      "  self._set_arrayXarray(i, j, x)\n"
     ]
    },
    {
     "output_type": "stream",
     "name": "stdout",
     "text": [
      "Iteraci\u00f3n 57: Convergi\u00f3 correctamente.\n",
      "Tiempo de ejecuci\u00f3n: 0.3899 segundos\n"
     ]
    },
    {
     "output_type": "stream",
     "name": "stderr",
     "text": [
      "/usr/local/lib/python3.11/dist-packages/scipy/sparse/_index.py:151: SparseEfficiencyWarning: Changing the sparsity structure of a csr_matrix is expensive. lil and dok are more efficient.\n",
      "  self._set_arrayXarray(i, j, x)\n"
     ]
    },
    {
     "output_type": "stream",
     "name": "stdout",
     "text": [
      "Iteraci\u00f3n 58: Convergi\u00f3 correctamente.\n",
      "Tiempo de ejecuci\u00f3n: 0.3592 segundos\n"
     ]
    },
    {
     "output_type": "stream",
     "name": "stderr",
     "text": [
      "/usr/local/lib/python3.11/dist-packages/scipy/sparse/_index.py:151: SparseEfficiencyWarning: Changing the sparsity structure of a csr_matrix is expensive. lil and dok are more efficient.\n",
      "  self._set_arrayXarray(i, j, x)\n"
     ]
    },
    {
     "output_type": "stream",
     "name": "stdout",
     "text": [
      "Iteraci\u00f3n 59: Convergi\u00f3 correctamente.\n",
      "Tiempo de ejecuci\u00f3n: 0.4014 segundos\n"
     ]
    },
    {
     "output_type": "stream",
     "name": "stderr",
     "text": [
      "/usr/local/lib/python3.11/dist-packages/scipy/sparse/_index.py:151: SparseEfficiencyWarning: Changing the sparsity structure of a csr_matrix is expensive. lil and dok are more efficient.\n",
      "  self._set_arrayXarray(i, j, x)\n"
     ]
    },
    {
     "output_type": "stream",
     "name": "stdout",
     "text": [
      "Iteraci\u00f3n 60: Convergi\u00f3 correctamente.\n",
      "Tiempo de ejecuci\u00f3n: 0.3648 segundos\n"
     ]
    },
    {
     "output_type": "stream",
     "name": "stderr",
     "text": [
      "/usr/local/lib/python3.11/dist-packages/scipy/sparse/_index.py:151: SparseEfficiencyWarning: Changing the sparsity structure of a csr_matrix is expensive. lil and dok are more efficient.\n",
      "  self._set_arrayXarray(i, j, x)\n"
     ]
    },
    {
     "output_type": "stream",
     "name": "stdout",
     "text": [
      "Iteraci\u00f3n 61: Convergi\u00f3 correctamente.\n",
      "Tiempo de ejecuci\u00f3n: 0.6458 segundos\n"
     ]
    },
    {
     "output_type": "stream",
     "name": "stderr",
     "text": [
      "/usr/local/lib/python3.11/dist-packages/scipy/sparse/_index.py:151: SparseEfficiencyWarning: Changing the sparsity structure of a csr_matrix is expensive. lil and dok are more efficient.\n",
      "  self._set_arrayXarray(i, j, x)\n"
     ]
    },
    {
     "output_type": "stream",
     "name": "stdout",
     "text": [
      "Iteraci\u00f3n 62: Convergi\u00f3 correctamente.\n",
      "Tiempo de ejecuci\u00f3n: 0.5432 segundos\n"
     ]
    },
    {
     "output_type": "stream",
     "name": "stderr",
     "text": [
      "/usr/local/lib/python3.11/dist-packages/scipy/sparse/_index.py:151: SparseEfficiencyWarning: Changing the sparsity structure of a csr_matrix is expensive. lil and dok are more efficient.\n",
      "  self._set_arrayXarray(i, j, x)\n"
     ]
    },
    {
     "output_type": "stream",
     "name": "stdout",
     "text": [
      "Iteraci\u00f3n 63: Convergi\u00f3 correctamente.\n",
      "Tiempo de ejecuci\u00f3n: 0.4822 segundos\n"
     ]
    },
    {
     "output_type": "stream",
     "name": "stderr",
     "text": [
      "/usr/local/lib/python3.11/dist-packages/scipy/sparse/_index.py:151: SparseEfficiencyWarning: Changing the sparsity structure of a csr_matrix is expensive. lil and dok are more efficient.\n",
      "  self._set_arrayXarray(i, j, x)\n"
     ]
    },
    {
     "output_type": "stream",
     "name": "stdout",
     "text": [
      "Iteraci\u00f3n 64: Convergi\u00f3 correctamente.\n",
      "Tiempo de ejecuci\u00f3n: 0.4143 segundos\n"
     ]
    },
    {
     "output_type": "stream",
     "name": "stderr",
     "text": [
      "/usr/local/lib/python3.11/dist-packages/scipy/sparse/_index.py:151: SparseEfficiencyWarning: Changing the sparsity structure of a csr_matrix is expensive. lil and dok are more efficient.\n",
      "  self._set_arrayXarray(i, j, x)\n"
     ]
    },
    {
     "output_type": "stream",
     "name": "stdout",
     "text": [
      "Iteraci\u00f3n 65: Convergi\u00f3 correctamente.\n",
      "Tiempo de ejecuci\u00f3n: 0.3772 segundos\n"
     ]
    },
    {
     "output_type": "stream",
     "name": "stderr",
     "text": [
      "/usr/local/lib/python3.11/dist-packages/scipy/sparse/_index.py:151: SparseEfficiencyWarning: Changing the sparsity structure of a csr_matrix is expensive. lil and dok are more efficient.\n",
      "  self._set_arrayXarray(i, j, x)\n"
     ]
    },
    {
     "output_type": "stream",
     "name": "stdout",
     "text": [
      "Iteraci\u00f3n 66: Convergi\u00f3 correctamente.\n",
      "Tiempo de ejecuci\u00f3n: 0.3799 segundos\n"
     ]
    },
    {
     "output_type": "stream",
     "name": "stderr",
     "text": [
      "/usr/local/lib/python3.11/dist-packages/scipy/sparse/_index.py:151: SparseEfficiencyWarning: Changing the sparsity structure of a csr_matrix is expensive. lil and dok are more efficient.\n",
      "  self._set_arrayXarray(i, j, x)\n"
     ]
    },
    {
     "output_type": "stream",
     "name": "stdout",
     "text": [
      "Iteraci\u00f3n 67: Convergi\u00f3 correctamente.\n",
      "Tiempo de ejecuci\u00f3n: 0.3786 segundos\n"
     ]
    },
    {
     "output_type": "stream",
     "name": "stderr",
     "text": [
      "/usr/local/lib/python3.11/dist-packages/scipy/sparse/_index.py:151: SparseEfficiencyWarning: Changing the sparsity structure of a csr_matrix is expensive. lil and dok are more efficient.\n",
      "  self._set_arrayXarray(i, j, x)\n"
     ]
    },
    {
     "output_type": "stream",
     "name": "stdout",
     "text": [
      "Iteraci\u00f3n 68: Convergi\u00f3 correctamente.\n",
      "Tiempo de ejecuci\u00f3n: 0.3863 segundos\n"
     ]
    },
    {
     "output_type": "stream",
     "name": "stderr",
     "text": [
      "/usr/local/lib/python3.11/dist-packages/scipy/sparse/_index.py:151: SparseEfficiencyWarning: Changing the sparsity structure of a csr_matrix is expensive. lil and dok are more efficient.\n",
      "  self._set_arrayXarray(i, j, x)\n"
     ]
    },
    {
     "output_type": "stream",
     "name": "stdout",
     "text": [
      "Iteraci\u00f3n 69: Convergi\u00f3 correctamente.\n",
      "Tiempo de ejecuci\u00f3n: 0.4172 segundos\n"
     ]
    },
    {
     "output_type": "stream",
     "name": "stderr",
     "text": [
      "/usr/local/lib/python3.11/dist-packages/scipy/sparse/_index.py:151: SparseEfficiencyWarning: Changing the sparsity structure of a csr_matrix is expensive. lil and dok are more efficient.\n",
      "  self._set_arrayXarray(i, j, x)\n"
     ]
    },
    {
     "output_type": "stream",
     "name": "stdout",
     "text": [
      "Iteraci\u00f3n 70: Convergi\u00f3 correctamente.\n",
      "Tiempo de ejecuci\u00f3n: 0.4158 segundos\n"
     ]
    },
    {
     "output_type": "stream",
     "name": "stderr",
     "text": [
      "/usr/local/lib/python3.11/dist-packages/scipy/sparse/_index.py:151: SparseEfficiencyWarning: Changing the sparsity structure of a csr_matrix is expensive. lil and dok are more efficient.\n",
      "  self._set_arrayXarray(i, j, x)\n"
     ]
    },
    {
     "output_type": "stream",
     "name": "stdout",
     "text": [
      "Iteraci\u00f3n 71: Convergi\u00f3 correctamente.\n",
      "Tiempo de ejecuci\u00f3n: 0.3832 segundos\n"
     ]
    },
    {
     "output_type": "stream",
     "name": "stderr",
     "text": [
      "/usr/local/lib/python3.11/dist-packages/scipy/sparse/_index.py:151: SparseEfficiencyWarning: Changing the sparsity structure of a csr_matrix is expensive. lil and dok are more efficient.\n",
      "  self._set_arrayXarray(i, j, x)\n"
     ]
    },
    {
     "output_type": "stream",
     "name": "stdout",
     "text": [
      "Iteraci\u00f3n 72: Convergi\u00f3 correctamente.\n",
      "Tiempo de ejecuci\u00f3n: 0.4401 segundos\n"
     ]
    },
    {
     "output_type": "stream",
     "name": "stderr",
     "text": [
      "/usr/local/lib/python3.11/dist-packages/scipy/sparse/_index.py:151: SparseEfficiencyWarning: Changing the sparsity structure of a csr_matrix is expensive. lil and dok are more efficient.\n",
      "  self._set_arrayXarray(i, j, x)\n"
     ]
    },
    {
     "output_type": "stream",
     "name": "stdout",
     "text": [
      "Iteraci\u00f3n 73: Convergi\u00f3 correctamente.\n",
      "Tiempo de ejecuci\u00f3n: 0.4509 segundos\n"
     ]
    },
    {
     "output_type": "stream",
     "name": "stderr",
     "text": [
      "/usr/local/lib/python3.11/dist-packages/scipy/sparse/_index.py:151: SparseEfficiencyWarning: Changing the sparsity structure of a csr_matrix is expensive. lil and dok are more efficient.\n",
      "  self._set_arrayXarray(i, j, x)\n"
     ]
    },
    {
     "output_type": "stream",
     "name": "stdout",
     "text": [
      "Iteraci\u00f3n 74: Convergi\u00f3 correctamente.\n",
      "Tiempo de ejecuci\u00f3n: 0.4145 segundos\n"
     ]
    },
    {
     "output_type": "stream",
     "name": "stderr",
     "text": [
      "/usr/local/lib/python3.11/dist-packages/scipy/sparse/_index.py:151: SparseEfficiencyWarning: Changing the sparsity structure of a csr_matrix is expensive. lil and dok are more efficient.\n",
      "  self._set_arrayXarray(i, j, x)\n"
     ]
    },
    {
     "output_type": "stream",
     "name": "stdout",
     "text": [
      "Iteraci\u00f3n 75: Convergi\u00f3 correctamente.\n",
      "Tiempo de ejecuci\u00f3n: 0.4031 segundos\n"
     ]
    },
    {
     "output_type": "stream",
     "name": "stderr",
     "text": [
      "/usr/local/lib/python3.11/dist-packages/scipy/sparse/_index.py:151: SparseEfficiencyWarning: Changing the sparsity structure of a csr_matrix is expensive. lil and dok are more efficient.\n",
      "  self._set_arrayXarray(i, j, x)\n"
     ]
    },
    {
     "output_type": "stream",
     "name": "stdout",
     "text": [
      "Iteraci\u00f3n 76: Convergi\u00f3 correctamente.\n",
      "Tiempo de ejecuci\u00f3n: 0.4254 segundos\n"
     ]
    },
    {
     "output_type": "stream",
     "name": "stderr",
     "text": [
      "/usr/local/lib/python3.11/dist-packages/scipy/sparse/_index.py:151: SparseEfficiencyWarning: Changing the sparsity structure of a csr_matrix is expensive. lil and dok are more efficient.\n",
      "  self._set_arrayXarray(i, j, x)\n"
     ]
    },
    {
     "output_type": "stream",
     "name": "stdout",
     "text": [
      "Iteraci\u00f3n 77: Convergi\u00f3 correctamente.\n",
      "Tiempo de ejecuci\u00f3n: 0.4923 segundos\n"
     ]
    },
    {
     "output_type": "stream",
     "name": "stderr",
     "text": [
      "/usr/local/lib/python3.11/dist-packages/scipy/sparse/_index.py:151: SparseEfficiencyWarning: Changing the sparsity structure of a csr_matrix is expensive. lil and dok are more efficient.\n",
      "  self._set_arrayXarray(i, j, x)\n"
     ]
    },
    {
     "output_type": "stream",
     "name": "stdout",
     "text": [
      "Iteraci\u00f3n 78: Convergi\u00f3 correctamente.\n",
      "Tiempo de ejecuci\u00f3n: 0.4563 segundos\n"
     ]
    },
    {
     "output_type": "stream",
     "name": "stderr",
     "text": [
      "/usr/local/lib/python3.11/dist-packages/scipy/sparse/_index.py:151: SparseEfficiencyWarning: Changing the sparsity structure of a csr_matrix is expensive. lil and dok are more efficient.\n",
      "  self._set_arrayXarray(i, j, x)\n"
     ]
    },
    {
     "output_type": "stream",
     "name": "stdout",
     "text": [
      "Iteraci\u00f3n 79: Convergi\u00f3 correctamente.\n",
      "Tiempo de ejecuci\u00f3n: 0.4795 segundos\n"
     ]
    },
    {
     "output_type": "stream",
     "name": "stderr",
     "text": [
      "/usr/local/lib/python3.11/dist-packages/scipy/sparse/_index.py:151: SparseEfficiencyWarning: Changing the sparsity structure of a csr_matrix is expensive. lil and dok are more efficient.\n",
      "  self._set_arrayXarray(i, j, x)\n"
     ]
    },
    {
     "output_type": "stream",
     "name": "stdout",
     "text": [
      "Iteraci\u00f3n 80: Convergi\u00f3 correctamente.\n",
      "Tiempo de ejecuci\u00f3n: 0.4727 segundos\n"
     ]
    },
    {
     "output_type": "stream",
     "name": "stderr",
     "text": [
      "/usr/local/lib/python3.11/dist-packages/scipy/sparse/_index.py:151: SparseEfficiencyWarning: Changing the sparsity structure of a csr_matrix is expensive. lil and dok are more efficient.\n",
      "  self._set_arrayXarray(i, j, x)\n"
     ]
    },
    {
     "output_type": "stream",
     "name": "stdout",
     "text": [
      "Iteraci\u00f3n 81: Convergi\u00f3 correctamente.\n",
      "Tiempo de ejecuci\u00f3n: 0.4289 segundos\n"
     ]
    },
    {
     "output_type": "stream",
     "name": "stderr",
     "text": [
      "/usr/local/lib/python3.11/dist-packages/scipy/sparse/_index.py:151: SparseEfficiencyWarning: Changing the sparsity structure of a csr_matrix is expensive. lil and dok are more efficient.\n",
      "  self._set_arrayXarray(i, j, x)\n"
     ]
    },
    {
     "output_type": "stream",
     "name": "stdout",
     "text": [
      "Iteraci\u00f3n 82: Convergi\u00f3 correctamente.\n",
      "Tiempo de ejecuci\u00f3n: 0.4701 segundos\n"
     ]
    },
    {
     "output_type": "stream",
     "name": "stderr",
     "text": [
      "/usr/local/lib/python3.11/dist-packages/scipy/sparse/_index.py:151: SparseEfficiencyWarning: Changing the sparsity structure of a csr_matrix is expensive. lil and dok are more efficient.\n",
      "  self._set_arrayXarray(i, j, x)\n"
     ]
    },
    {
     "output_type": "stream",
     "name": "stdout",
     "text": [
      "Iteraci\u00f3n 83: Convergi\u00f3 correctamente.\n",
      "Tiempo de ejecuci\u00f3n: 0.4819 segundos\n"
     ]
    },
    {
     "output_type": "stream",
     "name": "stderr",
     "text": [
      "/usr/local/lib/python3.11/dist-packages/scipy/sparse/_index.py:151: SparseEfficiencyWarning: Changing the sparsity structure of a csr_matrix is expensive. lil and dok are more efficient.\n",
      "  self._set_arrayXarray(i, j, x)\n"
     ]
    },
    {
     "output_type": "stream",
     "name": "stdout",
     "text": [
      "Iteraci\u00f3n 84: Convergi\u00f3 correctamente.\n",
      "Tiempo de ejecuci\u00f3n: 0.4811 segundos\n"
     ]
    },
    {
     "output_type": "stream",
     "name": "stderr",
     "text": [
      "/usr/local/lib/python3.11/dist-packages/scipy/sparse/_index.py:151: SparseEfficiencyWarning: Changing the sparsity structure of a csr_matrix is expensive. lil and dok are more efficient.\n",
      "  self._set_arrayXarray(i, j, x)\n"
     ]
    },
    {
     "output_type": "stream",
     "name": "stdout",
     "text": [
      "Iteraci\u00f3n 85: Convergi\u00f3 correctamente.\n",
      "Tiempo de ejecuci\u00f3n: 0.4851 segundos\n"
     ]
    },
    {
     "output_type": "stream",
     "name": "stderr",
     "text": [
      "/usr/local/lib/python3.11/dist-packages/scipy/sparse/_index.py:151: SparseEfficiencyWarning: Changing the sparsity structure of a csr_matrix is expensive. lil and dok are more efficient.\n",
      "  self._set_arrayXarray(i, j, x)\n"
     ]
    },
    {
     "output_type": "stream",
     "name": "stdout",
     "text": [
      "Iteraci\u00f3n 86: Convergi\u00f3 correctamente.\n",
      "Tiempo de ejecuci\u00f3n: 0.4628 segundos\n"
     ]
    },
    {
     "output_type": "stream",
     "name": "stderr",
     "text": [
      "/usr/local/lib/python3.11/dist-packages/scipy/sparse/_index.py:151: SparseEfficiencyWarning: Changing the sparsity structure of a csr_matrix is expensive. lil and dok are more efficient.\n",
      "  self._set_arrayXarray(i, j, x)\n"
     ]
    },
    {
     "output_type": "stream",
     "name": "stdout",
     "text": [
      "Iteraci\u00f3n 87: Convergi\u00f3 correctamente.\n",
      "Tiempo de ejecuci\u00f3n: 0.5629 segundos\n"
     ]
    },
    {
     "output_type": "stream",
     "name": "stderr",
     "text": [
      "/usr/local/lib/python3.11/dist-packages/scipy/sparse/_index.py:151: SparseEfficiencyWarning: Changing the sparsity structure of a csr_matrix is expensive. lil and dok are more efficient.\n",
      "  self._set_arrayXarray(i, j, x)\n"
     ]
    },
    {
     "output_type": "stream",
     "name": "stdout",
     "text": [
      "Iteraci\u00f3n 88: Convergi\u00f3 correctamente.\n",
      "Tiempo de ejecuci\u00f3n: 1.0799 segundos\n"
     ]
    },
    {
     "output_type": "stream",
     "name": "stderr",
     "text": [
      "/usr/local/lib/python3.11/dist-packages/scipy/sparse/_index.py:151: SparseEfficiencyWarning: Changing the sparsity structure of a csr_matrix is expensive. lil and dok are more efficient.\n",
      "  self._set_arrayXarray(i, j, x)\n"
     ]
    },
    {
     "output_type": "stream",
     "name": "stdout",
     "text": [
      "Iteraci\u00f3n 89: Convergi\u00f3 correctamente.\n",
      "Tiempo de ejecuci\u00f3n: 0.5994 segundos\n"
     ]
    },
    {
     "output_type": "stream",
     "name": "stderr",
     "text": [
      "/usr/local/lib/python3.11/dist-packages/scipy/sparse/_index.py:151: SparseEfficiencyWarning: Changing the sparsity structure of a csr_matrix is expensive. lil and dok are more efficient.\n",
      "  self._set_arrayXarray(i, j, x)\n"
     ]
    },
    {
     "output_type": "stream",
     "name": "stdout",
     "text": [
      "Iteraci\u00f3n 90: Convergi\u00f3 correctamente.\n",
      "Tiempo de ejecuci\u00f3n: 0.4670 segundos\n"
     ]
    },
    {
     "output_type": "stream",
     "name": "stderr",
     "text": [
      "/usr/local/lib/python3.11/dist-packages/scipy/sparse/_index.py:151: SparseEfficiencyWarning: Changing the sparsity structure of a csr_matrix is expensive. lil and dok are more efficient.\n",
      "  self._set_arrayXarray(i, j, x)\n"
     ]
    },
    {
     "output_type": "stream",
     "name": "stdout",
     "text": [
      "Iteraci\u00f3n 91: Convergi\u00f3 correctamente.\n",
      "Tiempo de ejecuci\u00f3n: 0.4672 segundos\n"
     ]
    },
    {
     "output_type": "stream",
     "name": "stderr",
     "text": [
      "/usr/local/lib/python3.11/dist-packages/scipy/sparse/_index.py:151: SparseEfficiencyWarning: Changing the sparsity structure of a csr_matrix is expensive. lil and dok are more efficient.\n",
      "  self._set_arrayXarray(i, j, x)\n"
     ]
    },
    {
     "output_type": "stream",
     "name": "stdout",
     "text": [
      "Iteraci\u00f3n 92: Convergi\u00f3 correctamente.\n",
      "Tiempo de ejecuci\u00f3n: 0.4216 segundos\n"
     ]
    },
    {
     "output_type": "stream",
     "name": "stderr",
     "text": [
      "/usr/local/lib/python3.11/dist-packages/scipy/sparse/_index.py:151: SparseEfficiencyWarning: Changing the sparsity structure of a csr_matrix is expensive. lil and dok are more efficient.\n",
      "  self._set_arrayXarray(i, j, x)\n"
     ]
    },
    {
     "output_type": "stream",
     "name": "stdout",
     "text": [
      "Iteraci\u00f3n 93: Convergi\u00f3 correctamente.\n",
      "Tiempo de ejecuci\u00f3n: 0.5251 segundos\n"
     ]
    },
    {
     "output_type": "stream",
     "name": "stderr",
     "text": [
      "/usr/local/lib/python3.11/dist-packages/scipy/sparse/_index.py:151: SparseEfficiencyWarning: Changing the sparsity structure of a csr_matrix is expensive. lil and dok are more efficient.\n",
      "  self._set_arrayXarray(i, j, x)\n"
     ]
    },
    {
     "output_type": "stream",
     "name": "stdout",
     "text": [
      "Iteraci\u00f3n 94: Convergi\u00f3 correctamente.\n",
      "Tiempo de ejecuci\u00f3n: 0.4595 segundos\n"
     ]
    },
    {
     "output_type": "stream",
     "name": "stderr",
     "text": [
      "/usr/local/lib/python3.11/dist-packages/scipy/sparse/_index.py:151: SparseEfficiencyWarning: Changing the sparsity structure of a csr_matrix is expensive. lil and dok are more efficient.\n",
      "  self._set_arrayXarray(i, j, x)\n"
     ]
    },
    {
     "output_type": "stream",
     "name": "stdout",
     "text": [
      "Iteraci\u00f3n 95: Convergi\u00f3 correctamente.\n",
      "Tiempo de ejecuci\u00f3n: 0.5424 segundos\n"
     ]
    },
    {
     "output_type": "stream",
     "name": "stderr",
     "text": [
      "/usr/local/lib/python3.11/dist-packages/scipy/sparse/_index.py:151: SparseEfficiencyWarning: Changing the sparsity structure of a csr_matrix is expensive. lil and dok are more efficient.\n",
      "  self._set_arrayXarray(i, j, x)\n"
     ]
    },
    {
     "output_type": "stream",
     "name": "stdout",
     "text": [
      "Iteraci\u00f3n 96: Convergi\u00f3 correctamente.\n",
      "Tiempo de ejecuci\u00f3n: 0.4942 segundos\n"
     ]
    },
    {
     "output_type": "stream",
     "name": "stderr",
     "text": [
      "/usr/local/lib/python3.11/dist-packages/scipy/sparse/_index.py:151: SparseEfficiencyWarning: Changing the sparsity structure of a csr_matrix is expensive. lil and dok are more efficient.\n",
      "  self._set_arrayXarray(i, j, x)\n"
     ]
    },
    {
     "output_type": "stream",
     "name": "stdout",
     "text": [
      "Iteraci\u00f3n 97: Convergi\u00f3 correctamente.\n",
      "Tiempo de ejecuci\u00f3n: 0.4930 segundos\n"
     ]
    },
    {
     "output_type": "stream",
     "name": "stderr",
     "text": [
      "/usr/local/lib/python3.11/dist-packages/scipy/sparse/_index.py:151: SparseEfficiencyWarning: Changing the sparsity structure of a csr_matrix is expensive. lil and dok are more efficient.\n",
      "  self._set_arrayXarray(i, j, x)\n"
     ]
    },
    {
     "output_type": "stream",
     "name": "stdout",
     "text": [
      "Iteraci\u00f3n 98: Convergi\u00f3 correctamente.\n",
      "Tiempo de ejecuci\u00f3n: 0.5917 segundos\n"
     ]
    },
    {
     "output_type": "stream",
     "name": "stderr",
     "text": [
      "/usr/local/lib/python3.11/dist-packages/scipy/sparse/_index.py:151: SparseEfficiencyWarning: Changing the sparsity structure of a csr_matrix is expensive. lil and dok are more efficient.\n",
      "  self._set_arrayXarray(i, j, x)\n"
     ]
    },
    {
     "output_type": "stream",
     "name": "stdout",
     "text": [
      "Iteraci\u00f3n 99: Convergi\u00f3 correctamente.\n",
      "Tiempo de ejecuci\u00f3n: 0.5032 segundos\n"
     ]
    },
    {
     "output_type": "stream",
     "name": "stderr",
     "text": [
      "/usr/local/lib/python3.11/dist-packages/scipy/sparse/_index.py:151: SparseEfficiencyWarning: Changing the sparsity structure of a csr_matrix is expensive. lil and dok are more efficient.\n",
      "  self._set_arrayXarray(i, j, x)\n",
      "<ipython-input-5-e9ab6229a877>:57: SparseEfficiencyWarning: spilu converted its input to CSC format\n",
      "  ilu = spilu(sistema_sparse)\n"
     ]
    },
    {
     "output_type": "stream",
     "name": "stdout",
     "text": [
      "Iteraci\u00f3n 100: Convergi\u00f3 correctamente.\n",
      "Tiempo de ejecuci\u00f3n: 2.2586 segundos\n"
     ]
    },
    {
     "output_type": "stream",
     "name": "stderr",
     "text": [
      "/usr/local/lib/python3.11/dist-packages/scipy/sparse/_index.py:151: SparseEfficiencyWarning: Changing the sparsity structure of a csr_matrix is expensive. lil and dok are more efficient.\n",
      "  self._set_arrayXarray(i, j, x)\n"
     ]
    },
    {
     "output_type": "stream",
     "name": "stdout",
     "text": [
      "Iteraci\u00f3n 101: Convergi\u00f3 correctamente.\n",
      "Tiempo de ejecuci\u00f3n: 0.3450 segundos\n"
     ]
    },
    {
     "output_type": "stream",
     "name": "stderr",
     "text": [
      "/usr/local/lib/python3.11/dist-packages/scipy/sparse/_index.py:151: SparseEfficiencyWarning: Changing the sparsity structure of a csr_matrix is expensive. lil and dok are more efficient.\n",
      "  self._set_arrayXarray(i, j, x)\n"
     ]
    },
    {
     "output_type": "stream",
     "name": "stdout",
     "text": [
      "Iteraci\u00f3n 102: Convergi\u00f3 correctamente.\n",
      "Tiempo de ejecuci\u00f3n: 0.3775 segundos\n"
     ]
    },
    {
     "output_type": "stream",
     "name": "stderr",
     "text": [
      "/usr/local/lib/python3.11/dist-packages/scipy/sparse/_index.py:151: SparseEfficiencyWarning: Changing the sparsity structure of a csr_matrix is expensive. lil and dok are more efficient.\n",
      "  self._set_arrayXarray(i, j, x)\n"
     ]
    },
    {
     "output_type": "stream",
     "name": "stdout",
     "text": [
      "Iteraci\u00f3n 103: Convergi\u00f3 correctamente.\n",
      "Tiempo de ejecuci\u00f3n: 0.3678 segundos\n"
     ]
    },
    {
     "output_type": "stream",
     "name": "stderr",
     "text": [
      "/usr/local/lib/python3.11/dist-packages/scipy/sparse/_index.py:151: SparseEfficiencyWarning: Changing the sparsity structure of a csr_matrix is expensive. lil and dok are more efficient.\n",
      "  self._set_arrayXarray(i, j, x)\n"
     ]
    },
    {
     "output_type": "stream",
     "name": "stdout",
     "text": [
      "Iteraci\u00f3n 104: Convergi\u00f3 correctamente.\n",
      "Tiempo de ejecuci\u00f3n: 0.4170 segundos\n"
     ]
    },
    {
     "output_type": "stream",
     "name": "stderr",
     "text": [
      "/usr/local/lib/python3.11/dist-packages/scipy/sparse/_index.py:151: SparseEfficiencyWarning: Changing the sparsity structure of a csr_matrix is expensive. lil and dok are more efficient.\n",
      "  self._set_arrayXarray(i, j, x)\n"
     ]
    },
    {
     "output_type": "stream",
     "name": "stdout",
     "text": [
      "Iteraci\u00f3n 105: Convergi\u00f3 correctamente.\n",
      "Tiempo de ejecuci\u00f3n: 0.4203 segundos\n"
     ]
    },
    {
     "output_type": "stream",
     "name": "stderr",
     "text": [
      "/usr/local/lib/python3.11/dist-packages/scipy/sparse/_index.py:151: SparseEfficiencyWarning: Changing the sparsity structure of a csr_matrix is expensive. lil and dok are more efficient.\n",
      "  self._set_arrayXarray(i, j, x)\n"
     ]
    },
    {
     "output_type": "stream",
     "name": "stdout",
     "text": [
      "Iteraci\u00f3n 106: Convergi\u00f3 correctamente.\n",
      "Tiempo de ejecuci\u00f3n: 0.3598 segundos\n"
     ]
    },
    {
     "output_type": "stream",
     "name": "stderr",
     "text": [
      "/usr/local/lib/python3.11/dist-packages/scipy/sparse/_index.py:151: SparseEfficiencyWarning: Changing the sparsity structure of a csr_matrix is expensive. lil and dok are more efficient.\n",
      "  self._set_arrayXarray(i, j, x)\n"
     ]
    },
    {
     "output_type": "stream",
     "name": "stdout",
     "text": [
      "Iteraci\u00f3n 107: Convergi\u00f3 correctamente.\n",
      "Tiempo de ejecuci\u00f3n: 0.4991 segundos\n"
     ]
    },
    {
     "output_type": "stream",
     "name": "stderr",
     "text": [
      "/usr/local/lib/python3.11/dist-packages/scipy/sparse/_index.py:151: SparseEfficiencyWarning: Changing the sparsity structure of a csr_matrix is expensive. lil and dok are more efficient.\n",
      "  self._set_arrayXarray(i, j, x)\n"
     ]
    },
    {
     "output_type": "stream",
     "name": "stdout",
     "text": [
      "Iteraci\u00f3n 108: Convergi\u00f3 correctamente.\n",
      "Tiempo de ejecuci\u00f3n: 0.8039 segundos\n"
     ]
    },
    {
     "output_type": "stream",
     "name": "stderr",
     "text": [
      "/usr/local/lib/python3.11/dist-packages/scipy/sparse/_index.py:151: SparseEfficiencyWarning: Changing the sparsity structure of a csr_matrix is expensive. lil and dok are more efficient.\n",
      "  self._set_arrayXarray(i, j, x)\n"
     ]
    },
    {
     "output_type": "stream",
     "name": "stdout",
     "text": [
      "Iteraci\u00f3n 109: Convergi\u00f3 correctamente.\n",
      "Tiempo de ejecuci\u00f3n: 0.6389 segundos\n"
     ]
    },
    {
     "output_type": "stream",
     "name": "stderr",
     "text": [
      "/usr/local/lib/python3.11/dist-packages/scipy/sparse/_index.py:151: SparseEfficiencyWarning: Changing the sparsity structure of a csr_matrix is expensive. lil and dok are more efficient.\n",
      "  self._set_arrayXarray(i, j, x)\n"
     ]
    },
    {
     "output_type": "stream",
     "name": "stdout",
     "text": [
      "Iteraci\u00f3n 110: Convergi\u00f3 correctamente.\n",
      "Tiempo de ejecuci\u00f3n: 0.4234 segundos\n"
     ]
    },
    {
     "output_type": "stream",
     "name": "stderr",
     "text": [
      "/usr/local/lib/python3.11/dist-packages/scipy/sparse/_index.py:151: SparseEfficiencyWarning: Changing the sparsity structure of a csr_matrix is expensive. lil and dok are more efficient.\n",
      "  self._set_arrayXarray(i, j, x)\n"
     ]
    },
    {
     "output_type": "stream",
     "name": "stdout",
     "text": [
      "Iteraci\u00f3n 111: Convergi\u00f3 correctamente.\n",
      "Tiempo de ejecuci\u00f3n: 0.4021 segundos\n"
     ]
    },
    {
     "output_type": "stream",
     "name": "stderr",
     "text": [
      "/usr/local/lib/python3.11/dist-packages/scipy/sparse/_index.py:151: SparseEfficiencyWarning: Changing the sparsity structure of a csr_matrix is expensive. lil and dok are more efficient.\n",
      "  self._set_arrayXarray(i, j, x)\n"
     ]
    },
    {
     "output_type": "stream",
     "name": "stdout",
     "text": [
      "Iteraci\u00f3n 112: Convergi\u00f3 correctamente.\n",
      "Tiempo de ejecuci\u00f3n: 0.4193 segundos\n"
     ]
    },
    {
     "output_type": "stream",
     "name": "stderr",
     "text": [
      "/usr/local/lib/python3.11/dist-packages/scipy/sparse/_index.py:151: SparseEfficiencyWarning: Changing the sparsity structure of a csr_matrix is expensive. lil and dok are more efficient.\n",
      "  self._set_arrayXarray(i, j, x)\n"
     ]
    },
    {
     "output_type": "stream",
     "name": "stdout",
     "text": [
      "Iteraci\u00f3n 113: Convergi\u00f3 correctamente.\n",
      "Tiempo de ejecuci\u00f3n: 0.4353 segundos\n"
     ]
    },
    {
     "output_type": "stream",
     "name": "stderr",
     "text": [
      "/usr/local/lib/python3.11/dist-packages/scipy/sparse/_index.py:151: SparseEfficiencyWarning: Changing the sparsity structure of a csr_matrix is expensive. lil and dok are more efficient.\n",
      "  self._set_arrayXarray(i, j, x)\n"
     ]
    },
    {
     "output_type": "stream",
     "name": "stdout",
     "text": [
      "Iteraci\u00f3n 114: Convergi\u00f3 correctamente.\n",
      "Tiempo de ejecuci\u00f3n: 0.4193 segundos\n"
     ]
    },
    {
     "output_type": "stream",
     "name": "stderr",
     "text": [
      "/usr/local/lib/python3.11/dist-packages/scipy/sparse/_index.py:151: SparseEfficiencyWarning: Changing the sparsity structure of a csr_matrix is expensive. lil and dok are more efficient.\n",
      "  self._set_arrayXarray(i, j, x)\n"
     ]
    },
    {
     "output_type": "stream",
     "name": "stdout",
     "text": [
      "Iteraci\u00f3n 115: Convergi\u00f3 correctamente.\n",
      "Tiempo de ejecuci\u00f3n: 0.3869 segundos\n"
     ]
    },
    {
     "output_type": "stream",
     "name": "stderr",
     "text": [
      "/usr/local/lib/python3.11/dist-packages/scipy/sparse/_index.py:151: SparseEfficiencyWarning: Changing the sparsity structure of a csr_matrix is expensive. lil and dok are more efficient.\n",
      "  self._set_arrayXarray(i, j, x)\n"
     ]
    },
    {
     "output_type": "stream",
     "name": "stdout",
     "text": [
      "Iteraci\u00f3n 116: Convergi\u00f3 correctamente.\n",
      "Tiempo de ejecuci\u00f3n: 0.4259 segundos\n"
     ]
    },
    {
     "output_type": "stream",
     "name": "stderr",
     "text": [
      "/usr/local/lib/python3.11/dist-packages/scipy/sparse/_index.py:151: SparseEfficiencyWarning: Changing the sparsity structure of a csr_matrix is expensive. lil and dok are more efficient.\n",
      "  self._set_arrayXarray(i, j, x)\n"
     ]
    },
    {
     "output_type": "stream",
     "name": "stdout",
     "text": [
      "Iteraci\u00f3n 117: Convergi\u00f3 correctamente.\n",
      "Tiempo de ejecuci\u00f3n: 0.4252 segundos\n"
     ]
    },
    {
     "output_type": "stream",
     "name": "stderr",
     "text": [
      "/usr/local/lib/python3.11/dist-packages/scipy/sparse/_index.py:151: SparseEfficiencyWarning: Changing the sparsity structure of a csr_matrix is expensive. lil and dok are more efficient.\n",
      "  self._set_arrayXarray(i, j, x)\n"
     ]
    },
    {
     "output_type": "stream",
     "name": "stdout",
     "text": [
      "Iteraci\u00f3n 118: Convergi\u00f3 correctamente.\n",
      "Tiempo de ejecuci\u00f3n: 0.4429 segundos\n"
     ]
    },
    {
     "output_type": "stream",
     "name": "stderr",
     "text": [
      "/usr/local/lib/python3.11/dist-packages/scipy/sparse/_index.py:151: SparseEfficiencyWarning: Changing the sparsity structure of a csr_matrix is expensive. lil and dok are more efficient.\n",
      "  self._set_arrayXarray(i, j, x)\n"
     ]
    },
    {
     "output_type": "stream",
     "name": "stdout",
     "text": [
      "Iteraci\u00f3n 119: Convergi\u00f3 correctamente.\n",
      "Tiempo de ejecuci\u00f3n: 0.4049 segundos\n"
     ]
    },
    {
     "output_type": "stream",
     "name": "stderr",
     "text": [
      "/usr/local/lib/python3.11/dist-packages/scipy/sparse/_index.py:151: SparseEfficiencyWarning: Changing the sparsity structure of a csr_matrix is expensive. lil and dok are more efficient.\n",
      "  self._set_arrayXarray(i, j, x)\n"
     ]
    },
    {
     "output_type": "stream",
     "name": "stdout",
     "text": [
      "Iteraci\u00f3n 120: Convergi\u00f3 correctamente.\n",
      "Tiempo de ejecuci\u00f3n: 0.4075 segundos\n"
     ]
    },
    {
     "output_type": "stream",
     "name": "stderr",
     "text": [
      "/usr/local/lib/python3.11/dist-packages/scipy/sparse/_index.py:151: SparseEfficiencyWarning: Changing the sparsity structure of a csr_matrix is expensive. lil and dok are more efficient.\n",
      "  self._set_arrayXarray(i, j, x)\n"
     ]
    },
    {
     "output_type": "stream",
     "name": "stdout",
     "text": [
      "Iteraci\u00f3n 121: Convergi\u00f3 correctamente.\n",
      "Tiempo de ejecuci\u00f3n: 0.4223 segundos\n"
     ]
    },
    {
     "output_type": "stream",
     "name": "stderr",
     "text": [
      "/usr/local/lib/python3.11/dist-packages/scipy/sparse/_index.py:151: SparseEfficiencyWarning: Changing the sparsity structure of a csr_matrix is expensive. lil and dok are more efficient.\n",
      "  self._set_arrayXarray(i, j, x)\n"
     ]
    },
    {
     "output_type": "stream",
     "name": "stdout",
     "text": [
      "Iteraci\u00f3n 122: Convergi\u00f3 correctamente.\n",
      "Tiempo de ejecuci\u00f3n: 0.4449 segundos\n"
     ]
    },
    {
     "output_type": "stream",
     "name": "stderr",
     "text": [
      "/usr/local/lib/python3.11/dist-packages/scipy/sparse/_index.py:151: SparseEfficiencyWarning: Changing the sparsity structure of a csr_matrix is expensive. lil and dok are more efficient.\n",
      "  self._set_arrayXarray(i, j, x)\n"
     ]
    },
    {
     "output_type": "stream",
     "name": "stdout",
     "text": [
      "Iteraci\u00f3n 123: Convergi\u00f3 correctamente.\n",
      "Tiempo de ejecuci\u00f3n: 0.5025 segundos\n"
     ]
    },
    {
     "output_type": "stream",
     "name": "stderr",
     "text": [
      "/usr/local/lib/python3.11/dist-packages/scipy/sparse/_index.py:151: SparseEfficiencyWarning: Changing the sparsity structure of a csr_matrix is expensive. lil and dok are more efficient.\n",
      "  self._set_arrayXarray(i, j, x)\n"
     ]
    },
    {
     "output_type": "stream",
     "name": "stdout",
     "text": [
      "Iteraci\u00f3n 124: Convergi\u00f3 correctamente.\n",
      "Tiempo de ejecuci\u00f3n: 0.4278 segundos\n"
     ]
    },
    {
     "output_type": "stream",
     "name": "stderr",
     "text": [
      "/usr/local/lib/python3.11/dist-packages/scipy/sparse/_index.py:151: SparseEfficiencyWarning: Changing the sparsity structure of a csr_matrix is expensive. lil and dok are more efficient.\n",
      "  self._set_arrayXarray(i, j, x)\n"
     ]
    },
    {
     "output_type": "stream",
     "name": "stdout",
     "text": [
      "Iteraci\u00f3n 125: Convergi\u00f3 correctamente.\n",
      "Tiempo de ejecuci\u00f3n: 0.4343 segundos\n"
     ]
    },
    {
     "output_type": "stream",
     "name": "stderr",
     "text": [
      "/usr/local/lib/python3.11/dist-packages/scipy/sparse/_index.py:151: SparseEfficiencyWarning: Changing the sparsity structure of a csr_matrix is expensive. lil and dok are more efficient.\n",
      "  self._set_arrayXarray(i, j, x)\n"
     ]
    },
    {
     "output_type": "stream",
     "name": "stdout",
     "text": [
      "Iteraci\u00f3n 126: Convergi\u00f3 correctamente.\n",
      "Tiempo de ejecuci\u00f3n: 0.4073 segundos\n"
     ]
    },
    {
     "output_type": "stream",
     "name": "stderr",
     "text": [
      "/usr/local/lib/python3.11/dist-packages/scipy/sparse/_index.py:151: SparseEfficiencyWarning: Changing the sparsity structure of a csr_matrix is expensive. lil and dok are more efficient.\n",
      "  self._set_arrayXarray(i, j, x)\n"
     ]
    },
    {
     "output_type": "stream",
     "name": "stdout",
     "text": [
      "Iteraci\u00f3n 127: Convergi\u00f3 correctamente.\n",
      "Tiempo de ejecuci\u00f3n: 0.3788 segundos\n"
     ]
    },
    {
     "output_type": "stream",
     "name": "stderr",
     "text": [
      "/usr/local/lib/python3.11/dist-packages/scipy/sparse/_index.py:151: SparseEfficiencyWarning: Changing the sparsity structure of a csr_matrix is expensive. lil and dok are more efficient.\n",
      "  self._set_arrayXarray(i, j, x)\n"
     ]
    },
    {
     "output_type": "stream",
     "name": "stdout",
     "text": [
      "Iteraci\u00f3n 128: Convergi\u00f3 correctamente.\n",
      "Tiempo de ejecuci\u00f3n: 0.4996 segundos\n"
     ]
    },
    {
     "output_type": "stream",
     "name": "stderr",
     "text": [
      "/usr/local/lib/python3.11/dist-packages/scipy/sparse/_index.py:151: SparseEfficiencyWarning: Changing the sparsity structure of a csr_matrix is expensive. lil and dok are more efficient.\n",
      "  self._set_arrayXarray(i, j, x)\n"
     ]
    },
    {
     "output_type": "stream",
     "name": "stdout",
     "text": [
      "Iteraci\u00f3n 129: Convergi\u00f3 correctamente.\n",
      "Tiempo de ejecuci\u00f3n: 0.4820 segundos\n"
     ]
    },
    {
     "output_type": "stream",
     "name": "stderr",
     "text": [
      "/usr/local/lib/python3.11/dist-packages/scipy/sparse/_index.py:151: SparseEfficiencyWarning: Changing the sparsity structure of a csr_matrix is expensive. lil and dok are more efficient.\n",
      "  self._set_arrayXarray(i, j, x)\n"
     ]
    },
    {
     "output_type": "stream",
     "name": "stdout",
     "text": [
      "Iteraci\u00f3n 130: Convergi\u00f3 correctamente.\n",
      "Tiempo de ejecuci\u00f3n: 0.4896 segundos\n"
     ]
    },
    {
     "output_type": "stream",
     "name": "stderr",
     "text": [
      "/usr/local/lib/python3.11/dist-packages/scipy/sparse/_index.py:151: SparseEfficiencyWarning: Changing the sparsity structure of a csr_matrix is expensive. lil and dok are more efficient.\n",
      "  self._set_arrayXarray(i, j, x)\n"
     ]
    },
    {
     "output_type": "stream",
     "name": "stdout",
     "text": [
      "Iteraci\u00f3n 131: Convergi\u00f3 correctamente.\n",
      "Tiempo de ejecuci\u00f3n: 0.4567 segundos\n"
     ]
    },
    {
     "output_type": "stream",
     "name": "stderr",
     "text": [
      "/usr/local/lib/python3.11/dist-packages/scipy/sparse/_index.py:151: SparseEfficiencyWarning: Changing the sparsity structure of a csr_matrix is expensive. lil and dok are more efficient.\n",
      "  self._set_arrayXarray(i, j, x)\n"
     ]
    },
    {
     "output_type": "stream",
     "name": "stdout",
     "text": [
      "Iteraci\u00f3n 132: Convergi\u00f3 correctamente.\n",
      "Tiempo de ejecuci\u00f3n: 0.4373 segundos\n"
     ]
    },
    {
     "output_type": "stream",
     "name": "stderr",
     "text": [
      "/usr/local/lib/python3.11/dist-packages/scipy/sparse/_index.py:151: SparseEfficiencyWarning: Changing the sparsity structure of a csr_matrix is expensive. lil and dok are more efficient.\n",
      "  self._set_arrayXarray(i, j, x)\n"
     ]
    },
    {
     "output_type": "stream",
     "name": "stdout",
     "text": [
      "Iteraci\u00f3n 133: Convergi\u00f3 correctamente.\n",
      "Tiempo de ejecuci\u00f3n: 0.6871 segundos\n"
     ]
    },
    {
     "output_type": "stream",
     "name": "stderr",
     "text": [
      "/usr/local/lib/python3.11/dist-packages/scipy/sparse/_index.py:151: SparseEfficiencyWarning: Changing the sparsity structure of a csr_matrix is expensive. lil and dok are more efficient.\n",
      "  self._set_arrayXarray(i, j, x)\n"
     ]
    },
    {
     "output_type": "stream",
     "name": "stdout",
     "text": [
      "Iteraci\u00f3n 134: Convergi\u00f3 correctamente.\n",
      "Tiempo de ejecuci\u00f3n: 0.8379 segundos\n"
     ]
    },
    {
     "output_type": "stream",
     "name": "stderr",
     "text": [
      "/usr/local/lib/python3.11/dist-packages/scipy/sparse/_index.py:151: SparseEfficiencyWarning: Changing the sparsity structure of a csr_matrix is expensive. lil and dok are more efficient.\n",
      "  self._set_arrayXarray(i, j, x)\n"
     ]
    },
    {
     "output_type": "stream",
     "name": "stdout",
     "text": [
      "Iteraci\u00f3n 135: Convergi\u00f3 correctamente.\n",
      "Tiempo de ejecuci\u00f3n: 0.6669 segundos\n"
     ]
    },
    {
     "output_type": "stream",
     "name": "stderr",
     "text": [
      "/usr/local/lib/python3.11/dist-packages/scipy/sparse/_index.py:151: SparseEfficiencyWarning: Changing the sparsity structure of a csr_matrix is expensive. lil and dok are more efficient.\n",
      "  self._set_arrayXarray(i, j, x)\n"
     ]
    },
    {
     "output_type": "stream",
     "name": "stdout",
     "text": [
      "Iteraci\u00f3n 136: Convergi\u00f3 correctamente.\n",
      "Tiempo de ejecuci\u00f3n: 0.4570 segundos\n"
     ]
    },
    {
     "output_type": "stream",
     "name": "stderr",
     "text": [
      "/usr/local/lib/python3.11/dist-packages/scipy/sparse/_index.py:151: SparseEfficiencyWarning: Changing the sparsity structure of a csr_matrix is expensive. lil and dok are more efficient.\n",
      "  self._set_arrayXarray(i, j, x)\n"
     ]
    },
    {
     "output_type": "stream",
     "name": "stdout",
     "text": [
      "Iteraci\u00f3n 137: Convergi\u00f3 correctamente.\n",
      "Tiempo de ejecuci\u00f3n: 0.4551 segundos\n"
     ]
    },
    {
     "output_type": "stream",
     "name": "stderr",
     "text": [
      "/usr/local/lib/python3.11/dist-packages/scipy/sparse/_index.py:151: SparseEfficiencyWarning: Changing the sparsity structure of a csr_matrix is expensive. lil and dok are more efficient.\n",
      "  self._set_arrayXarray(i, j, x)\n"
     ]
    },
    {
     "output_type": "stream",
     "name": "stdout",
     "text": [
      "Iteraci\u00f3n 138: Convergi\u00f3 correctamente.\n",
      "Tiempo de ejecuci\u00f3n: 0.4746 segundos\n"
     ]
    },
    {
     "output_type": "stream",
     "name": "stderr",
     "text": [
      "/usr/local/lib/python3.11/dist-packages/scipy/sparse/_index.py:151: SparseEfficiencyWarning: Changing the sparsity structure of a csr_matrix is expensive. lil and dok are more efficient.\n",
      "  self._set_arrayXarray(i, j, x)\n"
     ]
    },
    {
     "output_type": "stream",
     "name": "stdout",
     "text": [
      "Iteraci\u00f3n 139: Convergi\u00f3 correctamente.\n",
      "Tiempo de ejecuci\u00f3n: 0.4614 segundos\n"
     ]
    },
    {
     "output_type": "stream",
     "name": "stderr",
     "text": [
      "/usr/local/lib/python3.11/dist-packages/scipy/sparse/_index.py:151: SparseEfficiencyWarning: Changing the sparsity structure of a csr_matrix is expensive. lil and dok are more efficient.\n",
      "  self._set_arrayXarray(i, j, x)\n"
     ]
    },
    {
     "output_type": "stream",
     "name": "stdout",
     "text": [
      "Iteraci\u00f3n 140: Convergi\u00f3 correctamente.\n",
      "Tiempo de ejecuci\u00f3n: 0.4687 segundos\n"
     ]
    },
    {
     "output_type": "stream",
     "name": "stderr",
     "text": [
      "/usr/local/lib/python3.11/dist-packages/scipy/sparse/_index.py:151: SparseEfficiencyWarning: Changing the sparsity structure of a csr_matrix is expensive. lil and dok are more efficient.\n",
      "  self._set_arrayXarray(i, j, x)\n"
     ]
    },
    {
     "output_type": "stream",
     "name": "stdout",
     "text": [
      "Iteraci\u00f3n 141: Convergi\u00f3 correctamente.\n",
      "Tiempo de ejecuci\u00f3n: 0.5004 segundos\n"
     ]
    },
    {
     "output_type": "stream",
     "name": "stderr",
     "text": [
      "/usr/local/lib/python3.11/dist-packages/scipy/sparse/_index.py:151: SparseEfficiencyWarning: Changing the sparsity structure of a csr_matrix is expensive. lil and dok are more efficient.\n",
      "  self._set_arrayXarray(i, j, x)\n"
     ]
    },
    {
     "output_type": "stream",
     "name": "stdout",
     "text": [
      "Iteraci\u00f3n 142: Convergi\u00f3 correctamente.\n",
      "Tiempo de ejecuci\u00f3n: 0.5091 segundos\n"
     ]
    },
    {
     "output_type": "stream",
     "name": "stderr",
     "text": [
      "/usr/local/lib/python3.11/dist-packages/scipy/sparse/_index.py:151: SparseEfficiencyWarning: Changing the sparsity structure of a csr_matrix is expensive. lil and dok are more efficient.\n",
      "  self._set_arrayXarray(i, j, x)\n"
     ]
    },
    {
     "output_type": "stream",
     "name": "stdout",
     "text": [
      "Iteraci\u00f3n 143: Convergi\u00f3 correctamente.\n",
      "Tiempo de ejecuci\u00f3n: 0.4963 segundos\n"
     ]
    },
    {
     "output_type": "stream",
     "name": "stderr",
     "text": [
      "/usr/local/lib/python3.11/dist-packages/scipy/sparse/_index.py:151: SparseEfficiencyWarning: Changing the sparsity structure of a csr_matrix is expensive. lil and dok are more efficient.\n",
      "  self._set_arrayXarray(i, j, x)\n"
     ]
    },
    {
     "output_type": "stream",
     "name": "stdout",
     "text": [
      "Iteraci\u00f3n 144: Convergi\u00f3 correctamente.\n",
      "Tiempo de ejecuci\u00f3n: 0.5058 segundos\n"
     ]
    },
    {
     "output_type": "stream",
     "name": "stderr",
     "text": [
      "/usr/local/lib/python3.11/dist-packages/scipy/sparse/_index.py:151: SparseEfficiencyWarning: Changing the sparsity structure of a csr_matrix is expensive. lil and dok are more efficient.\n",
      "  self._set_arrayXarray(i, j, x)\n"
     ]
    },
    {
     "output_type": "stream",
     "name": "stdout",
     "text": [
      "Iteraci\u00f3n 145: Convergi\u00f3 correctamente.\n",
      "Tiempo de ejecuci\u00f3n: 0.4858 segundos\n"
     ]
    },
    {
     "output_type": "stream",
     "name": "stderr",
     "text": [
      "/usr/local/lib/python3.11/dist-packages/scipy/sparse/_index.py:151: SparseEfficiencyWarning: Changing the sparsity structure of a csr_matrix is expensive. lil and dok are more efficient.\n",
      "  self._set_arrayXarray(i, j, x)\n"
     ]
    },
    {
     "output_type": "stream",
     "name": "stdout",
     "text": [
      "Iteraci\u00f3n 146: Convergi\u00f3 correctamente.\n",
      "Tiempo de ejecuci\u00f3n: 0.4821 segundos\n"
     ]
    },
    {
     "output_type": "stream",
     "name": "stderr",
     "text": [
      "/usr/local/lib/python3.11/dist-packages/scipy/sparse/_index.py:151: SparseEfficiencyWarning: Changing the sparsity structure of a csr_matrix is expensive. lil and dok are more efficient.\n",
      "  self._set_arrayXarray(i, j, x)\n"
     ]
    },
    {
     "output_type": "stream",
     "name": "stdout",
     "text": [
      "Iteraci\u00f3n 147: Convergi\u00f3 correctamente.\n",
      "Tiempo de ejecuci\u00f3n: 0.5763 segundos\n"
     ]
    },
    {
     "output_type": "stream",
     "name": "stderr",
     "text": [
      "/usr/local/lib/python3.11/dist-packages/scipy/sparse/_index.py:151: SparseEfficiencyWarning: Changing the sparsity structure of a csr_matrix is expensive. lil and dok are more efficient.\n",
      "  self._set_arrayXarray(i, j, x)\n"
     ]
    },
    {
     "output_type": "stream",
     "name": "stdout",
     "text": [
      "Iteraci\u00f3n 148: Convergi\u00f3 correctamente.\n",
      "Tiempo de ejecuci\u00f3n: 0.5359 segundos\n"
     ]
    },
    {
     "output_type": "stream",
     "name": "stderr",
     "text": [
      "/usr/local/lib/python3.11/dist-packages/scipy/sparse/_index.py:151: SparseEfficiencyWarning: Changing the sparsity structure of a csr_matrix is expensive. lil and dok are more efficient.\n",
      "  self._set_arrayXarray(i, j, x)\n"
     ]
    },
    {
     "output_type": "stream",
     "name": "stdout",
     "text": [
      "Iteraci\u00f3n 149: Convergi\u00f3 correctamente.\n",
      "Tiempo de ejecuci\u00f3n: 0.5146 segundos\n"
     ]
    },
    {
     "output_type": "stream",
     "name": "stderr",
     "text": [
      "/usr/local/lib/python3.11/dist-packages/scipy/sparse/_index.py:151: SparseEfficiencyWarning: Changing the sparsity structure of a csr_matrix is expensive. lil and dok are more efficient.\n",
      "  self._set_arrayXarray(i, j, x)\n",
      "<ipython-input-5-e9ab6229a877>:57: SparseEfficiencyWarning: spilu converted its input to CSC format\n",
      "  ilu = spilu(sistema_sparse)\n"
     ]
    },
    {
     "output_type": "stream",
     "name": "stdout",
     "text": [
      "Iteraci\u00f3n 150: Convergi\u00f3 correctamente.\n",
      "Tiempo de ejecuci\u00f3n: 2.2733 segundos\n"
     ]
    },
    {
     "output_type": "stream",
     "name": "stderr",
     "text": [
      "/usr/local/lib/python3.11/dist-packages/scipy/sparse/_index.py:151: SparseEfficiencyWarning: Changing the sparsity structure of a csr_matrix is expensive. lil and dok are more efficient.\n",
      "  self._set_arrayXarray(i, j, x)\n"
     ]
    },
    {
     "output_type": "stream",
     "name": "stdout",
     "text": [
      "Iteraci\u00f3n 151: Convergi\u00f3 correctamente.\n",
      "Tiempo de ejecuci\u00f3n: 0.3954 segundos\n"
     ]
    },
    {
     "output_type": "stream",
     "name": "stderr",
     "text": [
      "/usr/local/lib/python3.11/dist-packages/scipy/sparse/_index.py:151: SparseEfficiencyWarning: Changing the sparsity structure of a csr_matrix is expensive. lil and dok are more efficient.\n",
      "  self._set_arrayXarray(i, j, x)\n"
     ]
    },
    {
     "output_type": "stream",
     "name": "stdout",
     "text": [
      "Iteraci\u00f3n 152: Convergi\u00f3 correctamente.\n",
      "Tiempo de ejecuci\u00f3n: 0.4096 segundos\n"
     ]
    },
    {
     "output_type": "stream",
     "name": "stderr",
     "text": [
      "/usr/local/lib/python3.11/dist-packages/scipy/sparse/_index.py:151: SparseEfficiencyWarning: Changing the sparsity structure of a csr_matrix is expensive. lil and dok are more efficient.\n",
      "  self._set_arrayXarray(i, j, x)\n"
     ]
    },
    {
     "output_type": "stream",
     "name": "stdout",
     "text": [
      "Iteraci\u00f3n 153: Convergi\u00f3 correctamente.\n",
      "Tiempo de ejecuci\u00f3n: 0.5522 segundos\n"
     ]
    },
    {
     "output_type": "stream",
     "name": "stderr",
     "text": [
      "/usr/local/lib/python3.11/dist-packages/scipy/sparse/_index.py:151: SparseEfficiencyWarning: Changing the sparsity structure of a csr_matrix is expensive. lil and dok are more efficient.\n",
      "  self._set_arrayXarray(i, j, x)\n"
     ]
    },
    {
     "output_type": "stream",
     "name": "stdout",
     "text": [
      "Iteraci\u00f3n 154: Convergi\u00f3 correctamente.\n",
      "Tiempo de ejecuci\u00f3n: 0.5612 segundos\n"
     ]
    },
    {
     "output_type": "stream",
     "name": "stderr",
     "text": [
      "/usr/local/lib/python3.11/dist-packages/scipy/sparse/_index.py:151: SparseEfficiencyWarning: Changing the sparsity structure of a csr_matrix is expensive. lil and dok are more efficient.\n",
      "  self._set_arrayXarray(i, j, x)\n"
     ]
    },
    {
     "output_type": "stream",
     "name": "stdout",
     "text": [
      "Iteraci\u00f3n 155: Convergi\u00f3 correctamente.\n",
      "Tiempo de ejecuci\u00f3n: 0.5796 segundos\n"
     ]
    },
    {
     "output_type": "stream",
     "name": "stderr",
     "text": [
      "/usr/local/lib/python3.11/dist-packages/scipy/sparse/_index.py:151: SparseEfficiencyWarning: Changing the sparsity structure of a csr_matrix is expensive. lil and dok are more efficient.\n",
      "  self._set_arrayXarray(i, j, x)\n"
     ]
    },
    {
     "output_type": "stream",
     "name": "stdout",
     "text": [
      "Iteraci\u00f3n 156: Convergi\u00f3 correctamente.\n",
      "Tiempo de ejecuci\u00f3n: 0.4137 segundos\n"
     ]
    },
    {
     "output_type": "stream",
     "name": "stderr",
     "text": [
      "/usr/local/lib/python3.11/dist-packages/scipy/sparse/_index.py:151: SparseEfficiencyWarning: Changing the sparsity structure of a csr_matrix is expensive. lil and dok are more efficient.\n",
      "  self._set_arrayXarray(i, j, x)\n"
     ]
    },
    {
     "output_type": "stream",
     "name": "stdout",
     "text": [
      "Iteraci\u00f3n 157: Convergi\u00f3 correctamente.\n",
      "Tiempo de ejecuci\u00f3n: 0.3976 segundos\n"
     ]
    },
    {
     "output_type": "stream",
     "name": "stderr",
     "text": [
      "/usr/local/lib/python3.11/dist-packages/scipy/sparse/_index.py:151: SparseEfficiencyWarning: Changing the sparsity structure of a csr_matrix is expensive. lil and dok are more efficient.\n",
      "  self._set_arrayXarray(i, j, x)\n"
     ]
    },
    {
     "output_type": "stream",
     "name": "stdout",
     "text": [
      "Iteraci\u00f3n 158: Convergi\u00f3 correctamente.\n",
      "Tiempo de ejecuci\u00f3n: 0.3902 segundos\n"
     ]
    },
    {
     "output_type": "stream",
     "name": "stderr",
     "text": [
      "/usr/local/lib/python3.11/dist-packages/scipy/sparse/_index.py:151: SparseEfficiencyWarning: Changing the sparsity structure of a csr_matrix is expensive. lil and dok are more efficient.\n",
      "  self._set_arrayXarray(i, j, x)\n"
     ]
    },
    {
     "output_type": "stream",
     "name": "stdout",
     "text": [
      "Iteraci\u00f3n 159: Convergi\u00f3 correctamente.\n",
      "Tiempo de ejecuci\u00f3n: 0.3634 segundos\n"
     ]
    },
    {
     "output_type": "stream",
     "name": "stderr",
     "text": [
      "/usr/local/lib/python3.11/dist-packages/scipy/sparse/_index.py:151: SparseEfficiencyWarning: Changing the sparsity structure of a csr_matrix is expensive. lil and dok are more efficient.\n",
      "  self._set_arrayXarray(i, j, x)\n"
     ]
    },
    {
     "output_type": "stream",
     "name": "stdout",
     "text": [
      "Iteraci\u00f3n 160: Convergi\u00f3 correctamente.\n",
      "Tiempo de ejecuci\u00f3n: 0.4491 segundos\n"
     ]
    },
    {
     "output_type": "stream",
     "name": "stderr",
     "text": [
      "/usr/local/lib/python3.11/dist-packages/scipy/sparse/_index.py:151: SparseEfficiencyWarning: Changing the sparsity structure of a csr_matrix is expensive. lil and dok are more efficient.\n",
      "  self._set_arrayXarray(i, j, x)\n"
     ]
    },
    {
     "output_type": "stream",
     "name": "stdout",
     "text": [
      "Iteraci\u00f3n 161: Convergi\u00f3 correctamente.\n",
      "Tiempo de ejecuci\u00f3n: 0.3944 segundos\n"
     ]
    },
    {
     "output_type": "stream",
     "name": "stderr",
     "text": [
      "/usr/local/lib/python3.11/dist-packages/scipy/sparse/_index.py:151: SparseEfficiencyWarning: Changing the sparsity structure of a csr_matrix is expensive. lil and dok are more efficient.\n",
      "  self._set_arrayXarray(i, j, x)\n"
     ]
    },
    {
     "output_type": "stream",
     "name": "stdout",
     "text": [
      "Iteraci\u00f3n 162: Convergi\u00f3 correctamente.\n",
      "Tiempo de ejecuci\u00f3n: 0.4518 segundos\n"
     ]
    },
    {
     "output_type": "stream",
     "name": "stderr",
     "text": [
      "/usr/local/lib/python3.11/dist-packages/scipy/sparse/_index.py:151: SparseEfficiencyWarning: Changing the sparsity structure of a csr_matrix is expensive. lil and dok are more efficient.\n",
      "  self._set_arrayXarray(i, j, x)\n"
     ]
    },
    {
     "output_type": "stream",
     "name": "stdout",
     "text": [
      "Iteraci\u00f3n 163: Convergi\u00f3 correctamente.\n",
      "Tiempo de ejecuci\u00f3n: 0.4262 segundos\n"
     ]
    },
    {
     "output_type": "stream",
     "name": "stderr",
     "text": [
      "/usr/local/lib/python3.11/dist-packages/scipy/sparse/_index.py:151: SparseEfficiencyWarning: Changing the sparsity structure of a csr_matrix is expensive. lil and dok are more efficient.\n",
      "  self._set_arrayXarray(i, j, x)\n"
     ]
    },
    {
     "output_type": "stream",
     "name": "stdout",
     "text": [
      "Iteraci\u00f3n 164: Convergi\u00f3 correctamente.\n",
      "Tiempo de ejecuci\u00f3n: 0.4106 segundos\n"
     ]
    },
    {
     "output_type": "stream",
     "name": "stderr",
     "text": [
      "/usr/local/lib/python3.11/dist-packages/scipy/sparse/_index.py:151: SparseEfficiencyWarning: Changing the sparsity structure of a csr_matrix is expensive. lil and dok are more efficient.\n",
      "  self._set_arrayXarray(i, j, x)\n"
     ]
    },
    {
     "output_type": "stream",
     "name": "stdout",
     "text": [
      "Iteraci\u00f3n 165: Convergi\u00f3 correctamente.\n",
      "Tiempo de ejecuci\u00f3n: 0.4188 segundos\n"
     ]
    },
    {
     "output_type": "stream",
     "name": "stderr",
     "text": [
      "/usr/local/lib/python3.11/dist-packages/scipy/sparse/_index.py:151: SparseEfficiencyWarning: Changing the sparsity structure of a csr_matrix is expensive. lil and dok are more efficient.\n",
      "  self._set_arrayXarray(i, j, x)\n"
     ]
    },
    {
     "output_type": "stream",
     "name": "stdout",
     "text": [
      "Iteraci\u00f3n 166: Convergi\u00f3 correctamente.\n",
      "Tiempo de ejecuci\u00f3n: 0.4210 segundos\n"
     ]
    },
    {
     "output_type": "stream",
     "name": "stderr",
     "text": [
      "/usr/local/lib/python3.11/dist-packages/scipy/sparse/_index.py:151: SparseEfficiencyWarning: Changing the sparsity structure of a csr_matrix is expensive. lil and dok are more efficient.\n",
      "  self._set_arrayXarray(i, j, x)\n"
     ]
    },
    {
     "output_type": "stream",
     "name": "stdout",
     "text": [
      "Iteraci\u00f3n 167: Convergi\u00f3 correctamente.\n",
      "Tiempo de ejecuci\u00f3n: 0.4571 segundos\n"
     ]
    },
    {
     "output_type": "stream",
     "name": "stderr",
     "text": [
      "/usr/local/lib/python3.11/dist-packages/scipy/sparse/_index.py:151: SparseEfficiencyWarning: Changing the sparsity structure of a csr_matrix is expensive. lil and dok are more efficient.\n",
      "  self._set_arrayXarray(i, j, x)\n"
     ]
    },
    {
     "output_type": "stream",
     "name": "stdout",
     "text": [
      "Iteraci\u00f3n 168: Convergi\u00f3 correctamente.\n",
      "Tiempo de ejecuci\u00f3n: 0.4296 segundos\n"
     ]
    },
    {
     "output_type": "stream",
     "name": "stderr",
     "text": [
      "/usr/local/lib/python3.11/dist-packages/scipy/sparse/_index.py:151: SparseEfficiencyWarning: Changing the sparsity structure of a csr_matrix is expensive. lil and dok are more efficient.\n",
      "  self._set_arrayXarray(i, j, x)\n"
     ]
    },
    {
     "output_type": "stream",
     "name": "stdout",
     "text": [
      "Iteraci\u00f3n 169: Convergi\u00f3 correctamente.\n",
      "Tiempo de ejecuci\u00f3n: 0.4193 segundos\n"
     ]
    },
    {
     "output_type": "stream",
     "name": "stderr",
     "text": [
      "/usr/local/lib/python3.11/dist-packages/scipy/sparse/_index.py:151: SparseEfficiencyWarning: Changing the sparsity structure of a csr_matrix is expensive. lil and dok are more efficient.\n",
      "  self._set_arrayXarray(i, j, x)\n"
     ]
    },
    {
     "output_type": "stream",
     "name": "stdout",
     "text": [
      "Iteraci\u00f3n 170: Convergi\u00f3 correctamente.\n",
      "Tiempo de ejecuci\u00f3n: 0.4541 segundos\n"
     ]
    },
    {
     "output_type": "stream",
     "name": "stderr",
     "text": [
      "/usr/local/lib/python3.11/dist-packages/scipy/sparse/_index.py:151: SparseEfficiencyWarning: Changing the sparsity structure of a csr_matrix is expensive. lil and dok are more efficient.\n",
      "  self._set_arrayXarray(i, j, x)\n"
     ]
    },
    {
     "output_type": "stream",
     "name": "stdout",
     "text": [
      "Iteraci\u00f3n 171: Convergi\u00f3 correctamente.\n",
      "Tiempo de ejecuci\u00f3n: 0.4631 segundos\n"
     ]
    },
    {
     "output_type": "stream",
     "name": "stderr",
     "text": [
      "/usr/local/lib/python3.11/dist-packages/scipy/sparse/_index.py:151: SparseEfficiencyWarning: Changing the sparsity structure of a csr_matrix is expensive. lil and dok are more efficient.\n",
      "  self._set_arrayXarray(i, j, x)\n"
     ]
    },
    {
     "output_type": "stream",
     "name": "stdout",
     "text": [
      "Iteraci\u00f3n 172: Convergi\u00f3 correctamente.\n",
      "Tiempo de ejecuci\u00f3n: 0.4786 segundos\n"
     ]
    },
    {
     "output_type": "stream",
     "name": "stderr",
     "text": [
      "/usr/local/lib/python3.11/dist-packages/scipy/sparse/_index.py:151: SparseEfficiencyWarning: Changing the sparsity structure of a csr_matrix is expensive. lil and dok are more efficient.\n",
      "  self._set_arrayXarray(i, j, x)\n"
     ]
    },
    {
     "output_type": "stream",
     "name": "stdout",
     "text": [
      "Iteraci\u00f3n 173: Convergi\u00f3 correctamente.\n",
      "Tiempo de ejecuci\u00f3n: 0.4493 segundos\n"
     ]
    },
    {
     "output_type": "stream",
     "name": "stderr",
     "text": [
      "/usr/local/lib/python3.11/dist-packages/scipy/sparse/_index.py:151: SparseEfficiencyWarning: Changing the sparsity structure of a csr_matrix is expensive. lil and dok are more efficient.\n",
      "  self._set_arrayXarray(i, j, x)\n"
     ]
    },
    {
     "output_type": "stream",
     "name": "stdout",
     "text": [
      "Iteraci\u00f3n 174: Convergi\u00f3 correctamente.\n",
      "Tiempo de ejecuci\u00f3n: 0.5088 segundos\n"
     ]
    },
    {
     "output_type": "stream",
     "name": "stderr",
     "text": [
      "/usr/local/lib/python3.11/dist-packages/scipy/sparse/_index.py:151: SparseEfficiencyWarning: Changing the sparsity structure of a csr_matrix is expensive. lil and dok are more efficient.\n",
      "  self._set_arrayXarray(i, j, x)\n"
     ]
    },
    {
     "output_type": "stream",
     "name": "stdout",
     "text": [
      "Iteraci\u00f3n 175: Convergi\u00f3 correctamente.\n",
      "Tiempo de ejecuci\u00f3n: 0.4442 segundos\n"
     ]
    },
    {
     "output_type": "stream",
     "name": "stderr",
     "text": [
      "/usr/local/lib/python3.11/dist-packages/scipy/sparse/_index.py:151: SparseEfficiencyWarning: Changing the sparsity structure of a csr_matrix is expensive. lil and dok are more efficient.\n",
      "  self._set_arrayXarray(i, j, x)\n"
     ]
    },
    {
     "output_type": "stream",
     "name": "stdout",
     "text": [
      "Iteraci\u00f3n 176: Convergi\u00f3 correctamente.\n",
      "Tiempo de ejecuci\u00f3n: 0.4700 segundos\n"
     ]
    },
    {
     "output_type": "stream",
     "name": "stderr",
     "text": [
      "/usr/local/lib/python3.11/dist-packages/scipy/sparse/_index.py:151: SparseEfficiencyWarning: Changing the sparsity structure of a csr_matrix is expensive. lil and dok are more efficient.\n",
      "  self._set_arrayXarray(i, j, x)\n"
     ]
    },
    {
     "output_type": "stream",
     "name": "stdout",
     "text": [
      "Iteraci\u00f3n 177: Convergi\u00f3 correctamente.\n",
      "Tiempo de ejecuci\u00f3n: 0.4455 segundos\n"
     ]
    },
    {
     "output_type": "stream",
     "name": "stderr",
     "text": [
      "/usr/local/lib/python3.11/dist-packages/scipy/sparse/_index.py:151: SparseEfficiencyWarning: Changing the sparsity structure of a csr_matrix is expensive. lil and dok are more efficient.\n",
      "  self._set_arrayXarray(i, j, x)\n"
     ]
    },
    {
     "output_type": "stream",
     "name": "stdout",
     "text": [
      "Iteraci\u00f3n 178: Convergi\u00f3 correctamente.\n",
      "Tiempo de ejecuci\u00f3n: 0.5427 segundos\n"
     ]
    },
    {
     "output_type": "stream",
     "name": "stderr",
     "text": [
      "/usr/local/lib/python3.11/dist-packages/scipy/sparse/_index.py:151: SparseEfficiencyWarning: Changing the sparsity structure of a csr_matrix is expensive. lil and dok are more efficient.\n",
      "  self._set_arrayXarray(i, j, x)\n"
     ]
    },
    {
     "output_type": "stream",
     "name": "stdout",
     "text": [
      "Iteraci\u00f3n 179: Convergi\u00f3 correctamente.\n",
      "Tiempo de ejecuci\u00f3n: 0.7986 segundos\n"
     ]
    },
    {
     "output_type": "stream",
     "name": "stderr",
     "text": [
      "/usr/local/lib/python3.11/dist-packages/scipy/sparse/_index.py:151: SparseEfficiencyWarning: Changing the sparsity structure of a csr_matrix is expensive. lil and dok are more efficient.\n",
      "  self._set_arrayXarray(i, j, x)\n"
     ]
    },
    {
     "output_type": "stream",
     "name": "stdout",
     "text": [
      "Iteraci\u00f3n 180: Convergi\u00f3 correctamente.\n",
      "Tiempo de ejecuci\u00f3n: 0.6354 segundos\n"
     ]
    },
    {
     "output_type": "stream",
     "name": "stderr",
     "text": [
      "/usr/local/lib/python3.11/dist-packages/scipy/sparse/_index.py:151: SparseEfficiencyWarning: Changing the sparsity structure of a csr_matrix is expensive. lil and dok are more efficient.\n",
      "  self._set_arrayXarray(i, j, x)\n"
     ]
    },
    {
     "output_type": "stream",
     "name": "stdout",
     "text": [
      "Iteraci\u00f3n 181: Convergi\u00f3 correctamente.\n",
      "Tiempo de ejecuci\u00f3n: 0.5530 segundos\n"
     ]
    },
    {
     "output_type": "stream",
     "name": "stderr",
     "text": [
      "/usr/local/lib/python3.11/dist-packages/scipy/sparse/_index.py:151: SparseEfficiencyWarning: Changing the sparsity structure of a csr_matrix is expensive. lil and dok are more efficient.\n",
      "  self._set_arrayXarray(i, j, x)\n"
     ]
    },
    {
     "output_type": "stream",
     "name": "stdout",
     "text": [
      "Iteraci\u00f3n 182: Convergi\u00f3 correctamente.\n",
      "Tiempo de ejecuci\u00f3n: 0.4873 segundos\n"
     ]
    },
    {
     "output_type": "stream",
     "name": "stderr",
     "text": [
      "/usr/local/lib/python3.11/dist-packages/scipy/sparse/_index.py:151: SparseEfficiencyWarning: Changing the sparsity structure of a csr_matrix is expensive. lil and dok are more efficient.\n",
      "  self._set_arrayXarray(i, j, x)\n"
     ]
    },
    {
     "output_type": "stream",
     "name": "stdout",
     "text": [
      "Iteraci\u00f3n 183: Convergi\u00f3 correctamente.\n",
      "Tiempo de ejecuci\u00f3n: 0.4764 segundos\n"
     ]
    },
    {
     "output_type": "stream",
     "name": "stderr",
     "text": [
      "/usr/local/lib/python3.11/dist-packages/scipy/sparse/_index.py:151: SparseEfficiencyWarning: Changing the sparsity structure of a csr_matrix is expensive. lil and dok are more efficient.\n",
      "  self._set_arrayXarray(i, j, x)\n"
     ]
    },
    {
     "output_type": "stream",
     "name": "stdout",
     "text": [
      "Iteraci\u00f3n 184: Convergi\u00f3 correctamente.\n",
      "Tiempo de ejecuci\u00f3n: 0.5126 segundos\n"
     ]
    },
    {
     "output_type": "stream",
     "name": "stderr",
     "text": [
      "/usr/local/lib/python3.11/dist-packages/scipy/sparse/_index.py:151: SparseEfficiencyWarning: Changing the sparsity structure of a csr_matrix is expensive. lil and dok are more efficient.\n",
      "  self._set_arrayXarray(i, j, x)\n"
     ]
    },
    {
     "output_type": "stream",
     "name": "stdout",
     "text": [
      "Iteraci\u00f3n 185: Convergi\u00f3 correctamente.\n",
      "Tiempo de ejecuci\u00f3n: 0.4855 segundos\n"
     ]
    },
    {
     "output_type": "stream",
     "name": "stderr",
     "text": [
      "/usr/local/lib/python3.11/dist-packages/scipy/sparse/_index.py:151: SparseEfficiencyWarning: Changing the sparsity structure of a csr_matrix is expensive. lil and dok are more efficient.\n",
      "  self._set_arrayXarray(i, j, x)\n"
     ]
    },
    {
     "output_type": "stream",
     "name": "stdout",
     "text": [
      "Iteraci\u00f3n 186: Convergi\u00f3 correctamente.\n",
      "Tiempo de ejecuci\u00f3n: 0.4782 segundos\n"
     ]
    },
    {
     "output_type": "stream",
     "name": "stderr",
     "text": [
      "/usr/local/lib/python3.11/dist-packages/scipy/sparse/_index.py:151: SparseEfficiencyWarning: Changing the sparsity structure of a csr_matrix is expensive. lil and dok are more efficient.\n",
      "  self._set_arrayXarray(i, j, x)\n"
     ]
    },
    {
     "output_type": "stream",
     "name": "stdout",
     "text": [
      "Iteraci\u00f3n 187: Convergi\u00f3 correctamente.\n",
      "Tiempo de ejecuci\u00f3n: 0.4127 segundos\n"
     ]
    },
    {
     "output_type": "stream",
     "name": "stderr",
     "text": [
      "/usr/local/lib/python3.11/dist-packages/scipy/sparse/_index.py:151: SparseEfficiencyWarning: Changing the sparsity structure of a csr_matrix is expensive. lil and dok are more efficient.\n",
      "  self._set_arrayXarray(i, j, x)\n"
     ]
    },
    {
     "output_type": "stream",
     "name": "stdout",
     "text": [
      "Iteraci\u00f3n 188: Convergi\u00f3 correctamente.\n",
      "Tiempo de ejecuci\u00f3n: 0.5576 segundos\n"
     ]
    },
    {
     "output_type": "stream",
     "name": "stderr",
     "text": [
      "/usr/local/lib/python3.11/dist-packages/scipy/sparse/_index.py:151: SparseEfficiencyWarning: Changing the sparsity structure of a csr_matrix is expensive. lil and dok are more efficient.\n",
      "  self._set_arrayXarray(i, j, x)\n"
     ]
    },
    {
     "output_type": "stream",
     "name": "stdout",
     "text": [
      "Iteraci\u00f3n 189: Convergi\u00f3 correctamente.\n",
      "Tiempo de ejecuci\u00f3n: 0.5150 segundos\n"
     ]
    },
    {
     "output_type": "stream",
     "name": "stderr",
     "text": [
      "/usr/local/lib/python3.11/dist-packages/scipy/sparse/_index.py:151: SparseEfficiencyWarning: Changing the sparsity structure of a csr_matrix is expensive. lil and dok are more efficient.\n",
      "  self._set_arrayXarray(i, j, x)\n"
     ]
    },
    {
     "output_type": "stream",
     "name": "stdout",
     "text": [
      "Iteraci\u00f3n 190: Convergi\u00f3 correctamente.\n",
      "Tiempo de ejecuci\u00f3n: 0.5565 segundos\n"
     ]
    },
    {
     "output_type": "stream",
     "name": "stderr",
     "text": [
      "/usr/local/lib/python3.11/dist-packages/scipy/sparse/_index.py:151: SparseEfficiencyWarning: Changing the sparsity structure of a csr_matrix is expensive. lil and dok are more efficient.\n",
      "  self._set_arrayXarray(i, j, x)\n"
     ]
    },
    {
     "output_type": "stream",
     "name": "stdout",
     "text": [
      "Iteraci\u00f3n 191: Convergi\u00f3 correctamente.\n",
      "Tiempo de ejecuci\u00f3n: 0.5287 segundos\n"
     ]
    },
    {
     "output_type": "stream",
     "name": "stderr",
     "text": [
      "/usr/local/lib/python3.11/dist-packages/scipy/sparse/_index.py:151: SparseEfficiencyWarning: Changing the sparsity structure of a csr_matrix is expensive. lil and dok are more efficient.\n",
      "  self._set_arrayXarray(i, j, x)\n"
     ]
    },
    {
     "output_type": "stream",
     "name": "stdout",
     "text": [
      "Iteraci\u00f3n 192: Convergi\u00f3 correctamente.\n",
      "Tiempo de ejecuci\u00f3n: 0.5605 segundos\n"
     ]
    },
    {
     "output_type": "stream",
     "name": "stderr",
     "text": [
      "/usr/local/lib/python3.11/dist-packages/scipy/sparse/_index.py:151: SparseEfficiencyWarning: Changing the sparsity structure of a csr_matrix is expensive. lil and dok are more efficient.\n",
      "  self._set_arrayXarray(i, j, x)\n"
     ]
    },
    {
     "output_type": "stream",
     "name": "stdout",
     "text": [
      "Iteraci\u00f3n 193: Convergi\u00f3 correctamente.\n",
      "Tiempo de ejecuci\u00f3n: 0.5210 segundos\n"
     ]
    },
    {
     "output_type": "stream",
     "name": "stderr",
     "text": [
      "/usr/local/lib/python3.11/dist-packages/scipy/sparse/_index.py:151: SparseEfficiencyWarning: Changing the sparsity structure of a csr_matrix is expensive. lil and dok are more efficient.\n",
      "  self._set_arrayXarray(i, j, x)\n"
     ]
    },
    {
     "output_type": "stream",
     "name": "stdout",
     "text": [
      "Iteraci\u00f3n 194: Convergi\u00f3 correctamente.\n",
      "Tiempo de ejecuci\u00f3n: 0.4989 segundos\n"
     ]
    },
    {
     "output_type": "stream",
     "name": "stderr",
     "text": [
      "/usr/local/lib/python3.11/dist-packages/scipy/sparse/_index.py:151: SparseEfficiencyWarning: Changing the sparsity structure of a csr_matrix is expensive. lil and dok are more efficient.\n",
      "  self._set_arrayXarray(i, j, x)\n"
     ]
    },
    {
     "output_type": "stream",
     "name": "stdout",
     "text": [
      "Iteraci\u00f3n 195: Convergi\u00f3 correctamente.\n",
      "Tiempo de ejecuci\u00f3n: 0.5456 segundos\n"
     ]
    },
    {
     "output_type": "stream",
     "name": "stderr",
     "text": [
      "/usr/local/lib/python3.11/dist-packages/scipy/sparse/_index.py:151: SparseEfficiencyWarning: Changing the sparsity structure of a csr_matrix is expensive. lil and dok are more efficient.\n",
      "  self._set_arrayXarray(i, j, x)\n"
     ]
    },
    {
     "output_type": "stream",
     "name": "stdout",
     "text": [
      "Iteraci\u00f3n 196: Convergi\u00f3 correctamente.\n",
      "Tiempo de ejecuci\u00f3n: 0.5103 segundos\n"
     ]
    },
    {
     "output_type": "stream",
     "name": "stderr",
     "text": [
      "/usr/local/lib/python3.11/dist-packages/scipy/sparse/_index.py:151: SparseEfficiencyWarning: Changing the sparsity structure of a csr_matrix is expensive. lil and dok are more efficient.\n",
      "  self._set_arrayXarray(i, j, x)\n"
     ]
    },
    {
     "output_type": "stream",
     "name": "stdout",
     "text": [
      "Iteraci\u00f3n 197: Convergi\u00f3 correctamente.\n",
      "Tiempo de ejecuci\u00f3n: 0.5539 segundos\n"
     ]
    },
    {
     "output_type": "stream",
     "name": "stderr",
     "text": [
      "/usr/local/lib/python3.11/dist-packages/scipy/sparse/_index.py:151: SparseEfficiencyWarning: Changing the sparsity structure of a csr_matrix is expensive. lil and dok are more efficient.\n",
      "  self._set_arrayXarray(i, j, x)\n"
     ]
    },
    {
     "output_type": "stream",
     "name": "stdout",
     "text": [
      "Iteraci\u00f3n 198: Convergi\u00f3 correctamente.\n",
      "Tiempo de ejecuci\u00f3n: 0.5803 segundos\n"
     ]
    },
    {
     "output_type": "stream",
     "name": "stderr",
     "text": [
      "/usr/local/lib/python3.11/dist-packages/scipy/sparse/_index.py:151: SparseEfficiencyWarning: Changing the sparsity structure of a csr_matrix is expensive. lil and dok are more efficient.\n",
      "  self._set_arrayXarray(i, j, x)\n"
     ]
    },
    {
     "output_type": "stream",
     "name": "stdout",
     "text": [
      "Iteraci\u00f3n 199: Convergi\u00f3 correctamente.\n",
      "Tiempo de ejecuci\u00f3n: 0.5543 segundos\n"
     ]
    },
    {
     "output_type": "stream",
     "name": "stderr",
     "text": [
      "/usr/local/lib/python3.11/dist-packages/scipy/sparse/_index.py:151: SparseEfficiencyWarning: Changing the sparsity structure of a csr_matrix is expensive. lil and dok are more efficient.\n",
      "  self._set_arrayXarray(i, j, x)\n",
      "<ipython-input-5-e9ab6229a877>:57: SparseEfficiencyWarning: spilu converted its input to CSC format\n",
      "  ilu = spilu(sistema_sparse)\n"
     ]
    },
    {
     "output_type": "stream",
     "name": "stdout",
     "text": [
      "Iteraci\u00f3n 200: Convergi\u00f3 correctamente.\n",
      "Tiempo de ejecuci\u00f3n: 3.1324 segundos\n"
     ]
    },
    {
     "output_type": "stream",
     "name": "stderr",
     "text": [
      "/usr/local/lib/python3.11/dist-packages/scipy/sparse/_index.py:151: SparseEfficiencyWarning: Changing the sparsity structure of a csr_matrix is expensive. lil and dok are more efficient.\n",
      "  self._set_arrayXarray(i, j, x)\n"
     ]
    },
    {
     "output_type": "stream",
     "name": "stdout",
     "text": [
      "Iteraci\u00f3n 201: Convergi\u00f3 correctamente.\n",
      "Tiempo de ejecuci\u00f3n: 0.4150 segundos\n"
     ]
    },
    {
     "output_type": "stream",
     "name": "stderr",
     "text": [
      "/usr/local/lib/python3.11/dist-packages/scipy/sparse/_index.py:151: SparseEfficiencyWarning: Changing the sparsity structure of a csr_matrix is expensive. lil and dok are more efficient.\n",
      "  self._set_arrayXarray(i, j, x)\n"
     ]
    },
    {
     "output_type": "stream",
     "name": "stdout",
     "text": [
      "Iteraci\u00f3n 202: Convergi\u00f3 correctamente.\n",
      "Tiempo de ejecuci\u00f3n: 0.4206 segundos\n"
     ]
    },
    {
     "output_type": "stream",
     "name": "stderr",
     "text": [
      "/usr/local/lib/python3.11/dist-packages/scipy/sparse/_index.py:151: SparseEfficiencyWarning: Changing the sparsity structure of a csr_matrix is expensive. lil and dok are more efficient.\n",
      "  self._set_arrayXarray(i, j, x)\n"
     ]
    },
    {
     "output_type": "stream",
     "name": "stdout",
     "text": [
      "Iteraci\u00f3n 203: Convergi\u00f3 correctamente.\n",
      "Tiempo de ejecuci\u00f3n: 0.4118 segundos\n"
     ]
    },
    {
     "output_type": "stream",
     "name": "stderr",
     "text": [
      "/usr/local/lib/python3.11/dist-packages/scipy/sparse/_index.py:151: SparseEfficiencyWarning: Changing the sparsity structure of a csr_matrix is expensive. lil and dok are more efficient.\n",
      "  self._set_arrayXarray(i, j, x)\n"
     ]
    },
    {
     "output_type": "stream",
     "name": "stdout",
     "text": [
      "Iteraci\u00f3n 204: Convergi\u00f3 correctamente.\n",
      "Tiempo de ejecuci\u00f3n: 0.4206 segundos\n"
     ]
    },
    {
     "output_type": "stream",
     "name": "stderr",
     "text": [
      "/usr/local/lib/python3.11/dist-packages/scipy/sparse/_index.py:151: SparseEfficiencyWarning: Changing the sparsity structure of a csr_matrix is expensive. lil and dok are more efficient.\n",
      "  self._set_arrayXarray(i, j, x)\n"
     ]
    },
    {
     "output_type": "stream",
     "name": "stdout",
     "text": [
      "Iteraci\u00f3n 205: Convergi\u00f3 correctamente.\n",
      "Tiempo de ejecuci\u00f3n: 0.4360 segundos\n"
     ]
    },
    {
     "output_type": "stream",
     "name": "stderr",
     "text": [
      "/usr/local/lib/python3.11/dist-packages/scipy/sparse/_index.py:151: SparseEfficiencyWarning: Changing the sparsity structure of a csr_matrix is expensive. lil and dok are more efficient.\n",
      "  self._set_arrayXarray(i, j, x)\n"
     ]
    },
    {
     "output_type": "stream",
     "name": "stdout",
     "text": [
      "Iteraci\u00f3n 206: Convergi\u00f3 correctamente.\n",
      "Tiempo de ejecuci\u00f3n: 0.4321 segundos\n"
     ]
    },
    {
     "output_type": "stream",
     "name": "stderr",
     "text": [
      "/usr/local/lib/python3.11/dist-packages/scipy/sparse/_index.py:151: SparseEfficiencyWarning: Changing the sparsity structure of a csr_matrix is expensive. lil and dok are more efficient.\n",
      "  self._set_arrayXarray(i, j, x)\n"
     ]
    },
    {
     "output_type": "stream",
     "name": "stdout",
     "text": [
      "Iteraci\u00f3n 207: Convergi\u00f3 correctamente.\n",
      "Tiempo de ejecuci\u00f3n: 0.4403 segundos\n"
     ]
    },
    {
     "output_type": "stream",
     "name": "stderr",
     "text": [
      "/usr/local/lib/python3.11/dist-packages/scipy/sparse/_index.py:151: SparseEfficiencyWarning: Changing the sparsity structure of a csr_matrix is expensive. lil and dok are more efficient.\n",
      "  self._set_arrayXarray(i, j, x)\n"
     ]
    },
    {
     "output_type": "stream",
     "name": "stdout",
     "text": [
      "Iteraci\u00f3n 208: Convergi\u00f3 correctamente.\n",
      "Tiempo de ejecuci\u00f3n: 0.4703 segundos\n"
     ]
    },
    {
     "output_type": "stream",
     "name": "stderr",
     "text": [
      "/usr/local/lib/python3.11/dist-packages/scipy/sparse/_index.py:151: SparseEfficiencyWarning: Changing the sparsity structure of a csr_matrix is expensive. lil and dok are more efficient.\n",
      "  self._set_arrayXarray(i, j, x)\n"
     ]
    },
    {
     "output_type": "stream",
     "name": "stdout",
     "text": [
      "Iteraci\u00f3n 209: Convergi\u00f3 correctamente.\n",
      "Tiempo de ejecuci\u00f3n: 0.4420 segundos\n"
     ]
    },
    {
     "output_type": "stream",
     "name": "stderr",
     "text": [
      "/usr/local/lib/python3.11/dist-packages/scipy/sparse/_index.py:151: SparseEfficiencyWarning: Changing the sparsity structure of a csr_matrix is expensive. lil and dok are more efficient.\n",
      "  self._set_arrayXarray(i, j, x)\n"
     ]
    },
    {
     "output_type": "stream",
     "name": "stdout",
     "text": [
      "Iteraci\u00f3n 210: Convergi\u00f3 correctamente.\n",
      "Tiempo de ejecuci\u00f3n: 0.4737 segundos\n"
     ]
    },
    {
     "output_type": "stream",
     "name": "stderr",
     "text": [
      "/usr/local/lib/python3.11/dist-packages/scipy/sparse/_index.py:151: SparseEfficiencyWarning: Changing the sparsity structure of a csr_matrix is expensive. lil and dok are more efficient.\n",
      "  self._set_arrayXarray(i, j, x)\n"
     ]
    },
    {
     "output_type": "stream",
     "name": "stdout",
     "text": [
      "Iteraci\u00f3n 211: Convergi\u00f3 correctamente.\n",
      "Tiempo de ejecuci\u00f3n: 0.4288 segundos\n"
     ]
    },
    {
     "output_type": "stream",
     "name": "stderr",
     "text": [
      "/usr/local/lib/python3.11/dist-packages/scipy/sparse/_index.py:151: SparseEfficiencyWarning: Changing the sparsity structure of a csr_matrix is expensive. lil and dok are more efficient.\n",
      "  self._set_arrayXarray(i, j, x)\n"
     ]
    },
    {
     "output_type": "stream",
     "name": "stdout",
     "text": [
      "Iteraci\u00f3n 212: Convergi\u00f3 correctamente.\n",
      "Tiempo de ejecuci\u00f3n: 0.4515 segundos\n"
     ]
    },
    {
     "output_type": "stream",
     "name": "stderr",
     "text": [
      "/usr/local/lib/python3.11/dist-packages/scipy/sparse/_index.py:151: SparseEfficiencyWarning: Changing the sparsity structure of a csr_matrix is expensive. lil and dok are more efficient.\n",
      "  self._set_arrayXarray(i, j, x)\n"
     ]
    },
    {
     "output_type": "stream",
     "name": "stdout",
     "text": [
      "Iteraci\u00f3n 213: Convergi\u00f3 correctamente.\n",
      "Tiempo de ejecuci\u00f3n: 0.5138 segundos\n"
     ]
    },
    {
     "output_type": "stream",
     "name": "stderr",
     "text": [
      "/usr/local/lib/python3.11/dist-packages/scipy/sparse/_index.py:151: SparseEfficiencyWarning: Changing the sparsity structure of a csr_matrix is expensive. lil and dok are more efficient.\n",
      "  self._set_arrayXarray(i, j, x)\n"
     ]
    },
    {
     "output_type": "stream",
     "name": "stdout",
     "text": [
      "Iteraci\u00f3n 214: Convergi\u00f3 correctamente.\n",
      "Tiempo de ejecuci\u00f3n: 0.4011 segundos\n"
     ]
    },
    {
     "output_type": "stream",
     "name": "stderr",
     "text": [
      "/usr/local/lib/python3.11/dist-packages/scipy/sparse/_index.py:151: SparseEfficiencyWarning: Changing the sparsity structure of a csr_matrix is expensive. lil and dok are more efficient.\n",
      "  self._set_arrayXarray(i, j, x)\n"
     ]
    },
    {
     "output_type": "stream",
     "name": "stdout",
     "text": [
      "Iteraci\u00f3n 215: Convergi\u00f3 correctamente.\n",
      "Tiempo de ejecuci\u00f3n: 0.4677 segundos\n"
     ]
    },
    {
     "output_type": "stream",
     "name": "stderr",
     "text": [
      "/usr/local/lib/python3.11/dist-packages/scipy/sparse/_index.py:151: SparseEfficiencyWarning: Changing the sparsity structure of a csr_matrix is expensive. lil and dok are more efficient.\n",
      "  self._set_arrayXarray(i, j, x)\n"
     ]
    },
    {
     "output_type": "stream",
     "name": "stdout",
     "text": [
      "Iteraci\u00f3n 216: Convergi\u00f3 correctamente.\n",
      "Tiempo de ejecuci\u00f3n: 0.4474 segundos\n"
     ]
    },
    {
     "output_type": "stream",
     "name": "stderr",
     "text": [
      "/usr/local/lib/python3.11/dist-packages/scipy/sparse/_index.py:151: SparseEfficiencyWarning: Changing the sparsity structure of a csr_matrix is expensive. lil and dok are more efficient.\n",
      "  self._set_arrayXarray(i, j, x)\n"
     ]
    },
    {
     "output_type": "stream",
     "name": "stdout",
     "text": [
      "Iteraci\u00f3n 217: Convergi\u00f3 correctamente.\n",
      "Tiempo de ejecuci\u00f3n: 0.4499 segundos\n"
     ]
    },
    {
     "output_type": "stream",
     "name": "stderr",
     "text": [
      "/usr/local/lib/python3.11/dist-packages/scipy/sparse/_index.py:151: SparseEfficiencyWarning: Changing the sparsity structure of a csr_matrix is expensive. lil and dok are more efficient.\n",
      "  self._set_arrayXarray(i, j, x)\n"
     ]
    },
    {
     "output_type": "stream",
     "name": "stdout",
     "text": [
      "Iteraci\u00f3n 218: Convergi\u00f3 correctamente.\n",
      "Tiempo de ejecuci\u00f3n: 0.4819 segundos\n"
     ]
    },
    {
     "output_type": "stream",
     "name": "stderr",
     "text": [
      "/usr/local/lib/python3.11/dist-packages/scipy/sparse/_index.py:151: SparseEfficiencyWarning: Changing the sparsity structure of a csr_matrix is expensive. lil and dok are more efficient.\n",
      "  self._set_arrayXarray(i, j, x)\n"
     ]
    },
    {
     "output_type": "stream",
     "name": "stdout",
     "text": [
      "Iteraci\u00f3n 219: Convergi\u00f3 correctamente.\n",
      "Tiempo de ejecuci\u00f3n: 0.4627 segundos\n"
     ]
    },
    {
     "output_type": "stream",
     "name": "stderr",
     "text": [
      "/usr/local/lib/python3.11/dist-packages/scipy/sparse/_index.py:151: SparseEfficiencyWarning: Changing the sparsity structure of a csr_matrix is expensive. lil and dok are more efficient.\n",
      "  self._set_arrayXarray(i, j, x)\n"
     ]
    },
    {
     "output_type": "stream",
     "name": "stdout",
     "text": [
      "Iteraci\u00f3n 220: Convergi\u00f3 correctamente.\n",
      "Tiempo de ejecuci\u00f3n: 0.6973 segundos\n"
     ]
    },
    {
     "output_type": "stream",
     "name": "stderr",
     "text": [
      "/usr/local/lib/python3.11/dist-packages/scipy/sparse/_index.py:151: SparseEfficiencyWarning: Changing the sparsity structure of a csr_matrix is expensive. lil and dok are more efficient.\n",
      "  self._set_arrayXarray(i, j, x)\n"
     ]
    },
    {
     "output_type": "stream",
     "name": "stdout",
     "text": [
      "Iteraci\u00f3n 221: Convergi\u00f3 correctamente.\n",
      "Tiempo de ejecuci\u00f3n: 0.6772 segundos\n"
     ]
    },
    {
     "output_type": "stream",
     "name": "stderr",
     "text": [
      "/usr/local/lib/python3.11/dist-packages/scipy/sparse/_index.py:151: SparseEfficiencyWarning: Changing the sparsity structure of a csr_matrix is expensive. lil and dok are more efficient.\n",
      "  self._set_arrayXarray(i, j, x)\n"
     ]
    },
    {
     "output_type": "stream",
     "name": "stdout",
     "text": [
      "Iteraci\u00f3n 222: Convergi\u00f3 correctamente.\n",
      "Tiempo de ejecuci\u00f3n: 0.6381 segundos\n"
     ]
    },
    {
     "output_type": "stream",
     "name": "stderr",
     "text": [
      "/usr/local/lib/python3.11/dist-packages/scipy/sparse/_index.py:151: SparseEfficiencyWarning: Changing the sparsity structure of a csr_matrix is expensive. lil and dok are more efficient.\n",
      "  self._set_arrayXarray(i, j, x)\n"
     ]
    },
    {
     "output_type": "stream",
     "name": "stdout",
     "text": [
      "Iteraci\u00f3n 223: Convergi\u00f3 correctamente.\n",
      "Tiempo de ejecuci\u00f3n: 0.4536 segundos\n"
     ]
    },
    {
     "output_type": "stream",
     "name": "stderr",
     "text": [
      "/usr/local/lib/python3.11/dist-packages/scipy/sparse/_index.py:151: SparseEfficiencyWarning: Changing the sparsity structure of a csr_matrix is expensive. lil and dok are more efficient.\n",
      "  self._set_arrayXarray(i, j, x)\n"
     ]
    },
    {
     "output_type": "stream",
     "name": "stdout",
     "text": [
      "Iteraci\u00f3n 224: Convergi\u00f3 correctamente.\n",
      "Tiempo de ejecuci\u00f3n: 0.4144 segundos\n"
     ]
    },
    {
     "output_type": "stream",
     "name": "stderr",
     "text": [
      "/usr/local/lib/python3.11/dist-packages/scipy/sparse/_index.py:151: SparseEfficiencyWarning: Changing the sparsity structure of a csr_matrix is expensive. lil and dok are more efficient.\n",
      "  self._set_arrayXarray(i, j, x)\n"
     ]
    },
    {
     "output_type": "stream",
     "name": "stdout",
     "text": [
      "Iteraci\u00f3n 225: Convergi\u00f3 correctamente.\n",
      "Tiempo de ejecuci\u00f3n: 0.4700 segundos\n"
     ]
    },
    {
     "output_type": "stream",
     "name": "stderr",
     "text": [
      "/usr/local/lib/python3.11/dist-packages/scipy/sparse/_index.py:151: SparseEfficiencyWarning: Changing the sparsity structure of a csr_matrix is expensive. lil and dok are more efficient.\n",
      "  self._set_arrayXarray(i, j, x)\n"
     ]
    },
    {
     "output_type": "stream",
     "name": "stdout",
     "text": [
      "Iteraci\u00f3n 226: Convergi\u00f3 correctamente.\n",
      "Tiempo de ejecuci\u00f3n: 0.4933 segundos\n"
     ]
    },
    {
     "output_type": "stream",
     "name": "stderr",
     "text": [
      "/usr/local/lib/python3.11/dist-packages/scipy/sparse/_index.py:151: SparseEfficiencyWarning: Changing the sparsity structure of a csr_matrix is expensive. lil and dok are more efficient.\n",
      "  self._set_arrayXarray(i, j, x)\n"
     ]
    },
    {
     "output_type": "stream",
     "name": "stdout",
     "text": [
      "Iteraci\u00f3n 227: Convergi\u00f3 correctamente.\n",
      "Tiempo de ejecuci\u00f3n: 0.4945 segundos\n"
     ]
    },
    {
     "output_type": "stream",
     "name": "stderr",
     "text": [
      "/usr/local/lib/python3.11/dist-packages/scipy/sparse/_index.py:151: SparseEfficiencyWarning: Changing the sparsity structure of a csr_matrix is expensive. lil and dok are more efficient.\n",
      "  self._set_arrayXarray(i, j, x)\n"
     ]
    },
    {
     "output_type": "stream",
     "name": "stdout",
     "text": [
      "Iteraci\u00f3n 228: Convergi\u00f3 correctamente.\n",
      "Tiempo de ejecuci\u00f3n: 0.4935 segundos\n"
     ]
    },
    {
     "output_type": "stream",
     "name": "stderr",
     "text": [
      "/usr/local/lib/python3.11/dist-packages/scipy/sparse/_index.py:151: SparseEfficiencyWarning: Changing the sparsity structure of a csr_matrix is expensive. lil and dok are more efficient.\n",
      "  self._set_arrayXarray(i, j, x)\n"
     ]
    },
    {
     "output_type": "stream",
     "name": "stdout",
     "text": [
      "Iteraci\u00f3n 229: Convergi\u00f3 correctamente.\n",
      "Tiempo de ejecuci\u00f3n: 0.4788 segundos\n"
     ]
    },
    {
     "output_type": "stream",
     "name": "stderr",
     "text": [
      "/usr/local/lib/python3.11/dist-packages/scipy/sparse/_index.py:151: SparseEfficiencyWarning: Changing the sparsity structure of a csr_matrix is expensive. lil and dok are more efficient.\n",
      "  self._set_arrayXarray(i, j, x)\n"
     ]
    },
    {
     "output_type": "stream",
     "name": "stdout",
     "text": [
      "Iteraci\u00f3n 230: Convergi\u00f3 correctamente.\n",
      "Tiempo de ejecuci\u00f3n: 0.5410 segundos\n"
     ]
    },
    {
     "output_type": "stream",
     "name": "stderr",
     "text": [
      "/usr/local/lib/python3.11/dist-packages/scipy/sparse/_index.py:151: SparseEfficiencyWarning: Changing the sparsity structure of a csr_matrix is expensive. lil and dok are more efficient.\n",
      "  self._set_arrayXarray(i, j, x)\n"
     ]
    },
    {
     "output_type": "stream",
     "name": "stdout",
     "text": [
      "Iteraci\u00f3n 231: Convergi\u00f3 correctamente.\n",
      "Tiempo de ejecuci\u00f3n: 0.4710 segundos\n"
     ]
    },
    {
     "output_type": "stream",
     "name": "stderr",
     "text": [
      "/usr/local/lib/python3.11/dist-packages/scipy/sparse/_index.py:151: SparseEfficiencyWarning: Changing the sparsity structure of a csr_matrix is expensive. lil and dok are more efficient.\n",
      "  self._set_arrayXarray(i, j, x)\n"
     ]
    },
    {
     "output_type": "stream",
     "name": "stdout",
     "text": [
      "Iteraci\u00f3n 232: Convergi\u00f3 correctamente.\n",
      "Tiempo de ejecuci\u00f3n: 0.5535 segundos\n"
     ]
    },
    {
     "output_type": "stream",
     "name": "stderr",
     "text": [
      "/usr/local/lib/python3.11/dist-packages/scipy/sparse/_index.py:151: SparseEfficiencyWarning: Changing the sparsity structure of a csr_matrix is expensive. lil and dok are more efficient.\n",
      "  self._set_arrayXarray(i, j, x)\n"
     ]
    },
    {
     "output_type": "stream",
     "name": "stdout",
     "text": [
      "Iteraci\u00f3n 233: Convergi\u00f3 correctamente.\n",
      "Tiempo de ejecuci\u00f3n: 0.4998 segundos\n"
     ]
    },
    {
     "output_type": "stream",
     "name": "stderr",
     "text": [
      "/usr/local/lib/python3.11/dist-packages/scipy/sparse/_index.py:151: SparseEfficiencyWarning: Changing the sparsity structure of a csr_matrix is expensive. lil and dok are more efficient.\n",
      "  self._set_arrayXarray(i, j, x)\n"
     ]
    },
    {
     "output_type": "stream",
     "name": "stdout",
     "text": [
      "Iteraci\u00f3n 234: Convergi\u00f3 correctamente.\n",
      "Tiempo de ejecuci\u00f3n: 0.4942 segundos\n"
     ]
    },
    {
     "output_type": "stream",
     "name": "stderr",
     "text": [
      "/usr/local/lib/python3.11/dist-packages/scipy/sparse/_index.py:151: SparseEfficiencyWarning: Changing the sparsity structure of a csr_matrix is expensive. lil and dok are more efficient.\n",
      "  self._set_arrayXarray(i, j, x)\n"
     ]
    },
    {
     "output_type": "stream",
     "name": "stdout",
     "text": [
      "Iteraci\u00f3n 235: Convergi\u00f3 correctamente.\n",
      "Tiempo de ejecuci\u00f3n: 0.5142 segundos\n"
     ]
    },
    {
     "output_type": "stream",
     "name": "stderr",
     "text": [
      "/usr/local/lib/python3.11/dist-packages/scipy/sparse/_index.py:151: SparseEfficiencyWarning: Changing the sparsity structure of a csr_matrix is expensive. lil and dok are more efficient.\n",
      "  self._set_arrayXarray(i, j, x)\n"
     ]
    },
    {
     "output_type": "stream",
     "name": "stdout",
     "text": [
      "Iteraci\u00f3n 236: Convergi\u00f3 correctamente.\n",
      "Tiempo de ejecuci\u00f3n: 0.5073 segundos\n"
     ]
    },
    {
     "output_type": "stream",
     "name": "stderr",
     "text": [
      "/usr/local/lib/python3.11/dist-packages/scipy/sparse/_index.py:151: SparseEfficiencyWarning: Changing the sparsity structure of a csr_matrix is expensive. lil and dok are more efficient.\n",
      "  self._set_arrayXarray(i, j, x)\n"
     ]
    },
    {
     "output_type": "stream",
     "name": "stdout",
     "text": [
      "Iteraci\u00f3n 237: Convergi\u00f3 correctamente.\n",
      "Tiempo de ejecuci\u00f3n: 0.4799 segundos\n"
     ]
    },
    {
     "output_type": "stream",
     "name": "stderr",
     "text": [
      "/usr/local/lib/python3.11/dist-packages/scipy/sparse/_index.py:151: SparseEfficiencyWarning: Changing the sparsity structure of a csr_matrix is expensive. lil and dok are more efficient.\n",
      "  self._set_arrayXarray(i, j, x)\n"
     ]
    },
    {
     "output_type": "stream",
     "name": "stdout",
     "text": [
      "Iteraci\u00f3n 238: Convergi\u00f3 correctamente.\n",
      "Tiempo de ejecuci\u00f3n: 0.5538 segundos\n"
     ]
    },
    {
     "output_type": "stream",
     "name": "stderr",
     "text": [
      "/usr/local/lib/python3.11/dist-packages/scipy/sparse/_index.py:151: SparseEfficiencyWarning: Changing the sparsity structure of a csr_matrix is expensive. lil and dok are more efficient.\n",
      "  self._set_arrayXarray(i, j, x)\n"
     ]
    },
    {
     "output_type": "stream",
     "name": "stdout",
     "text": [
      "Iteraci\u00f3n 239: Convergi\u00f3 correctamente.\n",
      "Tiempo de ejecuci\u00f3n: 0.5662 segundos\n"
     ]
    },
    {
     "output_type": "stream",
     "name": "stderr",
     "text": [
      "/usr/local/lib/python3.11/dist-packages/scipy/sparse/_index.py:151: SparseEfficiencyWarning: Changing the sparsity structure of a csr_matrix is expensive. lil and dok are more efficient.\n",
      "  self._set_arrayXarray(i, j, x)\n"
     ]
    },
    {
     "output_type": "stream",
     "name": "stdout",
     "text": [
      "Iteraci\u00f3n 240: Convergi\u00f3 correctamente.\n",
      "Tiempo de ejecuci\u00f3n: 0.4807 segundos\n"
     ]
    },
    {
     "output_type": "stream",
     "name": "stderr",
     "text": [
      "/usr/local/lib/python3.11/dist-packages/scipy/sparse/_index.py:151: SparseEfficiencyWarning: Changing the sparsity structure of a csr_matrix is expensive. lil and dok are more efficient.\n",
      "  self._set_arrayXarray(i, j, x)\n"
     ]
    },
    {
     "output_type": "stream",
     "name": "stdout",
     "text": [
      "Iteraci\u00f3n 241: Convergi\u00f3 correctamente.\n",
      "Tiempo de ejecuci\u00f3n: 0.5477 segundos\n"
     ]
    },
    {
     "output_type": "stream",
     "name": "stderr",
     "text": [
      "/usr/local/lib/python3.11/dist-packages/scipy/sparse/_index.py:151: SparseEfficiencyWarning: Changing the sparsity structure of a csr_matrix is expensive. lil and dok are more efficient.\n",
      "  self._set_arrayXarray(i, j, x)\n"
     ]
    },
    {
     "output_type": "stream",
     "name": "stdout",
     "text": [
      "Iteraci\u00f3n 242: Convergi\u00f3 correctamente.\n",
      "Tiempo de ejecuci\u00f3n: 0.5202 segundos\n"
     ]
    },
    {
     "output_type": "stream",
     "name": "stderr",
     "text": [
      "/usr/local/lib/python3.11/dist-packages/scipy/sparse/_index.py:151: SparseEfficiencyWarning: Changing the sparsity structure of a csr_matrix is expensive. lil and dok are more efficient.\n",
      "  self._set_arrayXarray(i, j, x)\n"
     ]
    },
    {
     "output_type": "stream",
     "name": "stdout",
     "text": [
      "Iteraci\u00f3n 243: Convergi\u00f3 correctamente.\n",
      "Tiempo de ejecuci\u00f3n: 0.9327 segundos\n"
     ]
    },
    {
     "output_type": "stream",
     "name": "stderr",
     "text": [
      "/usr/local/lib/python3.11/dist-packages/scipy/sparse/_index.py:151: SparseEfficiencyWarning: Changing the sparsity structure of a csr_matrix is expensive. lil and dok are more efficient.\n",
      "  self._set_arrayXarray(i, j, x)\n"
     ]
    },
    {
     "output_type": "stream",
     "name": "stdout",
     "text": [
      "Iteraci\u00f3n 244: Convergi\u00f3 correctamente.\n",
      "Tiempo de ejecuci\u00f3n: 0.7431 segundos\n"
     ]
    },
    {
     "output_type": "stream",
     "name": "stderr",
     "text": [
      "/usr/local/lib/python3.11/dist-packages/scipy/sparse/_index.py:151: SparseEfficiencyWarning: Changing the sparsity structure of a csr_matrix is expensive. lil and dok are more efficient.\n",
      "  self._set_arrayXarray(i, j, x)\n"
     ]
    },
    {
     "output_type": "stream",
     "name": "stdout",
     "text": [
      "Iteraci\u00f3n 245: Convergi\u00f3 correctamente.\n",
      "Tiempo de ejecuci\u00f3n: 0.4824 segundos\n"
     ]
    },
    {
     "output_type": "stream",
     "name": "stderr",
     "text": [
      "/usr/local/lib/python3.11/dist-packages/scipy/sparse/_index.py:151: SparseEfficiencyWarning: Changing the sparsity structure of a csr_matrix is expensive. lil and dok are more efficient.\n",
      "  self._set_arrayXarray(i, j, x)\n"
     ]
    },
    {
     "output_type": "stream",
     "name": "stdout",
     "text": [
      "Iteraci\u00f3n 246: Convergi\u00f3 correctamente.\n",
      "Tiempo de ejecuci\u00f3n: 0.5808 segundos\n"
     ]
    },
    {
     "output_type": "stream",
     "name": "stderr",
     "text": [
      "/usr/local/lib/python3.11/dist-packages/scipy/sparse/_index.py:151: SparseEfficiencyWarning: Changing the sparsity structure of a csr_matrix is expensive. lil and dok are more efficient.\n",
      "  self._set_arrayXarray(i, j, x)\n"
     ]
    },
    {
     "output_type": "stream",
     "name": "stdout",
     "text": [
      "Iteraci\u00f3n 247: Convergi\u00f3 correctamente.\n",
      "Tiempo de ejecuci\u00f3n: 0.5548 segundos\n"
     ]
    },
    {
     "output_type": "stream",
     "name": "stderr",
     "text": [
      "/usr/local/lib/python3.11/dist-packages/scipy/sparse/_index.py:151: SparseEfficiencyWarning: Changing the sparsity structure of a csr_matrix is expensive. lil and dok are more efficient.\n",
      "  self._set_arrayXarray(i, j, x)\n"
     ]
    },
    {
     "output_type": "stream",
     "name": "stdout",
     "text": [
      "Iteraci\u00f3n 248: Convergi\u00f3 correctamente.\n",
      "Tiempo de ejecuci\u00f3n: 0.5168 segundos\n"
     ]
    },
    {
     "output_type": "stream",
     "name": "stderr",
     "text": [
      "/usr/local/lib/python3.11/dist-packages/scipy/sparse/_index.py:151: SparseEfficiencyWarning: Changing the sparsity structure of a csr_matrix is expensive. lil and dok are more efficient.\n",
      "  self._set_arrayXarray(i, j, x)\n"
     ]
    },
    {
     "output_type": "stream",
     "name": "stdout",
     "text": [
      "Iteraci\u00f3n 249: Convergi\u00f3 correctamente.\n",
      "Tiempo de ejecuci\u00f3n: 0.5815 segundos\n"
     ]
    },
    {
     "output_type": "stream",
     "name": "stderr",
     "text": [
      "/usr/local/lib/python3.11/dist-packages/scipy/sparse/_index.py:151: SparseEfficiencyWarning: Changing the sparsity structure of a csr_matrix is expensive. lil and dok are more efficient.\n",
      "  self._set_arrayXarray(i, j, x)\n",
      "<ipython-input-5-e9ab6229a877>:57: SparseEfficiencyWarning: spilu converted its input to CSC format\n",
      "  ilu = spilu(sistema_sparse)\n"
     ]
    },
    {
     "output_type": "stream",
     "name": "stdout",
     "text": [
      "Iteraci\u00f3n 250: Convergi\u00f3 correctamente.\n",
      "Tiempo de ejecuci\u00f3n: 2.6631 segundos\n"
     ]
    },
    {
     "output_type": "stream",
     "name": "stderr",
     "text": [
      "/usr/local/lib/python3.11/dist-packages/scipy/sparse/_index.py:151: SparseEfficiencyWarning: Changing the sparsity structure of a csr_matrix is expensive. lil and dok are more efficient.\n",
      "  self._set_arrayXarray(i, j, x)\n"
     ]
    },
    {
     "output_type": "stream",
     "name": "stdout",
     "text": [
      "Iteraci\u00f3n 251: Convergi\u00f3 correctamente.\n",
      "Tiempo de ejecuci\u00f3n: 0.4285 segundos\n"
     ]
    },
    {
     "output_type": "stream",
     "name": "stderr",
     "text": [
      "/usr/local/lib/python3.11/dist-packages/scipy/sparse/_index.py:151: SparseEfficiencyWarning: Changing the sparsity structure of a csr_matrix is expensive. lil and dok are more efficient.\n",
      "  self._set_arrayXarray(i, j, x)\n"
     ]
    },
    {
     "output_type": "stream",
     "name": "stdout",
     "text": [
      "Iteraci\u00f3n 252: Convergi\u00f3 correctamente.\n",
      "Tiempo de ejecuci\u00f3n: 0.4125 segundos\n"
     ]
    },
    {
     "output_type": "stream",
     "name": "stderr",
     "text": [
      "/usr/local/lib/python3.11/dist-packages/scipy/sparse/_index.py:151: SparseEfficiencyWarning: Changing the sparsity structure of a csr_matrix is expensive. lil and dok are more efficient.\n",
      "  self._set_arrayXarray(i, j, x)\n"
     ]
    },
    {
     "output_type": "stream",
     "name": "stdout",
     "text": [
      "Iteraci\u00f3n 253: Convergi\u00f3 correctamente.\n",
      "Tiempo de ejecuci\u00f3n: 0.4490 segundos\n"
     ]
    },
    {
     "output_type": "stream",
     "name": "stderr",
     "text": [
      "/usr/local/lib/python3.11/dist-packages/scipy/sparse/_index.py:151: SparseEfficiencyWarning: Changing the sparsity structure of a csr_matrix is expensive. lil and dok are more efficient.\n",
      "  self._set_arrayXarray(i, j, x)\n"
     ]
    },
    {
     "output_type": "stream",
     "name": "stdout",
     "text": [
      "Iteraci\u00f3n 254: Convergi\u00f3 correctamente.\n",
      "Tiempo de ejecuci\u00f3n: 0.4374 segundos\n"
     ]
    },
    {
     "output_type": "stream",
     "name": "stderr",
     "text": [
      "/usr/local/lib/python3.11/dist-packages/scipy/sparse/_index.py:151: SparseEfficiencyWarning: Changing the sparsity structure of a csr_matrix is expensive. lil and dok are more efficient.\n",
      "  self._set_arrayXarray(i, j, x)\n"
     ]
    },
    {
     "output_type": "stream",
     "name": "stdout",
     "text": [
      "Iteraci\u00f3n 255: Convergi\u00f3 correctamente.\n",
      "Tiempo de ejecuci\u00f3n: 0.4357 segundos\n"
     ]
    },
    {
     "output_type": "stream",
     "name": "stderr",
     "text": [
      "/usr/local/lib/python3.11/dist-packages/scipy/sparse/_index.py:151: SparseEfficiencyWarning: Changing the sparsity structure of a csr_matrix is expensive. lil and dok are more efficient.\n",
      "  self._set_arrayXarray(i, j, x)\n"
     ]
    },
    {
     "output_type": "stream",
     "name": "stdout",
     "text": [
      "Iteraci\u00f3n 256: Convergi\u00f3 correctamente.\n",
      "Tiempo de ejecuci\u00f3n: 0.4531 segundos\n"
     ]
    },
    {
     "output_type": "stream",
     "name": "stderr",
     "text": [
      "/usr/local/lib/python3.11/dist-packages/scipy/sparse/_index.py:151: SparseEfficiencyWarning: Changing the sparsity structure of a csr_matrix is expensive. lil and dok are more efficient.\n",
      "  self._set_arrayXarray(i, j, x)\n"
     ]
    },
    {
     "output_type": "stream",
     "name": "stdout",
     "text": [
      "Iteraci\u00f3n 257: Convergi\u00f3 correctamente.\n",
      "Tiempo de ejecuci\u00f3n: 0.4335 segundos\n"
     ]
    },
    {
     "output_type": "stream",
     "name": "stderr",
     "text": [
      "/usr/local/lib/python3.11/dist-packages/scipy/sparse/_index.py:151: SparseEfficiencyWarning: Changing the sparsity structure of a csr_matrix is expensive. lil and dok are more efficient.\n",
      "  self._set_arrayXarray(i, j, x)\n"
     ]
    },
    {
     "output_type": "stream",
     "name": "stdout",
     "text": [
      "Iteraci\u00f3n 258: Convergi\u00f3 correctamente.\n",
      "Tiempo de ejecuci\u00f3n: 0.4480 segundos\n"
     ]
    },
    {
     "output_type": "stream",
     "name": "stderr",
     "text": [
      "/usr/local/lib/python3.11/dist-packages/scipy/sparse/_index.py:151: SparseEfficiencyWarning: Changing the sparsity structure of a csr_matrix is expensive. lil and dok are more efficient.\n",
      "  self._set_arrayXarray(i, j, x)\n"
     ]
    },
    {
     "output_type": "stream",
     "name": "stdout",
     "text": [
      "Iteraci\u00f3n 259: Convergi\u00f3 correctamente.\n",
      "Tiempo de ejecuci\u00f3n: 0.4479 segundos\n"
     ]
    },
    {
     "output_type": "stream",
     "name": "stderr",
     "text": [
      "/usr/local/lib/python3.11/dist-packages/scipy/sparse/_index.py:151: SparseEfficiencyWarning: Changing the sparsity structure of a csr_matrix is expensive. lil and dok are more efficient.\n",
      "  self._set_arrayXarray(i, j, x)\n"
     ]
    },
    {
     "output_type": "stream",
     "name": "stdout",
     "text": [
      "Iteraci\u00f3n 260: Convergi\u00f3 correctamente.\n",
      "Tiempo de ejecuci\u00f3n: 0.4579 segundos\n"
     ]
    },
    {
     "output_type": "stream",
     "name": "stderr",
     "text": [
      "/usr/local/lib/python3.11/dist-packages/scipy/sparse/_index.py:151: SparseEfficiencyWarning: Changing the sparsity structure of a csr_matrix is expensive. lil and dok are more efficient.\n",
      "  self._set_arrayXarray(i, j, x)\n"
     ]
    },
    {
     "output_type": "stream",
     "name": "stdout",
     "text": [
      "Iteraci\u00f3n 261: Convergi\u00f3 correctamente.\n",
      "Tiempo de ejecuci\u00f3n: 0.7004 segundos\n"
     ]
    },
    {
     "output_type": "stream",
     "name": "stderr",
     "text": [
      "/usr/local/lib/python3.11/dist-packages/scipy/sparse/_index.py:151: SparseEfficiencyWarning: Changing the sparsity structure of a csr_matrix is expensive. lil and dok are more efficient.\n",
      "  self._set_arrayXarray(i, j, x)\n"
     ]
    },
    {
     "output_type": "stream",
     "name": "stdout",
     "text": [
      "Iteraci\u00f3n 262: Convergi\u00f3 correctamente.\n",
      "Tiempo de ejecuci\u00f3n: 0.6665 segundos\n"
     ]
    },
    {
     "output_type": "stream",
     "name": "stderr",
     "text": [
      "/usr/local/lib/python3.11/dist-packages/scipy/sparse/_index.py:151: SparseEfficiencyWarning: Changing the sparsity structure of a csr_matrix is expensive. lil and dok are more efficient.\n",
      "  self._set_arrayXarray(i, j, x)\n"
     ]
    },
    {
     "output_type": "stream",
     "name": "stdout",
     "text": [
      "Iteraci\u00f3n 263: Convergi\u00f3 correctamente.\n",
      "Tiempo de ejecuci\u00f3n: 0.5715 segundos\n"
     ]
    },
    {
     "output_type": "stream",
     "name": "stderr",
     "text": [
      "/usr/local/lib/python3.11/dist-packages/scipy/sparse/_index.py:151: SparseEfficiencyWarning: Changing the sparsity structure of a csr_matrix is expensive. lil and dok are more efficient.\n",
      "  self._set_arrayXarray(i, j, x)\n"
     ]
    },
    {
     "output_type": "stream",
     "name": "stdout",
     "text": [
      "Iteraci\u00f3n 264: Convergi\u00f3 correctamente.\n",
      "Tiempo de ejecuci\u00f3n: 0.4745 segundos\n"
     ]
    },
    {
     "output_type": "stream",
     "name": "stderr",
     "text": [
      "/usr/local/lib/python3.11/dist-packages/scipy/sparse/_index.py:151: SparseEfficiencyWarning: Changing the sparsity structure of a csr_matrix is expensive. lil and dok are more efficient.\n",
      "  self._set_arrayXarray(i, j, x)\n"
     ]
    },
    {
     "output_type": "stream",
     "name": "stdout",
     "text": [
      "Iteraci\u00f3n 265: Convergi\u00f3 correctamente.\n",
      "Tiempo de ejecuci\u00f3n: 0.4401 segundos\n"
     ]
    },
    {
     "output_type": "stream",
     "name": "stderr",
     "text": [
      "/usr/local/lib/python3.11/dist-packages/scipy/sparse/_index.py:151: SparseEfficiencyWarning: Changing the sparsity structure of a csr_matrix is expensive. lil and dok are more efficient.\n",
      "  self._set_arrayXarray(i, j, x)\n"
     ]
    },
    {
     "output_type": "stream",
     "name": "stdout",
     "text": [
      "Iteraci\u00f3n 266: Convergi\u00f3 correctamente.\n",
      "Tiempo de ejecuci\u00f3n: 0.4697 segundos\n"
     ]
    },
    {
     "output_type": "stream",
     "name": "stderr",
     "text": [
      "/usr/local/lib/python3.11/dist-packages/scipy/sparse/_index.py:151: SparseEfficiencyWarning: Changing the sparsity structure of a csr_matrix is expensive. lil and dok are more efficient.\n",
      "  self._set_arrayXarray(i, j, x)\n"
     ]
    },
    {
     "output_type": "stream",
     "name": "stdout",
     "text": [
      "Iteraci\u00f3n 267: Convergi\u00f3 correctamente.\n",
      "Tiempo de ejecuci\u00f3n: 0.4628 segundos\n"
     ]
    },
    {
     "output_type": "stream",
     "name": "stderr",
     "text": [
      "/usr/local/lib/python3.11/dist-packages/scipy/sparse/_index.py:151: SparseEfficiencyWarning: Changing the sparsity structure of a csr_matrix is expensive. lil and dok are more efficient.\n",
      "  self._set_arrayXarray(i, j, x)\n"
     ]
    },
    {
     "output_type": "stream",
     "name": "stdout",
     "text": [
      "Iteraci\u00f3n 268: Convergi\u00f3 correctamente.\n",
      "Tiempo de ejecuci\u00f3n: 0.4456 segundos\n"
     ]
    },
    {
     "output_type": "stream",
     "name": "stderr",
     "text": [
      "/usr/local/lib/python3.11/dist-packages/scipy/sparse/_index.py:151: SparseEfficiencyWarning: Changing the sparsity structure of a csr_matrix is expensive. lil and dok are more efficient.\n",
      "  self._set_arrayXarray(i, j, x)\n"
     ]
    },
    {
     "output_type": "stream",
     "name": "stdout",
     "text": [
      "Iteraci\u00f3n 269: Convergi\u00f3 correctamente.\n",
      "Tiempo de ejecuci\u00f3n: 0.5360 segundos\n"
     ]
    },
    {
     "output_type": "stream",
     "name": "stderr",
     "text": [
      "/usr/local/lib/python3.11/dist-packages/scipy/sparse/_index.py:151: SparseEfficiencyWarning: Changing the sparsity structure of a csr_matrix is expensive. lil and dok are more efficient.\n",
      "  self._set_arrayXarray(i, j, x)\n"
     ]
    },
    {
     "output_type": "stream",
     "name": "stdout",
     "text": [
      "Iteraci\u00f3n 270: Convergi\u00f3 correctamente.\n",
      "Tiempo de ejecuci\u00f3n: 0.5409 segundos\n"
     ]
    },
    {
     "output_type": "stream",
     "name": "stderr",
     "text": [
      "/usr/local/lib/python3.11/dist-packages/scipy/sparse/_index.py:151: SparseEfficiencyWarning: Changing the sparsity structure of a csr_matrix is expensive. lil and dok are more efficient.\n",
      "  self._set_arrayXarray(i, j, x)\n"
     ]
    },
    {
     "output_type": "stream",
     "name": "stdout",
     "text": [
      "Iteraci\u00f3n 271: Convergi\u00f3 correctamente.\n",
      "Tiempo de ejecuci\u00f3n: 0.4998 segundos\n"
     ]
    },
    {
     "output_type": "stream",
     "name": "stderr",
     "text": [
      "/usr/local/lib/python3.11/dist-packages/scipy/sparse/_index.py:151: SparseEfficiencyWarning: Changing the sparsity structure of a csr_matrix is expensive. lil and dok are more efficient.\n",
      "  self._set_arrayXarray(i, j, x)\n"
     ]
    },
    {
     "output_type": "stream",
     "name": "stdout",
     "text": [
      "Iteraci\u00f3n 272: Convergi\u00f3 correctamente.\n",
      "Tiempo de ejecuci\u00f3n: 0.4588 segundos\n"
     ]
    },
    {
     "output_type": "stream",
     "name": "stderr",
     "text": [
      "/usr/local/lib/python3.11/dist-packages/scipy/sparse/_index.py:151: SparseEfficiencyWarning: Changing the sparsity structure of a csr_matrix is expensive. lil and dok are more efficient.\n",
      "  self._set_arrayXarray(i, j, x)\n"
     ]
    },
    {
     "output_type": "stream",
     "name": "stdout",
     "text": [
      "Iteraci\u00f3n 273: Convergi\u00f3 correctamente.\n",
      "Tiempo de ejecuci\u00f3n: 0.4638 segundos\n"
     ]
    },
    {
     "output_type": "stream",
     "name": "stderr",
     "text": [
      "/usr/local/lib/python3.11/dist-packages/scipy/sparse/_index.py:151: SparseEfficiencyWarning: Changing the sparsity structure of a csr_matrix is expensive. lil and dok are more efficient.\n",
      "  self._set_arrayXarray(i, j, x)\n"
     ]
    },
    {
     "output_type": "stream",
     "name": "stdout",
     "text": [
      "Iteraci\u00f3n 274: Convergi\u00f3 correctamente.\n",
      "Tiempo de ejecuci\u00f3n: 0.5071 segundos\n"
     ]
    },
    {
     "output_type": "stream",
     "name": "stderr",
     "text": [
      "/usr/local/lib/python3.11/dist-packages/scipy/sparse/_index.py:151: SparseEfficiencyWarning: Changing the sparsity structure of a csr_matrix is expensive. lil and dok are more efficient.\n",
      "  self._set_arrayXarray(i, j, x)\n"
     ]
    },
    {
     "output_type": "stream",
     "name": "stdout",
     "text": [
      "Iteraci\u00f3n 275: Convergi\u00f3 correctamente.\n",
      "Tiempo de ejecuci\u00f3n: 0.4654 segundos\n"
     ]
    },
    {
     "output_type": "stream",
     "name": "stderr",
     "text": [
      "/usr/local/lib/python3.11/dist-packages/scipy/sparse/_index.py:151: SparseEfficiencyWarning: Changing the sparsity structure of a csr_matrix is expensive. lil and dok are more efficient.\n",
      "  self._set_arrayXarray(i, j, x)\n"
     ]
    },
    {
     "output_type": "stream",
     "name": "stdout",
     "text": [
      "Iteraci\u00f3n 276: Convergi\u00f3 correctamente.\n",
      "Tiempo de ejecuci\u00f3n: 0.4746 segundos\n"
     ]
    },
    {
     "output_type": "stream",
     "name": "stderr",
     "text": [
      "/usr/local/lib/python3.11/dist-packages/scipy/sparse/_index.py:151: SparseEfficiencyWarning: Changing the sparsity structure of a csr_matrix is expensive. lil and dok are more efficient.\n",
      "  self._set_arrayXarray(i, j, x)\n"
     ]
    },
    {
     "output_type": "stream",
     "name": "stdout",
     "text": [
      "Iteraci\u00f3n 277: Convergi\u00f3 correctamente.\n",
      "Tiempo de ejecuci\u00f3n: 0.5231 segundos\n"
     ]
    },
    {
     "output_type": "stream",
     "name": "stderr",
     "text": [
      "/usr/local/lib/python3.11/dist-packages/scipy/sparse/_index.py:151: SparseEfficiencyWarning: Changing the sparsity structure of a csr_matrix is expensive. lil and dok are more efficient.\n",
      "  self._set_arrayXarray(i, j, x)\n"
     ]
    },
    {
     "output_type": "stream",
     "name": "stdout",
     "text": [
      "Iteraci\u00f3n 278: Convergi\u00f3 correctamente.\n",
      "Tiempo de ejecuci\u00f3n: 0.4726 segundos\n"
     ]
    },
    {
     "output_type": "stream",
     "name": "stderr",
     "text": [
      "/usr/local/lib/python3.11/dist-packages/scipy/sparse/_index.py:151: SparseEfficiencyWarning: Changing the sparsity structure of a csr_matrix is expensive. lil and dok are more efficient.\n",
      "  self._set_arrayXarray(i, j, x)\n"
     ]
    },
    {
     "output_type": "stream",
     "name": "stdout",
     "text": [
      "Iteraci\u00f3n 279: Convergi\u00f3 correctamente.\n",
      "Tiempo de ejecuci\u00f3n: 0.5721 segundos\n"
     ]
    },
    {
     "output_type": "stream",
     "name": "stderr",
     "text": [
      "/usr/local/lib/python3.11/dist-packages/scipy/sparse/_index.py:151: SparseEfficiencyWarning: Changing the sparsity structure of a csr_matrix is expensive. lil and dok are more efficient.\n",
      "  self._set_arrayXarray(i, j, x)\n"
     ]
    },
    {
     "output_type": "stream",
     "name": "stdout",
     "text": [
      "Iteraci\u00f3n 280: Convergi\u00f3 correctamente.\n",
      "Tiempo de ejecuci\u00f3n: 0.5600 segundos\n"
     ]
    },
    {
     "output_type": "stream",
     "name": "stderr",
     "text": [
      "/usr/local/lib/python3.11/dist-packages/scipy/sparse/_index.py:151: SparseEfficiencyWarning: Changing the sparsity structure of a csr_matrix is expensive. lil and dok are more efficient.\n",
      "  self._set_arrayXarray(i, j, x)\n"
     ]
    },
    {
     "output_type": "stream",
     "name": "stdout",
     "text": [
      "Iteraci\u00f3n 281: Convergi\u00f3 correctamente.\n",
      "Tiempo de ejecuci\u00f3n: 0.5384 segundos\n"
     ]
    },
    {
     "output_type": "stream",
     "name": "stderr",
     "text": [
      "/usr/local/lib/python3.11/dist-packages/scipy/sparse/_index.py:151: SparseEfficiencyWarning: Changing the sparsity structure of a csr_matrix is expensive. lil and dok are more efficient.\n",
      "  self._set_arrayXarray(i, j, x)\n"
     ]
    },
    {
     "output_type": "stream",
     "name": "stdout",
     "text": [
      "Iteraci\u00f3n 282: Convergi\u00f3 correctamente.\n",
      "Tiempo de ejecuci\u00f3n: 0.4629 segundos\n"
     ]
    },
    {
     "output_type": "stream",
     "name": "stderr",
     "text": [
      "/usr/local/lib/python3.11/dist-packages/scipy/sparse/_index.py:151: SparseEfficiencyWarning: Changing the sparsity structure of a csr_matrix is expensive. lil and dok are more efficient.\n",
      "  self._set_arrayXarray(i, j, x)\n"
     ]
    },
    {
     "output_type": "stream",
     "name": "stdout",
     "text": [
      "Iteraci\u00f3n 283: Convergi\u00f3 correctamente.\n",
      "Tiempo de ejecuci\u00f3n: 0.5625 segundos\n"
     ]
    },
    {
     "output_type": "stream",
     "name": "stderr",
     "text": [
      "/usr/local/lib/python3.11/dist-packages/scipy/sparse/_index.py:151: SparseEfficiencyWarning: Changing the sparsity structure of a csr_matrix is expensive. lil and dok are more efficient.\n",
      "  self._set_arrayXarray(i, j, x)\n"
     ]
    },
    {
     "output_type": "stream",
     "name": "stdout",
     "text": [
      "Iteraci\u00f3n 284: Convergi\u00f3 correctamente.\n",
      "Tiempo de ejecuci\u00f3n: 0.6921 segundos\n"
     ]
    },
    {
     "output_type": "stream",
     "name": "stderr",
     "text": [
      "/usr/local/lib/python3.11/dist-packages/scipy/sparse/_index.py:151: SparseEfficiencyWarning: Changing the sparsity structure of a csr_matrix is expensive. lil and dok are more efficient.\n",
      "  self._set_arrayXarray(i, j, x)\n"
     ]
    },
    {
     "output_type": "stream",
     "name": "stdout",
     "text": [
      "Iteraci\u00f3n 285: Convergi\u00f3 correctamente.\n",
      "Tiempo de ejecuci\u00f3n: 0.7499 segundos\n"
     ]
    },
    {
     "output_type": "stream",
     "name": "stderr",
     "text": [
      "/usr/local/lib/python3.11/dist-packages/scipy/sparse/_index.py:151: SparseEfficiencyWarning: Changing the sparsity structure of a csr_matrix is expensive. lil and dok are more efficient.\n",
      "  self._set_arrayXarray(i, j, x)\n"
     ]
    },
    {
     "output_type": "stream",
     "name": "stdout",
     "text": [
      "Iteraci\u00f3n 286: Convergi\u00f3 correctamente.\n",
      "Tiempo de ejecuci\u00f3n: 0.6018 segundos\n"
     ]
    },
    {
     "output_type": "stream",
     "name": "stderr",
     "text": [
      "/usr/local/lib/python3.11/dist-packages/scipy/sparse/_index.py:151: SparseEfficiencyWarning: Changing the sparsity structure of a csr_matrix is expensive. lil and dok are more efficient.\n",
      "  self._set_arrayXarray(i, j, x)\n"
     ]
    },
    {
     "output_type": "stream",
     "name": "stdout",
     "text": [
      "Iteraci\u00f3n 287: Convergi\u00f3 correctamente.\n",
      "Tiempo de ejecuci\u00f3n: 0.5107 segundos\n"
     ]
    },
    {
     "output_type": "stream",
     "name": "stderr",
     "text": [
      "/usr/local/lib/python3.11/dist-packages/scipy/sparse/_index.py:151: SparseEfficiencyWarning: Changing the sparsity structure of a csr_matrix is expensive. lil and dok are more efficient.\n",
      "  self._set_arrayXarray(i, j, x)\n"
     ]
    },
    {
     "output_type": "stream",
     "name": "stdout",
     "text": [
      "Iteraci\u00f3n 288: Convergi\u00f3 correctamente.\n",
      "Tiempo de ejecuci\u00f3n: 0.5208 segundos\n"
     ]
    },
    {
     "output_type": "stream",
     "name": "stderr",
     "text": [
      "/usr/local/lib/python3.11/dist-packages/scipy/sparse/_index.py:151: SparseEfficiencyWarning: Changing the sparsity structure of a csr_matrix is expensive. lil and dok are more efficient.\n",
      "  self._set_arrayXarray(i, j, x)\n"
     ]
    },
    {
     "output_type": "stream",
     "name": "stdout",
     "text": [
      "Iteraci\u00f3n 289: Convergi\u00f3 correctamente.\n",
      "Tiempo de ejecuci\u00f3n: 0.5698 segundos\n"
     ]
    },
    {
     "output_type": "stream",
     "name": "stderr",
     "text": [
      "/usr/local/lib/python3.11/dist-packages/scipy/sparse/_index.py:151: SparseEfficiencyWarning: Changing the sparsity structure of a csr_matrix is expensive. lil and dok are more efficient.\n",
      "  self._set_arrayXarray(i, j, x)\n"
     ]
    },
    {
     "output_type": "stream",
     "name": "stdout",
     "text": [
      "Iteraci\u00f3n 290: Convergi\u00f3 correctamente.\n",
      "Tiempo de ejecuci\u00f3n: 0.5281 segundos\n"
     ]
    },
    {
     "output_type": "stream",
     "name": "stderr",
     "text": [
      "/usr/local/lib/python3.11/dist-packages/scipy/sparse/_index.py:151: SparseEfficiencyWarning: Changing the sparsity structure of a csr_matrix is expensive. lil and dok are more efficient.\n",
      "  self._set_arrayXarray(i, j, x)\n"
     ]
    },
    {
     "output_type": "stream",
     "name": "stdout",
     "text": [
      "Iteraci\u00f3n 291: Convergi\u00f3 correctamente.\n",
      "Tiempo de ejecuci\u00f3n: 0.4901 segundos\n"
     ]
    },
    {
     "output_type": "stream",
     "name": "stderr",
     "text": [
      "/usr/local/lib/python3.11/dist-packages/scipy/sparse/_index.py:151: SparseEfficiencyWarning: Changing the sparsity structure of a csr_matrix is expensive. lil and dok are more efficient.\n",
      "  self._set_arrayXarray(i, j, x)\n"
     ]
    },
    {
     "output_type": "stream",
     "name": "stdout",
     "text": [
      "Iteraci\u00f3n 292: Convergi\u00f3 correctamente.\n",
      "Tiempo de ejecuci\u00f3n: 0.4961 segundos\n"
     ]
    },
    {
     "output_type": "stream",
     "name": "stderr",
     "text": [
      "/usr/local/lib/python3.11/dist-packages/scipy/sparse/_index.py:151: SparseEfficiencyWarning: Changing the sparsity structure of a csr_matrix is expensive. lil and dok are more efficient.\n",
      "  self._set_arrayXarray(i, j, x)\n"
     ]
    },
    {
     "output_type": "stream",
     "name": "stdout",
     "text": [
      "Iteraci\u00f3n 293: Convergi\u00f3 correctamente.\n",
      "Tiempo de ejecuci\u00f3n: 0.5509 segundos\n"
     ]
    },
    {
     "output_type": "stream",
     "name": "stderr",
     "text": [
      "/usr/local/lib/python3.11/dist-packages/scipy/sparse/_index.py:151: SparseEfficiencyWarning: Changing the sparsity structure of a csr_matrix is expensive. lil and dok are more efficient.\n",
      "  self._set_arrayXarray(i, j, x)\n"
     ]
    },
    {
     "output_type": "stream",
     "name": "stdout",
     "text": [
      "Iteraci\u00f3n 294: Convergi\u00f3 correctamente.\n",
      "Tiempo de ejecuci\u00f3n: 0.5287 segundos\n"
     ]
    },
    {
     "output_type": "stream",
     "name": "stderr",
     "text": [
      "/usr/local/lib/python3.11/dist-packages/scipy/sparse/_index.py:151: SparseEfficiencyWarning: Changing the sparsity structure of a csr_matrix is expensive. lil and dok are more efficient.\n",
      "  self._set_arrayXarray(i, j, x)\n"
     ]
    },
    {
     "output_type": "stream",
     "name": "stdout",
     "text": [
      "Iteraci\u00f3n 295: Convergi\u00f3 correctamente.\n",
      "Tiempo de ejecuci\u00f3n: 0.4889 segundos\n"
     ]
    },
    {
     "output_type": "stream",
     "name": "stderr",
     "text": [
      "/usr/local/lib/python3.11/dist-packages/scipy/sparse/_index.py:151: SparseEfficiencyWarning: Changing the sparsity structure of a csr_matrix is expensive. lil and dok are more efficient.\n",
      "  self._set_arrayXarray(i, j, x)\n"
     ]
    },
    {
     "output_type": "stream",
     "name": "stdout",
     "text": [
      "Iteraci\u00f3n 296: Convergi\u00f3 correctamente.\n",
      "Tiempo de ejecuci\u00f3n: 0.4950 segundos\n"
     ]
    },
    {
     "output_type": "stream",
     "name": "stderr",
     "text": [
      "/usr/local/lib/python3.11/dist-packages/scipy/sparse/_index.py:151: SparseEfficiencyWarning: Changing the sparsity structure of a csr_matrix is expensive. lil and dok are more efficient.\n",
      "  self._set_arrayXarray(i, j, x)\n"
     ]
    },
    {
     "output_type": "stream",
     "name": "stdout",
     "text": [
      "Iteraci\u00f3n 297: Convergi\u00f3 correctamente.\n",
      "Tiempo de ejecuci\u00f3n: 0.5844 segundos\n"
     ]
    },
    {
     "output_type": "stream",
     "name": "stderr",
     "text": [
      "/usr/local/lib/python3.11/dist-packages/scipy/sparse/_index.py:151: SparseEfficiencyWarning: Changing the sparsity structure of a csr_matrix is expensive. lil and dok are more efficient.\n",
      "  self._set_arrayXarray(i, j, x)\n"
     ]
    },
    {
     "output_type": "stream",
     "name": "stdout",
     "text": [
      "Iteraci\u00f3n 298: Convergi\u00f3 correctamente.\n",
      "Tiempo de ejecuci\u00f3n: 0.5852 segundos\n"
     ]
    },
    {
     "output_type": "stream",
     "name": "stderr",
     "text": [
      "/usr/local/lib/python3.11/dist-packages/scipy/sparse/_index.py:151: SparseEfficiencyWarning: Changing the sparsity structure of a csr_matrix is expensive. lil and dok are more efficient.\n",
      "  self._set_arrayXarray(i, j, x)\n"
     ]
    },
    {
     "output_type": "stream",
     "name": "stdout",
     "text": [
      "Iteraci\u00f3n 299: Convergi\u00f3 correctamente.\n",
      "Tiempo de ejecuci\u00f3n: 0.5772 segundos\n"
     ]
    },
    {
     "output_type": "stream",
     "name": "stderr",
     "text": [
      "/usr/local/lib/python3.11/dist-packages/scipy/sparse/_index.py:151: SparseEfficiencyWarning: Changing the sparsity structure of a csr_matrix is expensive. lil and dok are more efficient.\n",
      "  self._set_arrayXarray(i, j, x)\n",
      "<ipython-input-5-e9ab6229a877>:57: SparseEfficiencyWarning: spilu converted its input to CSC format\n",
      "  ilu = spilu(sistema_sparse)\n"
     ]
    },
    {
     "output_type": "stream",
     "name": "stdout",
     "text": [
      "Iteraci\u00f3n 300: Convergi\u00f3 correctamente.\n",
      "Tiempo de ejecuci\u00f3n: 3.5369 segundos\n"
     ]
    },
    {
     "output_type": "stream",
     "name": "stderr",
     "text": [
      "/usr/local/lib/python3.11/dist-packages/scipy/sparse/_index.py:151: SparseEfficiencyWarning: Changing the sparsity structure of a csr_matrix is expensive. lil and dok are more efficient.\n",
      "  self._set_arrayXarray(i, j, x)\n"
     ]
    },
    {
     "output_type": "stream",
     "name": "stdout",
     "text": [
      "Iteraci\u00f3n 301: Convergi\u00f3 correctamente.\n",
      "Tiempo de ejecuci\u00f3n: 0.6304 segundos\n"
     ]
    },
    {
     "output_type": "stream",
     "name": "stderr",
     "text": [
      "/usr/local/lib/python3.11/dist-packages/scipy/sparse/_index.py:151: SparseEfficiencyWarning: Changing the sparsity structure of a csr_matrix is expensive. lil and dok are more efficient.\n",
      "  self._set_arrayXarray(i, j, x)\n"
     ]
    },
    {
     "output_type": "stream",
     "name": "stdout",
     "text": [
      "Iteraci\u00f3n 302: Convergi\u00f3 correctamente.\n",
      "Tiempo de ejecuci\u00f3n: 0.5340 segundos\n"
     ]
    },
    {
     "output_type": "stream",
     "name": "stderr",
     "text": [
      "/usr/local/lib/python3.11/dist-packages/scipy/sparse/_index.py:151: SparseEfficiencyWarning: Changing the sparsity structure of a csr_matrix is expensive. lil and dok are more efficient.\n",
      "  self._set_arrayXarray(i, j, x)\n"
     ]
    },
    {
     "output_type": "stream",
     "name": "stdout",
     "text": [
      "Iteraci\u00f3n 303: Convergi\u00f3 correctamente.\n",
      "Tiempo de ejecuci\u00f3n: 0.4434 segundos\n"
     ]
    },
    {
     "output_type": "stream",
     "name": "stderr",
     "text": [
      "/usr/local/lib/python3.11/dist-packages/scipy/sparse/_index.py:151: SparseEfficiencyWarning: Changing the sparsity structure of a csr_matrix is expensive. lil and dok are more efficient.\n",
      "  self._set_arrayXarray(i, j, x)\n"
     ]
    },
    {
     "output_type": "stream",
     "name": "stdout",
     "text": [
      "Iteraci\u00f3n 304: Convergi\u00f3 correctamente.\n",
      "Tiempo de ejecuci\u00f3n: 0.5129 segundos\n"
     ]
    },
    {
     "output_type": "stream",
     "name": "stderr",
     "text": [
      "/usr/local/lib/python3.11/dist-packages/scipy/sparse/_index.py:151: SparseEfficiencyWarning: Changing the sparsity structure of a csr_matrix is expensive. lil and dok are more efficient.\n",
      "  self._set_arrayXarray(i, j, x)\n"
     ]
    },
    {
     "output_type": "stream",
     "name": "stdout",
     "text": [
      "Iteraci\u00f3n 305: Convergi\u00f3 correctamente.\n",
      "Tiempo de ejecuci\u00f3n: 0.4446 segundos\n"
     ]
    },
    {
     "output_type": "stream",
     "name": "stderr",
     "text": [
      "/usr/local/lib/python3.11/dist-packages/scipy/sparse/_index.py:151: SparseEfficiencyWarning: Changing the sparsity structure of a csr_matrix is expensive. lil and dok are more efficient.\n",
      "  self._set_arrayXarray(i, j, x)\n"
     ]
    },
    {
     "output_type": "stream",
     "name": "stdout",
     "text": [
      "Iteraci\u00f3n 306: Convergi\u00f3 correctamente.\n",
      "Tiempo de ejecuci\u00f3n: 0.4509 segundos\n"
     ]
    },
    {
     "output_type": "stream",
     "name": "stderr",
     "text": [
      "/usr/local/lib/python3.11/dist-packages/scipy/sparse/_index.py:151: SparseEfficiencyWarning: Changing the sparsity structure of a csr_matrix is expensive. lil and dok are more efficient.\n",
      "  self._set_arrayXarray(i, j, x)\n"
     ]
    },
    {
     "output_type": "stream",
     "name": "stdout",
     "text": [
      "Iteraci\u00f3n 307: Convergi\u00f3 correctamente.\n",
      "Tiempo de ejecuci\u00f3n: 0.4650 segundos\n"
     ]
    },
    {
     "output_type": "stream",
     "name": "stderr",
     "text": [
      "/usr/local/lib/python3.11/dist-packages/scipy/sparse/_index.py:151: SparseEfficiencyWarning: Changing the sparsity structure of a csr_matrix is expensive. lil and dok are more efficient.\n",
      "  self._set_arrayXarray(i, j, x)\n"
     ]
    },
    {
     "output_type": "stream",
     "name": "stdout",
     "text": [
      "Iteraci\u00f3n 308: Convergi\u00f3 correctamente.\n",
      "Tiempo de ejecuci\u00f3n: 0.5313 segundos\n"
     ]
    },
    {
     "output_type": "stream",
     "name": "stderr",
     "text": [
      "/usr/local/lib/python3.11/dist-packages/scipy/sparse/_index.py:151: SparseEfficiencyWarning: Changing the sparsity structure of a csr_matrix is expensive. lil and dok are more efficient.\n",
      "  self._set_arrayXarray(i, j, x)\n"
     ]
    },
    {
     "output_type": "stream",
     "name": "stdout",
     "text": [
      "Iteraci\u00f3n 309: Convergi\u00f3 correctamente.\n",
      "Tiempo de ejecuci\u00f3n: 0.4540 segundos\n"
     ]
    },
    {
     "output_type": "stream",
     "name": "stderr",
     "text": [
      "/usr/local/lib/python3.11/dist-packages/scipy/sparse/_index.py:151: SparseEfficiencyWarning: Changing the sparsity structure of a csr_matrix is expensive. lil and dok are more efficient.\n",
      "  self._set_arrayXarray(i, j, x)\n"
     ]
    },
    {
     "output_type": "stream",
     "name": "stdout",
     "text": [
      "Iteraci\u00f3n 310: Convergi\u00f3 correctamente.\n",
      "Tiempo de ejecuci\u00f3n: 0.5121 segundos\n"
     ]
    },
    {
     "output_type": "stream",
     "name": "stderr",
     "text": [
      "/usr/local/lib/python3.11/dist-packages/scipy/sparse/_index.py:151: SparseEfficiencyWarning: Changing the sparsity structure of a csr_matrix is expensive. lil and dok are more efficient.\n",
      "  self._set_arrayXarray(i, j, x)\n"
     ]
    },
    {
     "output_type": "stream",
     "name": "stdout",
     "text": [
      "Iteraci\u00f3n 311: Convergi\u00f3 correctamente.\n",
      "Tiempo de ejecuci\u00f3n: 0.5093 segundos\n"
     ]
    },
    {
     "output_type": "stream",
     "name": "stderr",
     "text": [
      "/usr/local/lib/python3.11/dist-packages/scipy/sparse/_index.py:151: SparseEfficiencyWarning: Changing the sparsity structure of a csr_matrix is expensive. lil and dok are more efficient.\n",
      "  self._set_arrayXarray(i, j, x)\n"
     ]
    },
    {
     "output_type": "stream",
     "name": "stdout",
     "text": [
      "Iteraci\u00f3n 312: Convergi\u00f3 correctamente.\n",
      "Tiempo de ejecuci\u00f3n: 0.3981 segundos\n"
     ]
    },
    {
     "output_type": "stream",
     "name": "stderr",
     "text": [
      "/usr/local/lib/python3.11/dist-packages/scipy/sparse/_index.py:151: SparseEfficiencyWarning: Changing the sparsity structure of a csr_matrix is expensive. lil and dok are more efficient.\n",
      "  self._set_arrayXarray(i, j, x)\n"
     ]
    },
    {
     "output_type": "stream",
     "name": "stdout",
     "text": [
      "Iteraci\u00f3n 313: Convergi\u00f3 correctamente.\n",
      "Tiempo de ejecuci\u00f3n: 0.4185 segundos\n"
     ]
    },
    {
     "output_type": "stream",
     "name": "stderr",
     "text": [
      "/usr/local/lib/python3.11/dist-packages/scipy/sparse/_index.py:151: SparseEfficiencyWarning: Changing the sparsity structure of a csr_matrix is expensive. lil and dok are more efficient.\n",
      "  self._set_arrayXarray(i, j, x)\n"
     ]
    },
    {
     "output_type": "stream",
     "name": "stdout",
     "text": [
      "Iteraci\u00f3n 314: Convergi\u00f3 correctamente.\n",
      "Tiempo de ejecuci\u00f3n: 0.4485 segundos\n"
     ]
    },
    {
     "output_type": "stream",
     "name": "stderr",
     "text": [
      "/usr/local/lib/python3.11/dist-packages/scipy/sparse/_index.py:151: SparseEfficiencyWarning: Changing the sparsity structure of a csr_matrix is expensive. lil and dok are more efficient.\n",
      "  self._set_arrayXarray(i, j, x)\n"
     ]
    },
    {
     "output_type": "stream",
     "name": "stdout",
     "text": [
      "Iteraci\u00f3n 315: Convergi\u00f3 correctamente.\n",
      "Tiempo de ejecuci\u00f3n: 0.4688 segundos\n"
     ]
    },
    {
     "output_type": "stream",
     "name": "stderr",
     "text": [
      "/usr/local/lib/python3.11/dist-packages/scipy/sparse/_index.py:151: SparseEfficiencyWarning: Changing the sparsity structure of a csr_matrix is expensive. lil and dok are more efficient.\n",
      "  self._set_arrayXarray(i, j, x)\n"
     ]
    },
    {
     "output_type": "stream",
     "name": "stdout",
     "text": [
      "Iteraci\u00f3n 316: Convergi\u00f3 correctamente.\n",
      "Tiempo de ejecuci\u00f3n: 0.4738 segundos\n"
     ]
    },
    {
     "output_type": "stream",
     "name": "stderr",
     "text": [
      "/usr/local/lib/python3.11/dist-packages/scipy/sparse/_index.py:151: SparseEfficiencyWarning: Changing the sparsity structure of a csr_matrix is expensive. lil and dok are more efficient.\n",
      "  self._set_arrayXarray(i, j, x)\n"
     ]
    },
    {
     "output_type": "stream",
     "name": "stdout",
     "text": [
      "Iteraci\u00f3n 317: Convergi\u00f3 correctamente.\n",
      "Tiempo de ejecuci\u00f3n: 0.5297 segundos\n"
     ]
    },
    {
     "output_type": "stream",
     "name": "stderr",
     "text": [
      "/usr/local/lib/python3.11/dist-packages/scipy/sparse/_index.py:151: SparseEfficiencyWarning: Changing the sparsity structure of a csr_matrix is expensive. lil and dok are more efficient.\n",
      "  self._set_arrayXarray(i, j, x)\n"
     ]
    },
    {
     "output_type": "stream",
     "name": "stdout",
     "text": [
      "Iteraci\u00f3n 318: Convergi\u00f3 correctamente.\n",
      "Tiempo de ejecuci\u00f3n: 0.5573 segundos\n"
     ]
    },
    {
     "output_type": "stream",
     "name": "stderr",
     "text": [
      "/usr/local/lib/python3.11/dist-packages/scipy/sparse/_index.py:151: SparseEfficiencyWarning: Changing the sparsity structure of a csr_matrix is expensive. lil and dok are more efficient.\n",
      "  self._set_arrayXarray(i, j, x)\n"
     ]
    },
    {
     "output_type": "stream",
     "name": "stdout",
     "text": [
      "Iteraci\u00f3n 319: Convergi\u00f3 correctamente.\n",
      "Tiempo de ejecuci\u00f3n: 0.5709 segundos\n"
     ]
    },
    {
     "output_type": "stream",
     "name": "stderr",
     "text": [
      "/usr/local/lib/python3.11/dist-packages/scipy/sparse/_index.py:151: SparseEfficiencyWarning: Changing the sparsity structure of a csr_matrix is expensive. lil and dok are more efficient.\n",
      "  self._set_arrayXarray(i, j, x)\n"
     ]
    },
    {
     "output_type": "stream",
     "name": "stdout",
     "text": [
      "Iteraci\u00f3n 320: Convergi\u00f3 correctamente.\n",
      "Tiempo de ejecuci\u00f3n: 0.5262 segundos\n"
     ]
    },
    {
     "output_type": "stream",
     "name": "stderr",
     "text": [
      "/usr/local/lib/python3.11/dist-packages/scipy/sparse/_index.py:151: SparseEfficiencyWarning: Changing the sparsity structure of a csr_matrix is expensive. lil and dok are more efficient.\n",
      "  self._set_arrayXarray(i, j, x)\n"
     ]
    },
    {
     "output_type": "stream",
     "name": "stdout",
     "text": [
      "Iteraci\u00f3n 321: Convergi\u00f3 correctamente.\n",
      "Tiempo de ejecuci\u00f3n: 0.5378 segundos\n"
     ]
    },
    {
     "output_type": "stream",
     "name": "stderr",
     "text": [
      "/usr/local/lib/python3.11/dist-packages/scipy/sparse/_index.py:151: SparseEfficiencyWarning: Changing the sparsity structure of a csr_matrix is expensive. lil and dok are more efficient.\n",
      "  self._set_arrayXarray(i, j, x)\n"
     ]
    },
    {
     "output_type": "stream",
     "name": "stdout",
     "text": [
      "Iteraci\u00f3n 322: Convergi\u00f3 correctamente.\n",
      "Tiempo de ejecuci\u00f3n: 0.4452 segundos\n"
     ]
    },
    {
     "output_type": "stream",
     "name": "stderr",
     "text": [
      "/usr/local/lib/python3.11/dist-packages/scipy/sparse/_index.py:151: SparseEfficiencyWarning: Changing the sparsity structure of a csr_matrix is expensive. lil and dok are more efficient.\n",
      "  self._set_arrayXarray(i, j, x)\n"
     ]
    },
    {
     "output_type": "stream",
     "name": "stdout",
     "text": [
      "Iteraci\u00f3n 323: Convergi\u00f3 correctamente.\n",
      "Tiempo de ejecuci\u00f3n: 0.7287 segundos\n"
     ]
    },
    {
     "output_type": "stream",
     "name": "stderr",
     "text": [
      "/usr/local/lib/python3.11/dist-packages/scipy/sparse/_index.py:151: SparseEfficiencyWarning: Changing the sparsity structure of a csr_matrix is expensive. lil and dok are more efficient.\n",
      "  self._set_arrayXarray(i, j, x)\n"
     ]
    },
    {
     "output_type": "stream",
     "name": "stdout",
     "text": [
      "Iteraci\u00f3n 324: Convergi\u00f3 correctamente.\n",
      "Tiempo de ejecuci\u00f3n: 0.8133 segundos\n"
     ]
    },
    {
     "output_type": "stream",
     "name": "stderr",
     "text": [
      "/usr/local/lib/python3.11/dist-packages/scipy/sparse/_index.py:151: SparseEfficiencyWarning: Changing the sparsity structure of a csr_matrix is expensive. lil and dok are more efficient.\n",
      "  self._set_arrayXarray(i, j, x)\n"
     ]
    },
    {
     "output_type": "stream",
     "name": "stdout",
     "text": [
      "Iteraci\u00f3n 325: Convergi\u00f3 correctamente.\n",
      "Tiempo de ejecuci\u00f3n: 0.5593 segundos\n"
     ]
    },
    {
     "output_type": "stream",
     "name": "stderr",
     "text": [
      "/usr/local/lib/python3.11/dist-packages/scipy/sparse/_index.py:151: SparseEfficiencyWarning: Changing the sparsity structure of a csr_matrix is expensive. lil and dok are more efficient.\n",
      "  self._set_arrayXarray(i, j, x)\n"
     ]
    },
    {
     "output_type": "stream",
     "name": "stdout",
     "text": [
      "Iteraci\u00f3n 326: Convergi\u00f3 correctamente.\n",
      "Tiempo de ejecuci\u00f3n: 0.5598 segundos\n"
     ]
    },
    {
     "output_type": "stream",
     "name": "stderr",
     "text": [
      "/usr/local/lib/python3.11/dist-packages/scipy/sparse/_index.py:151: SparseEfficiencyWarning: Changing the sparsity structure of a csr_matrix is expensive. lil and dok are more efficient.\n",
      "  self._set_arrayXarray(i, j, x)\n"
     ]
    },
    {
     "output_type": "stream",
     "name": "stdout",
     "text": [
      "Iteraci\u00f3n 327: Convergi\u00f3 correctamente.\n",
      "Tiempo de ejecuci\u00f3n: 0.5216 segundos\n"
     ]
    },
    {
     "output_type": "stream",
     "name": "stderr",
     "text": [
      "/usr/local/lib/python3.11/dist-packages/scipy/sparse/_index.py:151: SparseEfficiencyWarning: Changing the sparsity structure of a csr_matrix is expensive. lil and dok are more efficient.\n",
      "  self._set_arrayXarray(i, j, x)\n"
     ]
    },
    {
     "output_type": "stream",
     "name": "stdout",
     "text": [
      "Iteraci\u00f3n 328: Convergi\u00f3 correctamente.\n",
      "Tiempo de ejecuci\u00f3n: 0.5153 segundos\n"
     ]
    },
    {
     "output_type": "stream",
     "name": "stderr",
     "text": [
      "/usr/local/lib/python3.11/dist-packages/scipy/sparse/_index.py:151: SparseEfficiencyWarning: Changing the sparsity structure of a csr_matrix is expensive. lil and dok are more efficient.\n",
      "  self._set_arrayXarray(i, j, x)\n"
     ]
    },
    {
     "output_type": "stream",
     "name": "stdout",
     "text": [
      "Iteraci\u00f3n 329: Convergi\u00f3 correctamente.\n",
      "Tiempo de ejecuci\u00f3n: 0.4635 segundos\n"
     ]
    },
    {
     "output_type": "stream",
     "name": "stderr",
     "text": [
      "/usr/local/lib/python3.11/dist-packages/scipy/sparse/_index.py:151: SparseEfficiencyWarning: Changing the sparsity structure of a csr_matrix is expensive. lil and dok are more efficient.\n",
      "  self._set_arrayXarray(i, j, x)\n"
     ]
    },
    {
     "output_type": "stream",
     "name": "stdout",
     "text": [
      "Iteraci\u00f3n 330: Convergi\u00f3 correctamente.\n",
      "Tiempo de ejecuci\u00f3n: 0.5918 segundos\n"
     ]
    },
    {
     "output_type": "stream",
     "name": "stderr",
     "text": [
      "/usr/local/lib/python3.11/dist-packages/scipy/sparse/_index.py:151: SparseEfficiencyWarning: Changing the sparsity structure of a csr_matrix is expensive. lil and dok are more efficient.\n",
      "  self._set_arrayXarray(i, j, x)\n"
     ]
    },
    {
     "output_type": "stream",
     "name": "stdout",
     "text": [
      "Iteraci\u00f3n 331: Convergi\u00f3 correctamente.\n",
      "Tiempo de ejecuci\u00f3n: 0.5794 segundos\n"
     ]
    },
    {
     "output_type": "stream",
     "name": "stderr",
     "text": [
      "/usr/local/lib/python3.11/dist-packages/scipy/sparse/_index.py:151: SparseEfficiencyWarning: Changing the sparsity structure of a csr_matrix is expensive. lil and dok are more efficient.\n",
      "  self._set_arrayXarray(i, j, x)\n"
     ]
    },
    {
     "output_type": "stream",
     "name": "stdout",
     "text": [
      "Iteraci\u00f3n 332: Convergi\u00f3 correctamente.\n",
      "Tiempo de ejecuci\u00f3n: 0.5962 segundos\n"
     ]
    },
    {
     "output_type": "stream",
     "name": "stderr",
     "text": [
      "/usr/local/lib/python3.11/dist-packages/scipy/sparse/_index.py:151: SparseEfficiencyWarning: Changing the sparsity structure of a csr_matrix is expensive. lil and dok are more efficient.\n",
      "  self._set_arrayXarray(i, j, x)\n"
     ]
    },
    {
     "output_type": "stream",
     "name": "stdout",
     "text": [
      "Iteraci\u00f3n 333: Convergi\u00f3 correctamente.\n",
      "Tiempo de ejecuci\u00f3n: 0.6085 segundos\n"
     ]
    },
    {
     "output_type": "stream",
     "name": "stderr",
     "text": [
      "/usr/local/lib/python3.11/dist-packages/scipy/sparse/_index.py:151: SparseEfficiencyWarning: Changing the sparsity structure of a csr_matrix is expensive. lil and dok are more efficient.\n",
      "  self._set_arrayXarray(i, j, x)\n"
     ]
    },
    {
     "output_type": "stream",
     "name": "stdout",
     "text": [
      "Iteraci\u00f3n 334: Convergi\u00f3 correctamente.\n",
      "Tiempo de ejecuci\u00f3n: 0.6190 segundos\n"
     ]
    },
    {
     "output_type": "stream",
     "name": "stderr",
     "text": [
      "/usr/local/lib/python3.11/dist-packages/scipy/sparse/_index.py:151: SparseEfficiencyWarning: Changing the sparsity structure of a csr_matrix is expensive. lil and dok are more efficient.\n",
      "  self._set_arrayXarray(i, j, x)\n"
     ]
    },
    {
     "output_type": "stream",
     "name": "stdout",
     "text": [
      "Iteraci\u00f3n 335: Convergi\u00f3 correctamente.\n",
      "Tiempo de ejecuci\u00f3n: 0.6504 segundos\n"
     ]
    },
    {
     "output_type": "stream",
     "name": "stderr",
     "text": [
      "/usr/local/lib/python3.11/dist-packages/scipy/sparse/_index.py:151: SparseEfficiencyWarning: Changing the sparsity structure of a csr_matrix is expensive. lil and dok are more efficient.\n",
      "  self._set_arrayXarray(i, j, x)\n"
     ]
    },
    {
     "output_type": "stream",
     "name": "stdout",
     "text": [
      "Iteraci\u00f3n 336: Convergi\u00f3 correctamente.\n",
      "Tiempo de ejecuci\u00f3n: 0.5189 segundos\n"
     ]
    },
    {
     "output_type": "stream",
     "name": "stderr",
     "text": [
      "/usr/local/lib/python3.11/dist-packages/scipy/sparse/_index.py:151: SparseEfficiencyWarning: Changing the sparsity structure of a csr_matrix is expensive. lil and dok are more efficient.\n",
      "  self._set_arrayXarray(i, j, x)\n"
     ]
    },
    {
     "output_type": "stream",
     "name": "stdout",
     "text": [
      "Iteraci\u00f3n 337: Convergi\u00f3 correctamente.\n",
      "Tiempo de ejecuci\u00f3n: 0.5790 segundos\n"
     ]
    },
    {
     "output_type": "stream",
     "name": "stderr",
     "text": [
      "/usr/local/lib/python3.11/dist-packages/scipy/sparse/_index.py:151: SparseEfficiencyWarning: Changing the sparsity structure of a csr_matrix is expensive. lil and dok are more efficient.\n",
      "  self._set_arrayXarray(i, j, x)\n"
     ]
    },
    {
     "output_type": "stream",
     "name": "stdout",
     "text": [
      "Iteraci\u00f3n 338: Convergi\u00f3 correctamente.\n",
      "Tiempo de ejecuci\u00f3n: 0.5167 segundos\n"
     ]
    },
    {
     "output_type": "stream",
     "name": "stderr",
     "text": [
      "/usr/local/lib/python3.11/dist-packages/scipy/sparse/_index.py:151: SparseEfficiencyWarning: Changing the sparsity structure of a csr_matrix is expensive. lil and dok are more efficient.\n",
      "  self._set_arrayXarray(i, j, x)\n"
     ]
    },
    {
     "output_type": "stream",
     "name": "stdout",
     "text": [
      "Iteraci\u00f3n 339: Convergi\u00f3 correctamente.\n",
      "Tiempo de ejecuci\u00f3n: 0.5955 segundos\n"
     ]
    },
    {
     "output_type": "stream",
     "name": "stderr",
     "text": [
      "/usr/local/lib/python3.11/dist-packages/scipy/sparse/_index.py:151: SparseEfficiencyWarning: Changing the sparsity structure of a csr_matrix is expensive. lil and dok are more efficient.\n",
      "  self._set_arrayXarray(i, j, x)\n"
     ]
    },
    {
     "output_type": "stream",
     "name": "stdout",
     "text": [
      "Iteraci\u00f3n 340: Convergi\u00f3 correctamente.\n",
      "Tiempo de ejecuci\u00f3n: 0.5119 segundos\n"
     ]
    },
    {
     "output_type": "stream",
     "name": "stderr",
     "text": [
      "/usr/local/lib/python3.11/dist-packages/scipy/sparse/_index.py:151: SparseEfficiencyWarning: Changing the sparsity structure of a csr_matrix is expensive. lil and dok are more efficient.\n",
      "  self._set_arrayXarray(i, j, x)\n"
     ]
    },
    {
     "output_type": "stream",
     "name": "stdout",
     "text": [
      "Iteraci\u00f3n 341: Convergi\u00f3 correctamente.\n",
      "Tiempo de ejecuci\u00f3n: 0.6210 segundos\n"
     ]
    },
    {
     "output_type": "stream",
     "name": "stderr",
     "text": [
      "/usr/local/lib/python3.11/dist-packages/scipy/sparse/_index.py:151: SparseEfficiencyWarning: Changing the sparsity structure of a csr_matrix is expensive. lil and dok are more efficient.\n",
      "  self._set_arrayXarray(i, j, x)\n"
     ]
    },
    {
     "output_type": "stream",
     "name": "stdout",
     "text": [
      "Iteraci\u00f3n 342: Convergi\u00f3 correctamente.\n",
      "Tiempo de ejecuci\u00f3n: 0.5455 segundos\n"
     ]
    },
    {
     "output_type": "stream",
     "name": "stderr",
     "text": [
      "/usr/local/lib/python3.11/dist-packages/scipy/sparse/_index.py:151: SparseEfficiencyWarning: Changing the sparsity structure of a csr_matrix is expensive. lil and dok are more efficient.\n",
      "  self._set_arrayXarray(i, j, x)\n"
     ]
    },
    {
     "output_type": "stream",
     "name": "stdout",
     "text": [
      "Iteraci\u00f3n 343: Convergi\u00f3 correctamente.\n",
      "Tiempo de ejecuci\u00f3n: 0.8038 segundos\n"
     ]
    },
    {
     "output_type": "stream",
     "name": "stderr",
     "text": [
      "/usr/local/lib/python3.11/dist-packages/scipy/sparse/_index.py:151: SparseEfficiencyWarning: Changing the sparsity structure of a csr_matrix is expensive. lil and dok are more efficient.\n",
      "  self._set_arrayXarray(i, j, x)\n"
     ]
    },
    {
     "output_type": "stream",
     "name": "stdout",
     "text": [
      "Iteraci\u00f3n 344: Convergi\u00f3 correctamente.\n",
      "Tiempo de ejecuci\u00f3n: 0.9351 segundos\n"
     ]
    },
    {
     "output_type": "stream",
     "name": "stderr",
     "text": [
      "/usr/local/lib/python3.11/dist-packages/scipy/sparse/_index.py:151: SparseEfficiencyWarning: Changing the sparsity structure of a csr_matrix is expensive. lil and dok are more efficient.\n",
      "  self._set_arrayXarray(i, j, x)\n"
     ]
    },
    {
     "output_type": "stream",
     "name": "stdout",
     "text": [
      "Iteraci\u00f3n 345: Convergi\u00f3 correctamente.\n",
      "Tiempo de ejecuci\u00f3n: 0.5683 segundos\n"
     ]
    },
    {
     "output_type": "stream",
     "name": "stderr",
     "text": [
      "/usr/local/lib/python3.11/dist-packages/scipy/sparse/_index.py:151: SparseEfficiencyWarning: Changing the sparsity structure of a csr_matrix is expensive. lil and dok are more efficient.\n",
      "  self._set_arrayXarray(i, j, x)\n"
     ]
    },
    {
     "output_type": "stream",
     "name": "stdout",
     "text": [
      "Iteraci\u00f3n 346: Convergi\u00f3 correctamente.\n",
      "Tiempo de ejecuci\u00f3n: 0.6121 segundos\n"
     ]
    },
    {
     "output_type": "stream",
     "name": "stderr",
     "text": [
      "/usr/local/lib/python3.11/dist-packages/scipy/sparse/_index.py:151: SparseEfficiencyWarning: Changing the sparsity structure of a csr_matrix is expensive. lil and dok are more efficient.\n",
      "  self._set_arrayXarray(i, j, x)\n"
     ]
    },
    {
     "output_type": "stream",
     "name": "stdout",
     "text": [
      "Iteraci\u00f3n 347: Convergi\u00f3 correctamente.\n",
      "Tiempo de ejecuci\u00f3n: 0.6059 segundos\n"
     ]
    },
    {
     "output_type": "stream",
     "name": "stderr",
     "text": [
      "/usr/local/lib/python3.11/dist-packages/scipy/sparse/_index.py:151: SparseEfficiencyWarning: Changing the sparsity structure of a csr_matrix is expensive. lil and dok are more efficient.\n",
      "  self._set_arrayXarray(i, j, x)\n"
     ]
    },
    {
     "output_type": "stream",
     "name": "stdout",
     "text": [
      "Iteraci\u00f3n 348: Convergi\u00f3 correctamente.\n",
      "Tiempo de ejecuci\u00f3n: 0.6040 segundos\n"
     ]
    },
    {
     "output_type": "stream",
     "name": "stderr",
     "text": [
      "/usr/local/lib/python3.11/dist-packages/scipy/sparse/_index.py:151: SparseEfficiencyWarning: Changing the sparsity structure of a csr_matrix is expensive. lil and dok are more efficient.\n",
      "  self._set_arrayXarray(i, j, x)\n"
     ]
    },
    {
     "output_type": "stream",
     "name": "stdout",
     "text": [
      "Iteraci\u00f3n 349: Convergi\u00f3 correctamente.\n",
      "Tiempo de ejecuci\u00f3n: 0.5971 segundos\n"
     ]
    },
    {
     "output_type": "stream",
     "name": "stderr",
     "text": [
      "/usr/local/lib/python3.11/dist-packages/scipy/sparse/_index.py:151: SparseEfficiencyWarning: Changing the sparsity structure of a csr_matrix is expensive. lil and dok are more efficient.\n",
      "  self._set_arrayXarray(i, j, x)\n",
      "<ipython-input-5-e9ab6229a877>:57: SparseEfficiencyWarning: spilu converted its input to CSC format\n",
      "  ilu = spilu(sistema_sparse)\n"
     ]
    },
    {
     "output_type": "stream",
     "name": "stdout",
     "text": [
      "Iteraci\u00f3n 350: Convergi\u00f3 correctamente.\n",
      "Tiempo de ejecuci\u00f3n: 3.5105 segundos\n"
     ]
    },
    {
     "output_type": "stream",
     "name": "stderr",
     "text": [
      "/usr/local/lib/python3.11/dist-packages/scipy/sparse/_index.py:151: SparseEfficiencyWarning: Changing the sparsity structure of a csr_matrix is expensive. lil and dok are more efficient.\n",
      "  self._set_arrayXarray(i, j, x)\n"
     ]
    },
    {
     "output_type": "stream",
     "name": "stdout",
     "text": [
      "Iteraci\u00f3n 351: Convergi\u00f3 correctamente.\n",
      "Tiempo de ejecuci\u00f3n: 0.4418 segundos\n"
     ]
    },
    {
     "output_type": "stream",
     "name": "stderr",
     "text": [
      "/usr/local/lib/python3.11/dist-packages/scipy/sparse/_index.py:151: SparseEfficiencyWarning: Changing the sparsity structure of a csr_matrix is expensive. lil and dok are more efficient.\n",
      "  self._set_arrayXarray(i, j, x)\n"
     ]
    },
    {
     "output_type": "stream",
     "name": "stdout",
     "text": [
      "Iteraci\u00f3n 352: Convergi\u00f3 correctamente.\n",
      "Tiempo de ejecuci\u00f3n: 0.4276 segundos\n"
     ]
    },
    {
     "output_type": "stream",
     "name": "stderr",
     "text": [
      "/usr/local/lib/python3.11/dist-packages/scipy/sparse/_index.py:151: SparseEfficiencyWarning: Changing the sparsity structure of a csr_matrix is expensive. lil and dok are more efficient.\n",
      "  self._set_arrayXarray(i, j, x)\n"
     ]
    },
    {
     "output_type": "stream",
     "name": "stdout",
     "text": [
      "Iteraci\u00f3n 353: Convergi\u00f3 correctamente.\n",
      "Tiempo de ejecuci\u00f3n: 0.4801 segundos\n"
     ]
    },
    {
     "output_type": "stream",
     "name": "stderr",
     "text": [
      "/usr/local/lib/python3.11/dist-packages/scipy/sparse/_index.py:151: SparseEfficiencyWarning: Changing the sparsity structure of a csr_matrix is expensive. lil and dok are more efficient.\n",
      "  self._set_arrayXarray(i, j, x)\n"
     ]
    },
    {
     "output_type": "stream",
     "name": "stdout",
     "text": [
      "Iteraci\u00f3n 354: Convergi\u00f3 correctamente.\n",
      "Tiempo de ejecuci\u00f3n: 0.4993 segundos\n"
     ]
    },
    {
     "output_type": "stream",
     "name": "stderr",
     "text": [
      "/usr/local/lib/python3.11/dist-packages/scipy/sparse/_index.py:151: SparseEfficiencyWarning: Changing the sparsity structure of a csr_matrix is expensive. lil and dok are more efficient.\n",
      "  self._set_arrayXarray(i, j, x)\n"
     ]
    },
    {
     "output_type": "stream",
     "name": "stdout",
     "text": [
      "Iteraci\u00f3n 355: Convergi\u00f3 correctamente.\n",
      "Tiempo de ejecuci\u00f3n: 0.4736 segundos\n"
     ]
    },
    {
     "output_type": "stream",
     "name": "stderr",
     "text": [
      "/usr/local/lib/python3.11/dist-packages/scipy/sparse/_index.py:151: SparseEfficiencyWarning: Changing the sparsity structure of a csr_matrix is expensive. lil and dok are more efficient.\n",
      "  self._set_arrayXarray(i, j, x)\n"
     ]
    },
    {
     "output_type": "stream",
     "name": "stdout",
     "text": [
      "Iteraci\u00f3n 356: Convergi\u00f3 correctamente.\n",
      "Tiempo de ejecuci\u00f3n: 0.4824 segundos\n"
     ]
    },
    {
     "output_type": "stream",
     "name": "stderr",
     "text": [
      "/usr/local/lib/python3.11/dist-packages/scipy/sparse/_index.py:151: SparseEfficiencyWarning: Changing the sparsity structure of a csr_matrix is expensive. lil and dok are more efficient.\n",
      "  self._set_arrayXarray(i, j, x)\n"
     ]
    },
    {
     "output_type": "stream",
     "name": "stdout",
     "text": [
      "Iteraci\u00f3n 357: Convergi\u00f3 correctamente.\n",
      "Tiempo de ejecuci\u00f3n: 0.4929 segundos\n"
     ]
    },
    {
     "output_type": "stream",
     "name": "stderr",
     "text": [
      "/usr/local/lib/python3.11/dist-packages/scipy/sparse/_index.py:151: SparseEfficiencyWarning: Changing the sparsity structure of a csr_matrix is expensive. lil and dok are more efficient.\n",
      "  self._set_arrayXarray(i, j, x)\n"
     ]
    },
    {
     "output_type": "stream",
     "name": "stdout",
     "text": [
      "Iteraci\u00f3n 358: Convergi\u00f3 correctamente.\n",
      "Tiempo de ejecuci\u00f3n: 0.5631 segundos\n"
     ]
    },
    {
     "output_type": "stream",
     "name": "stderr",
     "text": [
      "/usr/local/lib/python3.11/dist-packages/scipy/sparse/_index.py:151: SparseEfficiencyWarning: Changing the sparsity structure of a csr_matrix is expensive. lil and dok are more efficient.\n",
      "  self._set_arrayXarray(i, j, x)\n"
     ]
    },
    {
     "output_type": "stream",
     "name": "stdout",
     "text": [
      "Iteraci\u00f3n 359: Convergi\u00f3 correctamente.\n",
      "Tiempo de ejecuci\u00f3n: 0.9109 segundos\n"
     ]
    },
    {
     "output_type": "stream",
     "name": "stderr",
     "text": [
      "/usr/local/lib/python3.11/dist-packages/scipy/sparse/_index.py:151: SparseEfficiencyWarning: Changing the sparsity structure of a csr_matrix is expensive. lil and dok are more efficient.\n",
      "  self._set_arrayXarray(i, j, x)\n"
     ]
    },
    {
     "output_type": "stream",
     "name": "stdout",
     "text": [
      "Iteraci\u00f3n 360: Convergi\u00f3 correctamente.\n",
      "Tiempo de ejecuci\u00f3n: 0.6382 segundos\n"
     ]
    },
    {
     "output_type": "stream",
     "name": "stderr",
     "text": [
      "/usr/local/lib/python3.11/dist-packages/scipy/sparse/_index.py:151: SparseEfficiencyWarning: Changing the sparsity structure of a csr_matrix is expensive. lil and dok are more efficient.\n",
      "  self._set_arrayXarray(i, j, x)\n"
     ]
    },
    {
     "output_type": "stream",
     "name": "stdout",
     "text": [
      "Iteraci\u00f3n 361: Convergi\u00f3 correctamente.\n",
      "Tiempo de ejecuci\u00f3n: 0.4659 segundos\n"
     ]
    },
    {
     "output_type": "stream",
     "name": "stderr",
     "text": [
      "/usr/local/lib/python3.11/dist-packages/scipy/sparse/_index.py:151: SparseEfficiencyWarning: Changing the sparsity structure of a csr_matrix is expensive. lil and dok are more efficient.\n",
      "  self._set_arrayXarray(i, j, x)\n"
     ]
    },
    {
     "output_type": "stream",
     "name": "stdout",
     "text": [
      "Iteraci\u00f3n 362: Convergi\u00f3 correctamente.\n",
      "Tiempo de ejecuci\u00f3n: 0.4877 segundos\n"
     ]
    },
    {
     "output_type": "stream",
     "name": "stderr",
     "text": [
      "/usr/local/lib/python3.11/dist-packages/scipy/sparse/_index.py:151: SparseEfficiencyWarning: Changing the sparsity structure of a csr_matrix is expensive. lil and dok are more efficient.\n",
      "  self._set_arrayXarray(i, j, x)\n"
     ]
    },
    {
     "output_type": "stream",
     "name": "stdout",
     "text": [
      "Iteraci\u00f3n 363: Convergi\u00f3 correctamente.\n",
      "Tiempo de ejecuci\u00f3n: 0.5761 segundos\n"
     ]
    },
    {
     "output_type": "stream",
     "name": "stderr",
     "text": [
      "/usr/local/lib/python3.11/dist-packages/scipy/sparse/_index.py:151: SparseEfficiencyWarning: Changing the sparsity structure of a csr_matrix is expensive. lil and dok are more efficient.\n",
      "  self._set_arrayXarray(i, j, x)\n"
     ]
    },
    {
     "output_type": "stream",
     "name": "stdout",
     "text": [
      "Iteraci\u00f3n 364: Convergi\u00f3 correctamente.\n",
      "Tiempo de ejecuci\u00f3n: 0.5956 segundos\n"
     ]
    },
    {
     "output_type": "stream",
     "name": "stderr",
     "text": [
      "/usr/local/lib/python3.11/dist-packages/scipy/sparse/_index.py:151: SparseEfficiencyWarning: Changing the sparsity structure of a csr_matrix is expensive. lil and dok are more efficient.\n",
      "  self._set_arrayXarray(i, j, x)\n"
     ]
    },
    {
     "output_type": "stream",
     "name": "stdout",
     "text": [
      "Iteraci\u00f3n 365: Convergi\u00f3 correctamente.\n",
      "Tiempo de ejecuci\u00f3n: 0.5813 segundos\n"
     ]
    },
    {
     "output_type": "stream",
     "name": "stderr",
     "text": [
      "/usr/local/lib/python3.11/dist-packages/scipy/sparse/_index.py:151: SparseEfficiencyWarning: Changing the sparsity structure of a csr_matrix is expensive. lil and dok are more efficient.\n",
      "  self._set_arrayXarray(i, j, x)\n"
     ]
    },
    {
     "output_type": "stream",
     "name": "stdout",
     "text": [
      "Iteraci\u00f3n 366: Convergi\u00f3 correctamente.\n",
      "Tiempo de ejecuci\u00f3n: 0.6227 segundos\n"
     ]
    },
    {
     "output_type": "stream",
     "name": "stderr",
     "text": [
      "/usr/local/lib/python3.11/dist-packages/scipy/sparse/_index.py:151: SparseEfficiencyWarning: Changing the sparsity structure of a csr_matrix is expensive. lil and dok are more efficient.\n",
      "  self._set_arrayXarray(i, j, x)\n"
     ]
    },
    {
     "output_type": "stream",
     "name": "stdout",
     "text": [
      "Iteraci\u00f3n 367: Convergi\u00f3 correctamente.\n",
      "Tiempo de ejecuci\u00f3n: 0.5113 segundos\n"
     ]
    },
    {
     "output_type": "stream",
     "name": "stderr",
     "text": [
      "/usr/local/lib/python3.11/dist-packages/scipy/sparse/_index.py:151: SparseEfficiencyWarning: Changing the sparsity structure of a csr_matrix is expensive. lil and dok are more efficient.\n",
      "  self._set_arrayXarray(i, j, x)\n"
     ]
    },
    {
     "output_type": "stream",
     "name": "stdout",
     "text": [
      "Iteraci\u00f3n 368: Convergi\u00f3 correctamente.\n",
      "Tiempo de ejecuci\u00f3n: 0.6020 segundos\n"
     ]
    },
    {
     "output_type": "stream",
     "name": "stderr",
     "text": [
      "/usr/local/lib/python3.11/dist-packages/scipy/sparse/_index.py:151: SparseEfficiencyWarning: Changing the sparsity structure of a csr_matrix is expensive. lil and dok are more efficient.\n",
      "  self._set_arrayXarray(i, j, x)\n"
     ]
    },
    {
     "output_type": "stream",
     "name": "stdout",
     "text": [
      "Iteraci\u00f3n 369: Convergi\u00f3 correctamente.\n",
      "Tiempo de ejecuci\u00f3n: 0.5218 segundos\n"
     ]
    },
    {
     "output_type": "stream",
     "name": "stderr",
     "text": [
      "/usr/local/lib/python3.11/dist-packages/scipy/sparse/_index.py:151: SparseEfficiencyWarning: Changing the sparsity structure of a csr_matrix is expensive. lil and dok are more efficient.\n",
      "  self._set_arrayXarray(i, j, x)\n"
     ]
    },
    {
     "output_type": "stream",
     "name": "stdout",
     "text": [
      "Iteraci\u00f3n 370: Convergi\u00f3 correctamente.\n",
      "Tiempo de ejecuci\u00f3n: 0.6060 segundos\n"
     ]
    },
    {
     "output_type": "stream",
     "name": "stderr",
     "text": [
      "/usr/local/lib/python3.11/dist-packages/scipy/sparse/_index.py:151: SparseEfficiencyWarning: Changing the sparsity structure of a csr_matrix is expensive. lil and dok are more efficient.\n",
      "  self._set_arrayXarray(i, j, x)\n"
     ]
    },
    {
     "output_type": "stream",
     "name": "stdout",
     "text": [
      "Iteraci\u00f3n 371: Convergi\u00f3 correctamente.\n",
      "Tiempo de ejecuci\u00f3n: 0.5996 segundos\n"
     ]
    },
    {
     "output_type": "stream",
     "name": "stderr",
     "text": [
      "/usr/local/lib/python3.11/dist-packages/scipy/sparse/_index.py:151: SparseEfficiencyWarning: Changing the sparsity structure of a csr_matrix is expensive. lil and dok are more efficient.\n",
      "  self._set_arrayXarray(i, j, x)\n"
     ]
    },
    {
     "output_type": "stream",
     "name": "stdout",
     "text": [
      "Iteraci\u00f3n 372: Convergi\u00f3 correctamente.\n",
      "Tiempo de ejecuci\u00f3n: 0.6191 segundos\n"
     ]
    },
    {
     "output_type": "stream",
     "name": "stderr",
     "text": [
      "/usr/local/lib/python3.11/dist-packages/scipy/sparse/_index.py:151: SparseEfficiencyWarning: Changing the sparsity structure of a csr_matrix is expensive. lil and dok are more efficient.\n",
      "  self._set_arrayXarray(i, j, x)\n"
     ]
    },
    {
     "output_type": "stream",
     "name": "stdout",
     "text": [
      "Iteraci\u00f3n 373: Convergi\u00f3 correctamente.\n",
      "Tiempo de ejecuci\u00f3n: 0.6076 segundos\n"
     ]
    },
    {
     "output_type": "stream",
     "name": "stderr",
     "text": [
      "/usr/local/lib/python3.11/dist-packages/scipy/sparse/_index.py:151: SparseEfficiencyWarning: Changing the sparsity structure of a csr_matrix is expensive. lil and dok are more efficient.\n",
      "  self._set_arrayXarray(i, j, x)\n"
     ]
    },
    {
     "output_type": "stream",
     "name": "stdout",
     "text": [
      "Iteraci\u00f3n 374: Convergi\u00f3 correctamente.\n",
      "Tiempo de ejecuci\u00f3n: 0.5862 segundos\n"
     ]
    },
    {
     "output_type": "stream",
     "name": "stderr",
     "text": [
      "/usr/local/lib/python3.11/dist-packages/scipy/sparse/_index.py:151: SparseEfficiencyWarning: Changing the sparsity structure of a csr_matrix is expensive. lil and dok are more efficient.\n",
      "  self._set_arrayXarray(i, j, x)\n"
     ]
    },
    {
     "output_type": "stream",
     "name": "stdout",
     "text": [
      "Iteraci\u00f3n 375: Convergi\u00f3 correctamente.\n",
      "Tiempo de ejecuci\u00f3n: 0.6238 segundos\n"
     ]
    },
    {
     "output_type": "stream",
     "name": "stderr",
     "text": [
      "/usr/local/lib/python3.11/dist-packages/scipy/sparse/_index.py:151: SparseEfficiencyWarning: Changing the sparsity structure of a csr_matrix is expensive. lil and dok are more efficient.\n",
      "  self._set_arrayXarray(i, j, x)\n"
     ]
    },
    {
     "output_type": "stream",
     "name": "stdout",
     "text": [
      "Iteraci\u00f3n 376: Convergi\u00f3 correctamente.\n",
      "Tiempo de ejecuci\u00f3n: 0.5000 segundos\n"
     ]
    },
    {
     "output_type": "stream",
     "name": "stderr",
     "text": [
      "/usr/local/lib/python3.11/dist-packages/scipy/sparse/_index.py:151: SparseEfficiencyWarning: Changing the sparsity structure of a csr_matrix is expensive. lil and dok are more efficient.\n",
      "  self._set_arrayXarray(i, j, x)\n"
     ]
    },
    {
     "output_type": "stream",
     "name": "stdout",
     "text": [
      "Iteraci\u00f3n 377: Convergi\u00f3 correctamente.\n",
      "Tiempo de ejecuci\u00f3n: 0.6041 segundos\n"
     ]
    },
    {
     "output_type": "stream",
     "name": "stderr",
     "text": [
      "/usr/local/lib/python3.11/dist-packages/scipy/sparse/_index.py:151: SparseEfficiencyWarning: Changing the sparsity structure of a csr_matrix is expensive. lil and dok are more efficient.\n",
      "  self._set_arrayXarray(i, j, x)\n"
     ]
    },
    {
     "output_type": "stream",
     "name": "stdout",
     "text": [
      "Iteraci\u00f3n 378: Convergi\u00f3 correctamente.\n",
      "Tiempo de ejecuci\u00f3n: 0.7253 segundos\n"
     ]
    },
    {
     "output_type": "stream",
     "name": "stderr",
     "text": [
      "/usr/local/lib/python3.11/dist-packages/scipy/sparse/_index.py:151: SparseEfficiencyWarning: Changing the sparsity structure of a csr_matrix is expensive. lil and dok are more efficient.\n",
      "  self._set_arrayXarray(i, j, x)\n"
     ]
    },
    {
     "output_type": "stream",
     "name": "stdout",
     "text": [
      "Iteraci\u00f3n 379: Convergi\u00f3 correctamente.\n",
      "Tiempo de ejecuci\u00f3n: 0.9134 segundos\n"
     ]
    },
    {
     "output_type": "stream",
     "name": "stderr",
     "text": [
      "/usr/local/lib/python3.11/dist-packages/scipy/sparse/_index.py:151: SparseEfficiencyWarning: Changing the sparsity structure of a csr_matrix is expensive. lil and dok are more efficient.\n",
      "  self._set_arrayXarray(i, j, x)\n"
     ]
    },
    {
     "output_type": "stream",
     "name": "stdout",
     "text": [
      "Iteraci\u00f3n 380: Convergi\u00f3 correctamente.\n",
      "Tiempo de ejecuci\u00f3n: 0.5377 segundos\n"
     ]
    },
    {
     "output_type": "stream",
     "name": "stderr",
     "text": [
      "/usr/local/lib/python3.11/dist-packages/scipy/sparse/_index.py:151: SparseEfficiencyWarning: Changing the sparsity structure of a csr_matrix is expensive. lil and dok are more efficient.\n",
      "  self._set_arrayXarray(i, j, x)\n"
     ]
    },
    {
     "output_type": "stream",
     "name": "stdout",
     "text": [
      "Iteraci\u00f3n 381: Convergi\u00f3 correctamente.\n",
      "Tiempo de ejecuci\u00f3n: 0.5609 segundos\n"
     ]
    },
    {
     "output_type": "stream",
     "name": "stderr",
     "text": [
      "/usr/local/lib/python3.11/dist-packages/scipy/sparse/_index.py:151: SparseEfficiencyWarning: Changing the sparsity structure of a csr_matrix is expensive. lil and dok are more efficient.\n",
      "  self._set_arrayXarray(i, j, x)\n"
     ]
    },
    {
     "output_type": "stream",
     "name": "stdout",
     "text": [
      "Iteraci\u00f3n 382: Convergi\u00f3 correctamente.\n",
      "Tiempo de ejecuci\u00f3n: 0.5698 segundos\n"
     ]
    },
    {
     "output_type": "stream",
     "name": "stderr",
     "text": [
      "/usr/local/lib/python3.11/dist-packages/scipy/sparse/_index.py:151: SparseEfficiencyWarning: Changing the sparsity structure of a csr_matrix is expensive. lil and dok are more efficient.\n",
      "  self._set_arrayXarray(i, j, x)\n"
     ]
    },
    {
     "output_type": "stream",
     "name": "stdout",
     "text": [
      "Iteraci\u00f3n 383: Convergi\u00f3 correctamente.\n",
      "Tiempo de ejecuci\u00f3n: 0.5488 segundos\n"
     ]
    },
    {
     "output_type": "stream",
     "name": "stderr",
     "text": [
      "/usr/local/lib/python3.11/dist-packages/scipy/sparse/_index.py:151: SparseEfficiencyWarning: Changing the sparsity structure of a csr_matrix is expensive. lil and dok are more efficient.\n",
      "  self._set_arrayXarray(i, j, x)\n"
     ]
    },
    {
     "output_type": "stream",
     "name": "stdout",
     "text": [
      "Iteraci\u00f3n 384: Convergi\u00f3 correctamente.\n",
      "Tiempo de ejecuci\u00f3n: 0.6279 segundos\n"
     ]
    },
    {
     "output_type": "stream",
     "name": "stderr",
     "text": [
      "/usr/local/lib/python3.11/dist-packages/scipy/sparse/_index.py:151: SparseEfficiencyWarning: Changing the sparsity structure of a csr_matrix is expensive. lil and dok are more efficient.\n",
      "  self._set_arrayXarray(i, j, x)\n"
     ]
    },
    {
     "output_type": "stream",
     "name": "stdout",
     "text": [
      "Iteraci\u00f3n 385: Convergi\u00f3 correctamente.\n",
      "Tiempo de ejecuci\u00f3n: 0.5748 segundos\n"
     ]
    },
    {
     "output_type": "stream",
     "name": "stderr",
     "text": [
      "/usr/local/lib/python3.11/dist-packages/scipy/sparse/_index.py:151: SparseEfficiencyWarning: Changing the sparsity structure of a csr_matrix is expensive. lil and dok are more efficient.\n",
      "  self._set_arrayXarray(i, j, x)\n"
     ]
    },
    {
     "output_type": "stream",
     "name": "stdout",
     "text": [
      "Iteraci\u00f3n 386: Convergi\u00f3 correctamente.\n",
      "Tiempo de ejecuci\u00f3n: 0.6191 segundos\n"
     ]
    },
    {
     "output_type": "stream",
     "name": "stderr",
     "text": [
      "/usr/local/lib/python3.11/dist-packages/scipy/sparse/_index.py:151: SparseEfficiencyWarning: Changing the sparsity structure of a csr_matrix is expensive. lil and dok are more efficient.\n",
      "  self._set_arrayXarray(i, j, x)\n"
     ]
    },
    {
     "output_type": "stream",
     "name": "stdout",
     "text": [
      "Iteraci\u00f3n 387: Convergi\u00f3 correctamente.\n",
      "Tiempo de ejecuci\u00f3n: 0.5988 segundos\n"
     ]
    },
    {
     "output_type": "stream",
     "name": "stderr",
     "text": [
      "/usr/local/lib/python3.11/dist-packages/scipy/sparse/_index.py:151: SparseEfficiencyWarning: Changing the sparsity structure of a csr_matrix is expensive. lil and dok are more efficient.\n",
      "  self._set_arrayXarray(i, j, x)\n"
     ]
    },
    {
     "output_type": "stream",
     "name": "stdout",
     "text": [
      "Iteraci\u00f3n 388: Convergi\u00f3 correctamente.\n",
      "Tiempo de ejecuci\u00f3n: 0.5236 segundos\n"
     ]
    },
    {
     "output_type": "stream",
     "name": "stderr",
     "text": [
      "/usr/local/lib/python3.11/dist-packages/scipy/sparse/_index.py:151: SparseEfficiencyWarning: Changing the sparsity structure of a csr_matrix is expensive. lil and dok are more efficient.\n",
      "  self._set_arrayXarray(i, j, x)\n"
     ]
    },
    {
     "output_type": "stream",
     "name": "stdout",
     "text": [
      "Iteraci\u00f3n 389: Convergi\u00f3 correctamente.\n",
      "Tiempo de ejecuci\u00f3n: 0.5341 segundos\n"
     ]
    },
    {
     "output_type": "stream",
     "name": "stderr",
     "text": [
      "/usr/local/lib/python3.11/dist-packages/scipy/sparse/_index.py:151: SparseEfficiencyWarning: Changing the sparsity structure of a csr_matrix is expensive. lil and dok are more efficient.\n",
      "  self._set_arrayXarray(i, j, x)\n"
     ]
    },
    {
     "output_type": "stream",
     "name": "stdout",
     "text": [
      "Iteraci\u00f3n 390: Convergi\u00f3 correctamente.\n",
      "Tiempo de ejecuci\u00f3n: 0.6108 segundos\n"
     ]
    },
    {
     "output_type": "stream",
     "name": "stderr",
     "text": [
      "/usr/local/lib/python3.11/dist-packages/scipy/sparse/_index.py:151: SparseEfficiencyWarning: Changing the sparsity structure of a csr_matrix is expensive. lil and dok are more efficient.\n",
      "  self._set_arrayXarray(i, j, x)\n"
     ]
    },
    {
     "output_type": "stream",
     "name": "stdout",
     "text": [
      "Iteraci\u00f3n 391: Convergi\u00f3 correctamente.\n",
      "Tiempo de ejecuci\u00f3n: 0.6570 segundos\n"
     ]
    },
    {
     "output_type": "stream",
     "name": "stderr",
     "text": [
      "/usr/local/lib/python3.11/dist-packages/scipy/sparse/_index.py:151: SparseEfficiencyWarning: Changing the sparsity structure of a csr_matrix is expensive. lil and dok are more efficient.\n",
      "  self._set_arrayXarray(i, j, x)\n"
     ]
    },
    {
     "output_type": "stream",
     "name": "stdout",
     "text": [
      "Iteraci\u00f3n 392: Convergi\u00f3 correctamente.\n",
      "Tiempo de ejecuci\u00f3n: 0.6176 segundos\n"
     ]
    },
    {
     "output_type": "stream",
     "name": "stderr",
     "text": [
      "/usr/local/lib/python3.11/dist-packages/scipy/sparse/_index.py:151: SparseEfficiencyWarning: Changing the sparsity structure of a csr_matrix is expensive. lil and dok are more efficient.\n",
      "  self._set_arrayXarray(i, j, x)\n"
     ]
    },
    {
     "output_type": "stream",
     "name": "stdout",
     "text": [
      "Iteraci\u00f3n 393: Convergi\u00f3 correctamente.\n",
      "Tiempo de ejecuci\u00f3n: 0.5583 segundos\n"
     ]
    },
    {
     "output_type": "stream",
     "name": "stderr",
     "text": [
      "/usr/local/lib/python3.11/dist-packages/scipy/sparse/_index.py:151: SparseEfficiencyWarning: Changing the sparsity structure of a csr_matrix is expensive. lil and dok are more efficient.\n",
      "  self._set_arrayXarray(i, j, x)\n"
     ]
    },
    {
     "output_type": "stream",
     "name": "stdout",
     "text": [
      "Iteraci\u00f3n 394: Convergi\u00f3 correctamente.\n",
      "Tiempo de ejecuci\u00f3n: 0.6421 segundos\n"
     ]
    },
    {
     "output_type": "stream",
     "name": "stderr",
     "text": [
      "/usr/local/lib/python3.11/dist-packages/scipy/sparse/_index.py:151: SparseEfficiencyWarning: Changing the sparsity structure of a csr_matrix is expensive. lil and dok are more efficient.\n",
      "  self._set_arrayXarray(i, j, x)\n"
     ]
    },
    {
     "output_type": "stream",
     "name": "stdout",
     "text": [
      "Iteraci\u00f3n 395: Convergi\u00f3 correctamente.\n",
      "Tiempo de ejecuci\u00f3n: 0.5192 segundos\n"
     ]
    },
    {
     "output_type": "stream",
     "name": "stderr",
     "text": [
      "/usr/local/lib/python3.11/dist-packages/scipy/sparse/_index.py:151: SparseEfficiencyWarning: Changing the sparsity structure of a csr_matrix is expensive. lil and dok are more efficient.\n",
      "  self._set_arrayXarray(i, j, x)\n"
     ]
    },
    {
     "output_type": "stream",
     "name": "stdout",
     "text": [
      "Iteraci\u00f3n 396: Convergi\u00f3 correctamente.\n",
      "Tiempo de ejecuci\u00f3n: 0.6675 segundos\n"
     ]
    },
    {
     "output_type": "stream",
     "name": "stderr",
     "text": [
      "/usr/local/lib/python3.11/dist-packages/scipy/sparse/_index.py:151: SparseEfficiencyWarning: Changing the sparsity structure of a csr_matrix is expensive. lil and dok are more efficient.\n",
      "  self._set_arrayXarray(i, j, x)\n"
     ]
    },
    {
     "output_type": "stream",
     "name": "stdout",
     "text": [
      "Iteraci\u00f3n 397: Convergi\u00f3 correctamente.\n",
      "Tiempo de ejecuci\u00f3n: 0.8045 segundos\n"
     ]
    },
    {
     "output_type": "stream",
     "name": "stderr",
     "text": [
      "/usr/local/lib/python3.11/dist-packages/scipy/sparse/_index.py:151: SparseEfficiencyWarning: Changing the sparsity structure of a csr_matrix is expensive. lil and dok are more efficient.\n",
      "  self._set_arrayXarray(i, j, x)\n"
     ]
    },
    {
     "output_type": "stream",
     "name": "stdout",
     "text": [
      "Iteraci\u00f3n 398: Convergi\u00f3 correctamente.\n",
      "Tiempo de ejecuci\u00f3n: 0.7180 segundos\n"
     ]
    },
    {
     "output_type": "stream",
     "name": "stderr",
     "text": [
      "/usr/local/lib/python3.11/dist-packages/scipy/sparse/_index.py:151: SparseEfficiencyWarning: Changing the sparsity structure of a csr_matrix is expensive. lil and dok are more efficient.\n",
      "  self._set_arrayXarray(i, j, x)\n"
     ]
    },
    {
     "output_type": "stream",
     "name": "stdout",
     "text": [
      "Iteraci\u00f3n 399: Convergi\u00f3 correctamente.\n",
      "Tiempo de ejecuci\u00f3n: 0.7105 segundos\n"
     ]
    },
    {
     "output_type": "stream",
     "name": "stderr",
     "text": [
      "/usr/local/lib/python3.11/dist-packages/scipy/sparse/_index.py:151: SparseEfficiencyWarning: Changing the sparsity structure of a csr_matrix is expensive. lil and dok are more efficient.\n",
      "  self._set_arrayXarray(i, j, x)\n",
      "<ipython-input-5-e9ab6229a877>:57: SparseEfficiencyWarning: spilu converted its input to CSC format\n",
      "  ilu = spilu(sistema_sparse)\n"
     ]
    },
    {
     "output_type": "stream",
     "name": "stdout",
     "text": [
      "Iteraci\u00f3n 400: Convergi\u00f3 correctamente.\n",
      "Tiempo de ejecuci\u00f3n: 4.7280 segundos\n"
     ]
    },
    {
     "output_type": "stream",
     "name": "stderr",
     "text": [
      "/usr/local/lib/python3.11/dist-packages/scipy/sparse/_index.py:151: SparseEfficiencyWarning: Changing the sparsity structure of a csr_matrix is expensive. lil and dok are more efficient.\n",
      "  self._set_arrayXarray(i, j, x)\n"
     ]
    },
    {
     "output_type": "stream",
     "name": "stdout",
     "text": [
      "Iteraci\u00f3n 401: Convergi\u00f3 correctamente.\n",
      "Tiempo de ejecuci\u00f3n: 0.4991 segundos\n"
     ]
    },
    {
     "output_type": "stream",
     "name": "stderr",
     "text": [
      "/usr/local/lib/python3.11/dist-packages/scipy/sparse/_index.py:151: SparseEfficiencyWarning: Changing the sparsity structure of a csr_matrix is expensive. lil and dok are more efficient.\n",
      "  self._set_arrayXarray(i, j, x)\n"
     ]
    },
    {
     "output_type": "stream",
     "name": "stdout",
     "text": [
      "Iteraci\u00f3n 402: Convergi\u00f3 correctamente.\n",
      "Tiempo de ejecuci\u00f3n: 0.4964 segundos\n"
     ]
    },
    {
     "output_type": "stream",
     "name": "stderr",
     "text": [
      "/usr/local/lib/python3.11/dist-packages/scipy/sparse/_index.py:151: SparseEfficiencyWarning: Changing the sparsity structure of a csr_matrix is expensive. lil and dok are more efficient.\n",
      "  self._set_arrayXarray(i, j, x)\n"
     ]
    },
    {
     "output_type": "stream",
     "name": "stdout",
     "text": [
      "Iteraci\u00f3n 403: Convergi\u00f3 correctamente.\n",
      "Tiempo de ejecuci\u00f3n: 0.5008 segundos\n"
     ]
    },
    {
     "output_type": "stream",
     "name": "stderr",
     "text": [
      "/usr/local/lib/python3.11/dist-packages/scipy/sparse/_index.py:151: SparseEfficiencyWarning: Changing the sparsity structure of a csr_matrix is expensive. lil and dok are more efficient.\n",
      "  self._set_arrayXarray(i, j, x)\n"
     ]
    },
    {
     "output_type": "stream",
     "name": "stdout",
     "text": [
      "Iteraci\u00f3n 404: Convergi\u00f3 correctamente.\n",
      "Tiempo de ejecuci\u00f3n: 0.5198 segundos\n"
     ]
    },
    {
     "output_type": "stream",
     "name": "stderr",
     "text": [
      "/usr/local/lib/python3.11/dist-packages/scipy/sparse/_index.py:151: SparseEfficiencyWarning: Changing the sparsity structure of a csr_matrix is expensive. lil and dok are more efficient.\n",
      "  self._set_arrayXarray(i, j, x)\n"
     ]
    },
    {
     "output_type": "stream",
     "name": "stdout",
     "text": [
      "Iteraci\u00f3n 405: Convergi\u00f3 correctamente.\n",
      "Tiempo de ejecuci\u00f3n: 0.4640 segundos\n"
     ]
    },
    {
     "output_type": "stream",
     "name": "stderr",
     "text": [
      "/usr/local/lib/python3.11/dist-packages/scipy/sparse/_index.py:151: SparseEfficiencyWarning: Changing the sparsity structure of a csr_matrix is expensive. lil and dok are more efficient.\n",
      "  self._set_arrayXarray(i, j, x)\n"
     ]
    },
    {
     "output_type": "stream",
     "name": "stdout",
     "text": [
      "Iteraci\u00f3n 406: Convergi\u00f3 correctamente.\n",
      "Tiempo de ejecuci\u00f3n: 0.4542 segundos\n"
     ]
    },
    {
     "output_type": "stream",
     "name": "stderr",
     "text": [
      "/usr/local/lib/python3.11/dist-packages/scipy/sparse/_index.py:151: SparseEfficiencyWarning: Changing the sparsity structure of a csr_matrix is expensive. lil and dok are more efficient.\n",
      "  self._set_arrayXarray(i, j, x)\n"
     ]
    },
    {
     "output_type": "stream",
     "name": "stdout",
     "text": [
      "Iteraci\u00f3n 407: Convergi\u00f3 correctamente.\n",
      "Tiempo de ejecuci\u00f3n: 0.4690 segundos\n"
     ]
    },
    {
     "output_type": "stream",
     "name": "stderr",
     "text": [
      "/usr/local/lib/python3.11/dist-packages/scipy/sparse/_index.py:151: SparseEfficiencyWarning: Changing the sparsity structure of a csr_matrix is expensive. lil and dok are more efficient.\n",
      "  self._set_arrayXarray(i, j, x)\n"
     ]
    },
    {
     "output_type": "stream",
     "name": "stdout",
     "text": [
      "Iteraci\u00f3n 408: Convergi\u00f3 correctamente.\n",
      "Tiempo de ejecuci\u00f3n: 0.4893 segundos\n"
     ]
    },
    {
     "output_type": "stream",
     "name": "stderr",
     "text": [
      "/usr/local/lib/python3.11/dist-packages/scipy/sparse/_index.py:151: SparseEfficiencyWarning: Changing the sparsity structure of a csr_matrix is expensive. lil and dok are more efficient.\n",
      "  self._set_arrayXarray(i, j, x)\n"
     ]
    },
    {
     "output_type": "stream",
     "name": "stdout",
     "text": [
      "Iteraci\u00f3n 409: Convergi\u00f3 correctamente.\n",
      "Tiempo de ejecuci\u00f3n: 0.5018 segundos\n"
     ]
    },
    {
     "output_type": "stream",
     "name": "stderr",
     "text": [
      "/usr/local/lib/python3.11/dist-packages/scipy/sparse/_index.py:151: SparseEfficiencyWarning: Changing the sparsity structure of a csr_matrix is expensive. lil and dok are more efficient.\n",
      "  self._set_arrayXarray(i, j, x)\n"
     ]
    },
    {
     "output_type": "stream",
     "name": "stdout",
     "text": [
      "Iteraci\u00f3n 410: Convergi\u00f3 correctamente.\n",
      "Tiempo de ejecuci\u00f3n: 0.5072 segundos\n"
     ]
    },
    {
     "output_type": "stream",
     "name": "stderr",
     "text": [
      "/usr/local/lib/python3.11/dist-packages/scipy/sparse/_index.py:151: SparseEfficiencyWarning: Changing the sparsity structure of a csr_matrix is expensive. lil and dok are more efficient.\n",
      "  self._set_arrayXarray(i, j, x)\n"
     ]
    },
    {
     "output_type": "stream",
     "name": "stdout",
     "text": [
      "Iteraci\u00f3n 411: Convergi\u00f3 correctamente.\n",
      "Tiempo de ejecuci\u00f3n: 1.0605 segundos\n"
     ]
    },
    {
     "output_type": "stream",
     "name": "stderr",
     "text": [
      "/usr/local/lib/python3.11/dist-packages/scipy/sparse/_index.py:151: SparseEfficiencyWarning: Changing the sparsity structure of a csr_matrix is expensive. lil and dok are more efficient.\n",
      "  self._set_arrayXarray(i, j, x)\n"
     ]
    },
    {
     "output_type": "stream",
     "name": "stdout",
     "text": [
      "Iteraci\u00f3n 412: Convergi\u00f3 correctamente.\n",
      "Tiempo de ejecuci\u00f3n: 0.6483 segundos\n"
     ]
    },
    {
     "output_type": "stream",
     "name": "stderr",
     "text": [
      "/usr/local/lib/python3.11/dist-packages/scipy/sparse/_index.py:151: SparseEfficiencyWarning: Changing the sparsity structure of a csr_matrix is expensive. lil and dok are more efficient.\n",
      "  self._set_arrayXarray(i, j, x)\n"
     ]
    },
    {
     "output_type": "stream",
     "name": "stdout",
     "text": [
      "Iteraci\u00f3n 413: Convergi\u00f3 correctamente.\n",
      "Tiempo de ejecuci\u00f3n: 0.5299 segundos\n"
     ]
    },
    {
     "output_type": "stream",
     "name": "stderr",
     "text": [
      "/usr/local/lib/python3.11/dist-packages/scipy/sparse/_index.py:151: SparseEfficiencyWarning: Changing the sparsity structure of a csr_matrix is expensive. lil and dok are more efficient.\n",
      "  self._set_arrayXarray(i, j, x)\n"
     ]
    },
    {
     "output_type": "stream",
     "name": "stdout",
     "text": [
      "Iteraci\u00f3n 414: Convergi\u00f3 correctamente.\n",
      "Tiempo de ejecuci\u00f3n: 0.5701 segundos\n"
     ]
    },
    {
     "output_type": "stream",
     "name": "stderr",
     "text": [
      "/usr/local/lib/python3.11/dist-packages/scipy/sparse/_index.py:151: SparseEfficiencyWarning: Changing the sparsity structure of a csr_matrix is expensive. lil and dok are more efficient.\n",
      "  self._set_arrayXarray(i, j, x)\n"
     ]
    },
    {
     "output_type": "stream",
     "name": "stdout",
     "text": [
      "Iteraci\u00f3n 415: Convergi\u00f3 correctamente.\n",
      "Tiempo de ejecuci\u00f3n: 0.5656 segundos\n"
     ]
    },
    {
     "output_type": "stream",
     "name": "stderr",
     "text": [
      "/usr/local/lib/python3.11/dist-packages/scipy/sparse/_index.py:151: SparseEfficiencyWarning: Changing the sparsity structure of a csr_matrix is expensive. lil and dok are more efficient.\n",
      "  self._set_arrayXarray(i, j, x)\n"
     ]
    },
    {
     "output_type": "stream",
     "name": "stdout",
     "text": [
      "Iteraci\u00f3n 416: Convergi\u00f3 correctamente.\n",
      "Tiempo de ejecuci\u00f3n: 0.6082 segundos\n"
     ]
    },
    {
     "output_type": "stream",
     "name": "stderr",
     "text": [
      "/usr/local/lib/python3.11/dist-packages/scipy/sparse/_index.py:151: SparseEfficiencyWarning: Changing the sparsity structure of a csr_matrix is expensive. lil and dok are more efficient.\n",
      "  self._set_arrayXarray(i, j, x)\n"
     ]
    },
    {
     "output_type": "stream",
     "name": "stdout",
     "text": [
      "Iteraci\u00f3n 417: Convergi\u00f3 correctamente.\n",
      "Tiempo de ejecuci\u00f3n: 0.5343 segundos\n"
     ]
    },
    {
     "output_type": "stream",
     "name": "stderr",
     "text": [
      "/usr/local/lib/python3.11/dist-packages/scipy/sparse/_index.py:151: SparseEfficiencyWarning: Changing the sparsity structure of a csr_matrix is expensive. lil and dok are more efficient.\n",
      "  self._set_arrayXarray(i, j, x)\n"
     ]
    },
    {
     "output_type": "stream",
     "name": "stdout",
     "text": [
      "Iteraci\u00f3n 418: Convergi\u00f3 correctamente.\n",
      "Tiempo de ejecuci\u00f3n: 0.6218 segundos\n"
     ]
    },
    {
     "output_type": "stream",
     "name": "stderr",
     "text": [
      "/usr/local/lib/python3.11/dist-packages/scipy/sparse/_index.py:151: SparseEfficiencyWarning: Changing the sparsity structure of a csr_matrix is expensive. lil and dok are more efficient.\n",
      "  self._set_arrayXarray(i, j, x)\n"
     ]
    },
    {
     "output_type": "stream",
     "name": "stdout",
     "text": [
      "Iteraci\u00f3n 419: Convergi\u00f3 correctamente.\n",
      "Tiempo de ejecuci\u00f3n: 0.5463 segundos\n"
     ]
    },
    {
     "output_type": "stream",
     "name": "stderr",
     "text": [
      "/usr/local/lib/python3.11/dist-packages/scipy/sparse/_index.py:151: SparseEfficiencyWarning: Changing the sparsity structure of a csr_matrix is expensive. lil and dok are more efficient.\n",
      "  self._set_arrayXarray(i, j, x)\n"
     ]
    },
    {
     "output_type": "stream",
     "name": "stdout",
     "text": [
      "Iteraci\u00f3n 420: Convergi\u00f3 correctamente.\n",
      "Tiempo de ejecuci\u00f3n: 0.5520 segundos\n"
     ]
    },
    {
     "output_type": "stream",
     "name": "stderr",
     "text": [
      "/usr/local/lib/python3.11/dist-packages/scipy/sparse/_index.py:151: SparseEfficiencyWarning: Changing the sparsity structure of a csr_matrix is expensive. lil and dok are more efficient.\n",
      "  self._set_arrayXarray(i, j, x)\n"
     ]
    },
    {
     "output_type": "stream",
     "name": "stdout",
     "text": [
      "Iteraci\u00f3n 421: Convergi\u00f3 correctamente.\n",
      "Tiempo de ejecuci\u00f3n: 0.5323 segundos\n"
     ]
    },
    {
     "output_type": "stream",
     "name": "stderr",
     "text": [
      "/usr/local/lib/python3.11/dist-packages/scipy/sparse/_index.py:151: SparseEfficiencyWarning: Changing the sparsity structure of a csr_matrix is expensive. lil and dok are more efficient.\n",
      "  self._set_arrayXarray(i, j, x)\n"
     ]
    },
    {
     "output_type": "stream",
     "name": "stdout",
     "text": [
      "Iteraci\u00f3n 422: Convergi\u00f3 correctamente.\n",
      "Tiempo de ejecuci\u00f3n: 0.5567 segundos\n"
     ]
    },
    {
     "output_type": "stream",
     "name": "stderr",
     "text": [
      "/usr/local/lib/python3.11/dist-packages/scipy/sparse/_index.py:151: SparseEfficiencyWarning: Changing the sparsity structure of a csr_matrix is expensive. lil and dok are more efficient.\n",
      "  self._set_arrayXarray(i, j, x)\n"
     ]
    },
    {
     "output_type": "stream",
     "name": "stdout",
     "text": [
      "Iteraci\u00f3n 423: Convergi\u00f3 correctamente.\n",
      "Tiempo de ejecuci\u00f3n: 0.5784 segundos\n"
     ]
    },
    {
     "output_type": "stream",
     "name": "stderr",
     "text": [
      "/usr/local/lib/python3.11/dist-packages/scipy/sparse/_index.py:151: SparseEfficiencyWarning: Changing the sparsity structure of a csr_matrix is expensive. lil and dok are more efficient.\n",
      "  self._set_arrayXarray(i, j, x)\n"
     ]
    },
    {
     "output_type": "stream",
     "name": "stdout",
     "text": [
      "Iteraci\u00f3n 424: Convergi\u00f3 correctamente.\n",
      "Tiempo de ejecuci\u00f3n: 0.5122 segundos\n"
     ]
    },
    {
     "output_type": "stream",
     "name": "stderr",
     "text": [
      "/usr/local/lib/python3.11/dist-packages/scipy/sparse/_index.py:151: SparseEfficiencyWarning: Changing the sparsity structure of a csr_matrix is expensive. lil and dok are more efficient.\n",
      "  self._set_arrayXarray(i, j, x)\n"
     ]
    },
    {
     "output_type": "stream",
     "name": "stdout",
     "text": [
      "Iteraci\u00f3n 425: Convergi\u00f3 correctamente.\n",
      "Tiempo de ejecuci\u00f3n: 0.5772 segundos\n"
     ]
    },
    {
     "output_type": "stream",
     "name": "stderr",
     "text": [
      "/usr/local/lib/python3.11/dist-packages/scipy/sparse/_index.py:151: SparseEfficiencyWarning: Changing the sparsity structure of a csr_matrix is expensive. lil and dok are more efficient.\n",
      "  self._set_arrayXarray(i, j, x)\n"
     ]
    },
    {
     "output_type": "stream",
     "name": "stdout",
     "text": [
      "Iteraci\u00f3n 426: Convergi\u00f3 correctamente.\n",
      "Tiempo de ejecuci\u00f3n: 0.5549 segundos\n"
     ]
    },
    {
     "output_type": "stream",
     "name": "stderr",
     "text": [
      "/usr/local/lib/python3.11/dist-packages/scipy/sparse/_index.py:151: SparseEfficiencyWarning: Changing the sparsity structure of a csr_matrix is expensive. lil and dok are more efficient.\n",
      "  self._set_arrayXarray(i, j, x)\n"
     ]
    },
    {
     "output_type": "stream",
     "name": "stdout",
     "text": [
      "Iteraci\u00f3n 427: Convergi\u00f3 correctamente.\n",
      "Tiempo de ejecuci\u00f3n: 0.5964 segundos\n"
     ]
    },
    {
     "output_type": "stream",
     "name": "stderr",
     "text": [
      "/usr/local/lib/python3.11/dist-packages/scipy/sparse/_index.py:151: SparseEfficiencyWarning: Changing the sparsity structure of a csr_matrix is expensive. lil and dok are more efficient.\n",
      "  self._set_arrayXarray(i, j, x)\n"
     ]
    },
    {
     "output_type": "stream",
     "name": "stdout",
     "text": [
      "Iteraci\u00f3n 428: Convergi\u00f3 correctamente.\n",
      "Tiempo de ejecuci\u00f3n: 0.5087 segundos\n"
     ]
    },
    {
     "output_type": "stream",
     "name": "stderr",
     "text": [
      "/usr/local/lib/python3.11/dist-packages/scipy/sparse/_index.py:151: SparseEfficiencyWarning: Changing the sparsity structure of a csr_matrix is expensive. lil and dok are more efficient.\n",
      "  self._set_arrayXarray(i, j, x)\n"
     ]
    },
    {
     "output_type": "stream",
     "name": "stdout",
     "text": [
      "Iteraci\u00f3n 429: Convergi\u00f3 correctamente.\n",
      "Tiempo de ejecuci\u00f3n: 0.6557 segundos\n"
     ]
    },
    {
     "output_type": "stream",
     "name": "stderr",
     "text": [
      "/usr/local/lib/python3.11/dist-packages/scipy/sparse/_index.py:151: SparseEfficiencyWarning: Changing the sparsity structure of a csr_matrix is expensive. lil and dok are more efficient.\n",
      "  self._set_arrayXarray(i, j, x)\n"
     ]
    },
    {
     "output_type": "stream",
     "name": "stdout",
     "text": [
      "Iteraci\u00f3n 430: Convergi\u00f3 correctamente.\n",
      "Tiempo de ejecuci\u00f3n: 1.0101 segundos\n"
     ]
    },
    {
     "output_type": "stream",
     "name": "stderr",
     "text": [
      "/usr/local/lib/python3.11/dist-packages/scipy/sparse/_index.py:151: SparseEfficiencyWarning: Changing the sparsity structure of a csr_matrix is expensive. lil and dok are more efficient.\n",
      "  self._set_arrayXarray(i, j, x)\n"
     ]
    },
    {
     "output_type": "stream",
     "name": "stdout",
     "text": [
      "Iteraci\u00f3n 431: Convergi\u00f3 correctamente.\n",
      "Tiempo de ejecuci\u00f3n: 0.7866 segundos\n"
     ]
    },
    {
     "output_type": "stream",
     "name": "stderr",
     "text": [
      "/usr/local/lib/python3.11/dist-packages/scipy/sparse/_index.py:151: SparseEfficiencyWarning: Changing the sparsity structure of a csr_matrix is expensive. lil and dok are more efficient.\n",
      "  self._set_arrayXarray(i, j, x)\n"
     ]
    },
    {
     "output_type": "stream",
     "name": "stdout",
     "text": [
      "Iteraci\u00f3n 432: Convergi\u00f3 correctamente.\n",
      "Tiempo de ejecuci\u00f3n: 0.5946 segundos\n"
     ]
    },
    {
     "output_type": "stream",
     "name": "stderr",
     "text": [
      "/usr/local/lib/python3.11/dist-packages/scipy/sparse/_index.py:151: SparseEfficiencyWarning: Changing the sparsity structure of a csr_matrix is expensive. lil and dok are more efficient.\n",
      "  self._set_arrayXarray(i, j, x)\n"
     ]
    },
    {
     "output_type": "stream",
     "name": "stdout",
     "text": [
      "Iteraci\u00f3n 433: Convergi\u00f3 correctamente.\n",
      "Tiempo de ejecuci\u00f3n: 0.5742 segundos\n"
     ]
    },
    {
     "output_type": "stream",
     "name": "stderr",
     "text": [
      "/usr/local/lib/python3.11/dist-packages/scipy/sparse/_index.py:151: SparseEfficiencyWarning: Changing the sparsity structure of a csr_matrix is expensive. lil and dok are more efficient.\n",
      "  self._set_arrayXarray(i, j, x)\n"
     ]
    },
    {
     "output_type": "stream",
     "name": "stdout",
     "text": [
      "Iteraci\u00f3n 434: Convergi\u00f3 correctamente.\n",
      "Tiempo de ejecuci\u00f3n: 0.6317 segundos\n"
     ]
    },
    {
     "output_type": "stream",
     "name": "stderr",
     "text": [
      "/usr/local/lib/python3.11/dist-packages/scipy/sparse/_index.py:151: SparseEfficiencyWarning: Changing the sparsity structure of a csr_matrix is expensive. lil and dok are more efficient.\n",
      "  self._set_arrayXarray(i, j, x)\n"
     ]
    },
    {
     "output_type": "stream",
     "name": "stdout",
     "text": [
      "Iteraci\u00f3n 435: Convergi\u00f3 correctamente.\n",
      "Tiempo de ejecuci\u00f3n: 0.6368 segundos\n"
     ]
    },
    {
     "output_type": "stream",
     "name": "stderr",
     "text": [
      "/usr/local/lib/python3.11/dist-packages/scipy/sparse/_index.py:151: SparseEfficiencyWarning: Changing the sparsity structure of a csr_matrix is expensive. lil and dok are more efficient.\n",
      "  self._set_arrayXarray(i, j, x)\n"
     ]
    },
    {
     "output_type": "stream",
     "name": "stdout",
     "text": [
      "Iteraci\u00f3n 436: Convergi\u00f3 correctamente.\n",
      "Tiempo de ejecuci\u00f3n: 0.6845 segundos\n"
     ]
    },
    {
     "output_type": "stream",
     "name": "stderr",
     "text": [
      "/usr/local/lib/python3.11/dist-packages/scipy/sparse/_index.py:151: SparseEfficiencyWarning: Changing the sparsity structure of a csr_matrix is expensive. lil and dok are more efficient.\n",
      "  self._set_arrayXarray(i, j, x)\n"
     ]
    },
    {
     "output_type": "stream",
     "name": "stdout",
     "text": [
      "Iteraci\u00f3n 437: Convergi\u00f3 correctamente.\n",
      "Tiempo de ejecuci\u00f3n: 0.6545 segundos\n"
     ]
    },
    {
     "output_type": "stream",
     "name": "stderr",
     "text": [
      "/usr/local/lib/python3.11/dist-packages/scipy/sparse/_index.py:151: SparseEfficiencyWarning: Changing the sparsity structure of a csr_matrix is expensive. lil and dok are more efficient.\n",
      "  self._set_arrayXarray(i, j, x)\n"
     ]
    },
    {
     "output_type": "stream",
     "name": "stdout",
     "text": [
      "Iteraci\u00f3n 438: Convergi\u00f3 correctamente.\n",
      "Tiempo de ejecuci\u00f3n: 0.6539 segundos\n"
     ]
    },
    {
     "output_type": "stream",
     "name": "stderr",
     "text": [
      "/usr/local/lib/python3.11/dist-packages/scipy/sparse/_index.py:151: SparseEfficiencyWarning: Changing the sparsity structure of a csr_matrix is expensive. lil and dok are more efficient.\n",
      "  self._set_arrayXarray(i, j, x)\n"
     ]
    },
    {
     "output_type": "stream",
     "name": "stdout",
     "text": [
      "Iteraci\u00f3n 439: Convergi\u00f3 correctamente.\n",
      "Tiempo de ejecuci\u00f3n: 0.6525 segundos\n"
     ]
    },
    {
     "output_type": "stream",
     "name": "stderr",
     "text": [
      "/usr/local/lib/python3.11/dist-packages/scipy/sparse/_index.py:151: SparseEfficiencyWarning: Changing the sparsity structure of a csr_matrix is expensive. lil and dok are more efficient.\n",
      "  self._set_arrayXarray(i, j, x)\n"
     ]
    },
    {
     "output_type": "stream",
     "name": "stdout",
     "text": [
      "Iteraci\u00f3n 440: Convergi\u00f3 correctamente.\n",
      "Tiempo de ejecuci\u00f3n: 0.6172 segundos\n"
     ]
    },
    {
     "output_type": "stream",
     "name": "stderr",
     "text": [
      "/usr/local/lib/python3.11/dist-packages/scipy/sparse/_index.py:151: SparseEfficiencyWarning: Changing the sparsity structure of a csr_matrix is expensive. lil and dok are more efficient.\n",
      "  self._set_arrayXarray(i, j, x)\n"
     ]
    },
    {
     "output_type": "stream",
     "name": "stdout",
     "text": [
      "Iteraci\u00f3n 441: Convergi\u00f3 correctamente.\n",
      "Tiempo de ejecuci\u00f3n: 0.6871 segundos\n"
     ]
    },
    {
     "output_type": "stream",
     "name": "stderr",
     "text": [
      "/usr/local/lib/python3.11/dist-packages/scipy/sparse/_index.py:151: SparseEfficiencyWarning: Changing the sparsity structure of a csr_matrix is expensive. lil and dok are more efficient.\n",
      "  self._set_arrayXarray(i, j, x)\n"
     ]
    },
    {
     "output_type": "stream",
     "name": "stdout",
     "text": [
      "Iteraci\u00f3n 442: Convergi\u00f3 correctamente.\n",
      "Tiempo de ejecuci\u00f3n: 0.5946 segundos\n"
     ]
    },
    {
     "output_type": "stream",
     "name": "stderr",
     "text": [
      "/usr/local/lib/python3.11/dist-packages/scipy/sparse/_index.py:151: SparseEfficiencyWarning: Changing the sparsity structure of a csr_matrix is expensive. lil and dok are more efficient.\n",
      "  self._set_arrayXarray(i, j, x)\n"
     ]
    },
    {
     "output_type": "stream",
     "name": "stdout",
     "text": [
      "Iteraci\u00f3n 443: Convergi\u00f3 correctamente.\n",
      "Tiempo de ejecuci\u00f3n: 0.6520 segundos\n"
     ]
    },
    {
     "output_type": "stream",
     "name": "stderr",
     "text": [
      "/usr/local/lib/python3.11/dist-packages/scipy/sparse/_index.py:151: SparseEfficiencyWarning: Changing the sparsity structure of a csr_matrix is expensive. lil and dok are more efficient.\n",
      "  self._set_arrayXarray(i, j, x)\n"
     ]
    },
    {
     "output_type": "stream",
     "name": "stdout",
     "text": [
      "Iteraci\u00f3n 444: Convergi\u00f3 correctamente.\n",
      "Tiempo de ejecuci\u00f3n: 0.6849 segundos\n"
     ]
    },
    {
     "output_type": "stream",
     "name": "stderr",
     "text": [
      "/usr/local/lib/python3.11/dist-packages/scipy/sparse/_index.py:151: SparseEfficiencyWarning: Changing the sparsity structure of a csr_matrix is expensive. lil and dok are more efficient.\n",
      "  self._set_arrayXarray(i, j, x)\n"
     ]
    },
    {
     "output_type": "stream",
     "name": "stdout",
     "text": [
      "Iteraci\u00f3n 445: Convergi\u00f3 correctamente.\n",
      "Tiempo de ejecuci\u00f3n: 0.4633 segundos\n"
     ]
    },
    {
     "output_type": "stream",
     "name": "stderr",
     "text": [
      "/usr/local/lib/python3.11/dist-packages/scipy/sparse/_index.py:151: SparseEfficiencyWarning: Changing the sparsity structure of a csr_matrix is expensive. lil and dok are more efficient.\n",
      "  self._set_arrayXarray(i, j, x)\n"
     ]
    },
    {
     "output_type": "stream",
     "name": "stdout",
     "text": [
      "Iteraci\u00f3n 446: Convergi\u00f3 correctamente.\n",
      "Tiempo de ejecuci\u00f3n: 0.6160 segundos\n"
     ]
    },
    {
     "output_type": "stream",
     "name": "stderr",
     "text": [
      "/usr/local/lib/python3.11/dist-packages/scipy/sparse/_index.py:151: SparseEfficiencyWarning: Changing the sparsity structure of a csr_matrix is expensive. lil and dok are more efficient.\n",
      "  self._set_arrayXarray(i, j, x)\n"
     ]
    },
    {
     "output_type": "stream",
     "name": "stdout",
     "text": [
      "Iteraci\u00f3n 447: Convergi\u00f3 correctamente.\n",
      "Tiempo de ejecuci\u00f3n: 0.7622 segundos\n"
     ]
    },
    {
     "output_type": "stream",
     "name": "stderr",
     "text": [
      "/usr/local/lib/python3.11/dist-packages/scipy/sparse/_index.py:151: SparseEfficiencyWarning: Changing the sparsity structure of a csr_matrix is expensive. lil and dok are more efficient.\n",
      "  self._set_arrayXarray(i, j, x)\n"
     ]
    },
    {
     "output_type": "stream",
     "name": "stdout",
     "text": [
      "Iteraci\u00f3n 448: Convergi\u00f3 correctamente.\n",
      "Tiempo de ejecuci\u00f3n: 0.9301 segundos\n"
     ]
    },
    {
     "output_type": "stream",
     "name": "stderr",
     "text": [
      "/usr/local/lib/python3.11/dist-packages/scipy/sparse/_index.py:151: SparseEfficiencyWarning: Changing the sparsity structure of a csr_matrix is expensive. lil and dok are more efficient.\n",
      "  self._set_arrayXarray(i, j, x)\n"
     ]
    },
    {
     "output_type": "stream",
     "name": "stdout",
     "text": [
      "Iteraci\u00f3n 449: Convergi\u00f3 correctamente.\n",
      "Tiempo de ejecuci\u00f3n: 0.5874 segundos\n"
     ]
    },
    {
     "output_type": "stream",
     "name": "stderr",
     "text": [
      "/usr/local/lib/python3.11/dist-packages/scipy/sparse/_index.py:151: SparseEfficiencyWarning: Changing the sparsity structure of a csr_matrix is expensive. lil and dok are more efficient.\n",
      "  self._set_arrayXarray(i, j, x)\n",
      "<ipython-input-5-e9ab6229a877>:57: SparseEfficiencyWarning: spilu converted its input to CSC format\n",
      "  ilu = spilu(sistema_sparse)\n"
     ]
    },
    {
     "output_type": "stream",
     "name": "stdout",
     "text": [
      "Iteraci\u00f3n 450: Convergi\u00f3 correctamente.\n",
      "Tiempo de ejecuci\u00f3n: 4.5379 segundos\n"
     ]
    },
    {
     "output_type": "stream",
     "name": "stderr",
     "text": [
      "/usr/local/lib/python3.11/dist-packages/scipy/sparse/_index.py:151: SparseEfficiencyWarning: Changing the sparsity structure of a csr_matrix is expensive. lil and dok are more efficient.\n",
      "  self._set_arrayXarray(i, j, x)\n"
     ]
    },
    {
     "output_type": "stream",
     "name": "stdout",
     "text": [
      "Iteraci\u00f3n 451: Convergi\u00f3 correctamente.\n",
      "Tiempo de ejecuci\u00f3n: 0.5170 segundos\n"
     ]
    },
    {
     "output_type": "stream",
     "name": "stderr",
     "text": [
      "/usr/local/lib/python3.11/dist-packages/scipy/sparse/_index.py:151: SparseEfficiencyWarning: Changing the sparsity structure of a csr_matrix is expensive. lil and dok are more efficient.\n",
      "  self._set_arrayXarray(i, j, x)\n"
     ]
    },
    {
     "output_type": "stream",
     "name": "stdout",
     "text": [
      "Iteraci\u00f3n 452: Convergi\u00f3 correctamente.\n",
      "Tiempo de ejecuci\u00f3n: 0.5075 segundos\n"
     ]
    },
    {
     "output_type": "stream",
     "name": "stderr",
     "text": [
      "/usr/local/lib/python3.11/dist-packages/scipy/sparse/_index.py:151: SparseEfficiencyWarning: Changing the sparsity structure of a csr_matrix is expensive. lil and dok are more efficient.\n",
      "  self._set_arrayXarray(i, j, x)\n"
     ]
    },
    {
     "output_type": "stream",
     "name": "stdout",
     "text": [
      "Iteraci\u00f3n 453: Convergi\u00f3 correctamente.\n",
      "Tiempo de ejecuci\u00f3n: 0.5352 segundos\n"
     ]
    },
    {
     "output_type": "stream",
     "name": "stderr",
     "text": [
      "/usr/local/lib/python3.11/dist-packages/scipy/sparse/_index.py:151: SparseEfficiencyWarning: Changing the sparsity structure of a csr_matrix is expensive. lil and dok are more efficient.\n",
      "  self._set_arrayXarray(i, j, x)\n"
     ]
    },
    {
     "output_type": "stream",
     "name": "stdout",
     "text": [
      "Iteraci\u00f3n 454: Convergi\u00f3 correctamente.\n",
      "Tiempo de ejecuci\u00f3n: 0.5664 segundos\n"
     ]
    },
    {
     "output_type": "stream",
     "name": "stderr",
     "text": [
      "/usr/local/lib/python3.11/dist-packages/scipy/sparse/_index.py:151: SparseEfficiencyWarning: Changing the sparsity structure of a csr_matrix is expensive. lil and dok are more efficient.\n",
      "  self._set_arrayXarray(i, j, x)\n"
     ]
    },
    {
     "output_type": "stream",
     "name": "stdout",
     "text": [
      "Iteraci\u00f3n 455: Convergi\u00f3 correctamente.\n",
      "Tiempo de ejecuci\u00f3n: 0.5524 segundos\n"
     ]
    },
    {
     "output_type": "stream",
     "name": "stderr",
     "text": [
      "/usr/local/lib/python3.11/dist-packages/scipy/sparse/_index.py:151: SparseEfficiencyWarning: Changing the sparsity structure of a csr_matrix is expensive. lil and dok are more efficient.\n",
      "  self._set_arrayXarray(i, j, x)\n"
     ]
    },
    {
     "output_type": "stream",
     "name": "stdout",
     "text": [
      "Iteraci\u00f3n 456: Convergi\u00f3 correctamente.\n",
      "Tiempo de ejecuci\u00f3n: 0.5285 segundos\n"
     ]
    },
    {
     "output_type": "stream",
     "name": "stderr",
     "text": [
      "/usr/local/lib/python3.11/dist-packages/scipy/sparse/_index.py:151: SparseEfficiencyWarning: Changing the sparsity structure of a csr_matrix is expensive. lil and dok are more efficient.\n",
      "  self._set_arrayXarray(i, j, x)\n"
     ]
    },
    {
     "output_type": "stream",
     "name": "stdout",
     "text": [
      "Iteraci\u00f3n 457: Convergi\u00f3 correctamente.\n",
      "Tiempo de ejecuci\u00f3n: 0.4800 segundos\n"
     ]
    },
    {
     "output_type": "stream",
     "name": "stderr",
     "text": [
      "/usr/local/lib/python3.11/dist-packages/scipy/sparse/_index.py:151: SparseEfficiencyWarning: Changing the sparsity structure of a csr_matrix is expensive. lil and dok are more efficient.\n",
      "  self._set_arrayXarray(i, j, x)\n"
     ]
    },
    {
     "output_type": "stream",
     "name": "stdout",
     "text": [
      "Iteraci\u00f3n 458: Convergi\u00f3 correctamente.\n",
      "Tiempo de ejecuci\u00f3n: 0.4996 segundos\n"
     ]
    },
    {
     "output_type": "stream",
     "name": "stderr",
     "text": [
      "/usr/local/lib/python3.11/dist-packages/scipy/sparse/_index.py:151: SparseEfficiencyWarning: Changing the sparsity structure of a csr_matrix is expensive. lil and dok are more efficient.\n",
      "  self._set_arrayXarray(i, j, x)\n"
     ]
    },
    {
     "output_type": "stream",
     "name": "stdout",
     "text": [
      "Iteraci\u00f3n 459: Convergi\u00f3 correctamente.\n",
      "Tiempo de ejecuci\u00f3n: 0.5461 segundos\n"
     ]
    },
    {
     "output_type": "stream",
     "name": "stderr",
     "text": [
      "/usr/local/lib/python3.11/dist-packages/scipy/sparse/_index.py:151: SparseEfficiencyWarning: Changing the sparsity structure of a csr_matrix is expensive. lil and dok are more efficient.\n",
      "  self._set_arrayXarray(i, j, x)\n"
     ]
    },
    {
     "output_type": "stream",
     "name": "stdout",
     "text": [
      "Iteraci\u00f3n 460: Convergi\u00f3 correctamente.\n",
      "Tiempo de ejecuci\u00f3n: 0.5752 segundos\n"
     ]
    },
    {
     "output_type": "stream",
     "name": "stderr",
     "text": [
      "/usr/local/lib/python3.11/dist-packages/scipy/sparse/_index.py:151: SparseEfficiencyWarning: Changing the sparsity structure of a csr_matrix is expensive. lil and dok are more efficient.\n",
      "  self._set_arrayXarray(i, j, x)\n"
     ]
    },
    {
     "output_type": "stream",
     "name": "stdout",
     "text": [
      "Iteraci\u00f3n 461: Convergi\u00f3 correctamente.\n",
      "Tiempo de ejecuci\u00f3n: 1.0257 segundos\n"
     ]
    },
    {
     "output_type": "stream",
     "name": "stderr",
     "text": [
      "/usr/local/lib/python3.11/dist-packages/scipy/sparse/_index.py:151: SparseEfficiencyWarning: Changing the sparsity structure of a csr_matrix is expensive. lil and dok are more efficient.\n",
      "  self._set_arrayXarray(i, j, x)\n"
     ]
    },
    {
     "output_type": "stream",
     "name": "stdout",
     "text": [
      "Iteraci\u00f3n 462: Convergi\u00f3 correctamente.\n",
      "Tiempo de ejecuci\u00f3n: 0.7702 segundos\n"
     ]
    },
    {
     "output_type": "stream",
     "name": "stderr",
     "text": [
      "/usr/local/lib/python3.11/dist-packages/scipy/sparse/_index.py:151: SparseEfficiencyWarning: Changing the sparsity structure of a csr_matrix is expensive. lil and dok are more efficient.\n",
      "  self._set_arrayXarray(i, j, x)\n"
     ]
    },
    {
     "output_type": "stream",
     "name": "stdout",
     "text": [
      "Iteraci\u00f3n 463: Convergi\u00f3 correctamente.\n",
      "Tiempo de ejecuci\u00f3n: 0.5113 segundos\n"
     ]
    },
    {
     "output_type": "stream",
     "name": "stderr",
     "text": [
      "/usr/local/lib/python3.11/dist-packages/scipy/sparse/_index.py:151: SparseEfficiencyWarning: Changing the sparsity structure of a csr_matrix is expensive. lil and dok are more efficient.\n",
      "  self._set_arrayXarray(i, j, x)\n"
     ]
    },
    {
     "output_type": "stream",
     "name": "stdout",
     "text": [
      "Iteraci\u00f3n 464: Convergi\u00f3 correctamente.\n",
      "Tiempo de ejecuci\u00f3n: 0.5453 segundos\n"
     ]
    },
    {
     "output_type": "stream",
     "name": "stderr",
     "text": [
      "/usr/local/lib/python3.11/dist-packages/scipy/sparse/_index.py:151: SparseEfficiencyWarning: Changing the sparsity structure of a csr_matrix is expensive. lil and dok are more efficient.\n",
      "  self._set_arrayXarray(i, j, x)\n"
     ]
    },
    {
     "output_type": "stream",
     "name": "stdout",
     "text": [
      "Iteraci\u00f3n 465: Convergi\u00f3 correctamente.\n",
      "Tiempo de ejecuci\u00f3n: 0.6263 segundos\n"
     ]
    },
    {
     "output_type": "stream",
     "name": "stderr",
     "text": [
      "/usr/local/lib/python3.11/dist-packages/scipy/sparse/_index.py:151: SparseEfficiencyWarning: Changing the sparsity structure of a csr_matrix is expensive. lil and dok are more efficient.\n",
      "  self._set_arrayXarray(i, j, x)\n"
     ]
    },
    {
     "output_type": "stream",
     "name": "stdout",
     "text": [
      "Iteraci\u00f3n 466: Convergi\u00f3 correctamente.\n",
      "Tiempo de ejecuci\u00f3n: 0.5672 segundos\n"
     ]
    },
    {
     "output_type": "stream",
     "name": "stderr",
     "text": [
      "/usr/local/lib/python3.11/dist-packages/scipy/sparse/_index.py:151: SparseEfficiencyWarning: Changing the sparsity structure of a csr_matrix is expensive. lil and dok are more efficient.\n",
      "  self._set_arrayXarray(i, j, x)\n"
     ]
    },
    {
     "output_type": "stream",
     "name": "stdout",
     "text": [
      "Iteraci\u00f3n 467: Convergi\u00f3 correctamente.\n",
      "Tiempo de ejecuci\u00f3n: 0.6282 segundos\n"
     ]
    },
    {
     "output_type": "stream",
     "name": "stderr",
     "text": [
      "/usr/local/lib/python3.11/dist-packages/scipy/sparse/_index.py:151: SparseEfficiencyWarning: Changing the sparsity structure of a csr_matrix is expensive. lil and dok are more efficient.\n",
      "  self._set_arrayXarray(i, j, x)\n"
     ]
    },
    {
     "output_type": "stream",
     "name": "stdout",
     "text": [
      "Iteraci\u00f3n 468: Convergi\u00f3 correctamente.\n",
      "Tiempo de ejecuci\u00f3n: 0.5579 segundos\n"
     ]
    },
    {
     "output_type": "stream",
     "name": "stderr",
     "text": [
      "/usr/local/lib/python3.11/dist-packages/scipy/sparse/_index.py:151: SparseEfficiencyWarning: Changing the sparsity structure of a csr_matrix is expensive. lil and dok are more efficient.\n",
      "  self._set_arrayXarray(i, j, x)\n"
     ]
    },
    {
     "output_type": "stream",
     "name": "stdout",
     "text": [
      "Iteraci\u00f3n 469: Convergi\u00f3 correctamente.\n",
      "Tiempo de ejecuci\u00f3n: 0.5783 segundos\n"
     ]
    },
    {
     "output_type": "stream",
     "name": "stderr",
     "text": [
      "/usr/local/lib/python3.11/dist-packages/scipy/sparse/_index.py:151: SparseEfficiencyWarning: Changing the sparsity structure of a csr_matrix is expensive. lil and dok are more efficient.\n",
      "  self._set_arrayXarray(i, j, x)\n"
     ]
    },
    {
     "output_type": "stream",
     "name": "stdout",
     "text": [
      "Iteraci\u00f3n 470: Convergi\u00f3 correctamente.\n",
      "Tiempo de ejecuci\u00f3n: 0.5447 segundos\n"
     ]
    },
    {
     "output_type": "stream",
     "name": "stderr",
     "text": [
      "/usr/local/lib/python3.11/dist-packages/scipy/sparse/_index.py:151: SparseEfficiencyWarning: Changing the sparsity structure of a csr_matrix is expensive. lil and dok are more efficient.\n",
      "  self._set_arrayXarray(i, j, x)\n"
     ]
    },
    {
     "output_type": "stream",
     "name": "stdout",
     "text": [
      "Iteraci\u00f3n 471: Convergi\u00f3 correctamente.\n",
      "Tiempo de ejecuci\u00f3n: 0.4960 segundos\n"
     ]
    },
    {
     "output_type": "stream",
     "name": "stderr",
     "text": [
      "/usr/local/lib/python3.11/dist-packages/scipy/sparse/_index.py:151: SparseEfficiencyWarning: Changing the sparsity structure of a csr_matrix is expensive. lil and dok are more efficient.\n",
      "  self._set_arrayXarray(i, j, x)\n"
     ]
    },
    {
     "output_type": "stream",
     "name": "stdout",
     "text": [
      "Iteraci\u00f3n 472: Convergi\u00f3 correctamente.\n",
      "Tiempo de ejecuci\u00f3n: 0.5503 segundos\n"
     ]
    },
    {
     "output_type": "stream",
     "name": "stderr",
     "text": [
      "/usr/local/lib/python3.11/dist-packages/scipy/sparse/_index.py:151: SparseEfficiencyWarning: Changing the sparsity structure of a csr_matrix is expensive. lil and dok are more efficient.\n",
      "  self._set_arrayXarray(i, j, x)\n"
     ]
    },
    {
     "output_type": "stream",
     "name": "stdout",
     "text": [
      "Iteraci\u00f3n 473: Convergi\u00f3 correctamente.\n",
      "Tiempo de ejecuci\u00f3n: 0.5682 segundos\n"
     ]
    },
    {
     "output_type": "stream",
     "name": "stderr",
     "text": [
      "/usr/local/lib/python3.11/dist-packages/scipy/sparse/_index.py:151: SparseEfficiencyWarning: Changing the sparsity structure of a csr_matrix is expensive. lil and dok are more efficient.\n",
      "  self._set_arrayXarray(i, j, x)\n"
     ]
    },
    {
     "output_type": "stream",
     "name": "stdout",
     "text": [
      "Iteraci\u00f3n 474: Convergi\u00f3 correctamente.\n",
      "Tiempo de ejecuci\u00f3n: 0.6319 segundos\n"
     ]
    },
    {
     "output_type": "stream",
     "name": "stderr",
     "text": [
      "/usr/local/lib/python3.11/dist-packages/scipy/sparse/_index.py:151: SparseEfficiencyWarning: Changing the sparsity structure of a csr_matrix is expensive. lil and dok are more efficient.\n",
      "  self._set_arrayXarray(i, j, x)\n"
     ]
    },
    {
     "output_type": "stream",
     "name": "stdout",
     "text": [
      "Iteraci\u00f3n 475: Convergi\u00f3 correctamente.\n",
      "Tiempo de ejecuci\u00f3n: 0.5801 segundos\n"
     ]
    },
    {
     "output_type": "stream",
     "name": "stderr",
     "text": [
      "/usr/local/lib/python3.11/dist-packages/scipy/sparse/_index.py:151: SparseEfficiencyWarning: Changing the sparsity structure of a csr_matrix is expensive. lil and dok are more efficient.\n",
      "  self._set_arrayXarray(i, j, x)\n"
     ]
    },
    {
     "output_type": "stream",
     "name": "stdout",
     "text": [
      "Iteraci\u00f3n 476: Convergi\u00f3 correctamente.\n",
      "Tiempo de ejecuci\u00f3n: 0.6047 segundos\n"
     ]
    },
    {
     "output_type": "stream",
     "name": "stderr",
     "text": [
      "/usr/local/lib/python3.11/dist-packages/scipy/sparse/_index.py:151: SparseEfficiencyWarning: Changing the sparsity structure of a csr_matrix is expensive. lil and dok are more efficient.\n",
      "  self._set_arrayXarray(i, j, x)\n"
     ]
    },
    {
     "output_type": "stream",
     "name": "stdout",
     "text": [
      "Iteraci\u00f3n 477: Convergi\u00f3 correctamente.\n",
      "Tiempo de ejecuci\u00f3n: 0.6351 segundos\n"
     ]
    },
    {
     "output_type": "stream",
     "name": "stderr",
     "text": [
      "/usr/local/lib/python3.11/dist-packages/scipy/sparse/_index.py:151: SparseEfficiencyWarning: Changing the sparsity structure of a csr_matrix is expensive. lil and dok are more efficient.\n",
      "  self._set_arrayXarray(i, j, x)\n"
     ]
    },
    {
     "output_type": "stream",
     "name": "stdout",
     "text": [
      "Iteraci\u00f3n 478: Convergi\u00f3 correctamente.\n",
      "Tiempo de ejecuci\u00f3n: 0.5720 segundos\n"
     ]
    },
    {
     "output_type": "stream",
     "name": "stderr",
     "text": [
      "/usr/local/lib/python3.11/dist-packages/scipy/sparse/_index.py:151: SparseEfficiencyWarning: Changing the sparsity structure of a csr_matrix is expensive. lil and dok are more efficient.\n",
      "  self._set_arrayXarray(i, j, x)\n"
     ]
    },
    {
     "output_type": "stream",
     "name": "stdout",
     "text": [
      "Iteraci\u00f3n 479: Convergi\u00f3 correctamente.\n",
      "Tiempo de ejecuci\u00f3n: 0.5765 segundos\n"
     ]
    },
    {
     "output_type": "stream",
     "name": "stderr",
     "text": [
      "/usr/local/lib/python3.11/dist-packages/scipy/sparse/_index.py:151: SparseEfficiencyWarning: Changing the sparsity structure of a csr_matrix is expensive. lil and dok are more efficient.\n",
      "  self._set_arrayXarray(i, j, x)\n"
     ]
    },
    {
     "output_type": "stream",
     "name": "stdout",
     "text": [
      "Iteraci\u00f3n 480: Convergi\u00f3 correctamente.\n",
      "Tiempo de ejecuci\u00f3n: 1.0311 segundos\n"
     ]
    },
    {
     "output_type": "stream",
     "name": "stderr",
     "text": [
      "/usr/local/lib/python3.11/dist-packages/scipy/sparse/_index.py:151: SparseEfficiencyWarning: Changing the sparsity structure of a csr_matrix is expensive. lil and dok are more efficient.\n",
      "  self._set_arrayXarray(i, j, x)\n"
     ]
    },
    {
     "output_type": "stream",
     "name": "stdout",
     "text": [
      "Iteraci\u00f3n 481: Convergi\u00f3 correctamente.\n",
      "Tiempo de ejecuci\u00f3n: 0.8008 segundos\n"
     ]
    },
    {
     "output_type": "stream",
     "name": "stderr",
     "text": [
      "/usr/local/lib/python3.11/dist-packages/scipy/sparse/_index.py:151: SparseEfficiencyWarning: Changing the sparsity structure of a csr_matrix is expensive. lil and dok are more efficient.\n",
      "  self._set_arrayXarray(i, j, x)\n"
     ]
    },
    {
     "output_type": "stream",
     "name": "stdout",
     "text": [
      "Iteraci\u00f3n 482: Convergi\u00f3 correctamente.\n",
      "Tiempo de ejecuci\u00f3n: 0.5965 segundos\n"
     ]
    },
    {
     "output_type": "stream",
     "name": "stderr",
     "text": [
      "/usr/local/lib/python3.11/dist-packages/scipy/sparse/_index.py:151: SparseEfficiencyWarning: Changing the sparsity structure of a csr_matrix is expensive. lil and dok are more efficient.\n",
      "  self._set_arrayXarray(i, j, x)\n"
     ]
    },
    {
     "output_type": "stream",
     "name": "stdout",
     "text": [
      "Iteraci\u00f3n 483: Convergi\u00f3 correctamente.\n",
      "Tiempo de ejecuci\u00f3n: 0.5682 segundos\n"
     ]
    },
    {
     "output_type": "stream",
     "name": "stderr",
     "text": [
      "/usr/local/lib/python3.11/dist-packages/scipy/sparse/_index.py:151: SparseEfficiencyWarning: Changing the sparsity structure of a csr_matrix is expensive. lil and dok are more efficient.\n",
      "  self._set_arrayXarray(i, j, x)\n"
     ]
    },
    {
     "output_type": "stream",
     "name": "stdout",
     "text": [
      "Iteraci\u00f3n 484: Convergi\u00f3 correctamente.\n",
      "Tiempo de ejecuci\u00f3n: 0.7136 segundos\n"
     ]
    },
    {
     "output_type": "stream",
     "name": "stderr",
     "text": [
      "/usr/local/lib/python3.11/dist-packages/scipy/sparse/_index.py:151: SparseEfficiencyWarning: Changing the sparsity structure of a csr_matrix is expensive. lil and dok are more efficient.\n",
      "  self._set_arrayXarray(i, j, x)\n"
     ]
    },
    {
     "output_type": "stream",
     "name": "stdout",
     "text": [
      "Iteraci\u00f3n 485: Convergi\u00f3 correctamente.\n",
      "Tiempo de ejecuci\u00f3n: 0.6150 segundos\n"
     ]
    },
    {
     "output_type": "stream",
     "name": "stderr",
     "text": [
      "/usr/local/lib/python3.11/dist-packages/scipy/sparse/_index.py:151: SparseEfficiencyWarning: Changing the sparsity structure of a csr_matrix is expensive. lil and dok are more efficient.\n",
      "  self._set_arrayXarray(i, j, x)\n"
     ]
    },
    {
     "output_type": "stream",
     "name": "stdout",
     "text": [
      "Iteraci\u00f3n 486: Convergi\u00f3 correctamente.\n",
      "Tiempo de ejecuci\u00f3n: 0.7100 segundos\n"
     ]
    },
    {
     "output_type": "stream",
     "name": "stderr",
     "text": [
      "/usr/local/lib/python3.11/dist-packages/scipy/sparse/_index.py:151: SparseEfficiencyWarning: Changing the sparsity structure of a csr_matrix is expensive. lil and dok are more efficient.\n",
      "  self._set_arrayXarray(i, j, x)\n"
     ]
    },
    {
     "output_type": "stream",
     "name": "stdout",
     "text": [
      "Iteraci\u00f3n 487: Convergi\u00f3 correctamente.\n",
      "Tiempo de ejecuci\u00f3n: 0.6836 segundos\n"
     ]
    },
    {
     "output_type": "stream",
     "name": "stderr",
     "text": [
      "/usr/local/lib/python3.11/dist-packages/scipy/sparse/_index.py:151: SparseEfficiencyWarning: Changing the sparsity structure of a csr_matrix is expensive. lil and dok are more efficient.\n",
      "  self._set_arrayXarray(i, j, x)\n"
     ]
    },
    {
     "output_type": "stream",
     "name": "stdout",
     "text": [
      "Iteraci\u00f3n 488: Convergi\u00f3 correctamente.\n",
      "Tiempo de ejecuci\u00f3n: 0.6594 segundos\n"
     ]
    },
    {
     "output_type": "stream",
     "name": "stderr",
     "text": [
      "/usr/local/lib/python3.11/dist-packages/scipy/sparse/_index.py:151: SparseEfficiencyWarning: Changing the sparsity structure of a csr_matrix is expensive. lil and dok are more efficient.\n",
      "  self._set_arrayXarray(i, j, x)\n"
     ]
    },
    {
     "output_type": "stream",
     "name": "stdout",
     "text": [
      "Iteraci\u00f3n 489: Convergi\u00f3 correctamente.\n",
      "Tiempo de ejecuci\u00f3n: 0.6142 segundos\n"
     ]
    },
    {
     "output_type": "stream",
     "name": "stderr",
     "text": [
      "/usr/local/lib/python3.11/dist-packages/scipy/sparse/_index.py:151: SparseEfficiencyWarning: Changing the sparsity structure of a csr_matrix is expensive. lil and dok are more efficient.\n",
      "  self._set_arrayXarray(i, j, x)\n"
     ]
    },
    {
     "output_type": "stream",
     "name": "stdout",
     "text": [
      "Iteraci\u00f3n 490: Convergi\u00f3 correctamente.\n",
      "Tiempo de ejecuci\u00f3n: 0.6076 segundos\n"
     ]
    },
    {
     "output_type": "stream",
     "name": "stderr",
     "text": [
      "/usr/local/lib/python3.11/dist-packages/scipy/sparse/_index.py:151: SparseEfficiencyWarning: Changing the sparsity structure of a csr_matrix is expensive. lil and dok are more efficient.\n",
      "  self._set_arrayXarray(i, j, x)\n"
     ]
    },
    {
     "output_type": "stream",
     "name": "stdout",
     "text": [
      "Iteraci\u00f3n 491: Convergi\u00f3 correctamente.\n",
      "Tiempo de ejecuci\u00f3n: 0.7262 segundos\n"
     ]
    },
    {
     "output_type": "stream",
     "name": "stderr",
     "text": [
      "/usr/local/lib/python3.11/dist-packages/scipy/sparse/_index.py:151: SparseEfficiencyWarning: Changing the sparsity structure of a csr_matrix is expensive. lil and dok are more efficient.\n",
      "  self._set_arrayXarray(i, j, x)\n"
     ]
    },
    {
     "output_type": "stream",
     "name": "stdout",
     "text": [
      "Iteraci\u00f3n 492: Convergi\u00f3 correctamente.\n",
      "Tiempo de ejecuci\u00f3n: 0.7386 segundos\n"
     ]
    },
    {
     "output_type": "stream",
     "name": "stderr",
     "text": [
      "/usr/local/lib/python3.11/dist-packages/scipy/sparse/_index.py:151: SparseEfficiencyWarning: Changing the sparsity structure of a csr_matrix is expensive. lil and dok are more efficient.\n",
      "  self._set_arrayXarray(i, j, x)\n"
     ]
    },
    {
     "output_type": "stream",
     "name": "stdout",
     "text": [
      "Iteraci\u00f3n 493: Convergi\u00f3 correctamente.\n",
      "Tiempo de ejecuci\u00f3n: 0.5811 segundos\n"
     ]
    },
    {
     "output_type": "stream",
     "name": "stderr",
     "text": [
      "/usr/local/lib/python3.11/dist-packages/scipy/sparse/_index.py:151: SparseEfficiencyWarning: Changing the sparsity structure of a csr_matrix is expensive. lil and dok are more efficient.\n",
      "  self._set_arrayXarray(i, j, x)\n"
     ]
    },
    {
     "output_type": "stream",
     "name": "stdout",
     "text": [
      "Iteraci\u00f3n 494: Convergi\u00f3 correctamente.\n",
      "Tiempo de ejecuci\u00f3n: 0.6770 segundos\n"
     ]
    },
    {
     "output_type": "stream",
     "name": "stderr",
     "text": [
      "/usr/local/lib/python3.11/dist-packages/scipy/sparse/_index.py:151: SparseEfficiencyWarning: Changing the sparsity structure of a csr_matrix is expensive. lil and dok are more efficient.\n",
      "  self._set_arrayXarray(i, j, x)\n"
     ]
    },
    {
     "output_type": "stream",
     "name": "stdout",
     "text": [
      "Iteraci\u00f3n 495: Convergi\u00f3 correctamente.\n",
      "Tiempo de ejecuci\u00f3n: 0.6961 segundos\n"
     ]
    },
    {
     "output_type": "stream",
     "name": "stderr",
     "text": [
      "/usr/local/lib/python3.11/dist-packages/scipy/sparse/_index.py:151: SparseEfficiencyWarning: Changing the sparsity structure of a csr_matrix is expensive. lil and dok are more efficient.\n",
      "  self._set_arrayXarray(i, j, x)\n"
     ]
    },
    {
     "output_type": "stream",
     "name": "stdout",
     "text": [
      "Iteraci\u00f3n 496: Convergi\u00f3 correctamente.\n",
      "Tiempo de ejecuci\u00f3n: 0.7489 segundos\n"
     ]
    },
    {
     "output_type": "stream",
     "name": "stderr",
     "text": [
      "/usr/local/lib/python3.11/dist-packages/scipy/sparse/_index.py:151: SparseEfficiencyWarning: Changing the sparsity structure of a csr_matrix is expensive. lil and dok are more efficient.\n",
      "  self._set_arrayXarray(i, j, x)\n"
     ]
    },
    {
     "output_type": "stream",
     "name": "stdout",
     "text": [
      "Iteraci\u00f3n 497: Convergi\u00f3 correctamente.\n",
      "Tiempo de ejecuci\u00f3n: 1.1166 segundos\n"
     ]
    },
    {
     "output_type": "stream",
     "name": "stderr",
     "text": [
      "/usr/local/lib/python3.11/dist-packages/scipy/sparse/_index.py:151: SparseEfficiencyWarning: Changing the sparsity structure of a csr_matrix is expensive. lil and dok are more efficient.\n",
      "  self._set_arrayXarray(i, j, x)\n"
     ]
    },
    {
     "output_type": "stream",
     "name": "stdout",
     "text": [
      "Iteraci\u00f3n 498: Convergi\u00f3 correctamente.\n",
      "Tiempo de ejecuci\u00f3n: 0.8231 segundos\n"
     ]
    },
    {
     "output_type": "stream",
     "name": "stderr",
     "text": [
      "/usr/local/lib/python3.11/dist-packages/scipy/sparse/_index.py:151: SparseEfficiencyWarning: Changing the sparsity structure of a csr_matrix is expensive. lil and dok are more efficient.\n",
      "  self._set_arrayXarray(i, j, x)\n"
     ]
    },
    {
     "output_type": "stream",
     "name": "stdout",
     "text": [
      "Iteraci\u00f3n 499: Convergi\u00f3 correctamente.\n",
      "Tiempo de ejecuci\u00f3n: 0.6591 segundos\n",
      "         2283836 function calls (2278302 primitive calls) in 325.283 seconds\n",
      "\n",
      "   Ordered by: cumulative time\n",
      "   List reduced from 693 to 40 due to restriction <40>\n",
      "\n",
      "   ncalls  tottime  percall  cumtime  percall filename:lineno(function)\n",
      "        3    0.000    0.000  325.477  108.492 /usr/local/lib/python3.11/dist-packages/IPython/core/interactiveshell.py:3512(run_code)\n",
      "      5/3    0.000    0.000  325.477  108.492 {built-in method builtins.exec}\n",
      "      500  124.468    0.249  187.046    0.374 <ipython-input-5-e9ab6229a877>:6(arbol)\n",
      "      500    7.058    0.014  110.782    0.222 /usr/local/lib/python3.11/dist-packages/scipy/sparse/linalg/_isolve/iterative.py:537(gmres)\n",
      "    20774    0.216    0.000   99.148    0.005 /usr/local/lib/python3.11/dist-packages/scipy/sparse/linalg/_interface.py:205(matvec)\n",
      "    10392    0.021    0.000   64.785    0.006 /usr/local/lib/python3.11/dist-packages/scipy/sparse/linalg/_interface.py:592(_matvec)\n",
      "    10392   64.764    0.006   64.764    0.006 {method 'solve' of 'SuperLU' objects}\n",
      "     1000    0.008    0.000   48.087    0.048 /usr/local/lib/python3.11/dist-packages/scipy/sparse/_csr.py:39(__setitem__)\n",
      "     1000    0.022    0.000   48.077    0.048 /usr/local/lib/python3.11/dist-packages/scipy/sparse/_index.py:101(__setitem__)\n",
      "     1000    0.324    0.000   47.917    0.048 /usr/local/lib/python3.11/dist-packages/scipy/sparse/_compressed.py:1027(_set_many)\n",
      "      500    0.004    0.000   47.849    0.096 /usr/local/lib/python3.11/dist-packages/scipy/sparse/_compressed.py:911(_set_arrayXarray)\n",
      "      500    5.015    0.010   47.289    0.095 /usr/local/lib/python3.11/dist-packages/scipy/sparse/_compressed.py:1086(_insert_many)\n",
      "      500    0.007    0.000   41.912    0.084 /usr/local/lib/python3.11/dist-packages/scipy/sparse/_compressed.py:1286(sort_indices)\n",
      "      500   41.903    0.084   41.903    0.084 {built-in method scipy.sparse._sparsetools.csr_sort_indices}\n",
      "    10382    0.027    0.000   34.051    0.003 /usr/local/lib/python3.11/dist-packages/scipy/sparse/linalg/_interface.py:193(_matvec)\n",
      "    10382    0.084    0.000   34.010    0.003 /usr/local/lib/python3.11/dist-packages/scipy/sparse/linalg/_interface.py:307(matmat)\n",
      "    10382    0.024    0.000   33.840    0.003 /usr/local/lib/python3.11/dist-packages/scipy/sparse/linalg/_interface.py:799(_matmat)\n",
      "    10382    0.041    0.000   33.816    0.003 /usr/local/lib/python3.11/dist-packages/scipy/sparse/_base.py:434(dot)\n",
      "    10382    0.032    0.000   33.656    0.003 /usr/local/lib/python3.11/dist-packages/scipy/sparse/_base.py:665(__matmul__)\n",
      "    10382    0.088    0.000   33.565    0.003 /usr/local/lib/python3.11/dist-packages/scipy/sparse/_base.py:544(_matmul_dispatch)\n",
      "    10382    0.151    0.000   33.424    0.003 /usr/local/lib/python3.11/dist-packages/scipy/sparse/_compressed.py:484(_matmul_vector)\n",
      "    10382   33.109    0.003   33.109    0.003 {built-in method scipy.sparse._sparsetools.csr_matvec}\n",
      "       10    0.005    0.000   24.941    2.494 /usr/local/lib/python3.11/dist-packages/scipy/sparse/linalg/_dsolve/linsolve.py:443(spilu)\n",
      "       10   24.547    2.455   24.547    2.455 {built-in method scipy.sparse.linalg._dsolve._superlu.gstrf}\n",
      "      500    0.257    0.001   14.476    0.029 <ipython-input-2-3560cf6945b7>:1(knn)\n",
      "      500    0.019    0.000   13.390    0.027 /usr/local/lib/python3.11/dist-packages/sklearn/neighbors/_base.py:763(kneighbors)\n",
      "      500    0.003    0.000   12.848    0.026 /usr/local/lib/python3.11/dist-packages/sklearn/utils/parallel.py:54(__call__)\n",
      "      500    0.015    0.000   12.844    0.026 /usr/local/lib/python3.11/dist-packages/joblib/parallel.py:1902(__call__)\n",
      "     2000    0.014    0.000   12.789    0.006 /usr/local/lib/python3.11/dist-packages/joblib/parallel.py:1638(_get_outputs)\n",
      "      571    0.012    0.000   11.124    0.019 /usr/local/lib/python3.11/dist-packages/joblib/parallel.py:1746(_retrieve)\n",
      "     1092   11.108    0.010   11.108    0.010 {built-in method time.sleep}\n",
      "    21264    0.252    0.000    4.447    0.000 /usr/local/lib/python3.11/dist-packages/numpy/linalg/_linalg.py:2566(norm)\n",
      "    21264    4.146    0.000    4.146    0.000 {method 'dot' of 'numpy.ndarray' objects}\n",
      "    21/11    0.001    0.000    2.700    0.245 /usr/local/lib/python3.11/dist-packages/scipy/sparse/_compressed.py:27(__init__)\n",
      "        1    0.000    0.000    2.335    2.335 <ipython-input-5-e9ab6229a877>:1(<cell line: 0>)\n",
      "        1    0.007    0.007    2.332    2.332 /usr/local/lib/python3.11/dist-packages/scipy/sparse/_coo.py:27(__init__)\n",
      "        1    2.325    2.325    2.325    2.325 {method 'nonzero' of 'numpy.ndarray' objects}\n",
      "10009/6509    0.007    0.000    1.353    0.000 {built-in method builtins.next}\n",
      "      500    0.002    0.000    1.322    0.003 /usr/local/lib/python3.11/dist-packages/joblib/parallel.py:1617(_start)\n",
      "     1500    0.020    0.000    1.320    0.001 /usr/local/lib/python3.11/dist-packages/joblib/parallel.py:1433(dispatch_one_batch)\n",
      "\n",
      "\n",
      "\n"
     ]
    }
   ]
  },
  {
   "cell_type": "code",
   "source": [
    "interact(plot_iteracion, iteracion=IntSlider(min=0, max=n_times-1, step=1, value=0))"
   ],
   "metadata": {
    "colab": {
     "base_uri": "https://localhost:8080/",
     "height": 568,
     "referenced_widgets": [
      "89628b9c21684df38ecb3108011c41f1",
      "f291cb6a3c824267b016ec5df02f1b18",
      "6c61458602da45d6ac3ea6d784ea1723",
      "ac2f3e67d90e4d588e112473ab6c23f2",
      "0ed4c8545d574ef49db0bc05f9154858",
      "372bda131da342aaacda5b7da52c9206",
      "e5258e3481e84adfbcb2ff9b710cd741"
     ]
    },
    "id": "7yzOrz_d1aZz",
    "outputId": "267b5221-7d5c-4ddd-9a9a-f489f54ff2f5"
   },
   "execution_count": 6,
   "outputs": [
    {
     "output_type": "display_data",
     "data": {
      "text/plain": [
       "interactive(children=(IntSlider(value=0, description='iteracion', max=499), Output()), _dom_classes=('widget-i\u2026"
      ],
      "application/vnd.jupyter.widget-view+json": {
       "version_major": 2,
       "version_minor": 0,
       "model_id": "89628b9c21684df38ecb3108011c41f1"
      }
     },
     "metadata": {}
    },
    {
     "output_type": "execute_result",
     "data": {
      "text/plain": [
       "<function __main__.plot_iteracion(iteracion)>"
      ],
      "text/html": [
       "<div style=\"max-width:800px; border: 1px solid var(--colab-border-color);\"><style>\n",
       "      pre.function-repr-contents {\n",
       "        overflow-x: auto;\n",
       "        padding: 8px 12px;\n",
       "        max-height: 500px;\n",
       "      }\n",
       "\n",
       "      pre.function-repr-contents.function-repr-contents-collapsed {\n",
       "        cursor: pointer;\n",
       "        max-height: 100px;\n",
       "      }\n",
       "    </style>\n",
       "    <pre style=\"white-space: initial; background:\n",
       "         var(--colab-secondary-surface-color); padding: 8px 12px;\n",
       "         border-bottom: 1px solid var(--colab-border-color);\"><b>plot_iteracion</b><br/>def plot_iteracion(iteracion)</pre><pre class=\"function-repr-contents function-repr-contents-collapsed\" style=\"\"><a class=\"filepath\" style=\"display:none\" href=\"#\">/content/&lt;ipython-input-5-e9ab6229a877&gt;</a>&lt;no docstring&gt;</pre></div>"
      ]
     },
     "metadata": {},
     "execution_count": 6
    }
   ]
  },
  {
   "cell_type": "markdown",
   "source": [
    "#Gr\u00e1fico de resultados"
   ],
   "metadata": {
    "id": "0k6sfvZqs4uq"
   }
  },
  {
   "cell_type": "code",
   "source": [
    "########################################################################################################\n",
    "########################## Gr\u00e1fico de resultados #######################################################\n",
    "########################################################################################################\n",
    "\n",
    "#mapa de calor de potencia electrico\n",
    "ux = range(M2.shape[0] + 1)\n",
    "uy = range(M2.shape[1] + 1)\n",
    "xx_2d, yy_2d = np.meshgrid(ux, uy, indexing='ij')\n",
    "fig, ax = plt.subplots(figsize=(15, 12))\n",
    "pcm = ax.pcolormesh(np.max(uy) - yy_2d, np.max(ux) - xx_2d, V_2d, cmap='inferno')\n",
    "ax.set_aspect('equal', adjustable='box')\n",
    "divider = make_axes_locatable(ax)\n",
    "cax = divider.append_axes(\"right\", size=\"5%\", pad=0.1)\n",
    "cbar = plt.colorbar(pcm, cax=cax)\n",
    "cbar.set_label(\"Potencial V [kV]\", fontsize=16)\n",
    "ax.set_xlabel(\"x\", fontsize=18)\n",
    "ax.set_ylabel(\"y\", fontsize=18)\n",
    "ax.set_title(\"Mapa de Calor de la Soluci\u00f3n del Sistema\", fontsize=20)\n",
    "ax.tick_params(axis='both', labelsize=14)\n",
    "cbar.ax.tick_params(labelsize=14)\n",
    "plt.show()\n",
    "\n",
    "#mapa de geometria\n",
    "cmap = mcolors.ListedColormap(['black', 'blue', 'green', 'yellow'])\n",
    "bounds = [-5, 0, 1, 9]\n",
    "norm = mcolors.BoundaryNorm(bounds, cmap.N)\n",
    "plt.figure(figsize=(15, 12))\n",
    "data_volteada = np.fliplr(M2['v'])\n",
    "plt.imshow(data_volteada, cmap=cmap, norm=norm, interpolation='nearest')\n",
    "plt.xticks(\n",
    "    ticks=np.linspace(0, data_volteada.shape[1] - 1, 5),\n",
    "    labels=np.linspace(0, 200, 5, dtype=int)\n",
    ")\n",
    "plt.show()\n",
    "\n",
    "#agregar un widget para ver como crece dinamicamente el arbol electrico"
   ],
   "metadata": {
    "id": "0N-ga9tqsnvZ",
    "colab": {
     "base_uri": "https://localhost:8080/",
     "height": 1000
    },
    "outputId": "1f4363ed-ddc1-45bb-b9b2-c5f183b6acd0"
   },
   "execution_count": 7,
   "outputs": [
    {
     "output_type": "display_data",
     "data": {
      "text/plain": [
       "<Figure size 1500x1200 with 2 Axes>"
      ],
      "image/png": "[encoded data removed]"
     },
     "metadata": {}
    },
    {
     "output_type": "display_data",
     "data": {
      "text/plain": [
       "<Figure size 1500x1200 with 1 Axes>"
      ],
      "image/png": "[encoded data removed]"
     },
     "metadata": {}
    }
   ]
  }
 ],
 "metadata": {
  "colab": {
   "provenance": []
  },
  "kernelspec": {
   "display_name": "Python 3",
   "name": "python3"
  },
  "language_info": {
   "name": "python"
  }
 },
 "nbformat": 4,
 "nbformat_minor": 0
}
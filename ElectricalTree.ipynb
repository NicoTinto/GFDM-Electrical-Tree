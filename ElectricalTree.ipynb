{
  "cells": [
    {
      "cell_type": "code",
      "source": [
        "import numpy as np\n",
        "import matplotlib.pyplot as plt\n",
        "import random\n",
        "import time\n",
        "from scipy.sparse.linalg import LinearOperator\n",
        "from scipy.sparse.linalg import spilu\n",
        "from scipy.sparse.linalg import gmres\n",
        "from math import *\n",
        "from scipy.sparse import csr_matrix\n",
        "from scipy.sparse import csc_matrix\n",
        "from numpy.linalg import cond\n",
        "from scipy.sparse.linalg import spsolve\n",
        "from numpy.linalg import solve, norm\n",
        "from numpy.random import rand\n",
        "from scipy import sparse\n",
        "from scipy.sparse import coo_matrix, linalg as sla\n",
        "from scipy.linalg import qr, solve_triangular\n",
        "from scipy.special import factorial\n",
        "from scipy.ndimage import convolve\n",
        "from sklearn.neighbors import NearestNeighbors\n",
        "from mpl_toolkits.axes_grid1 import make_axes_locatable\n",
        "import matplotlib.colors as mcolors\n",
        "import cProfile\n",
        "import pstats\n",
        "import io"
      ],
      "metadata": {
        "id": "8aYlfb5-pubs"
      },
      "execution_count": 1,
      "outputs": []
    },
    {
      "cell_type": "markdown",
      "source": [
        "#Funcion para knn\n",
        "El algoritmo de vecinos mas cercanos se usa con el fin de obtener la distancia entre un punto y su vecino mas cercano, de esta forma luego puedo filtrar por distancia"
      ],
      "metadata": {
        "id": "aq4ZUspz2O0k"
      }
    },
    {
      "cell_type": "code",
      "source": [
        "def knn(M2):\n",
        "    coordenadas_raw = M2['p'].flatten()\n",
        "    clase = M2['v'].flatten()\n",
        "\n",
        "    # Extracción y conversión desde array estructurado\n",
        "    coordenadas = np.column_stack((coordenadas_raw['x'], coordenadas_raw['y'])).astype(np.float32)\n",
        "\n",
        "    # Filtrar puntos de clase 1\n",
        "    coordenadas_objetivo = coordenadas[clase == 1]\n",
        "\n",
        "    # Modelo de vecinos más cercanos\n",
        "    modelo = NearestNeighbors(n_neighbors=1, n_jobs=-1)\n",
        "    modelo.fit(coordenadas_objetivo)\n",
        "\n",
        "    distancias, indices = modelo.kneighbors(coordenadas)\n",
        "    vecinos = coordenadas_objetivo[indices]\n",
        "\n",
        "    return distancias, clase"
      ],
      "metadata": {
        "id": "jRMMfE0b2OHY"
      },
      "execution_count": 2,
      "outputs": []
    },
    {
      "cell_type": "markdown",
      "source": [
        "#Generacion de la geometria"
      ],
      "metadata": {
        "id": "DT_5ziLesO7X"
      }
    },
    {
      "cell_type": "code",
      "source": [
        "alpha, etha, Reli, Fr, veces, pot, e, dt, frec, b, no, nc, Ip, lamb = 1, 1, 250, 5, 1, 15, 1, 0.001, 50, 1, 5*10**5, 10**13, 9.6, 60*(10**(-9))\n",
        "expon=5\n",
        "const = b * no / nc\n",
        "cuadrado=(alpha*((10)**(-expon))) #Tamaño real de la grilla en discretizacion uniforme\n",
        "'identificacion de la matriz M2: '\n",
        "'La matriz M2 guarda la geometria del sistema donde posee valores numericos para representar las distintas partes de ella de la siguiente forma: '\n",
        "'1: Punta sometida a Alta Tensión'\n",
        "'0: Material Aislante'\n",
        "'2: Placa aterrizada a tierra (V=0)'\n",
        "'9: Árbol eléctrico (En esta simulación en particular posee el mismo potencial de la punta, por lo que es un árbol conductor)'\n",
        "###################################################################################\n",
        "################# Construccion de geometria #######################################\n",
        "###################################################################################\n",
        "#esta parte se realiza una sola vez, se escribe un archivo de texto con la geometria inicial para luego ser pasado a la matriz de geometria M2\n",
        "\n",
        "for tt in range(1):\n",
        "    b=open('tam3case'+str(tt)+'.txt','w')\n",
        "    tama=int((10**(-3))/(cuadrado))\n",
        "    div=2\n",
        "    pal=''\n",
        "    for j in range(tama):\n",
        "        for i in range(2*tama):\n",
        "            a=((0.06*10**(-3))-cuadrado*j)*tan(pi/8)\n",
        "            if j<tama-3-div:\n",
        "                if i*cuadrado>((tama*cuadrado)-a) and i*cuadrado<((tama*cuadrado)+a) and 2*a>=0.000006:\n",
        "                    b.write('1 ')\n",
        "                    tamapunta=j+1\n",
        "                else:\n",
        "                    b.write('0 ')\n",
        "            elif j==tama-3-div: #genero la rugosidad aleatoria\n",
        "                if i%div==0 and i!=2*tama:\n",
        "                    r=random.choice((0,2))\n",
        "                    b.write((str(r)+' ')*div)\n",
        "                    pal=pal+(str(r)+' ')*div\n",
        "            elif j>tama-3-div and j<=tama-4 :\n",
        "                if i==0:\n",
        "                    b.write(pal)\n",
        "            elif j>tama-4:\n",
        "                b.write('2 ')\n",
        "        b.write('\\n')\n",
        "    b.close()\n",
        "totaldist = tama - tamapunta - 3 / div\n",
        "delta = alpha * 10**(-expon)\n",
        "tx, ty = int(0.002 / delta), int(0.001 / delta)\n",
        "dt = np.dtype([('v', float), ('p', [('x', int), ('y', int)])])\n",
        "M2 = np.zeros((ty, tx), dtype=dt)\n",
        "matriz_danno = np.zeros((ty, tx))\n",
        "with open('tam3case0.txt') as a:\n",
        "    for contfila, linea in enumerate(a):\n",
        "        M2['v'][contfila, :len(linea.strip().split())] = list(map(int, linea.strip().split()))"
      ],
      "metadata": {
        "id": "L0m0--1qsIdB"
      },
      "execution_count": 3,
      "outputs": []
    },
    {
      "cell_type": "markdown",
      "source": [
        "#Diferencias finitas generalizadas"
      ],
      "metadata": {
        "id": "FzcRsPCJsvZp"
      }
    },
    {
      "cell_type": "code",
      "execution_count": 4,
      "metadata": {
        "colab": {
          "base_uri": "https://localhost:8080/"
        },
        "id": "u_duGucIC5PU",
        "outputId": "6891aa6d-792b-4eb5-b168-74e341bea130"
      },
      "outputs": [
        {
          "output_type": "stream",
          "name": "stdout",
          "text": [
            "Tiempo de ejecución A: 15.5472 segundos\n"
          ]
        }
      ],
      "source": [
        "\n",
        "start = time.time()\n",
        "t, tiempo, inf, u = 0, [], [], [1] * 4\n",
        "lar = len(u) + 1\n",
        "\n",
        "###################################################################################\n",
        "############################ condiciones de borde #################################\n",
        "###################################################################################\n",
        "\n",
        "x_coords, y_coords = np.meshgrid(range(M2.shape[0]), range(M2.shape[1]), indexing='ij')\n",
        "xx,yy=x_coords,y_coords\n",
        "xx,yy=xx.ravel(),yy.ravel()\n",
        "M2['p']['x'], M2['p']['y'] = x_coords, y_coords\n",
        "values = {1: pot, 9: pot, 2: 0, 0: 0, -1:0,-2:0,-3:0,-4:0} #diccionario con las condiciones de dirichlet\n",
        "\n",
        "\n",
        "positions = {k: np.where(M2['v'].ravel() == k) for k in values}\n",
        "n = M2['v'].size\n",
        "sistema, B = np.zeros((n, n)), np.zeros(n)\n",
        "\n",
        "#condiciones de dirichlet\n",
        "for k, v in values.items():\n",
        "    sistema[positions[k], positions[k]], B[positions[k]] = 1, v\n",
        "\n",
        "#########################################################################################################\n",
        "################################ Calculo del problema de minimos cuadrados ##############################\n",
        "#########################################################################################################\n",
        "\n",
        "xx = xx.astype(np.float32)\n",
        "yy = yy.astype(np.float32)\n",
        "\n",
        "vec=np.sqrt((xx[positions[0]][:,None]-xx)**2 + (yy[positions[0]][:,None]-yy)**2) #Mapeo la distancia entre los puntos de interes (aislante) y todos los demas puntos\n",
        "#separo entre distancia en x e y\n",
        "vec_x=-xx[positions[0]][:,None]+xx\n",
        "vec_y=-yy[positions[0]][:,None]+yy\n",
        "\n",
        "#obtengo para cada uno de mis puntos, los vecinos segun un radio de influencia\n",
        "vec_wh=np.where((np.abs(vec)<=2) & (np.abs(vec)>0.1))\n",
        "puntos_ordenados,vecinos_ordenados=vec_wh[0],vec_wh[1]\n",
        "indices_unicos, posiciones = np.unique(puntos_ordenados, return_index=True)\n",
        "vecinos_separados = np.split(vecinos_ordenados, posiciones[1:])\n",
        "estructura_vecinos = dict(zip(indices_unicos, vecinos_separados)) #me indica los vecinos de punto a los demas puntos en un diccionario\n",
        "indices_unicos = np.array(list(estructura_vecinos.keys()))\n",
        "M2['v'][M2['v'] == 2] = -5\n",
        "sistema_Ex=np.copy(sistema)\n",
        "sistema_Ey=np.copy(sistema)\n",
        "#Condiciones de Neumman\n",
        "##Caracterizo los bordes de manera distinta al resto de los puntos (con -1,-2) de modo de aplicar las condiciones de neumman en tales bordes\n",
        "M2['v'][:,0]=np.where(M2['v'][:,0]==0,-1,M2['v'][:,0])\n",
        "M2['v'][0,:]=np.where(M2['v'][0,:]==0,-2,M2['v'][0,:])\n",
        "M2['v'][:,-1]=np.where(M2['v'][:,-1]==0,-1,M2['v'][:,-1])\n",
        "M2['v'][-1,:]=np.where(M2['v'][-1,:]==0,-2,M2['v'][-1,:])\n",
        "positions_neumann1=np.where(M2['v'].ravel() == -1)[0]\n",
        "positions_neumann2=np.where(M2['v'].ravel() == -2)[0]\n",
        "#Algoritmo de minimos cuadrados para el problema de diferencias finitas generalizadas\n",
        "for k in indices_unicos: #itero para cada vecino\n",
        "    vecinos_k=len(estructura_vecinos[k])\n",
        "    largo_com=len(estructura_vecinos[k][estructura_vecinos[k]<k])\n",
        "    matriz_resultados = np.array([vec_x[k][estructura_vecinos[k]],vec_y[k][estructura_vecinos[k]],0.5*(vec_x[k][estructura_vecinos[k]])**2,0.5*(vec_y[k][estructura_vecinos[k]])**2]) #Matriz A del problema de minimos cuadrados\n",
        "    matriz_f=np.zeros((vecinos_k,vecinos_k+1))\n",
        "    pme=len(np.where(estructura_vecinos[k]<k)[0])\n",
        "    matriz_f[:,pme]=-1\n",
        "    matriz_f[:,:pme]=np.eye(vecinos_k)[:,:pme]\n",
        "    matriz_f[:,pme+1:]=np.eye(vecinos_k)[:,pme:]\n",
        "    Q,R=qr(matriz_resultados.T,mode='economic')\n",
        "    C=Q.T@matriz_f\n",
        "    Af=solve_triangular(R, C, lower=False)\n",
        "    if positions[0][0][k] in positions_neumann1:\n",
        "      sistema[positions[0][0][k],estructura_vecinos[k][:pme]]=Af[1][:pme]\n",
        "      sistema[positions[0][0][k],positions[0][0][k]]=Af[1][pme]\n",
        "      sistema[positions[0][0][k],estructura_vecinos[k][pme:]]=Af[1][pme+1:]\n",
        "    elif positions[0][0][k] in positions_neumann2:\n",
        "      sistema[positions[0][0][k],estructura_vecinos[k][:pme]]=Af[0][:pme]\n",
        "      sistema[positions[0][0][k],positions[0][0][k]]=Af[0][pme]\n",
        "      sistema[positions[0][0][k],estructura_vecinos[k][pme:]]=Af[0][pme+1:]\n",
        "    else:\n",
        "      sistema[positions[0][0][k],estructura_vecinos[k][:pme]]=Af[2][:pme]+Af[3][:pme]\n",
        "      sistema[positions[0][0][k],positions[0][0][k]]=Af[2][pme]+Af[3][pme]\n",
        "      sistema[positions[0][0][k],estructura_vecinos[k][pme:]]=Af[2][pme+1:]+Af[3][pme+1:]\n",
        "    sistema_Ex[positions[0][0][k],estructura_vecinos[k][:pme]]=Af[0][:pme]\n",
        "    sistema_Ex[positions[0][0][k],positions[0][0][k]]=Af[0][pme]\n",
        "    sistema_Ex[positions[0][0][k],estructura_vecinos[k][pme:]]=Af[0][pme+1:]\n",
        "    sistema_Ey[positions[0][0][k],estructura_vecinos[k][:pme]]=Af[1][:pme]\n",
        "    sistema_Ey[positions[0][0][k],positions[0][0][k]]=Af[1][pme]\n",
        "    sistema_Ey[positions[0][0][k],estructura_vecinos[k][pme:]]=Af[1][pme+1:]\n",
        "end = time.time()\n",
        "print(f\"Tiempo de ejecución A: {end - start:.4f} segundos\")\n",
        "\n",
        "#resolucion del sistema de ecuaciones para el paso 1, por medio de matrices Sparse y GMRES\n",
        "sistema_sparse = csr_matrix(sistema)\n",
        "V, info = gmres(sistema_sparse, B, atol=1e-5, maxiter=500)\n",
        "V_2d = V.reshape(ty, tx)\n",
        "\n",
        "\n",
        "###Observación: Otra ventaja de usar diferencias finitas generalizadas es que se puede obtener el valor de las derivadas de primer orden del potencial electrico y por ende la magnitud del campo electrico en las direcciones X e Y sin la necesidad de pasar por np.grad (me ahorro el costo computacional de calcular el gradiente)\n",
        "### Idea, como en el estado del arte se ocupan grillas cuadradas y los puntos de halton o la distribucion de puntos en general no es equiespaciada, se podria generar una grilla basada en quadtrees de manera que quede pseudo-equiespaciada"
      ]
    },
    {
      "cell_type": "markdown",
      "source": [
        "#Modelo de crecimiento del árbol eléctrico"
      ],
      "metadata": {
        "id": "xzYFGs93sz8F"
      }
    },
    {
      "cell_type": "code",
      "source": [
        "##########################################################################################################\n",
        "#################################### MODELO DE CRECIMIENTO ###############################################\n",
        "##########################################################################################################\n",
        "\n",
        "radio=2\n",
        "def arbol(V_2d, delta, M2,sistema,B):\n",
        "    'aprovecho diferencias finitas generalizadas para obtener el potencial, puesto que tambien me entrega la primera derivada'\n",
        "    Ex=sistema_Ex@V\n",
        "    Ey=sistema_Ey@V\n",
        "    E_magnitud = 0.01*np.sqrt(Ex**2 + Ey**2) #0.01 transformacion de unidades para pasar a kV/cm\n",
        "    distancias,clase=knn(M2)\n",
        "    index_=np.where(distancias<radio)[0] #posibles vecinos\n",
        "    index_=index_[index_>800]\n",
        "    id_e=np.where(clase[index_]==0)\n",
        "    index_E=index_[id_e] #ahora los filtro para que solo participen los que son aislantes\n",
        "    flat = E_magnitud[index_E]\n",
        "    #modelo de crecimiento basado en probabilidades\n",
        "    probabilidades = (flat**2) / (flat**2).sum()\n",
        "    idx = np.random.choice(len(flat), p=probabilidades) #idx es la posicion de la celda en el sistema de ecuaciones, esto se usa para identificarla en el sistema\n",
        "    idx=index_E[idx]\n",
        "    #la celda escogida se transforma en arbol por lo que ahora su potencial es conocido\n",
        "    #sistema=sistema.tolil()\n",
        "    sistema[idx,:]=0\n",
        "    sistema[idx,idx]=1\n",
        "    #sistema=sistema.tocsc()\n",
        "    i, j = np.unravel_index(idx, M2['v'].shape)\n",
        "    B[idx]=15\n",
        "    M2['v'][i][j]=1\n",
        "    return (M2['v'],sistema,B) #el algoritmo entrega como salida la geometria y el sistema de ecuaciones nuevo\n",
        "from ipywidgets import interact, IntSlider\n",
        "import matplotlib.pyplot as plt\n",
        "from mpl_toolkits.axes_grid1 import make_axes_locatable\n",
        "# Asumiendo que tx, ty ya están definidos como dimensiones de V_2d\n",
        "from ipywidgets import interact, IntSlider\n",
        "import matplotlib.pyplot as plt\n",
        "from mpl_toolkits.axes_grid1 import make_axes_locatable\n",
        "import matplotlib.colors as mcolors\n",
        "\n",
        "# Prealocamos los arrays para potencial y geometría\n",
        "\n",
        "n_times=500 ##Numero de iteraciones\n",
        "mapas_V_2d = np.zeros((n_times, ty, tx))\n",
        "geometrias = np.zeros((n_times, *M2['v'].shape))  # Guardamos la geometría (árbol)\n",
        "\n",
        "t = 0\n",
        "pr = cProfile.Profile()\n",
        "pr.enable()\n",
        "\n",
        "sistema_sparse = csr_matrix(sistema)\n",
        "\n",
        "for i in range(n_times):\n",
        "    start = time.time()\n",
        "    M2['v'], sistema_sparse, B = arbol(V_2d, delta, M2, sistema_sparse, B)\n",
        "\n",
        "    if i % 50 == 0: #se usa un precondicionador M basado en ILU de la matriz del sistema, esta se rearma cada 50 iteraciones\n",
        "        try:\n",
        "            ilu = spilu(sistema_sparse)\n",
        "            M = LinearOperator(sistema_sparse.shape, ilu.solve)\n",
        "        except RuntimeError as e:\n",
        "            print(f\"Fallo en la factorización ILU: {e}\")\n",
        "            M = None\n",
        "\n",
        "    V, info = gmres(sistema_sparse, B, M=M, x0=V, atol=1e-5, maxiter=100)\n",
        "\n",
        "    if info == 0:\n",
        "        print(f\"Iteración {i}: Convergió correctamente.\")\n",
        "    elif info > 0:\n",
        "        print(f\"Iteración {i}: No convergió tras {info} iteraciones.\")\n",
        "    else:\n",
        "        print(f\"Iteración {i}: Error interno.\")\n",
        "\n",
        "    V_2d = V.reshape(ty, tx)\n",
        "    mapas_V_2d[i] = V_2d\n",
        "    geometrias[i] = M2['v']  # Guardamos geometría actual\n",
        "\n",
        "    end = time.time()\n",
        "    t += end - start\n",
        "    print(f\"Tiempo de ejecución: {end - start:.4f} segundos\")\n",
        "\n",
        "pr.disable()\n",
        "s = io.StringIO()\n",
        "ps = pstats.Stats(pr, stream=s).sort_stats('cumulative')\n",
        "ps.print_stats(40)\n",
        "print(s.getvalue())\n",
        "\n",
        "# Función para visualizar mapa de calor y geometría\n",
        "def plot_iteracion(iteracion):\n",
        "    # Mapa de calor del potencial\n",
        "    ux = range(mapas_V_2d.shape[1] + 1)\n",
        "    uy = range(mapas_V_2d.shape[2] + 1)\n",
        "    xx_2d, yy_2d = np.meshgrid(ux, uy, indexing='ij')\n",
        "\n",
        "    fig, axs = plt.subplots(1, 2, figsize=(20, 10))\n",
        "\n",
        "    pcm = axs[0].pcolormesh(\n",
        "        np.max(uy) - yy_2d,\n",
        "        np.max(ux) - xx_2d,\n",
        "        mapas_V_2d[iteracion],\n",
        "        cmap='inferno'\n",
        "    )\n",
        "    axs[0].set_title(f\"Iteración {iteracion} - Potencial\", fontsize=16)\n",
        "    axs[0].set_xlabel(\"x\")\n",
        "    axs[0].set_ylabel(\"y\")\n",
        "    axs[0].set_aspect('equal')\n",
        "\n",
        "    divider = make_axes_locatable(axs[0])\n",
        "    cax = divider.append_axes(\"right\", size=\"5%\", pad=0.1)\n",
        "    plt.colorbar(pcm, cax=cax)\n",
        "\n",
        "    # Geometría\n",
        "    data_volteada = np.fliplr(geometrias[iteracion])\n",
        "    cmap = mcolors.ListedColormap(['black', 'blue', 'green', 'yellow'])\n",
        "    bounds = [-5, 0, 1, 9]\n",
        "    norm = mcolors.BoundaryNorm(bounds, cmap.N)\n",
        "\n",
        "    axs[1].imshow(data_volteada, cmap=cmap, norm=norm, interpolation='nearest')\n",
        "    axs[1].set_title(f\"Iteración {iteracion} - Geometría\", fontsize=16)\n",
        "    axs[1].set_xlabel(\"x\")\n",
        "    axs[1].set_ylabel(\"y\")\n",
        "\n",
        "    plt.tight_layout()\n",
        "    plt.show()\n",
        "\n"
      ],
      "metadata": {
        "colab": {
          "base_uri": "https://localhost:8080/"
        },
        "id": "QbQODvhhsmlA",
        "outputId": "cd2f7bc2-3b02-4119-ee16-b58af845cd5b"
      },
      "execution_count": 5,
      "outputs": [
        {
          "output_type": "stream",
          "name": "stderr",
          "text": [
            "/usr/local/lib/python3.11/dist-packages/scipy/sparse/_index.py:151: SparseEfficiencyWarning: Changing the sparsity structure of a csr_matrix is expensive. lil and dok are more efficient.\n",
            "  self._set_arrayXarray(i, j, x)\n",
            "<ipython-input-5-e9ab6229a877>:57: SparseEfficiencyWarning: spilu converted its input to CSC format\n",
            "  ilu = spilu(sistema_sparse)\n"
          ]
        },
        {
          "output_type": "stream",
          "name": "stdout",
          "text": [
            "Iteración 0: Convergió correctamente.\n",
            "Tiempo de ejecución: 0.9548 segundos\n"
          ]
        },
        {
          "output_type": "stream",
          "name": "stderr",
          "text": [
            "/usr/local/lib/python3.11/dist-packages/scipy/sparse/_index.py:151: SparseEfficiencyWarning: Changing the sparsity structure of a csr_matrix is expensive. lil and dok are more efficient.\n",
            "  self._set_arrayXarray(i, j, x)\n"
          ]
        },
        {
          "output_type": "stream",
          "name": "stdout",
          "text": [
            "Iteración 1: Convergió correctamente.\n",
            "Tiempo de ejecución: 0.5789 segundos\n"
          ]
        },
        {
          "output_type": "stream",
          "name": "stderr",
          "text": [
            "/usr/local/lib/python3.11/dist-packages/scipy/sparse/_index.py:151: SparseEfficiencyWarning: Changing the sparsity structure of a csr_matrix is expensive. lil and dok are more efficient.\n",
            "  self._set_arrayXarray(i, j, x)\n"
          ]
        },
        {
          "output_type": "stream",
          "name": "stdout",
          "text": [
            "Iteración 2: Convergió correctamente.\n",
            "Tiempo de ejecución: 0.6080 segundos\n"
          ]
        },
        {
          "output_type": "stream",
          "name": "stderr",
          "text": [
            "/usr/local/lib/python3.11/dist-packages/scipy/sparse/_index.py:151: SparseEfficiencyWarning: Changing the sparsity structure of a csr_matrix is expensive. lil and dok are more efficient.\n",
            "  self._set_arrayXarray(i, j, x)\n"
          ]
        },
        {
          "output_type": "stream",
          "name": "stdout",
          "text": [
            "Iteración 3: Convergió correctamente.\n",
            "Tiempo de ejecución: 0.6258 segundos\n"
          ]
        },
        {
          "output_type": "stream",
          "name": "stderr",
          "text": [
            "/usr/local/lib/python3.11/dist-packages/scipy/sparse/_index.py:151: SparseEfficiencyWarning: Changing the sparsity structure of a csr_matrix is expensive. lil and dok are more efficient.\n",
            "  self._set_arrayXarray(i, j, x)\n"
          ]
        },
        {
          "output_type": "stream",
          "name": "stdout",
          "text": [
            "Iteración 4: Convergió correctamente.\n",
            "Tiempo de ejecución: 0.6578 segundos\n"
          ]
        },
        {
          "output_type": "stream",
          "name": "stderr",
          "text": [
            "/usr/local/lib/python3.11/dist-packages/scipy/sparse/_index.py:151: SparseEfficiencyWarning: Changing the sparsity structure of a csr_matrix is expensive. lil and dok are more efficient.\n",
            "  self._set_arrayXarray(i, j, x)\n"
          ]
        },
        {
          "output_type": "stream",
          "name": "stdout",
          "text": [
            "Iteración 5: Convergió correctamente.\n",
            "Tiempo de ejecución: 0.6366 segundos\n"
          ]
        },
        {
          "output_type": "stream",
          "name": "stderr",
          "text": [
            "/usr/local/lib/python3.11/dist-packages/scipy/sparse/_index.py:151: SparseEfficiencyWarning: Changing the sparsity structure of a csr_matrix is expensive. lil and dok are more efficient.\n",
            "  self._set_arrayXarray(i, j, x)\n"
          ]
        },
        {
          "output_type": "stream",
          "name": "stdout",
          "text": [
            "Iteración 6: Convergió correctamente.\n",
            "Tiempo de ejecución: 0.7889 segundos\n"
          ]
        },
        {
          "output_type": "stream",
          "name": "stderr",
          "text": [
            "/usr/local/lib/python3.11/dist-packages/scipy/sparse/_index.py:151: SparseEfficiencyWarning: Changing the sparsity structure of a csr_matrix is expensive. lil and dok are more efficient.\n",
            "  self._set_arrayXarray(i, j, x)\n"
          ]
        },
        {
          "output_type": "stream",
          "name": "stdout",
          "text": [
            "Iteración 7: Convergió correctamente.\n",
            "Tiempo de ejecución: 1.7654 segundos\n"
          ]
        },
        {
          "output_type": "stream",
          "name": "stderr",
          "text": [
            "/usr/local/lib/python3.11/dist-packages/scipy/sparse/_index.py:151: SparseEfficiencyWarning: Changing the sparsity structure of a csr_matrix is expensive. lil and dok are more efficient.\n",
            "  self._set_arrayXarray(i, j, x)\n"
          ]
        },
        {
          "output_type": "stream",
          "name": "stdout",
          "text": [
            "Iteración 8: Convergió correctamente.\n",
            "Tiempo de ejecución: 0.9984 segundos\n"
          ]
        },
        {
          "output_type": "stream",
          "name": "stderr",
          "text": [
            "/usr/local/lib/python3.11/dist-packages/scipy/sparse/_index.py:151: SparseEfficiencyWarning: Changing the sparsity structure of a csr_matrix is expensive. lil and dok are more efficient.\n",
            "  self._set_arrayXarray(i, j, x)\n"
          ]
        },
        {
          "output_type": "stream",
          "name": "stdout",
          "text": [
            "Iteración 9: Convergió correctamente.\n",
            "Tiempo de ejecución: 1.0573 segundos\n"
          ]
        },
        {
          "output_type": "stream",
          "name": "stderr",
          "text": [
            "/usr/local/lib/python3.11/dist-packages/scipy/sparse/_index.py:151: SparseEfficiencyWarning: Changing the sparsity structure of a csr_matrix is expensive. lil and dok are more efficient.\n",
            "  self._set_arrayXarray(i, j, x)\n"
          ]
        },
        {
          "output_type": "stream",
          "name": "stdout",
          "text": [
            "Iteración 10: Convergió correctamente.\n",
            "Tiempo de ejecución: 0.7711 segundos\n"
          ]
        },
        {
          "output_type": "stream",
          "name": "stderr",
          "text": [
            "/usr/local/lib/python3.11/dist-packages/scipy/sparse/_index.py:151: SparseEfficiencyWarning: Changing the sparsity structure of a csr_matrix is expensive. lil and dok are more efficient.\n",
            "  self._set_arrayXarray(i, j, x)\n"
          ]
        },
        {
          "output_type": "stream",
          "name": "stdout",
          "text": [
            "Iteración 11: Convergió correctamente.\n",
            "Tiempo de ejecución: 0.9560 segundos\n"
          ]
        },
        {
          "output_type": "stream",
          "name": "stderr",
          "text": [
            "/usr/local/lib/python3.11/dist-packages/scipy/sparse/_index.py:151: SparseEfficiencyWarning: Changing the sparsity structure of a csr_matrix is expensive. lil and dok are more efficient.\n",
            "  self._set_arrayXarray(i, j, x)\n"
          ]
        },
        {
          "output_type": "stream",
          "name": "stdout",
          "text": [
            "Iteración 12: Convergió correctamente.\n",
            "Tiempo de ejecución: 0.7527 segundos\n"
          ]
        },
        {
          "output_type": "stream",
          "name": "stderr",
          "text": [
            "/usr/local/lib/python3.11/dist-packages/scipy/sparse/_index.py:151: SparseEfficiencyWarning: Changing the sparsity structure of a csr_matrix is expensive. lil and dok are more efficient.\n",
            "  self._set_arrayXarray(i, j, x)\n"
          ]
        },
        {
          "output_type": "stream",
          "name": "stdout",
          "text": [
            "Iteración 13: Convergió correctamente.\n",
            "Tiempo de ejecución: 0.9862 segundos\n"
          ]
        },
        {
          "output_type": "stream",
          "name": "stderr",
          "text": [
            "/usr/local/lib/python3.11/dist-packages/scipy/sparse/_index.py:151: SparseEfficiencyWarning: Changing the sparsity structure of a csr_matrix is expensive. lil and dok are more efficient.\n",
            "  self._set_arrayXarray(i, j, x)\n"
          ]
        },
        {
          "output_type": "stream",
          "name": "stdout",
          "text": [
            "Iteración 14: Convergió correctamente.\n",
            "Tiempo de ejecución: 1.0809 segundos\n"
          ]
        },
        {
          "output_type": "stream",
          "name": "stderr",
          "text": [
            "/usr/local/lib/python3.11/dist-packages/scipy/sparse/_index.py:151: SparseEfficiencyWarning: Changing the sparsity structure of a csr_matrix is expensive. lil and dok are more efficient.\n",
            "  self._set_arrayXarray(i, j, x)\n"
          ]
        },
        {
          "output_type": "stream",
          "name": "stdout",
          "text": [
            "Iteración 15: Convergió correctamente.\n",
            "Tiempo de ejecución: 1.0465 segundos\n"
          ]
        },
        {
          "output_type": "stream",
          "name": "stderr",
          "text": [
            "/usr/local/lib/python3.11/dist-packages/scipy/sparse/_index.py:151: SparseEfficiencyWarning: Changing the sparsity structure of a csr_matrix is expensive. lil and dok are more efficient.\n",
            "  self._set_arrayXarray(i, j, x)\n"
          ]
        },
        {
          "output_type": "stream",
          "name": "stdout",
          "text": [
            "Iteración 16: Convergió correctamente.\n",
            "Tiempo de ejecución: 1.0133 segundos\n"
          ]
        },
        {
          "output_type": "stream",
          "name": "stderr",
          "text": [
            "/usr/local/lib/python3.11/dist-packages/scipy/sparse/_index.py:151: SparseEfficiencyWarning: Changing the sparsity structure of a csr_matrix is expensive. lil and dok are more efficient.\n",
            "  self._set_arrayXarray(i, j, x)\n"
          ]
        },
        {
          "output_type": "stream",
          "name": "stdout",
          "text": [
            "Iteración 17: Convergió correctamente.\n",
            "Tiempo de ejecución: 1.0559 segundos\n"
          ]
        },
        {
          "output_type": "stream",
          "name": "stderr",
          "text": [
            "/usr/local/lib/python3.11/dist-packages/scipy/sparse/_index.py:151: SparseEfficiencyWarning: Changing the sparsity structure of a csr_matrix is expensive. lil and dok are more efficient.\n",
            "  self._set_arrayXarray(i, j, x)\n"
          ]
        },
        {
          "output_type": "stream",
          "name": "stdout",
          "text": [
            "Iteración 18: Convergió correctamente.\n",
            "Tiempo de ejecución: 1.8893 segundos\n"
          ]
        },
        {
          "output_type": "stream",
          "name": "stderr",
          "text": [
            "/usr/local/lib/python3.11/dist-packages/scipy/sparse/_index.py:151: SparseEfficiencyWarning: Changing the sparsity structure of a csr_matrix is expensive. lil and dok are more efficient.\n",
            "  self._set_arrayXarray(i, j, x)\n"
          ]
        },
        {
          "output_type": "stream",
          "name": "stdout",
          "text": [
            "Iteración 19: Convergió correctamente.\n",
            "Tiempo de ejecución: 1.1757 segundos\n"
          ]
        },
        {
          "output_type": "stream",
          "name": "stderr",
          "text": [
            "/usr/local/lib/python3.11/dist-packages/scipy/sparse/_index.py:151: SparseEfficiencyWarning: Changing the sparsity structure of a csr_matrix is expensive. lil and dok are more efficient.\n",
            "  self._set_arrayXarray(i, j, x)\n"
          ]
        },
        {
          "output_type": "stream",
          "name": "stdout",
          "text": [
            "Iteración 20: Convergió correctamente.\n",
            "Tiempo de ejecución: 1.1041 segundos\n"
          ]
        },
        {
          "output_type": "stream",
          "name": "stderr",
          "text": [
            "/usr/local/lib/python3.11/dist-packages/scipy/sparse/_index.py:151: SparseEfficiencyWarning: Changing the sparsity structure of a csr_matrix is expensive. lil and dok are more efficient.\n",
            "  self._set_arrayXarray(i, j, x)\n"
          ]
        },
        {
          "output_type": "stream",
          "name": "stdout",
          "text": [
            "Iteración 21: Convergió correctamente.\n",
            "Tiempo de ejecución: 0.7921 segundos\n"
          ]
        },
        {
          "output_type": "stream",
          "name": "stderr",
          "text": [
            "/usr/local/lib/python3.11/dist-packages/scipy/sparse/_index.py:151: SparseEfficiencyWarning: Changing the sparsity structure of a csr_matrix is expensive. lil and dok are more efficient.\n",
            "  self._set_arrayXarray(i, j, x)\n"
          ]
        },
        {
          "output_type": "stream",
          "name": "stdout",
          "text": [
            "Iteración 22: Convergió correctamente.\n",
            "Tiempo de ejecución: 0.9728 segundos\n"
          ]
        },
        {
          "output_type": "stream",
          "name": "stderr",
          "text": [
            "/usr/local/lib/python3.11/dist-packages/scipy/sparse/_index.py:151: SparseEfficiencyWarning: Changing the sparsity structure of a csr_matrix is expensive. lil and dok are more efficient.\n",
            "  self._set_arrayXarray(i, j, x)\n"
          ]
        },
        {
          "output_type": "stream",
          "name": "stdout",
          "text": [
            "Iteración 23: Convergió correctamente.\n",
            "Tiempo de ejecución: 0.9395 segundos\n"
          ]
        },
        {
          "output_type": "stream",
          "name": "stderr",
          "text": [
            "/usr/local/lib/python3.11/dist-packages/scipy/sparse/_index.py:151: SparseEfficiencyWarning: Changing the sparsity structure of a csr_matrix is expensive. lil and dok are more efficient.\n",
            "  self._set_arrayXarray(i, j, x)\n"
          ]
        },
        {
          "output_type": "stream",
          "name": "stdout",
          "text": [
            "Iteración 24: Convergió correctamente.\n",
            "Tiempo de ejecución: 1.3529 segundos\n"
          ]
        },
        {
          "output_type": "stream",
          "name": "stderr",
          "text": [
            "/usr/local/lib/python3.11/dist-packages/scipy/sparse/_index.py:151: SparseEfficiencyWarning: Changing the sparsity structure of a csr_matrix is expensive. lil and dok are more efficient.\n",
            "  self._set_arrayXarray(i, j, x)\n"
          ]
        },
        {
          "output_type": "stream",
          "name": "stdout",
          "text": [
            "Iteración 25: Convergió correctamente.\n",
            "Tiempo de ejecución: 1.3689 segundos\n"
          ]
        },
        {
          "output_type": "stream",
          "name": "stderr",
          "text": [
            "/usr/local/lib/python3.11/dist-packages/scipy/sparse/_index.py:151: SparseEfficiencyWarning: Changing the sparsity structure of a csr_matrix is expensive. lil and dok are more efficient.\n",
            "  self._set_arrayXarray(i, j, x)\n"
          ]
        },
        {
          "output_type": "stream",
          "name": "stdout",
          "text": [
            "Iteración 26: Convergió correctamente.\n",
            "Tiempo de ejecución: 1.1460 segundos\n"
          ]
        },
        {
          "output_type": "stream",
          "name": "stderr",
          "text": [
            "/usr/local/lib/python3.11/dist-packages/scipy/sparse/_index.py:151: SparseEfficiencyWarning: Changing the sparsity structure of a csr_matrix is expensive. lil and dok are more efficient.\n",
            "  self._set_arrayXarray(i, j, x)\n"
          ]
        },
        {
          "output_type": "stream",
          "name": "stdout",
          "text": [
            "Iteración 27: Convergió correctamente.\n",
            "Tiempo de ejecución: 1.0713 segundos\n"
          ]
        },
        {
          "output_type": "stream",
          "name": "stderr",
          "text": [
            "/usr/local/lib/python3.11/dist-packages/scipy/sparse/_index.py:151: SparseEfficiencyWarning: Changing the sparsity structure of a csr_matrix is expensive. lil and dok are more efficient.\n",
            "  self._set_arrayXarray(i, j, x)\n"
          ]
        },
        {
          "output_type": "stream",
          "name": "stdout",
          "text": [
            "Iteración 28: Convergió correctamente.\n",
            "Tiempo de ejecución: 2.6292 segundos\n"
          ]
        },
        {
          "output_type": "stream",
          "name": "stderr",
          "text": [
            "/usr/local/lib/python3.11/dist-packages/scipy/sparse/_index.py:151: SparseEfficiencyWarning: Changing the sparsity structure of a csr_matrix is expensive. lil and dok are more efficient.\n",
            "  self._set_arrayXarray(i, j, x)\n"
          ]
        },
        {
          "output_type": "stream",
          "name": "stdout",
          "text": [
            "Iteración 29: Convergió correctamente.\n",
            "Tiempo de ejecución: 1.2250 segundos\n"
          ]
        },
        {
          "output_type": "stream",
          "name": "stderr",
          "text": [
            "/usr/local/lib/python3.11/dist-packages/scipy/sparse/_index.py:151: SparseEfficiencyWarning: Changing the sparsity structure of a csr_matrix is expensive. lil and dok are more efficient.\n",
            "  self._set_arrayXarray(i, j, x)\n"
          ]
        },
        {
          "output_type": "stream",
          "name": "stdout",
          "text": [
            "Iteración 30: Convergió correctamente.\n",
            "Tiempo de ejecución: 1.4509 segundos\n"
          ]
        },
        {
          "output_type": "stream",
          "name": "stderr",
          "text": [
            "/usr/local/lib/python3.11/dist-packages/scipy/sparse/_index.py:151: SparseEfficiencyWarning: Changing the sparsity structure of a csr_matrix is expensive. lil and dok are more efficient.\n",
            "  self._set_arrayXarray(i, j, x)\n"
          ]
        },
        {
          "output_type": "stream",
          "name": "stdout",
          "text": [
            "Iteración 31: Convergió correctamente.\n",
            "Tiempo de ejecución: 0.8904 segundos\n"
          ]
        },
        {
          "output_type": "stream",
          "name": "stderr",
          "text": [
            "/usr/local/lib/python3.11/dist-packages/scipy/sparse/_index.py:151: SparseEfficiencyWarning: Changing the sparsity structure of a csr_matrix is expensive. lil and dok are more efficient.\n",
            "  self._set_arrayXarray(i, j, x)\n"
          ]
        },
        {
          "output_type": "stream",
          "name": "stdout",
          "text": [
            "Iteración 32: Convergió correctamente.\n",
            "Tiempo de ejecución: 0.9265 segundos\n"
          ]
        },
        {
          "output_type": "stream",
          "name": "stderr",
          "text": [
            "/usr/local/lib/python3.11/dist-packages/scipy/sparse/_index.py:151: SparseEfficiencyWarning: Changing the sparsity structure of a csr_matrix is expensive. lil and dok are more efficient.\n",
            "  self._set_arrayXarray(i, j, x)\n"
          ]
        },
        {
          "output_type": "stream",
          "name": "stdout",
          "text": [
            "Iteración 33: Convergió correctamente.\n",
            "Tiempo de ejecución: 0.9938 segundos\n"
          ]
        },
        {
          "output_type": "stream",
          "name": "stderr",
          "text": [
            "/usr/local/lib/python3.11/dist-packages/scipy/sparse/_index.py:151: SparseEfficiencyWarning: Changing the sparsity structure of a csr_matrix is expensive. lil and dok are more efficient.\n",
            "  self._set_arrayXarray(i, j, x)\n"
          ]
        },
        {
          "output_type": "stream",
          "name": "stdout",
          "text": [
            "Iteración 34: Convergió correctamente.\n",
            "Tiempo de ejecución: 0.7367 segundos\n"
          ]
        },
        {
          "output_type": "stream",
          "name": "stderr",
          "text": [
            "/usr/local/lib/python3.11/dist-packages/scipy/sparse/_index.py:151: SparseEfficiencyWarning: Changing the sparsity structure of a csr_matrix is expensive. lil and dok are more efficient.\n",
            "  self._set_arrayXarray(i, j, x)\n"
          ]
        },
        {
          "output_type": "stream",
          "name": "stdout",
          "text": [
            "Iteración 35: Convergió correctamente.\n",
            "Tiempo de ejecución: 0.8528 segundos\n"
          ]
        },
        {
          "output_type": "stream",
          "name": "stderr",
          "text": [
            "/usr/local/lib/python3.11/dist-packages/scipy/sparse/_index.py:151: SparseEfficiencyWarning: Changing the sparsity structure of a csr_matrix is expensive. lil and dok are more efficient.\n",
            "  self._set_arrayXarray(i, j, x)\n"
          ]
        },
        {
          "output_type": "stream",
          "name": "stdout",
          "text": [
            "Iteración 36: Convergió correctamente.\n",
            "Tiempo de ejecución: 1.2829 segundos\n"
          ]
        },
        {
          "output_type": "stream",
          "name": "stderr",
          "text": [
            "/usr/local/lib/python3.11/dist-packages/scipy/sparse/_index.py:151: SparseEfficiencyWarning: Changing the sparsity structure of a csr_matrix is expensive. lil and dok are more efficient.\n",
            "  self._set_arrayXarray(i, j, x)\n"
          ]
        },
        {
          "output_type": "stream",
          "name": "stdout",
          "text": [
            "Iteración 37: Convergió correctamente.\n",
            "Tiempo de ejecución: 2.3341 segundos\n"
          ]
        },
        {
          "output_type": "stream",
          "name": "stderr",
          "text": [
            "/usr/local/lib/python3.11/dist-packages/scipy/sparse/_index.py:151: SparseEfficiencyWarning: Changing the sparsity structure of a csr_matrix is expensive. lil and dok are more efficient.\n",
            "  self._set_arrayXarray(i, j, x)\n"
          ]
        },
        {
          "output_type": "stream",
          "name": "stdout",
          "text": [
            "Iteración 38: Convergió correctamente.\n",
            "Tiempo de ejecución: 1.3596 segundos\n"
          ]
        },
        {
          "output_type": "stream",
          "name": "stderr",
          "text": [
            "/usr/local/lib/python3.11/dist-packages/scipy/sparse/_index.py:151: SparseEfficiencyWarning: Changing the sparsity structure of a csr_matrix is expensive. lil and dok are more efficient.\n",
            "  self._set_arrayXarray(i, j, x)\n"
          ]
        },
        {
          "output_type": "stream",
          "name": "stdout",
          "text": [
            "Iteración 39: Convergió correctamente.\n",
            "Tiempo de ejecución: 1.2866 segundos\n"
          ]
        },
        {
          "output_type": "stream",
          "name": "stderr",
          "text": [
            "/usr/local/lib/python3.11/dist-packages/scipy/sparse/_index.py:151: SparseEfficiencyWarning: Changing the sparsity structure of a csr_matrix is expensive. lil and dok are more efficient.\n",
            "  self._set_arrayXarray(i, j, x)\n"
          ]
        },
        {
          "output_type": "stream",
          "name": "stdout",
          "text": [
            "Iteración 40: Convergió correctamente.\n",
            "Tiempo de ejecución: 1.1107 segundos\n"
          ]
        },
        {
          "output_type": "stream",
          "name": "stderr",
          "text": [
            "/usr/local/lib/python3.11/dist-packages/scipy/sparse/_index.py:151: SparseEfficiencyWarning: Changing the sparsity structure of a csr_matrix is expensive. lil and dok are more efficient.\n",
            "  self._set_arrayXarray(i, j, x)\n"
          ]
        },
        {
          "output_type": "stream",
          "name": "stdout",
          "text": [
            "Iteración 41: Convergió correctamente.\n",
            "Tiempo de ejecución: 1.2665 segundos\n"
          ]
        },
        {
          "output_type": "stream",
          "name": "stderr",
          "text": [
            "/usr/local/lib/python3.11/dist-packages/scipy/sparse/_index.py:151: SparseEfficiencyWarning: Changing the sparsity structure of a csr_matrix is expensive. lil and dok are more efficient.\n",
            "  self._set_arrayXarray(i, j, x)\n"
          ]
        },
        {
          "output_type": "stream",
          "name": "stdout",
          "text": [
            "Iteración 42: Convergió correctamente.\n",
            "Tiempo de ejecución: 0.9969 segundos\n"
          ]
        },
        {
          "output_type": "stream",
          "name": "stderr",
          "text": [
            "/usr/local/lib/python3.11/dist-packages/scipy/sparse/_index.py:151: SparseEfficiencyWarning: Changing the sparsity structure of a csr_matrix is expensive. lil and dok are more efficient.\n",
            "  self._set_arrayXarray(i, j, x)\n"
          ]
        },
        {
          "output_type": "stream",
          "name": "stdout",
          "text": [
            "Iteración 43: Convergió correctamente.\n",
            "Tiempo de ejecución: 1.0497 segundos\n"
          ]
        },
        {
          "output_type": "stream",
          "name": "stderr",
          "text": [
            "/usr/local/lib/python3.11/dist-packages/scipy/sparse/_index.py:151: SparseEfficiencyWarning: Changing the sparsity structure of a csr_matrix is expensive. lil and dok are more efficient.\n",
            "  self._set_arrayXarray(i, j, x)\n"
          ]
        },
        {
          "output_type": "stream",
          "name": "stdout",
          "text": [
            "Iteración 44: Convergió correctamente.\n",
            "Tiempo de ejecución: 1.2802 segundos\n"
          ]
        },
        {
          "output_type": "stream",
          "name": "stderr",
          "text": [
            "/usr/local/lib/python3.11/dist-packages/scipy/sparse/_index.py:151: SparseEfficiencyWarning: Changing the sparsity structure of a csr_matrix is expensive. lil and dok are more efficient.\n",
            "  self._set_arrayXarray(i, j, x)\n"
          ]
        },
        {
          "output_type": "stream",
          "name": "stdout",
          "text": [
            "Iteración 45: Convergió correctamente.\n",
            "Tiempo de ejecución: 1.5293 segundos\n"
          ]
        },
        {
          "output_type": "stream",
          "name": "stderr",
          "text": [
            "/usr/local/lib/python3.11/dist-packages/scipy/sparse/_index.py:151: SparseEfficiencyWarning: Changing the sparsity structure of a csr_matrix is expensive. lil and dok are more efficient.\n",
            "  self._set_arrayXarray(i, j, x)\n"
          ]
        },
        {
          "output_type": "stream",
          "name": "stdout",
          "text": [
            "Iteración 46: Convergió correctamente.\n",
            "Tiempo de ejecución: 2.2874 segundos\n"
          ]
        },
        {
          "output_type": "stream",
          "name": "stderr",
          "text": [
            "/usr/local/lib/python3.11/dist-packages/scipy/sparse/_index.py:151: SparseEfficiencyWarning: Changing the sparsity structure of a csr_matrix is expensive. lil and dok are more efficient.\n",
            "  self._set_arrayXarray(i, j, x)\n"
          ]
        },
        {
          "output_type": "stream",
          "name": "stdout",
          "text": [
            "Iteración 47: Convergió correctamente.\n",
            "Tiempo de ejecución: 1.4660 segundos\n"
          ]
        },
        {
          "output_type": "stream",
          "name": "stderr",
          "text": [
            "/usr/local/lib/python3.11/dist-packages/scipy/sparse/_index.py:151: SparseEfficiencyWarning: Changing the sparsity structure of a csr_matrix is expensive. lil and dok are more efficient.\n",
            "  self._set_arrayXarray(i, j, x)\n"
          ]
        },
        {
          "output_type": "stream",
          "name": "stdout",
          "text": [
            "Iteración 48: Convergió correctamente.\n",
            "Tiempo de ejecución: 0.7344 segundos\n"
          ]
        },
        {
          "output_type": "stream",
          "name": "stderr",
          "text": [
            "/usr/local/lib/python3.11/dist-packages/scipy/sparse/_index.py:151: SparseEfficiencyWarning: Changing the sparsity structure of a csr_matrix is expensive. lil and dok are more efficient.\n",
            "  self._set_arrayXarray(i, j, x)\n"
          ]
        },
        {
          "output_type": "stream",
          "name": "stdout",
          "text": [
            "Iteración 49: Convergió correctamente.\n",
            "Tiempo de ejecución: 1.7240 segundos\n"
          ]
        },
        {
          "output_type": "stream",
          "name": "stderr",
          "text": [
            "/usr/local/lib/python3.11/dist-packages/scipy/sparse/_index.py:151: SparseEfficiencyWarning: Changing the sparsity structure of a csr_matrix is expensive. lil and dok are more efficient.\n",
            "  self._set_arrayXarray(i, j, x)\n",
            "<ipython-input-5-e9ab6229a877>:57: SparseEfficiencyWarning: spilu converted its input to CSC format\n",
            "  ilu = spilu(sistema_sparse)\n"
          ]
        },
        {
          "output_type": "stream",
          "name": "stdout",
          "text": [
            "Iteración 50: Convergió correctamente.\n",
            "Tiempo de ejecución: 1.8670 segundos\n"
          ]
        },
        {
          "output_type": "stream",
          "name": "stderr",
          "text": [
            "/usr/local/lib/python3.11/dist-packages/scipy/sparse/_index.py:151: SparseEfficiencyWarning: Changing the sparsity structure of a csr_matrix is expensive. lil and dok are more efficient.\n",
            "  self._set_arrayXarray(i, j, x)\n"
          ]
        },
        {
          "output_type": "stream",
          "name": "stdout",
          "text": [
            "Iteración 51: Convergió correctamente.\n",
            "Tiempo de ejecución: 0.3218 segundos\n"
          ]
        },
        {
          "output_type": "stream",
          "name": "stderr",
          "text": [
            "/usr/local/lib/python3.11/dist-packages/scipy/sparse/_index.py:151: SparseEfficiencyWarning: Changing the sparsity structure of a csr_matrix is expensive. lil and dok are more efficient.\n",
            "  self._set_arrayXarray(i, j, x)\n"
          ]
        },
        {
          "output_type": "stream",
          "name": "stdout",
          "text": [
            "Iteración 52: Convergió correctamente.\n",
            "Tiempo de ejecución: 0.3280 segundos\n"
          ]
        },
        {
          "output_type": "stream",
          "name": "stderr",
          "text": [
            "/usr/local/lib/python3.11/dist-packages/scipy/sparse/_index.py:151: SparseEfficiencyWarning: Changing the sparsity structure of a csr_matrix is expensive. lil and dok are more efficient.\n",
            "  self._set_arrayXarray(i, j, x)\n"
          ]
        },
        {
          "output_type": "stream",
          "name": "stdout",
          "text": [
            "Iteración 53: Convergió correctamente.\n",
            "Tiempo de ejecución: 0.3706 segundos\n"
          ]
        },
        {
          "output_type": "stream",
          "name": "stderr",
          "text": [
            "/usr/local/lib/python3.11/dist-packages/scipy/sparse/_index.py:151: SparseEfficiencyWarning: Changing the sparsity structure of a csr_matrix is expensive. lil and dok are more efficient.\n",
            "  self._set_arrayXarray(i, j, x)\n"
          ]
        },
        {
          "output_type": "stream",
          "name": "stdout",
          "text": [
            "Iteración 54: Convergió correctamente.\n",
            "Tiempo de ejecución: 0.3484 segundos\n"
          ]
        },
        {
          "output_type": "stream",
          "name": "stderr",
          "text": [
            "/usr/local/lib/python3.11/dist-packages/scipy/sparse/_index.py:151: SparseEfficiencyWarning: Changing the sparsity structure of a csr_matrix is expensive. lil and dok are more efficient.\n",
            "  self._set_arrayXarray(i, j, x)\n"
          ]
        },
        {
          "output_type": "stream",
          "name": "stdout",
          "text": [
            "Iteración 55: Convergió correctamente.\n",
            "Tiempo de ejecución: 0.3751 segundos\n"
          ]
        },
        {
          "output_type": "stream",
          "name": "stderr",
          "text": [
            "/usr/local/lib/python3.11/dist-packages/scipy/sparse/_index.py:151: SparseEfficiencyWarning: Changing the sparsity structure of a csr_matrix is expensive. lil and dok are more efficient.\n",
            "  self._set_arrayXarray(i, j, x)\n"
          ]
        },
        {
          "output_type": "stream",
          "name": "stdout",
          "text": [
            "Iteración 56: Convergió correctamente.\n",
            "Tiempo de ejecución: 0.3698 segundos\n"
          ]
        },
        {
          "output_type": "stream",
          "name": "stderr",
          "text": [
            "/usr/local/lib/python3.11/dist-packages/scipy/sparse/_index.py:151: SparseEfficiencyWarning: Changing the sparsity structure of a csr_matrix is expensive. lil and dok are more efficient.\n",
            "  self._set_arrayXarray(i, j, x)\n"
          ]
        },
        {
          "output_type": "stream",
          "name": "stdout",
          "text": [
            "Iteración 57: Convergió correctamente.\n",
            "Tiempo de ejecución: 0.3899 segundos\n"
          ]
        },
        {
          "output_type": "stream",
          "name": "stderr",
          "text": [
            "/usr/local/lib/python3.11/dist-packages/scipy/sparse/_index.py:151: SparseEfficiencyWarning: Changing the sparsity structure of a csr_matrix is expensive. lil and dok are more efficient.\n",
            "  self._set_arrayXarray(i, j, x)\n"
          ]
        },
        {
          "output_type": "stream",
          "name": "stdout",
          "text": [
            "Iteración 58: Convergió correctamente.\n",
            "Tiempo de ejecución: 0.3592 segundos\n"
          ]
        },
        {
          "output_type": "stream",
          "name": "stderr",
          "text": [
            "/usr/local/lib/python3.11/dist-packages/scipy/sparse/_index.py:151: SparseEfficiencyWarning: Changing the sparsity structure of a csr_matrix is expensive. lil and dok are more efficient.\n",
            "  self._set_arrayXarray(i, j, x)\n"
          ]
        },
        {
          "output_type": "stream",
          "name": "stdout",
          "text": [
            "Iteración 59: Convergió correctamente.\n",
            "Tiempo de ejecución: 0.4014 segundos\n"
          ]
        },
        {
          "output_type": "stream",
          "name": "stderr",
          "text": [
            "/usr/local/lib/python3.11/dist-packages/scipy/sparse/_index.py:151: SparseEfficiencyWarning: Changing the sparsity structure of a csr_matrix is expensive. lil and dok are more efficient.\n",
            "  self._set_arrayXarray(i, j, x)\n"
          ]
        },
        {
          "output_type": "stream",
          "name": "stdout",
          "text": [
            "Iteración 60: Convergió correctamente.\n",
            "Tiempo de ejecución: 0.3648 segundos\n"
          ]
        },
        {
          "output_type": "stream",
          "name": "stderr",
          "text": [
            "/usr/local/lib/python3.11/dist-packages/scipy/sparse/_index.py:151: SparseEfficiencyWarning: Changing the sparsity structure of a csr_matrix is expensive. lil and dok are more efficient.\n",
            "  self._set_arrayXarray(i, j, x)\n"
          ]
        },
        {
          "output_type": "stream",
          "name": "stdout",
          "text": [
            "Iteración 61: Convergió correctamente.\n",
            "Tiempo de ejecución: 0.6458 segundos\n"
          ]
        },
        {
          "output_type": "stream",
          "name": "stderr",
          "text": [
            "/usr/local/lib/python3.11/dist-packages/scipy/sparse/_index.py:151: SparseEfficiencyWarning: Changing the sparsity structure of a csr_matrix is expensive. lil and dok are more efficient.\n",
            "  self._set_arrayXarray(i, j, x)\n"
          ]
        },
        {
          "output_type": "stream",
          "name": "stdout",
          "text": [
            "Iteración 62: Convergió correctamente.\n",
            "Tiempo de ejecución: 0.5432 segundos\n"
          ]
        },
        {
          "output_type": "stream",
          "name": "stderr",
          "text": [
            "/usr/local/lib/python3.11/dist-packages/scipy/sparse/_index.py:151: SparseEfficiencyWarning: Changing the sparsity structure of a csr_matrix is expensive. lil and dok are more efficient.\n",
            "  self._set_arrayXarray(i, j, x)\n"
          ]
        },
        {
          "output_type": "stream",
          "name": "stdout",
          "text": [
            "Iteración 63: Convergió correctamente.\n",
            "Tiempo de ejecución: 0.4822 segundos\n"
          ]
        },
        {
          "output_type": "stream",
          "name": "stderr",
          "text": [
            "/usr/local/lib/python3.11/dist-packages/scipy/sparse/_index.py:151: SparseEfficiencyWarning: Changing the sparsity structure of a csr_matrix is expensive. lil and dok are more efficient.\n",
            "  self._set_arrayXarray(i, j, x)\n"
          ]
        },
        {
          "output_type": "stream",
          "name": "stdout",
          "text": [
            "Iteración 64: Convergió correctamente.\n",
            "Tiempo de ejecución: 0.4143 segundos\n"
          ]
        },
        {
          "output_type": "stream",
          "name": "stderr",
          "text": [
            "/usr/local/lib/python3.11/dist-packages/scipy/sparse/_index.py:151: SparseEfficiencyWarning: Changing the sparsity structure of a csr_matrix is expensive. lil and dok are more efficient.\n",
            "  self._set_arrayXarray(i, j, x)\n"
          ]
        },
        {
          "output_type": "stream",
          "name": "stdout",
          "text": [
            "Iteración 65: Convergió correctamente.\n",
            "Tiempo de ejecución: 0.3772 segundos\n"
          ]
        },
        {
          "output_type": "stream",
          "name": "stderr",
          "text": [
            "/usr/local/lib/python3.11/dist-packages/scipy/sparse/_index.py:151: SparseEfficiencyWarning: Changing the sparsity structure of a csr_matrix is expensive. lil and dok are more efficient.\n",
            "  self._set_arrayXarray(i, j, x)\n"
          ]
        },
        {
          "output_type": "stream",
          "name": "stdout",
          "text": [
            "Iteración 66: Convergió correctamente.\n",
            "Tiempo de ejecución: 0.3799 segundos\n"
          ]
        },
        {
          "output_type": "stream",
          "name": "stderr",
          "text": [
            "/usr/local/lib/python3.11/dist-packages/scipy/sparse/_index.py:151: SparseEfficiencyWarning: Changing the sparsity structure of a csr_matrix is expensive. lil and dok are more efficient.\n",
            "  self._set_arrayXarray(i, j, x)\n"
          ]
        },
        {
          "output_type": "stream",
          "name": "stdout",
          "text": [
            "Iteración 67: Convergió correctamente.\n",
            "Tiempo de ejecución: 0.3786 segundos\n"
          ]
        },
        {
          "output_type": "stream",
          "name": "stderr",
          "text": [
            "/usr/local/lib/python3.11/dist-packages/scipy/sparse/_index.py:151: SparseEfficiencyWarning: Changing the sparsity structure of a csr_matrix is expensive. lil and dok are more efficient.\n",
            "  self._set_arrayXarray(i, j, x)\n"
          ]
        },
        {
          "output_type": "stream",
          "name": "stdout",
          "text": [
            "Iteración 68: Convergió correctamente.\n",
            "Tiempo de ejecución: 0.3863 segundos\n"
          ]
        },
        {
          "output_type": "stream",
          "name": "stderr",
          "text": [
            "/usr/local/lib/python3.11/dist-packages/scipy/sparse/_index.py:151: SparseEfficiencyWarning: Changing the sparsity structure of a csr_matrix is expensive. lil and dok are more efficient.\n",
            "  self._set_arrayXarray(i, j, x)\n"
          ]
        },
        {
          "output_type": "stream",
          "name": "stdout",
          "text": [
            "Iteración 69: Convergió correctamente.\n",
            "Tiempo de ejecución: 0.4172 segundos\n"
          ]
        },
        {
          "output_type": "stream",
          "name": "stderr",
          "text": [
            "/usr/local/lib/python3.11/dist-packages/scipy/sparse/_index.py:151: SparseEfficiencyWarning: Changing the sparsity structure of a csr_matrix is expensive. lil and dok are more efficient.\n",
            "  self._set_arrayXarray(i, j, x)\n"
          ]
        },
        {
          "output_type": "stream",
          "name": "stdout",
          "text": [
            "Iteración 70: Convergió correctamente.\n",
            "Tiempo de ejecución: 0.4158 segundos\n"
          ]
        },
        {
          "output_type": "stream",
          "name": "stderr",
          "text": [
            "/usr/local/lib/python3.11/dist-packages/scipy/sparse/_index.py:151: SparseEfficiencyWarning: Changing the sparsity structure of a csr_matrix is expensive. lil and dok are more efficient.\n",
            "  self._set_arrayXarray(i, j, x)\n"
          ]
        },
        {
          "output_type": "stream",
          "name": "stdout",
          "text": [
            "Iteración 71: Convergió correctamente.\n",
            "Tiempo de ejecución: 0.3832 segundos\n"
          ]
        },
        {
          "output_type": "stream",
          "name": "stderr",
          "text": [
            "/usr/local/lib/python3.11/dist-packages/scipy/sparse/_index.py:151: SparseEfficiencyWarning: Changing the sparsity structure of a csr_matrix is expensive. lil and dok are more efficient.\n",
            "  self._set_arrayXarray(i, j, x)\n"
          ]
        },
        {
          "output_type": "stream",
          "name": "stdout",
          "text": [
            "Iteración 72: Convergió correctamente.\n",
            "Tiempo de ejecución: 0.4401 segundos\n"
          ]
        },
        {
          "output_type": "stream",
          "name": "stderr",
          "text": [
            "/usr/local/lib/python3.11/dist-packages/scipy/sparse/_index.py:151: SparseEfficiencyWarning: Changing the sparsity structure of a csr_matrix is expensive. lil and dok are more efficient.\n",
            "  self._set_arrayXarray(i, j, x)\n"
          ]
        },
        {
          "output_type": "stream",
          "name": "stdout",
          "text": [
            "Iteración 73: Convergió correctamente.\n",
            "Tiempo de ejecución: 0.4509 segundos\n"
          ]
        },
        {
          "output_type": "stream",
          "name": "stderr",
          "text": [
            "/usr/local/lib/python3.11/dist-packages/scipy/sparse/_index.py:151: SparseEfficiencyWarning: Changing the sparsity structure of a csr_matrix is expensive. lil and dok are more efficient.\n",
            "  self._set_arrayXarray(i, j, x)\n"
          ]
        },
        {
          "output_type": "stream",
          "name": "stdout",
          "text": [
            "Iteración 74: Convergió correctamente.\n",
            "Tiempo de ejecución: 0.4145 segundos\n"
          ]
        },
        {
          "output_type": "stream",
          "name": "stderr",
          "text": [
            "/usr/local/lib/python3.11/dist-packages/scipy/sparse/_index.py:151: SparseEfficiencyWarning: Changing the sparsity structure of a csr_matrix is expensive. lil and dok are more efficient.\n",
            "  self._set_arrayXarray(i, j, x)\n"
          ]
        },
        {
          "output_type": "stream",
          "name": "stdout",
          "text": [
            "Iteración 75: Convergió correctamente.\n",
            "Tiempo de ejecución: 0.4031 segundos\n"
          ]
        },
        {
          "output_type": "stream",
          "name": "stderr",
          "text": [
            "/usr/local/lib/python3.11/dist-packages/scipy/sparse/_index.py:151: SparseEfficiencyWarning: Changing the sparsity structure of a csr_matrix is expensive. lil and dok are more efficient.\n",
            "  self._set_arrayXarray(i, j, x)\n"
          ]
        },
        {
          "output_type": "stream",
          "name": "stdout",
          "text": [
            "Iteración 76: Convergió correctamente.\n",
            "Tiempo de ejecución: 0.4254 segundos\n"
          ]
        },
        {
          "output_type": "stream",
          "name": "stderr",
          "text": [
            "/usr/local/lib/python3.11/dist-packages/scipy/sparse/_index.py:151: SparseEfficiencyWarning: Changing the sparsity structure of a csr_matrix is expensive. lil and dok are more efficient.\n",
            "  self._set_arrayXarray(i, j, x)\n"
          ]
        },
        {
          "output_type": "stream",
          "name": "stdout",
          "text": [
            "Iteración 77: Convergió correctamente.\n",
            "Tiempo de ejecución: 0.4923 segundos\n"
          ]
        },
        {
          "output_type": "stream",
          "name": "stderr",
          "text": [
            "/usr/local/lib/python3.11/dist-packages/scipy/sparse/_index.py:151: SparseEfficiencyWarning: Changing the sparsity structure of a csr_matrix is expensive. lil and dok are more efficient.\n",
            "  self._set_arrayXarray(i, j, x)\n"
          ]
        },
        {
          "output_type": "stream",
          "name": "stdout",
          "text": [
            "Iteración 78: Convergió correctamente.\n",
            "Tiempo de ejecución: 0.4563 segundos\n"
          ]
        },
        {
          "output_type": "stream",
          "name": "stderr",
          "text": [
            "/usr/local/lib/python3.11/dist-packages/scipy/sparse/_index.py:151: SparseEfficiencyWarning: Changing the sparsity structure of a csr_matrix is expensive. lil and dok are more efficient.\n",
            "  self._set_arrayXarray(i, j, x)\n"
          ]
        },
        {
          "output_type": "stream",
          "name": "stdout",
          "text": [
            "Iteración 79: Convergió correctamente.\n",
            "Tiempo de ejecución: 0.4795 segundos\n"
          ]
        },
        {
          "output_type": "stream",
          "name": "stderr",
          "text": [
            "/usr/local/lib/python3.11/dist-packages/scipy/sparse/_index.py:151: SparseEfficiencyWarning: Changing the sparsity structure of a csr_matrix is expensive. lil and dok are more efficient.\n",
            "  self._set_arrayXarray(i, j, x)\n"
          ]
        },
        {
          "output_type": "stream",
          "name": "stdout",
          "text": [
            "Iteración 80: Convergió correctamente.\n",
            "Tiempo de ejecución: 0.4727 segundos\n"
          ]
        },
        {
          "output_type": "stream",
          "name": "stderr",
          "text": [
            "/usr/local/lib/python3.11/dist-packages/scipy/sparse/_index.py:151: SparseEfficiencyWarning: Changing the sparsity structure of a csr_matrix is expensive. lil and dok are more efficient.\n",
            "  self._set_arrayXarray(i, j, x)\n"
          ]
        },
        {
          "output_type": "stream",
          "name": "stdout",
          "text": [
            "Iteración 81: Convergió correctamente.\n",
            "Tiempo de ejecución: 0.4289 segundos\n"
          ]
        },
        {
          "output_type": "stream",
          "name": "stderr",
          "text": [
            "/usr/local/lib/python3.11/dist-packages/scipy/sparse/_index.py:151: SparseEfficiencyWarning: Changing the sparsity structure of a csr_matrix is expensive. lil and dok are more efficient.\n",
            "  self._set_arrayXarray(i, j, x)\n"
          ]
        },
        {
          "output_type": "stream",
          "name": "stdout",
          "text": [
            "Iteración 82: Convergió correctamente.\n",
            "Tiempo de ejecución: 0.4701 segundos\n"
          ]
        },
        {
          "output_type": "stream",
          "name": "stderr",
          "text": [
            "/usr/local/lib/python3.11/dist-packages/scipy/sparse/_index.py:151: SparseEfficiencyWarning: Changing the sparsity structure of a csr_matrix is expensive. lil and dok are more efficient.\n",
            "  self._set_arrayXarray(i, j, x)\n"
          ]
        },
        {
          "output_type": "stream",
          "name": "stdout",
          "text": [
            "Iteración 83: Convergió correctamente.\n",
            "Tiempo de ejecución: 0.4819 segundos\n"
          ]
        },
        {
          "output_type": "stream",
          "name": "stderr",
          "text": [
            "/usr/local/lib/python3.11/dist-packages/scipy/sparse/_index.py:151: SparseEfficiencyWarning: Changing the sparsity structure of a csr_matrix is expensive. lil and dok are more efficient.\n",
            "  self._set_arrayXarray(i, j, x)\n"
          ]
        },
        {
          "output_type": "stream",
          "name": "stdout",
          "text": [
            "Iteración 84: Convergió correctamente.\n",
            "Tiempo de ejecución: 0.4811 segundos\n"
          ]
        },
        {
          "output_type": "stream",
          "name": "stderr",
          "text": [
            "/usr/local/lib/python3.11/dist-packages/scipy/sparse/_index.py:151: SparseEfficiencyWarning: Changing the sparsity structure of a csr_matrix is expensive. lil and dok are more efficient.\n",
            "  self._set_arrayXarray(i, j, x)\n"
          ]
        },
        {
          "output_type": "stream",
          "name": "stdout",
          "text": [
            "Iteración 85: Convergió correctamente.\n",
            "Tiempo de ejecución: 0.4851 segundos\n"
          ]
        },
        {
          "output_type": "stream",
          "name": "stderr",
          "text": [
            "/usr/local/lib/python3.11/dist-packages/scipy/sparse/_index.py:151: SparseEfficiencyWarning: Changing the sparsity structure of a csr_matrix is expensive. lil and dok are more efficient.\n",
            "  self._set_arrayXarray(i, j, x)\n"
          ]
        },
        {
          "output_type": "stream",
          "name": "stdout",
          "text": [
            "Iteración 86: Convergió correctamente.\n",
            "Tiempo de ejecución: 0.4628 segundos\n"
          ]
        },
        {
          "output_type": "stream",
          "name": "stderr",
          "text": [
            "/usr/local/lib/python3.11/dist-packages/scipy/sparse/_index.py:151: SparseEfficiencyWarning: Changing the sparsity structure of a csr_matrix is expensive. lil and dok are more efficient.\n",
            "  self._set_arrayXarray(i, j, x)\n"
          ]
        },
        {
          "output_type": "stream",
          "name": "stdout",
          "text": [
            "Iteración 87: Convergió correctamente.\n",
            "Tiempo de ejecución: 0.5629 segundos\n"
          ]
        },
        {
          "output_type": "stream",
          "name": "stderr",
          "text": [
            "/usr/local/lib/python3.11/dist-packages/scipy/sparse/_index.py:151: SparseEfficiencyWarning: Changing the sparsity structure of a csr_matrix is expensive. lil and dok are more efficient.\n",
            "  self._set_arrayXarray(i, j, x)\n"
          ]
        },
        {
          "output_type": "stream",
          "name": "stdout",
          "text": [
            "Iteración 88: Convergió correctamente.\n",
            "Tiempo de ejecución: 1.0799 segundos\n"
          ]
        },
        {
          "output_type": "stream",
          "name": "stderr",
          "text": [
            "/usr/local/lib/python3.11/dist-packages/scipy/sparse/_index.py:151: SparseEfficiencyWarning: Changing the sparsity structure of a csr_matrix is expensive. lil and dok are more efficient.\n",
            "  self._set_arrayXarray(i, j, x)\n"
          ]
        },
        {
          "output_type": "stream",
          "name": "stdout",
          "text": [
            "Iteración 89: Convergió correctamente.\n",
            "Tiempo de ejecución: 0.5994 segundos\n"
          ]
        },
        {
          "output_type": "stream",
          "name": "stderr",
          "text": [
            "/usr/local/lib/python3.11/dist-packages/scipy/sparse/_index.py:151: SparseEfficiencyWarning: Changing the sparsity structure of a csr_matrix is expensive. lil and dok are more efficient.\n",
            "  self._set_arrayXarray(i, j, x)\n"
          ]
        },
        {
          "output_type": "stream",
          "name": "stdout",
          "text": [
            "Iteración 90: Convergió correctamente.\n",
            "Tiempo de ejecución: 0.4670 segundos\n"
          ]
        },
        {
          "output_type": "stream",
          "name": "stderr",
          "text": [
            "/usr/local/lib/python3.11/dist-packages/scipy/sparse/_index.py:151: SparseEfficiencyWarning: Changing the sparsity structure of a csr_matrix is expensive. lil and dok are more efficient.\n",
            "  self._set_arrayXarray(i, j, x)\n"
          ]
        },
        {
          "output_type": "stream",
          "name": "stdout",
          "text": [
            "Iteración 91: Convergió correctamente.\n",
            "Tiempo de ejecución: 0.4672 segundos\n"
          ]
        },
        {
          "output_type": "stream",
          "name": "stderr",
          "text": [
            "/usr/local/lib/python3.11/dist-packages/scipy/sparse/_index.py:151: SparseEfficiencyWarning: Changing the sparsity structure of a csr_matrix is expensive. lil and dok are more efficient.\n",
            "  self._set_arrayXarray(i, j, x)\n"
          ]
        },
        {
          "output_type": "stream",
          "name": "stdout",
          "text": [
            "Iteración 92: Convergió correctamente.\n",
            "Tiempo de ejecución: 0.4216 segundos\n"
          ]
        },
        {
          "output_type": "stream",
          "name": "stderr",
          "text": [
            "/usr/local/lib/python3.11/dist-packages/scipy/sparse/_index.py:151: SparseEfficiencyWarning: Changing the sparsity structure of a csr_matrix is expensive. lil and dok are more efficient.\n",
            "  self._set_arrayXarray(i, j, x)\n"
          ]
        },
        {
          "output_type": "stream",
          "name": "stdout",
          "text": [
            "Iteración 93: Convergió correctamente.\n",
            "Tiempo de ejecución: 0.5251 segundos\n"
          ]
        },
        {
          "output_type": "stream",
          "name": "stderr",
          "text": [
            "/usr/local/lib/python3.11/dist-packages/scipy/sparse/_index.py:151: SparseEfficiencyWarning: Changing the sparsity structure of a csr_matrix is expensive. lil and dok are more efficient.\n",
            "  self._set_arrayXarray(i, j, x)\n"
          ]
        },
        {
          "output_type": "stream",
          "name": "stdout",
          "text": [
            "Iteración 94: Convergió correctamente.\n",
            "Tiempo de ejecución: 0.4595 segundos\n"
          ]
        },
        {
          "output_type": "stream",
          "name": "stderr",
          "text": [
            "/usr/local/lib/python3.11/dist-packages/scipy/sparse/_index.py:151: SparseEfficiencyWarning: Changing the sparsity structure of a csr_matrix is expensive. lil and dok are more efficient.\n",
            "  self._set_arrayXarray(i, j, x)\n"
          ]
        },
        {
          "output_type": "stream",
          "name": "stdout",
          "text": [
            "Iteración 95: Convergió correctamente.\n",
            "Tiempo de ejecución: 0.5424 segundos\n"
          ]
        },
        {
          "output_type": "stream",
          "name": "stderr",
          "text": [
            "/usr/local/lib/python3.11/dist-packages/scipy/sparse/_index.py:151: SparseEfficiencyWarning: Changing the sparsity structure of a csr_matrix is expensive. lil and dok are more efficient.\n",
            "  self._set_arrayXarray(i, j, x)\n"
          ]
        },
        {
          "output_type": "stream",
          "name": "stdout",
          "text": [
            "Iteración 96: Convergió correctamente.\n",
            "Tiempo de ejecución: 0.4942 segundos\n"
          ]
        },
        {
          "output_type": "stream",
          "name": "stderr",
          "text": [
            "/usr/local/lib/python3.11/dist-packages/scipy/sparse/_index.py:151: SparseEfficiencyWarning: Changing the sparsity structure of a csr_matrix is expensive. lil and dok are more efficient.\n",
            "  self._set_arrayXarray(i, j, x)\n"
          ]
        },
        {
          "output_type": "stream",
          "name": "stdout",
          "text": [
            "Iteración 97: Convergió correctamente.\n",
            "Tiempo de ejecución: 0.4930 segundos\n"
          ]
        },
        {
          "output_type": "stream",
          "name": "stderr",
          "text": [
            "/usr/local/lib/python3.11/dist-packages/scipy/sparse/_index.py:151: SparseEfficiencyWarning: Changing the sparsity structure of a csr_matrix is expensive. lil and dok are more efficient.\n",
            "  self._set_arrayXarray(i, j, x)\n"
          ]
        },
        {
          "output_type": "stream",
          "name": "stdout",
          "text": [
            "Iteración 98: Convergió correctamente.\n",
            "Tiempo de ejecución: 0.5917 segundos\n"
          ]
        },
        {
          "output_type": "stream",
          "name": "stderr",
          "text": [
            "/usr/local/lib/python3.11/dist-packages/scipy/sparse/_index.py:151: SparseEfficiencyWarning: Changing the sparsity structure of a csr_matrix is expensive. lil and dok are more efficient.\n",
            "  self._set_arrayXarray(i, j, x)\n"
          ]
        },
        {
          "output_type": "stream",
          "name": "stdout",
          "text": [
            "Iteración 99: Convergió correctamente.\n",
            "Tiempo de ejecución: 0.5032 segundos\n"
          ]
        },
        {
          "output_type": "stream",
          "name": "stderr",
          "text": [
            "/usr/local/lib/python3.11/dist-packages/scipy/sparse/_index.py:151: SparseEfficiencyWarning: Changing the sparsity structure of a csr_matrix is expensive. lil and dok are more efficient.\n",
            "  self._set_arrayXarray(i, j, x)\n",
            "<ipython-input-5-e9ab6229a877>:57: SparseEfficiencyWarning: spilu converted its input to CSC format\n",
            "  ilu = spilu(sistema_sparse)\n"
          ]
        },
        {
          "output_type": "stream",
          "name": "stdout",
          "text": [
            "Iteración 100: Convergió correctamente.\n",
            "Tiempo de ejecución: 2.2586 segundos\n"
          ]
        },
        {
          "output_type": "stream",
          "name": "stderr",
          "text": [
            "/usr/local/lib/python3.11/dist-packages/scipy/sparse/_index.py:151: SparseEfficiencyWarning: Changing the sparsity structure of a csr_matrix is expensive. lil and dok are more efficient.\n",
            "  self._set_arrayXarray(i, j, x)\n"
          ]
        },
        {
          "output_type": "stream",
          "name": "stdout",
          "text": [
            "Iteración 101: Convergió correctamente.\n",
            "Tiempo de ejecución: 0.3450 segundos\n"
          ]
        },
        {
          "output_type": "stream",
          "name": "stderr",
          "text": [
            "/usr/local/lib/python3.11/dist-packages/scipy/sparse/_index.py:151: SparseEfficiencyWarning: Changing the sparsity structure of a csr_matrix is expensive. lil and dok are more efficient.\n",
            "  self._set_arrayXarray(i, j, x)\n"
          ]
        },
        {
          "output_type": "stream",
          "name": "stdout",
          "text": [
            "Iteración 102: Convergió correctamente.\n",
            "Tiempo de ejecución: 0.3775 segundos\n"
          ]
        },
        {
          "output_type": "stream",
          "name": "stderr",
          "text": [
            "/usr/local/lib/python3.11/dist-packages/scipy/sparse/_index.py:151: SparseEfficiencyWarning: Changing the sparsity structure of a csr_matrix is expensive. lil and dok are more efficient.\n",
            "  self._set_arrayXarray(i, j, x)\n"
          ]
        },
        {
          "output_type": "stream",
          "name": "stdout",
          "text": [
            "Iteración 103: Convergió correctamente.\n",
            "Tiempo de ejecución: 0.3678 segundos\n"
          ]
        },
        {
          "output_type": "stream",
          "name": "stderr",
          "text": [
            "/usr/local/lib/python3.11/dist-packages/scipy/sparse/_index.py:151: SparseEfficiencyWarning: Changing the sparsity structure of a csr_matrix is expensive. lil and dok are more efficient.\n",
            "  self._set_arrayXarray(i, j, x)\n"
          ]
        },
        {
          "output_type": "stream",
          "name": "stdout",
          "text": [
            "Iteración 104: Convergió correctamente.\n",
            "Tiempo de ejecución: 0.4170 segundos\n"
          ]
        },
        {
          "output_type": "stream",
          "name": "stderr",
          "text": [
            "/usr/local/lib/python3.11/dist-packages/scipy/sparse/_index.py:151: SparseEfficiencyWarning: Changing the sparsity structure of a csr_matrix is expensive. lil and dok are more efficient.\n",
            "  self._set_arrayXarray(i, j, x)\n"
          ]
        },
        {
          "output_type": "stream",
          "name": "stdout",
          "text": [
            "Iteración 105: Convergió correctamente.\n",
            "Tiempo de ejecución: 0.4203 segundos\n"
          ]
        },
        {
          "output_type": "stream",
          "name": "stderr",
          "text": [
            "/usr/local/lib/python3.11/dist-packages/scipy/sparse/_index.py:151: SparseEfficiencyWarning: Changing the sparsity structure of a csr_matrix is expensive. lil and dok are more efficient.\n",
            "  self._set_arrayXarray(i, j, x)\n"
          ]
        },
        {
          "output_type": "stream",
          "name": "stdout",
          "text": [
            "Iteración 106: Convergió correctamente.\n",
            "Tiempo de ejecución: 0.3598 segundos\n"
          ]
        },
        {
          "output_type": "stream",
          "name": "stderr",
          "text": [
            "/usr/local/lib/python3.11/dist-packages/scipy/sparse/_index.py:151: SparseEfficiencyWarning: Changing the sparsity structure of a csr_matrix is expensive. lil and dok are more efficient.\n",
            "  self._set_arrayXarray(i, j, x)\n"
          ]
        },
        {
          "output_type": "stream",
          "name": "stdout",
          "text": [
            "Iteración 107: Convergió correctamente.\n",
            "Tiempo de ejecución: 0.4991 segundos\n"
          ]
        },
        {
          "output_type": "stream",
          "name": "stderr",
          "text": [
            "/usr/local/lib/python3.11/dist-packages/scipy/sparse/_index.py:151: SparseEfficiencyWarning: Changing the sparsity structure of a csr_matrix is expensive. lil and dok are more efficient.\n",
            "  self._set_arrayXarray(i, j, x)\n"
          ]
        },
        {
          "output_type": "stream",
          "name": "stdout",
          "text": [
            "Iteración 108: Convergió correctamente.\n",
            "Tiempo de ejecución: 0.8039 segundos\n"
          ]
        },
        {
          "output_type": "stream",
          "name": "stderr",
          "text": [
            "/usr/local/lib/python3.11/dist-packages/scipy/sparse/_index.py:151: SparseEfficiencyWarning: Changing the sparsity structure of a csr_matrix is expensive. lil and dok are more efficient.\n",
            "  self._set_arrayXarray(i, j, x)\n"
          ]
        },
        {
          "output_type": "stream",
          "name": "stdout",
          "text": [
            "Iteración 109: Convergió correctamente.\n",
            "Tiempo de ejecución: 0.6389 segundos\n"
          ]
        },
        {
          "output_type": "stream",
          "name": "stderr",
          "text": [
            "/usr/local/lib/python3.11/dist-packages/scipy/sparse/_index.py:151: SparseEfficiencyWarning: Changing the sparsity structure of a csr_matrix is expensive. lil and dok are more efficient.\n",
            "  self._set_arrayXarray(i, j, x)\n"
          ]
        },
        {
          "output_type": "stream",
          "name": "stdout",
          "text": [
            "Iteración 110: Convergió correctamente.\n",
            "Tiempo de ejecución: 0.4234 segundos\n"
          ]
        },
        {
          "output_type": "stream",
          "name": "stderr",
          "text": [
            "/usr/local/lib/python3.11/dist-packages/scipy/sparse/_index.py:151: SparseEfficiencyWarning: Changing the sparsity structure of a csr_matrix is expensive. lil and dok are more efficient.\n",
            "  self._set_arrayXarray(i, j, x)\n"
          ]
        },
        {
          "output_type": "stream",
          "name": "stdout",
          "text": [
            "Iteración 111: Convergió correctamente.\n",
            "Tiempo de ejecución: 0.4021 segundos\n"
          ]
        },
        {
          "output_type": "stream",
          "name": "stderr",
          "text": [
            "/usr/local/lib/python3.11/dist-packages/scipy/sparse/_index.py:151: SparseEfficiencyWarning: Changing the sparsity structure of a csr_matrix is expensive. lil and dok are more efficient.\n",
            "  self._set_arrayXarray(i, j, x)\n"
          ]
        },
        {
          "output_type": "stream",
          "name": "stdout",
          "text": [
            "Iteración 112: Convergió correctamente.\n",
            "Tiempo de ejecución: 0.4193 segundos\n"
          ]
        },
        {
          "output_type": "stream",
          "name": "stderr",
          "text": [
            "/usr/local/lib/python3.11/dist-packages/scipy/sparse/_index.py:151: SparseEfficiencyWarning: Changing the sparsity structure of a csr_matrix is expensive. lil and dok are more efficient.\n",
            "  self._set_arrayXarray(i, j, x)\n"
          ]
        },
        {
          "output_type": "stream",
          "name": "stdout",
          "text": [
            "Iteración 113: Convergió correctamente.\n",
            "Tiempo de ejecución: 0.4353 segundos\n"
          ]
        },
        {
          "output_type": "stream",
          "name": "stderr",
          "text": [
            "/usr/local/lib/python3.11/dist-packages/scipy/sparse/_index.py:151: SparseEfficiencyWarning: Changing the sparsity structure of a csr_matrix is expensive. lil and dok are more efficient.\n",
            "  self._set_arrayXarray(i, j, x)\n"
          ]
        },
        {
          "output_type": "stream",
          "name": "stdout",
          "text": [
            "Iteración 114: Convergió correctamente.\n",
            "Tiempo de ejecución: 0.4193 segundos\n"
          ]
        },
        {
          "output_type": "stream",
          "name": "stderr",
          "text": [
            "/usr/local/lib/python3.11/dist-packages/scipy/sparse/_index.py:151: SparseEfficiencyWarning: Changing the sparsity structure of a csr_matrix is expensive. lil and dok are more efficient.\n",
            "  self._set_arrayXarray(i, j, x)\n"
          ]
        },
        {
          "output_type": "stream",
          "name": "stdout",
          "text": [
            "Iteración 115: Convergió correctamente.\n",
            "Tiempo de ejecución: 0.3869 segundos\n"
          ]
        },
        {
          "output_type": "stream",
          "name": "stderr",
          "text": [
            "/usr/local/lib/python3.11/dist-packages/scipy/sparse/_index.py:151: SparseEfficiencyWarning: Changing the sparsity structure of a csr_matrix is expensive. lil and dok are more efficient.\n",
            "  self._set_arrayXarray(i, j, x)\n"
          ]
        },
        {
          "output_type": "stream",
          "name": "stdout",
          "text": [
            "Iteración 116: Convergió correctamente.\n",
            "Tiempo de ejecución: 0.4259 segundos\n"
          ]
        },
        {
          "output_type": "stream",
          "name": "stderr",
          "text": [
            "/usr/local/lib/python3.11/dist-packages/scipy/sparse/_index.py:151: SparseEfficiencyWarning: Changing the sparsity structure of a csr_matrix is expensive. lil and dok are more efficient.\n",
            "  self._set_arrayXarray(i, j, x)\n"
          ]
        },
        {
          "output_type": "stream",
          "name": "stdout",
          "text": [
            "Iteración 117: Convergió correctamente.\n",
            "Tiempo de ejecución: 0.4252 segundos\n"
          ]
        },
        {
          "output_type": "stream",
          "name": "stderr",
          "text": [
            "/usr/local/lib/python3.11/dist-packages/scipy/sparse/_index.py:151: SparseEfficiencyWarning: Changing the sparsity structure of a csr_matrix is expensive. lil and dok are more efficient.\n",
            "  self._set_arrayXarray(i, j, x)\n"
          ]
        },
        {
          "output_type": "stream",
          "name": "stdout",
          "text": [
            "Iteración 118: Convergió correctamente.\n",
            "Tiempo de ejecución: 0.4429 segundos\n"
          ]
        },
        {
          "output_type": "stream",
          "name": "stderr",
          "text": [
            "/usr/local/lib/python3.11/dist-packages/scipy/sparse/_index.py:151: SparseEfficiencyWarning: Changing the sparsity structure of a csr_matrix is expensive. lil and dok are more efficient.\n",
            "  self._set_arrayXarray(i, j, x)\n"
          ]
        },
        {
          "output_type": "stream",
          "name": "stdout",
          "text": [
            "Iteración 119: Convergió correctamente.\n",
            "Tiempo de ejecución: 0.4049 segundos\n"
          ]
        },
        {
          "output_type": "stream",
          "name": "stderr",
          "text": [
            "/usr/local/lib/python3.11/dist-packages/scipy/sparse/_index.py:151: SparseEfficiencyWarning: Changing the sparsity structure of a csr_matrix is expensive. lil and dok are more efficient.\n",
            "  self._set_arrayXarray(i, j, x)\n"
          ]
        },
        {
          "output_type": "stream",
          "name": "stdout",
          "text": [
            "Iteración 120: Convergió correctamente.\n",
            "Tiempo de ejecución: 0.4075 segundos\n"
          ]
        },
        {
          "output_type": "stream",
          "name": "stderr",
          "text": [
            "/usr/local/lib/python3.11/dist-packages/scipy/sparse/_index.py:151: SparseEfficiencyWarning: Changing the sparsity structure of a csr_matrix is expensive. lil and dok are more efficient.\n",
            "  self._set_arrayXarray(i, j, x)\n"
          ]
        },
        {
          "output_type": "stream",
          "name": "stdout",
          "text": [
            "Iteración 121: Convergió correctamente.\n",
            "Tiempo de ejecución: 0.4223 segundos\n"
          ]
        },
        {
          "output_type": "stream",
          "name": "stderr",
          "text": [
            "/usr/local/lib/python3.11/dist-packages/scipy/sparse/_index.py:151: SparseEfficiencyWarning: Changing the sparsity structure of a csr_matrix is expensive. lil and dok are more efficient.\n",
            "  self._set_arrayXarray(i, j, x)\n"
          ]
        },
        {
          "output_type": "stream",
          "name": "stdout",
          "text": [
            "Iteración 122: Convergió correctamente.\n",
            "Tiempo de ejecución: 0.4449 segundos\n"
          ]
        },
        {
          "output_type": "stream",
          "name": "stderr",
          "text": [
            "/usr/local/lib/python3.11/dist-packages/scipy/sparse/_index.py:151: SparseEfficiencyWarning: Changing the sparsity structure of a csr_matrix is expensive. lil and dok are more efficient.\n",
            "  self._set_arrayXarray(i, j, x)\n"
          ]
        },
        {
          "output_type": "stream",
          "name": "stdout",
          "text": [
            "Iteración 123: Convergió correctamente.\n",
            "Tiempo de ejecución: 0.5025 segundos\n"
          ]
        },
        {
          "output_type": "stream",
          "name": "stderr",
          "text": [
            "/usr/local/lib/python3.11/dist-packages/scipy/sparse/_index.py:151: SparseEfficiencyWarning: Changing the sparsity structure of a csr_matrix is expensive. lil and dok are more efficient.\n",
            "  self._set_arrayXarray(i, j, x)\n"
          ]
        },
        {
          "output_type": "stream",
          "name": "stdout",
          "text": [
            "Iteración 124: Convergió correctamente.\n",
            "Tiempo de ejecución: 0.4278 segundos\n"
          ]
        },
        {
          "output_type": "stream",
          "name": "stderr",
          "text": [
            "/usr/local/lib/python3.11/dist-packages/scipy/sparse/_index.py:151: SparseEfficiencyWarning: Changing the sparsity structure of a csr_matrix is expensive. lil and dok are more efficient.\n",
            "  self._set_arrayXarray(i, j, x)\n"
          ]
        },
        {
          "output_type": "stream",
          "name": "stdout",
          "text": [
            "Iteración 125: Convergió correctamente.\n",
            "Tiempo de ejecución: 0.4343 segundos\n"
          ]
        },
        {
          "output_type": "stream",
          "name": "stderr",
          "text": [
            "/usr/local/lib/python3.11/dist-packages/scipy/sparse/_index.py:151: SparseEfficiencyWarning: Changing the sparsity structure of a csr_matrix is expensive. lil and dok are more efficient.\n",
            "  self._set_arrayXarray(i, j, x)\n"
          ]
        },
        {
          "output_type": "stream",
          "name": "stdout",
          "text": [
            "Iteración 126: Convergió correctamente.\n",
            "Tiempo de ejecución: 0.4073 segundos\n"
          ]
        },
        {
          "output_type": "stream",
          "name": "stderr",
          "text": [
            "/usr/local/lib/python3.11/dist-packages/scipy/sparse/_index.py:151: SparseEfficiencyWarning: Changing the sparsity structure of a csr_matrix is expensive. lil and dok are more efficient.\n",
            "  self._set_arrayXarray(i, j, x)\n"
          ]
        },
        {
          "output_type": "stream",
          "name": "stdout",
          "text": [
            "Iteración 127: Convergió correctamente.\n",
            "Tiempo de ejecución: 0.3788 segundos\n"
          ]
        },
        {
          "output_type": "stream",
          "name": "stderr",
          "text": [
            "/usr/local/lib/python3.11/dist-packages/scipy/sparse/_index.py:151: SparseEfficiencyWarning: Changing the sparsity structure of a csr_matrix is expensive. lil and dok are more efficient.\n",
            "  self._set_arrayXarray(i, j, x)\n"
          ]
        },
        {
          "output_type": "stream",
          "name": "stdout",
          "text": [
            "Iteración 128: Convergió correctamente.\n",
            "Tiempo de ejecución: 0.4996 segundos\n"
          ]
        },
        {
          "output_type": "stream",
          "name": "stderr",
          "text": [
            "/usr/local/lib/python3.11/dist-packages/scipy/sparse/_index.py:151: SparseEfficiencyWarning: Changing the sparsity structure of a csr_matrix is expensive. lil and dok are more efficient.\n",
            "  self._set_arrayXarray(i, j, x)\n"
          ]
        },
        {
          "output_type": "stream",
          "name": "stdout",
          "text": [
            "Iteración 129: Convergió correctamente.\n",
            "Tiempo de ejecución: 0.4820 segundos\n"
          ]
        },
        {
          "output_type": "stream",
          "name": "stderr",
          "text": [
            "/usr/local/lib/python3.11/dist-packages/scipy/sparse/_index.py:151: SparseEfficiencyWarning: Changing the sparsity structure of a csr_matrix is expensive. lil and dok are more efficient.\n",
            "  self._set_arrayXarray(i, j, x)\n"
          ]
        },
        {
          "output_type": "stream",
          "name": "stdout",
          "text": [
            "Iteración 130: Convergió correctamente.\n",
            "Tiempo de ejecución: 0.4896 segundos\n"
          ]
        },
        {
          "output_type": "stream",
          "name": "stderr",
          "text": [
            "/usr/local/lib/python3.11/dist-packages/scipy/sparse/_index.py:151: SparseEfficiencyWarning: Changing the sparsity structure of a csr_matrix is expensive. lil and dok are more efficient.\n",
            "  self._set_arrayXarray(i, j, x)\n"
          ]
        },
        {
          "output_type": "stream",
          "name": "stdout",
          "text": [
            "Iteración 131: Convergió correctamente.\n",
            "Tiempo de ejecución: 0.4567 segundos\n"
          ]
        },
        {
          "output_type": "stream",
          "name": "stderr",
          "text": [
            "/usr/local/lib/python3.11/dist-packages/scipy/sparse/_index.py:151: SparseEfficiencyWarning: Changing the sparsity structure of a csr_matrix is expensive. lil and dok are more efficient.\n",
            "  self._set_arrayXarray(i, j, x)\n"
          ]
        },
        {
          "output_type": "stream",
          "name": "stdout",
          "text": [
            "Iteración 132: Convergió correctamente.\n",
            "Tiempo de ejecución: 0.4373 segundos\n"
          ]
        },
        {
          "output_type": "stream",
          "name": "stderr",
          "text": [
            "/usr/local/lib/python3.11/dist-packages/scipy/sparse/_index.py:151: SparseEfficiencyWarning: Changing the sparsity structure of a csr_matrix is expensive. lil and dok are more efficient.\n",
            "  self._set_arrayXarray(i, j, x)\n"
          ]
        },
        {
          "output_type": "stream",
          "name": "stdout",
          "text": [
            "Iteración 133: Convergió correctamente.\n",
            "Tiempo de ejecución: 0.6871 segundos\n"
          ]
        },
        {
          "output_type": "stream",
          "name": "stderr",
          "text": [
            "/usr/local/lib/python3.11/dist-packages/scipy/sparse/_index.py:151: SparseEfficiencyWarning: Changing the sparsity structure of a csr_matrix is expensive. lil and dok are more efficient.\n",
            "  self._set_arrayXarray(i, j, x)\n"
          ]
        },
        {
          "output_type": "stream",
          "name": "stdout",
          "text": [
            "Iteración 134: Convergió correctamente.\n",
            "Tiempo de ejecución: 0.8379 segundos\n"
          ]
        },
        {
          "output_type": "stream",
          "name": "stderr",
          "text": [
            "/usr/local/lib/python3.11/dist-packages/scipy/sparse/_index.py:151: SparseEfficiencyWarning: Changing the sparsity structure of a csr_matrix is expensive. lil and dok are more efficient.\n",
            "  self._set_arrayXarray(i, j, x)\n"
          ]
        },
        {
          "output_type": "stream",
          "name": "stdout",
          "text": [
            "Iteración 135: Convergió correctamente.\n",
            "Tiempo de ejecución: 0.6669 segundos\n"
          ]
        },
        {
          "output_type": "stream",
          "name": "stderr",
          "text": [
            "/usr/local/lib/python3.11/dist-packages/scipy/sparse/_index.py:151: SparseEfficiencyWarning: Changing the sparsity structure of a csr_matrix is expensive. lil and dok are more efficient.\n",
            "  self._set_arrayXarray(i, j, x)\n"
          ]
        },
        {
          "output_type": "stream",
          "name": "stdout",
          "text": [
            "Iteración 136: Convergió correctamente.\n",
            "Tiempo de ejecución: 0.4570 segundos\n"
          ]
        },
        {
          "output_type": "stream",
          "name": "stderr",
          "text": [
            "/usr/local/lib/python3.11/dist-packages/scipy/sparse/_index.py:151: SparseEfficiencyWarning: Changing the sparsity structure of a csr_matrix is expensive. lil and dok are more efficient.\n",
            "  self._set_arrayXarray(i, j, x)\n"
          ]
        },
        {
          "output_type": "stream",
          "name": "stdout",
          "text": [
            "Iteración 137: Convergió correctamente.\n",
            "Tiempo de ejecución: 0.4551 segundos\n"
          ]
        },
        {
          "output_type": "stream",
          "name": "stderr",
          "text": [
            "/usr/local/lib/python3.11/dist-packages/scipy/sparse/_index.py:151: SparseEfficiencyWarning: Changing the sparsity structure of a csr_matrix is expensive. lil and dok are more efficient.\n",
            "  self._set_arrayXarray(i, j, x)\n"
          ]
        },
        {
          "output_type": "stream",
          "name": "stdout",
          "text": [
            "Iteración 138: Convergió correctamente.\n",
            "Tiempo de ejecución: 0.4746 segundos\n"
          ]
        },
        {
          "output_type": "stream",
          "name": "stderr",
          "text": [
            "/usr/local/lib/python3.11/dist-packages/scipy/sparse/_index.py:151: SparseEfficiencyWarning: Changing the sparsity structure of a csr_matrix is expensive. lil and dok are more efficient.\n",
            "  self._set_arrayXarray(i, j, x)\n"
          ]
        },
        {
          "output_type": "stream",
          "name": "stdout",
          "text": [
            "Iteración 139: Convergió correctamente.\n",
            "Tiempo de ejecución: 0.4614 segundos\n"
          ]
        },
        {
          "output_type": "stream",
          "name": "stderr",
          "text": [
            "/usr/local/lib/python3.11/dist-packages/scipy/sparse/_index.py:151: SparseEfficiencyWarning: Changing the sparsity structure of a csr_matrix is expensive. lil and dok are more efficient.\n",
            "  self._set_arrayXarray(i, j, x)\n"
          ]
        },
        {
          "output_type": "stream",
          "name": "stdout",
          "text": [
            "Iteración 140: Convergió correctamente.\n",
            "Tiempo de ejecución: 0.4687 segundos\n"
          ]
        },
        {
          "output_type": "stream",
          "name": "stderr",
          "text": [
            "/usr/local/lib/python3.11/dist-packages/scipy/sparse/_index.py:151: SparseEfficiencyWarning: Changing the sparsity structure of a csr_matrix is expensive. lil and dok are more efficient.\n",
            "  self._set_arrayXarray(i, j, x)\n"
          ]
        },
        {
          "output_type": "stream",
          "name": "stdout",
          "text": [
            "Iteración 141: Convergió correctamente.\n",
            "Tiempo de ejecución: 0.5004 segundos\n"
          ]
        },
        {
          "output_type": "stream",
          "name": "stderr",
          "text": [
            "/usr/local/lib/python3.11/dist-packages/scipy/sparse/_index.py:151: SparseEfficiencyWarning: Changing the sparsity structure of a csr_matrix is expensive. lil and dok are more efficient.\n",
            "  self._set_arrayXarray(i, j, x)\n"
          ]
        },
        {
          "output_type": "stream",
          "name": "stdout",
          "text": [
            "Iteración 142: Convergió correctamente.\n",
            "Tiempo de ejecución: 0.5091 segundos\n"
          ]
        },
        {
          "output_type": "stream",
          "name": "stderr",
          "text": [
            "/usr/local/lib/python3.11/dist-packages/scipy/sparse/_index.py:151: SparseEfficiencyWarning: Changing the sparsity structure of a csr_matrix is expensive. lil and dok are more efficient.\n",
            "  self._set_arrayXarray(i, j, x)\n"
          ]
        },
        {
          "output_type": "stream",
          "name": "stdout",
          "text": [
            "Iteración 143: Convergió correctamente.\n",
            "Tiempo de ejecución: 0.4963 segundos\n"
          ]
        },
        {
          "output_type": "stream",
          "name": "stderr",
          "text": [
            "/usr/local/lib/python3.11/dist-packages/scipy/sparse/_index.py:151: SparseEfficiencyWarning: Changing the sparsity structure of a csr_matrix is expensive. lil and dok are more efficient.\n",
            "  self._set_arrayXarray(i, j, x)\n"
          ]
        },
        {
          "output_type": "stream",
          "name": "stdout",
          "text": [
            "Iteración 144: Convergió correctamente.\n",
            "Tiempo de ejecución: 0.5058 segundos\n"
          ]
        },
        {
          "output_type": "stream",
          "name": "stderr",
          "text": [
            "/usr/local/lib/python3.11/dist-packages/scipy/sparse/_index.py:151: SparseEfficiencyWarning: Changing the sparsity structure of a csr_matrix is expensive. lil and dok are more efficient.\n",
            "  self._set_arrayXarray(i, j, x)\n"
          ]
        },
        {
          "output_type": "stream",
          "name": "stdout",
          "text": [
            "Iteración 145: Convergió correctamente.\n",
            "Tiempo de ejecución: 0.4858 segundos\n"
          ]
        },
        {
          "output_type": "stream",
          "name": "stderr",
          "text": [
            "/usr/local/lib/python3.11/dist-packages/scipy/sparse/_index.py:151: SparseEfficiencyWarning: Changing the sparsity structure of a csr_matrix is expensive. lil and dok are more efficient.\n",
            "  self._set_arrayXarray(i, j, x)\n"
          ]
        },
        {
          "output_type": "stream",
          "name": "stdout",
          "text": [
            "Iteración 146: Convergió correctamente.\n",
            "Tiempo de ejecución: 0.4821 segundos\n"
          ]
        },
        {
          "output_type": "stream",
          "name": "stderr",
          "text": [
            "/usr/local/lib/python3.11/dist-packages/scipy/sparse/_index.py:151: SparseEfficiencyWarning: Changing the sparsity structure of a csr_matrix is expensive. lil and dok are more efficient.\n",
            "  self._set_arrayXarray(i, j, x)\n"
          ]
        },
        {
          "output_type": "stream",
          "name": "stdout",
          "text": [
            "Iteración 147: Convergió correctamente.\n",
            "Tiempo de ejecución: 0.5763 segundos\n"
          ]
        },
        {
          "output_type": "stream",
          "name": "stderr",
          "text": [
            "/usr/local/lib/python3.11/dist-packages/scipy/sparse/_index.py:151: SparseEfficiencyWarning: Changing the sparsity structure of a csr_matrix is expensive. lil and dok are more efficient.\n",
            "  self._set_arrayXarray(i, j, x)\n"
          ]
        },
        {
          "output_type": "stream",
          "name": "stdout",
          "text": [
            "Iteración 148: Convergió correctamente.\n",
            "Tiempo de ejecución: 0.5359 segundos\n"
          ]
        },
        {
          "output_type": "stream",
          "name": "stderr",
          "text": [
            "/usr/local/lib/python3.11/dist-packages/scipy/sparse/_index.py:151: SparseEfficiencyWarning: Changing the sparsity structure of a csr_matrix is expensive. lil and dok are more efficient.\n",
            "  self._set_arrayXarray(i, j, x)\n"
          ]
        },
        {
          "output_type": "stream",
          "name": "stdout",
          "text": [
            "Iteración 149: Convergió correctamente.\n",
            "Tiempo de ejecución: 0.5146 segundos\n"
          ]
        },
        {
          "output_type": "stream",
          "name": "stderr",
          "text": [
            "/usr/local/lib/python3.11/dist-packages/scipy/sparse/_index.py:151: SparseEfficiencyWarning: Changing the sparsity structure of a csr_matrix is expensive. lil and dok are more efficient.\n",
            "  self._set_arrayXarray(i, j, x)\n",
            "<ipython-input-5-e9ab6229a877>:57: SparseEfficiencyWarning: spilu converted its input to CSC format\n",
            "  ilu = spilu(sistema_sparse)\n"
          ]
        },
        {
          "output_type": "stream",
          "name": "stdout",
          "text": [
            "Iteración 150: Convergió correctamente.\n",
            "Tiempo de ejecución: 2.2733 segundos\n"
          ]
        },
        {
          "output_type": "stream",
          "name": "stderr",
          "text": [
            "/usr/local/lib/python3.11/dist-packages/scipy/sparse/_index.py:151: SparseEfficiencyWarning: Changing the sparsity structure of a csr_matrix is expensive. lil and dok are more efficient.\n",
            "  self._set_arrayXarray(i, j, x)\n"
          ]
        },
        {
          "output_type": "stream",
          "name": "stdout",
          "text": [
            "Iteración 151: Convergió correctamente.\n",
            "Tiempo de ejecución: 0.3954 segundos\n"
          ]
        },
        {
          "output_type": "stream",
          "name": "stderr",
          "text": [
            "/usr/local/lib/python3.11/dist-packages/scipy/sparse/_index.py:151: SparseEfficiencyWarning: Changing the sparsity structure of a csr_matrix is expensive. lil and dok are more efficient.\n",
            "  self._set_arrayXarray(i, j, x)\n"
          ]
        },
        {
          "output_type": "stream",
          "name": "stdout",
          "text": [
            "Iteración 152: Convergió correctamente.\n",
            "Tiempo de ejecución: 0.4096 segundos\n"
          ]
        },
        {
          "output_type": "stream",
          "name": "stderr",
          "text": [
            "/usr/local/lib/python3.11/dist-packages/scipy/sparse/_index.py:151: SparseEfficiencyWarning: Changing the sparsity structure of a csr_matrix is expensive. lil and dok are more efficient.\n",
            "  self._set_arrayXarray(i, j, x)\n"
          ]
        },
        {
          "output_type": "stream",
          "name": "stdout",
          "text": [
            "Iteración 153: Convergió correctamente.\n",
            "Tiempo de ejecución: 0.5522 segundos\n"
          ]
        },
        {
          "output_type": "stream",
          "name": "stderr",
          "text": [
            "/usr/local/lib/python3.11/dist-packages/scipy/sparse/_index.py:151: SparseEfficiencyWarning: Changing the sparsity structure of a csr_matrix is expensive. lil and dok are more efficient.\n",
            "  self._set_arrayXarray(i, j, x)\n"
          ]
        },
        {
          "output_type": "stream",
          "name": "stdout",
          "text": [
            "Iteración 154: Convergió correctamente.\n",
            "Tiempo de ejecución: 0.5612 segundos\n"
          ]
        },
        {
          "output_type": "stream",
          "name": "stderr",
          "text": [
            "/usr/local/lib/python3.11/dist-packages/scipy/sparse/_index.py:151: SparseEfficiencyWarning: Changing the sparsity structure of a csr_matrix is expensive. lil and dok are more efficient.\n",
            "  self._set_arrayXarray(i, j, x)\n"
          ]
        },
        {
          "output_type": "stream",
          "name": "stdout",
          "text": [
            "Iteración 155: Convergió correctamente.\n",
            "Tiempo de ejecución: 0.5796 segundos\n"
          ]
        },
        {
          "output_type": "stream",
          "name": "stderr",
          "text": [
            "/usr/local/lib/python3.11/dist-packages/scipy/sparse/_index.py:151: SparseEfficiencyWarning: Changing the sparsity structure of a csr_matrix is expensive. lil and dok are more efficient.\n",
            "  self._set_arrayXarray(i, j, x)\n"
          ]
        },
        {
          "output_type": "stream",
          "name": "stdout",
          "text": [
            "Iteración 156: Convergió correctamente.\n",
            "Tiempo de ejecución: 0.4137 segundos\n"
          ]
        },
        {
          "output_type": "stream",
          "name": "stderr",
          "text": [
            "/usr/local/lib/python3.11/dist-packages/scipy/sparse/_index.py:151: SparseEfficiencyWarning: Changing the sparsity structure of a csr_matrix is expensive. lil and dok are more efficient.\n",
            "  self._set_arrayXarray(i, j, x)\n"
          ]
        },
        {
          "output_type": "stream",
          "name": "stdout",
          "text": [
            "Iteración 157: Convergió correctamente.\n",
            "Tiempo de ejecución: 0.3976 segundos\n"
          ]
        },
        {
          "output_type": "stream",
          "name": "stderr",
          "text": [
            "/usr/local/lib/python3.11/dist-packages/scipy/sparse/_index.py:151: SparseEfficiencyWarning: Changing the sparsity structure of a csr_matrix is expensive. lil and dok are more efficient.\n",
            "  self._set_arrayXarray(i, j, x)\n"
          ]
        },
        {
          "output_type": "stream",
          "name": "stdout",
          "text": [
            "Iteración 158: Convergió correctamente.\n",
            "Tiempo de ejecución: 0.3902 segundos\n"
          ]
        },
        {
          "output_type": "stream",
          "name": "stderr",
          "text": [
            "/usr/local/lib/python3.11/dist-packages/scipy/sparse/_index.py:151: SparseEfficiencyWarning: Changing the sparsity structure of a csr_matrix is expensive. lil and dok are more efficient.\n",
            "  self._set_arrayXarray(i, j, x)\n"
          ]
        },
        {
          "output_type": "stream",
          "name": "stdout",
          "text": [
            "Iteración 159: Convergió correctamente.\n",
            "Tiempo de ejecución: 0.3634 segundos\n"
          ]
        },
        {
          "output_type": "stream",
          "name": "stderr",
          "text": [
            "/usr/local/lib/python3.11/dist-packages/scipy/sparse/_index.py:151: SparseEfficiencyWarning: Changing the sparsity structure of a csr_matrix is expensive. lil and dok are more efficient.\n",
            "  self._set_arrayXarray(i, j, x)\n"
          ]
        },
        {
          "output_type": "stream",
          "name": "stdout",
          "text": [
            "Iteración 160: Convergió correctamente.\n",
            "Tiempo de ejecución: 0.4491 segundos\n"
          ]
        },
        {
          "output_type": "stream",
          "name": "stderr",
          "text": [
            "/usr/local/lib/python3.11/dist-packages/scipy/sparse/_index.py:151: SparseEfficiencyWarning: Changing the sparsity structure of a csr_matrix is expensive. lil and dok are more efficient.\n",
            "  self._set_arrayXarray(i, j, x)\n"
          ]
        },
        {
          "output_type": "stream",
          "name": "stdout",
          "text": [
            "Iteración 161: Convergió correctamente.\n",
            "Tiempo de ejecución: 0.3944 segundos\n"
          ]
        },
        {
          "output_type": "stream",
          "name": "stderr",
          "text": [
            "/usr/local/lib/python3.11/dist-packages/scipy/sparse/_index.py:151: SparseEfficiencyWarning: Changing the sparsity structure of a csr_matrix is expensive. lil and dok are more efficient.\n",
            "  self._set_arrayXarray(i, j, x)\n"
          ]
        },
        {
          "output_type": "stream",
          "name": "stdout",
          "text": [
            "Iteración 162: Convergió correctamente.\n",
            "Tiempo de ejecución: 0.4518 segundos\n"
          ]
        },
        {
          "output_type": "stream",
          "name": "stderr",
          "text": [
            "/usr/local/lib/python3.11/dist-packages/scipy/sparse/_index.py:151: SparseEfficiencyWarning: Changing the sparsity structure of a csr_matrix is expensive. lil and dok are more efficient.\n",
            "  self._set_arrayXarray(i, j, x)\n"
          ]
        },
        {
          "output_type": "stream",
          "name": "stdout",
          "text": [
            "Iteración 163: Convergió correctamente.\n",
            "Tiempo de ejecución: 0.4262 segundos\n"
          ]
        },
        {
          "output_type": "stream",
          "name": "stderr",
          "text": [
            "/usr/local/lib/python3.11/dist-packages/scipy/sparse/_index.py:151: SparseEfficiencyWarning: Changing the sparsity structure of a csr_matrix is expensive. lil and dok are more efficient.\n",
            "  self._set_arrayXarray(i, j, x)\n"
          ]
        },
        {
          "output_type": "stream",
          "name": "stdout",
          "text": [
            "Iteración 164: Convergió correctamente.\n",
            "Tiempo de ejecución: 0.4106 segundos\n"
          ]
        },
        {
          "output_type": "stream",
          "name": "stderr",
          "text": [
            "/usr/local/lib/python3.11/dist-packages/scipy/sparse/_index.py:151: SparseEfficiencyWarning: Changing the sparsity structure of a csr_matrix is expensive. lil and dok are more efficient.\n",
            "  self._set_arrayXarray(i, j, x)\n"
          ]
        },
        {
          "output_type": "stream",
          "name": "stdout",
          "text": [
            "Iteración 165: Convergió correctamente.\n",
            "Tiempo de ejecución: 0.4188 segundos\n"
          ]
        },
        {
          "output_type": "stream",
          "name": "stderr",
          "text": [
            "/usr/local/lib/python3.11/dist-packages/scipy/sparse/_index.py:151: SparseEfficiencyWarning: Changing the sparsity structure of a csr_matrix is expensive. lil and dok are more efficient.\n",
            "  self._set_arrayXarray(i, j, x)\n"
          ]
        },
        {
          "output_type": "stream",
          "name": "stdout",
          "text": [
            "Iteración 166: Convergió correctamente.\n",
            "Tiempo de ejecución: 0.4210 segundos\n"
          ]
        },
        {
          "output_type": "stream",
          "name": "stderr",
          "text": [
            "/usr/local/lib/python3.11/dist-packages/scipy/sparse/_index.py:151: SparseEfficiencyWarning: Changing the sparsity structure of a csr_matrix is expensive. lil and dok are more efficient.\n",
            "  self._set_arrayXarray(i, j, x)\n"
          ]
        },
        {
          "output_type": "stream",
          "name": "stdout",
          "text": [
            "Iteración 167: Convergió correctamente.\n",
            "Tiempo de ejecución: 0.4571 segundos\n"
          ]
        },
        {
          "output_type": "stream",
          "name": "stderr",
          "text": [
            "/usr/local/lib/python3.11/dist-packages/scipy/sparse/_index.py:151: SparseEfficiencyWarning: Changing the sparsity structure of a csr_matrix is expensive. lil and dok are more efficient.\n",
            "  self._set_arrayXarray(i, j, x)\n"
          ]
        },
        {
          "output_type": "stream",
          "name": "stdout",
          "text": [
            "Iteración 168: Convergió correctamente.\n",
            "Tiempo de ejecución: 0.4296 segundos\n"
          ]
        },
        {
          "output_type": "stream",
          "name": "stderr",
          "text": [
            "/usr/local/lib/python3.11/dist-packages/scipy/sparse/_index.py:151: SparseEfficiencyWarning: Changing the sparsity structure of a csr_matrix is expensive. lil and dok are more efficient.\n",
            "  self._set_arrayXarray(i, j, x)\n"
          ]
        },
        {
          "output_type": "stream",
          "name": "stdout",
          "text": [
            "Iteración 169: Convergió correctamente.\n",
            "Tiempo de ejecución: 0.4193 segundos\n"
          ]
        },
        {
          "output_type": "stream",
          "name": "stderr",
          "text": [
            "/usr/local/lib/python3.11/dist-packages/scipy/sparse/_index.py:151: SparseEfficiencyWarning: Changing the sparsity structure of a csr_matrix is expensive. lil and dok are more efficient.\n",
            "  self._set_arrayXarray(i, j, x)\n"
          ]
        },
        {
          "output_type": "stream",
          "name": "stdout",
          "text": [
            "Iteración 170: Convergió correctamente.\n",
            "Tiempo de ejecución: 0.4541 segundos\n"
          ]
        },
        {
          "output_type": "stream",
          "name": "stderr",
          "text": [
            "/usr/local/lib/python3.11/dist-packages/scipy/sparse/_index.py:151: SparseEfficiencyWarning: Changing the sparsity structure of a csr_matrix is expensive. lil and dok are more efficient.\n",
            "  self._set_arrayXarray(i, j, x)\n"
          ]
        },
        {
          "output_type": "stream",
          "name": "stdout",
          "text": [
            "Iteración 171: Convergió correctamente.\n",
            "Tiempo de ejecución: 0.4631 segundos\n"
          ]
        },
        {
          "output_type": "stream",
          "name": "stderr",
          "text": [
            "/usr/local/lib/python3.11/dist-packages/scipy/sparse/_index.py:151: SparseEfficiencyWarning: Changing the sparsity structure of a csr_matrix is expensive. lil and dok are more efficient.\n",
            "  self._set_arrayXarray(i, j, x)\n"
          ]
        },
        {
          "output_type": "stream",
          "name": "stdout",
          "text": [
            "Iteración 172: Convergió correctamente.\n",
            "Tiempo de ejecución: 0.4786 segundos\n"
          ]
        },
        {
          "output_type": "stream",
          "name": "stderr",
          "text": [
            "/usr/local/lib/python3.11/dist-packages/scipy/sparse/_index.py:151: SparseEfficiencyWarning: Changing the sparsity structure of a csr_matrix is expensive. lil and dok are more efficient.\n",
            "  self._set_arrayXarray(i, j, x)\n"
          ]
        },
        {
          "output_type": "stream",
          "name": "stdout",
          "text": [
            "Iteración 173: Convergió correctamente.\n",
            "Tiempo de ejecución: 0.4493 segundos\n"
          ]
        },
        {
          "output_type": "stream",
          "name": "stderr",
          "text": [
            "/usr/local/lib/python3.11/dist-packages/scipy/sparse/_index.py:151: SparseEfficiencyWarning: Changing the sparsity structure of a csr_matrix is expensive. lil and dok are more efficient.\n",
            "  self._set_arrayXarray(i, j, x)\n"
          ]
        },
        {
          "output_type": "stream",
          "name": "stdout",
          "text": [
            "Iteración 174: Convergió correctamente.\n",
            "Tiempo de ejecución: 0.5088 segundos\n"
          ]
        },
        {
          "output_type": "stream",
          "name": "stderr",
          "text": [
            "/usr/local/lib/python3.11/dist-packages/scipy/sparse/_index.py:151: SparseEfficiencyWarning: Changing the sparsity structure of a csr_matrix is expensive. lil and dok are more efficient.\n",
            "  self._set_arrayXarray(i, j, x)\n"
          ]
        },
        {
          "output_type": "stream",
          "name": "stdout",
          "text": [
            "Iteración 175: Convergió correctamente.\n",
            "Tiempo de ejecución: 0.4442 segundos\n"
          ]
        },
        {
          "output_type": "stream",
          "name": "stderr",
          "text": [
            "/usr/local/lib/python3.11/dist-packages/scipy/sparse/_index.py:151: SparseEfficiencyWarning: Changing the sparsity structure of a csr_matrix is expensive. lil and dok are more efficient.\n",
            "  self._set_arrayXarray(i, j, x)\n"
          ]
        },
        {
          "output_type": "stream",
          "name": "stdout",
          "text": [
            "Iteración 176: Convergió correctamente.\n",
            "Tiempo de ejecución: 0.4700 segundos\n"
          ]
        },
        {
          "output_type": "stream",
          "name": "stderr",
          "text": [
            "/usr/local/lib/python3.11/dist-packages/scipy/sparse/_index.py:151: SparseEfficiencyWarning: Changing the sparsity structure of a csr_matrix is expensive. lil and dok are more efficient.\n",
            "  self._set_arrayXarray(i, j, x)\n"
          ]
        },
        {
          "output_type": "stream",
          "name": "stdout",
          "text": [
            "Iteración 177: Convergió correctamente.\n",
            "Tiempo de ejecución: 0.4455 segundos\n"
          ]
        },
        {
          "output_type": "stream",
          "name": "stderr",
          "text": [
            "/usr/local/lib/python3.11/dist-packages/scipy/sparse/_index.py:151: SparseEfficiencyWarning: Changing the sparsity structure of a csr_matrix is expensive. lil and dok are more efficient.\n",
            "  self._set_arrayXarray(i, j, x)\n"
          ]
        },
        {
          "output_type": "stream",
          "name": "stdout",
          "text": [
            "Iteración 178: Convergió correctamente.\n",
            "Tiempo de ejecución: 0.5427 segundos\n"
          ]
        },
        {
          "output_type": "stream",
          "name": "stderr",
          "text": [
            "/usr/local/lib/python3.11/dist-packages/scipy/sparse/_index.py:151: SparseEfficiencyWarning: Changing the sparsity structure of a csr_matrix is expensive. lil and dok are more efficient.\n",
            "  self._set_arrayXarray(i, j, x)\n"
          ]
        },
        {
          "output_type": "stream",
          "name": "stdout",
          "text": [
            "Iteración 179: Convergió correctamente.\n",
            "Tiempo de ejecución: 0.7986 segundos\n"
          ]
        },
        {
          "output_type": "stream",
          "name": "stderr",
          "text": [
            "/usr/local/lib/python3.11/dist-packages/scipy/sparse/_index.py:151: SparseEfficiencyWarning: Changing the sparsity structure of a csr_matrix is expensive. lil and dok are more efficient.\n",
            "  self._set_arrayXarray(i, j, x)\n"
          ]
        },
        {
          "output_type": "stream",
          "name": "stdout",
          "text": [
            "Iteración 180: Convergió correctamente.\n",
            "Tiempo de ejecución: 0.6354 segundos\n"
          ]
        },
        {
          "output_type": "stream",
          "name": "stderr",
          "text": [
            "/usr/local/lib/python3.11/dist-packages/scipy/sparse/_index.py:151: SparseEfficiencyWarning: Changing the sparsity structure of a csr_matrix is expensive. lil and dok are more efficient.\n",
            "  self._set_arrayXarray(i, j, x)\n"
          ]
        },
        {
          "output_type": "stream",
          "name": "stdout",
          "text": [
            "Iteración 181: Convergió correctamente.\n",
            "Tiempo de ejecución: 0.5530 segundos\n"
          ]
        },
        {
          "output_type": "stream",
          "name": "stderr",
          "text": [
            "/usr/local/lib/python3.11/dist-packages/scipy/sparse/_index.py:151: SparseEfficiencyWarning: Changing the sparsity structure of a csr_matrix is expensive. lil and dok are more efficient.\n",
            "  self._set_arrayXarray(i, j, x)\n"
          ]
        },
        {
          "output_type": "stream",
          "name": "stdout",
          "text": [
            "Iteración 182: Convergió correctamente.\n",
            "Tiempo de ejecución: 0.4873 segundos\n"
          ]
        },
        {
          "output_type": "stream",
          "name": "stderr",
          "text": [
            "/usr/local/lib/python3.11/dist-packages/scipy/sparse/_index.py:151: SparseEfficiencyWarning: Changing the sparsity structure of a csr_matrix is expensive. lil and dok are more efficient.\n",
            "  self._set_arrayXarray(i, j, x)\n"
          ]
        },
        {
          "output_type": "stream",
          "name": "stdout",
          "text": [
            "Iteración 183: Convergió correctamente.\n",
            "Tiempo de ejecución: 0.4764 segundos\n"
          ]
        },
        {
          "output_type": "stream",
          "name": "stderr",
          "text": [
            "/usr/local/lib/python3.11/dist-packages/scipy/sparse/_index.py:151: SparseEfficiencyWarning: Changing the sparsity structure of a csr_matrix is expensive. lil and dok are more efficient.\n",
            "  self._set_arrayXarray(i, j, x)\n"
          ]
        },
        {
          "output_type": "stream",
          "name": "stdout",
          "text": [
            "Iteración 184: Convergió correctamente.\n",
            "Tiempo de ejecución: 0.5126 segundos\n"
          ]
        },
        {
          "output_type": "stream",
          "name": "stderr",
          "text": [
            "/usr/local/lib/python3.11/dist-packages/scipy/sparse/_index.py:151: SparseEfficiencyWarning: Changing the sparsity structure of a csr_matrix is expensive. lil and dok are more efficient.\n",
            "  self._set_arrayXarray(i, j, x)\n"
          ]
        },
        {
          "output_type": "stream",
          "name": "stdout",
          "text": [
            "Iteración 185: Convergió correctamente.\n",
            "Tiempo de ejecución: 0.4855 segundos\n"
          ]
        },
        {
          "output_type": "stream",
          "name": "stderr",
          "text": [
            "/usr/local/lib/python3.11/dist-packages/scipy/sparse/_index.py:151: SparseEfficiencyWarning: Changing the sparsity structure of a csr_matrix is expensive. lil and dok are more efficient.\n",
            "  self._set_arrayXarray(i, j, x)\n"
          ]
        },
        {
          "output_type": "stream",
          "name": "stdout",
          "text": [
            "Iteración 186: Convergió correctamente.\n",
            "Tiempo de ejecución: 0.4782 segundos\n"
          ]
        },
        {
          "output_type": "stream",
          "name": "stderr",
          "text": [
            "/usr/local/lib/python3.11/dist-packages/scipy/sparse/_index.py:151: SparseEfficiencyWarning: Changing the sparsity structure of a csr_matrix is expensive. lil and dok are more efficient.\n",
            "  self._set_arrayXarray(i, j, x)\n"
          ]
        },
        {
          "output_type": "stream",
          "name": "stdout",
          "text": [
            "Iteración 187: Convergió correctamente.\n",
            "Tiempo de ejecución: 0.4127 segundos\n"
          ]
        },
        {
          "output_type": "stream",
          "name": "stderr",
          "text": [
            "/usr/local/lib/python3.11/dist-packages/scipy/sparse/_index.py:151: SparseEfficiencyWarning: Changing the sparsity structure of a csr_matrix is expensive. lil and dok are more efficient.\n",
            "  self._set_arrayXarray(i, j, x)\n"
          ]
        },
        {
          "output_type": "stream",
          "name": "stdout",
          "text": [
            "Iteración 188: Convergió correctamente.\n",
            "Tiempo de ejecución: 0.5576 segundos\n"
          ]
        },
        {
          "output_type": "stream",
          "name": "stderr",
          "text": [
            "/usr/local/lib/python3.11/dist-packages/scipy/sparse/_index.py:151: SparseEfficiencyWarning: Changing the sparsity structure of a csr_matrix is expensive. lil and dok are more efficient.\n",
            "  self._set_arrayXarray(i, j, x)\n"
          ]
        },
        {
          "output_type": "stream",
          "name": "stdout",
          "text": [
            "Iteración 189: Convergió correctamente.\n",
            "Tiempo de ejecución: 0.5150 segundos\n"
          ]
        },
        {
          "output_type": "stream",
          "name": "stderr",
          "text": [
            "/usr/local/lib/python3.11/dist-packages/scipy/sparse/_index.py:151: SparseEfficiencyWarning: Changing the sparsity structure of a csr_matrix is expensive. lil and dok are more efficient.\n",
            "  self._set_arrayXarray(i, j, x)\n"
          ]
        },
        {
          "output_type": "stream",
          "name": "stdout",
          "text": [
            "Iteración 190: Convergió correctamente.\n",
            "Tiempo de ejecución: 0.5565 segundos\n"
          ]
        },
        {
          "output_type": "stream",
          "name": "stderr",
          "text": [
            "/usr/local/lib/python3.11/dist-packages/scipy/sparse/_index.py:151: SparseEfficiencyWarning: Changing the sparsity structure of a csr_matrix is expensive. lil and dok are more efficient.\n",
            "  self._set_arrayXarray(i, j, x)\n"
          ]
        },
        {
          "output_type": "stream",
          "name": "stdout",
          "text": [
            "Iteración 191: Convergió correctamente.\n",
            "Tiempo de ejecución: 0.5287 segundos\n"
          ]
        },
        {
          "output_type": "stream",
          "name": "stderr",
          "text": [
            "/usr/local/lib/python3.11/dist-packages/scipy/sparse/_index.py:151: SparseEfficiencyWarning: Changing the sparsity structure of a csr_matrix is expensive. lil and dok are more efficient.\n",
            "  self._set_arrayXarray(i, j, x)\n"
          ]
        },
        {
          "output_type": "stream",
          "name": "stdout",
          "text": [
            "Iteración 192: Convergió correctamente.\n",
            "Tiempo de ejecución: 0.5605 segundos\n"
          ]
        },
        {
          "output_type": "stream",
          "name": "stderr",
          "text": [
            "/usr/local/lib/python3.11/dist-packages/scipy/sparse/_index.py:151: SparseEfficiencyWarning: Changing the sparsity structure of a csr_matrix is expensive. lil and dok are more efficient.\n",
            "  self._set_arrayXarray(i, j, x)\n"
          ]
        },
        {
          "output_type": "stream",
          "name": "stdout",
          "text": [
            "Iteración 193: Convergió correctamente.\n",
            "Tiempo de ejecución: 0.5210 segundos\n"
          ]
        },
        {
          "output_type": "stream",
          "name": "stderr",
          "text": [
            "/usr/local/lib/python3.11/dist-packages/scipy/sparse/_index.py:151: SparseEfficiencyWarning: Changing the sparsity structure of a csr_matrix is expensive. lil and dok are more efficient.\n",
            "  self._set_arrayXarray(i, j, x)\n"
          ]
        },
        {
          "output_type": "stream",
          "name": "stdout",
          "text": [
            "Iteración 194: Convergió correctamente.\n",
            "Tiempo de ejecución: 0.4989 segundos\n"
          ]
        },
        {
          "output_type": "stream",
          "name": "stderr",
          "text": [
            "/usr/local/lib/python3.11/dist-packages/scipy/sparse/_index.py:151: SparseEfficiencyWarning: Changing the sparsity structure of a csr_matrix is expensive. lil and dok are more efficient.\n",
            "  self._set_arrayXarray(i, j, x)\n"
          ]
        },
        {
          "output_type": "stream",
          "name": "stdout",
          "text": [
            "Iteración 195: Convergió correctamente.\n",
            "Tiempo de ejecución: 0.5456 segundos\n"
          ]
        },
        {
          "output_type": "stream",
          "name": "stderr",
          "text": [
            "/usr/local/lib/python3.11/dist-packages/scipy/sparse/_index.py:151: SparseEfficiencyWarning: Changing the sparsity structure of a csr_matrix is expensive. lil and dok are more efficient.\n",
            "  self._set_arrayXarray(i, j, x)\n"
          ]
        },
        {
          "output_type": "stream",
          "name": "stdout",
          "text": [
            "Iteración 196: Convergió correctamente.\n",
            "Tiempo de ejecución: 0.5103 segundos\n"
          ]
        },
        {
          "output_type": "stream",
          "name": "stderr",
          "text": [
            "/usr/local/lib/python3.11/dist-packages/scipy/sparse/_index.py:151: SparseEfficiencyWarning: Changing the sparsity structure of a csr_matrix is expensive. lil and dok are more efficient.\n",
            "  self._set_arrayXarray(i, j, x)\n"
          ]
        },
        {
          "output_type": "stream",
          "name": "stdout",
          "text": [
            "Iteración 197: Convergió correctamente.\n",
            "Tiempo de ejecución: 0.5539 segundos\n"
          ]
        },
        {
          "output_type": "stream",
          "name": "stderr",
          "text": [
            "/usr/local/lib/python3.11/dist-packages/scipy/sparse/_index.py:151: SparseEfficiencyWarning: Changing the sparsity structure of a csr_matrix is expensive. lil and dok are more efficient.\n",
            "  self._set_arrayXarray(i, j, x)\n"
          ]
        },
        {
          "output_type": "stream",
          "name": "stdout",
          "text": [
            "Iteración 198: Convergió correctamente.\n",
            "Tiempo de ejecución: 0.5803 segundos\n"
          ]
        },
        {
          "output_type": "stream",
          "name": "stderr",
          "text": [
            "/usr/local/lib/python3.11/dist-packages/scipy/sparse/_index.py:151: SparseEfficiencyWarning: Changing the sparsity structure of a csr_matrix is expensive. lil and dok are more efficient.\n",
            "  self._set_arrayXarray(i, j, x)\n"
          ]
        },
        {
          "output_type": "stream",
          "name": "stdout",
          "text": [
            "Iteración 199: Convergió correctamente.\n",
            "Tiempo de ejecución: 0.5543 segundos\n"
          ]
        },
        {
          "output_type": "stream",
          "name": "stderr",
          "text": [
            "/usr/local/lib/python3.11/dist-packages/scipy/sparse/_index.py:151: SparseEfficiencyWarning: Changing the sparsity structure of a csr_matrix is expensive. lil and dok are more efficient.\n",
            "  self._set_arrayXarray(i, j, x)\n",
            "<ipython-input-5-e9ab6229a877>:57: SparseEfficiencyWarning: spilu converted its input to CSC format\n",
            "  ilu = spilu(sistema_sparse)\n"
          ]
        },
        {
          "output_type": "stream",
          "name": "stdout",
          "text": [
            "Iteración 200: Convergió correctamente.\n",
            "Tiempo de ejecución: 3.1324 segundos\n"
          ]
        },
        {
          "output_type": "stream",
          "name": "stderr",
          "text": [
            "/usr/local/lib/python3.11/dist-packages/scipy/sparse/_index.py:151: SparseEfficiencyWarning: Changing the sparsity structure of a csr_matrix is expensive. lil and dok are more efficient.\n",
            "  self._set_arrayXarray(i, j, x)\n"
          ]
        },
        {
          "output_type": "stream",
          "name": "stdout",
          "text": [
            "Iteración 201: Convergió correctamente.\n",
            "Tiempo de ejecución: 0.4150 segundos\n"
          ]
        },
        {
          "output_type": "stream",
          "name": "stderr",
          "text": [
            "/usr/local/lib/python3.11/dist-packages/scipy/sparse/_index.py:151: SparseEfficiencyWarning: Changing the sparsity structure of a csr_matrix is expensive. lil and dok are more efficient.\n",
            "  self._set_arrayXarray(i, j, x)\n"
          ]
        },
        {
          "output_type": "stream",
          "name": "stdout",
          "text": [
            "Iteración 202: Convergió correctamente.\n",
            "Tiempo de ejecución: 0.4206 segundos\n"
          ]
        },
        {
          "output_type": "stream",
          "name": "stderr",
          "text": [
            "/usr/local/lib/python3.11/dist-packages/scipy/sparse/_index.py:151: SparseEfficiencyWarning: Changing the sparsity structure of a csr_matrix is expensive. lil and dok are more efficient.\n",
            "  self._set_arrayXarray(i, j, x)\n"
          ]
        },
        {
          "output_type": "stream",
          "name": "stdout",
          "text": [
            "Iteración 203: Convergió correctamente.\n",
            "Tiempo de ejecución: 0.4118 segundos\n"
          ]
        },
        {
          "output_type": "stream",
          "name": "stderr",
          "text": [
            "/usr/local/lib/python3.11/dist-packages/scipy/sparse/_index.py:151: SparseEfficiencyWarning: Changing the sparsity structure of a csr_matrix is expensive. lil and dok are more efficient.\n",
            "  self._set_arrayXarray(i, j, x)\n"
          ]
        },
        {
          "output_type": "stream",
          "name": "stdout",
          "text": [
            "Iteración 204: Convergió correctamente.\n",
            "Tiempo de ejecución: 0.4206 segundos\n"
          ]
        },
        {
          "output_type": "stream",
          "name": "stderr",
          "text": [
            "/usr/local/lib/python3.11/dist-packages/scipy/sparse/_index.py:151: SparseEfficiencyWarning: Changing the sparsity structure of a csr_matrix is expensive. lil and dok are more efficient.\n",
            "  self._set_arrayXarray(i, j, x)\n"
          ]
        },
        {
          "output_type": "stream",
          "name": "stdout",
          "text": [
            "Iteración 205: Convergió correctamente.\n",
            "Tiempo de ejecución: 0.4360 segundos\n"
          ]
        },
        {
          "output_type": "stream",
          "name": "stderr",
          "text": [
            "/usr/local/lib/python3.11/dist-packages/scipy/sparse/_index.py:151: SparseEfficiencyWarning: Changing the sparsity structure of a csr_matrix is expensive. lil and dok are more efficient.\n",
            "  self._set_arrayXarray(i, j, x)\n"
          ]
        },
        {
          "output_type": "stream",
          "name": "stdout",
          "text": [
            "Iteración 206: Convergió correctamente.\n",
            "Tiempo de ejecución: 0.4321 segundos\n"
          ]
        },
        {
          "output_type": "stream",
          "name": "stderr",
          "text": [
            "/usr/local/lib/python3.11/dist-packages/scipy/sparse/_index.py:151: SparseEfficiencyWarning: Changing the sparsity structure of a csr_matrix is expensive. lil and dok are more efficient.\n",
            "  self._set_arrayXarray(i, j, x)\n"
          ]
        },
        {
          "output_type": "stream",
          "name": "stdout",
          "text": [
            "Iteración 207: Convergió correctamente.\n",
            "Tiempo de ejecución: 0.4403 segundos\n"
          ]
        },
        {
          "output_type": "stream",
          "name": "stderr",
          "text": [
            "/usr/local/lib/python3.11/dist-packages/scipy/sparse/_index.py:151: SparseEfficiencyWarning: Changing the sparsity structure of a csr_matrix is expensive. lil and dok are more efficient.\n",
            "  self._set_arrayXarray(i, j, x)\n"
          ]
        },
        {
          "output_type": "stream",
          "name": "stdout",
          "text": [
            "Iteración 208: Convergió correctamente.\n",
            "Tiempo de ejecución: 0.4703 segundos\n"
          ]
        },
        {
          "output_type": "stream",
          "name": "stderr",
          "text": [
            "/usr/local/lib/python3.11/dist-packages/scipy/sparse/_index.py:151: SparseEfficiencyWarning: Changing the sparsity structure of a csr_matrix is expensive. lil and dok are more efficient.\n",
            "  self._set_arrayXarray(i, j, x)\n"
          ]
        },
        {
          "output_type": "stream",
          "name": "stdout",
          "text": [
            "Iteración 209: Convergió correctamente.\n",
            "Tiempo de ejecución: 0.4420 segundos\n"
          ]
        },
        {
          "output_type": "stream",
          "name": "stderr",
          "text": [
            "/usr/local/lib/python3.11/dist-packages/scipy/sparse/_index.py:151: SparseEfficiencyWarning: Changing the sparsity structure of a csr_matrix is expensive. lil and dok are more efficient.\n",
            "  self._set_arrayXarray(i, j, x)\n"
          ]
        },
        {
          "output_type": "stream",
          "name": "stdout",
          "text": [
            "Iteración 210: Convergió correctamente.\n",
            "Tiempo de ejecución: 0.4737 segundos\n"
          ]
        },
        {
          "output_type": "stream",
          "name": "stderr",
          "text": [
            "/usr/local/lib/python3.11/dist-packages/scipy/sparse/_index.py:151: SparseEfficiencyWarning: Changing the sparsity structure of a csr_matrix is expensive. lil and dok are more efficient.\n",
            "  self._set_arrayXarray(i, j, x)\n"
          ]
        },
        {
          "output_type": "stream",
          "name": "stdout",
          "text": [
            "Iteración 211: Convergió correctamente.\n",
            "Tiempo de ejecución: 0.4288 segundos\n"
          ]
        },
        {
          "output_type": "stream",
          "name": "stderr",
          "text": [
            "/usr/local/lib/python3.11/dist-packages/scipy/sparse/_index.py:151: SparseEfficiencyWarning: Changing the sparsity structure of a csr_matrix is expensive. lil and dok are more efficient.\n",
            "  self._set_arrayXarray(i, j, x)\n"
          ]
        },
        {
          "output_type": "stream",
          "name": "stdout",
          "text": [
            "Iteración 212: Convergió correctamente.\n",
            "Tiempo de ejecución: 0.4515 segundos\n"
          ]
        },
        {
          "output_type": "stream",
          "name": "stderr",
          "text": [
            "/usr/local/lib/python3.11/dist-packages/scipy/sparse/_index.py:151: SparseEfficiencyWarning: Changing the sparsity structure of a csr_matrix is expensive. lil and dok are more efficient.\n",
            "  self._set_arrayXarray(i, j, x)\n"
          ]
        },
        {
          "output_type": "stream",
          "name": "stdout",
          "text": [
            "Iteración 213: Convergió correctamente.\n",
            "Tiempo de ejecución: 0.5138 segundos\n"
          ]
        },
        {
          "output_type": "stream",
          "name": "stderr",
          "text": [
            "/usr/local/lib/python3.11/dist-packages/scipy/sparse/_index.py:151: SparseEfficiencyWarning: Changing the sparsity structure of a csr_matrix is expensive. lil and dok are more efficient.\n",
            "  self._set_arrayXarray(i, j, x)\n"
          ]
        },
        {
          "output_type": "stream",
          "name": "stdout",
          "text": [
            "Iteración 214: Convergió correctamente.\n",
            "Tiempo de ejecución: 0.4011 segundos\n"
          ]
        },
        {
          "output_type": "stream",
          "name": "stderr",
          "text": [
            "/usr/local/lib/python3.11/dist-packages/scipy/sparse/_index.py:151: SparseEfficiencyWarning: Changing the sparsity structure of a csr_matrix is expensive. lil and dok are more efficient.\n",
            "  self._set_arrayXarray(i, j, x)\n"
          ]
        },
        {
          "output_type": "stream",
          "name": "stdout",
          "text": [
            "Iteración 215: Convergió correctamente.\n",
            "Tiempo de ejecución: 0.4677 segundos\n"
          ]
        },
        {
          "output_type": "stream",
          "name": "stderr",
          "text": [
            "/usr/local/lib/python3.11/dist-packages/scipy/sparse/_index.py:151: SparseEfficiencyWarning: Changing the sparsity structure of a csr_matrix is expensive. lil and dok are more efficient.\n",
            "  self._set_arrayXarray(i, j, x)\n"
          ]
        },
        {
          "output_type": "stream",
          "name": "stdout",
          "text": [
            "Iteración 216: Convergió correctamente.\n",
            "Tiempo de ejecución: 0.4474 segundos\n"
          ]
        },
        {
          "output_type": "stream",
          "name": "stderr",
          "text": [
            "/usr/local/lib/python3.11/dist-packages/scipy/sparse/_index.py:151: SparseEfficiencyWarning: Changing the sparsity structure of a csr_matrix is expensive. lil and dok are more efficient.\n",
            "  self._set_arrayXarray(i, j, x)\n"
          ]
        },
        {
          "output_type": "stream",
          "name": "stdout",
          "text": [
            "Iteración 217: Convergió correctamente.\n",
            "Tiempo de ejecución: 0.4499 segundos\n"
          ]
        },
        {
          "output_type": "stream",
          "name": "stderr",
          "text": [
            "/usr/local/lib/python3.11/dist-packages/scipy/sparse/_index.py:151: SparseEfficiencyWarning: Changing the sparsity structure of a csr_matrix is expensive. lil and dok are more efficient.\n",
            "  self._set_arrayXarray(i, j, x)\n"
          ]
        },
        {
          "output_type": "stream",
          "name": "stdout",
          "text": [
            "Iteración 218: Convergió correctamente.\n",
            "Tiempo de ejecución: 0.4819 segundos\n"
          ]
        },
        {
          "output_type": "stream",
          "name": "stderr",
          "text": [
            "/usr/local/lib/python3.11/dist-packages/scipy/sparse/_index.py:151: SparseEfficiencyWarning: Changing the sparsity structure of a csr_matrix is expensive. lil and dok are more efficient.\n",
            "  self._set_arrayXarray(i, j, x)\n"
          ]
        },
        {
          "output_type": "stream",
          "name": "stdout",
          "text": [
            "Iteración 219: Convergió correctamente.\n",
            "Tiempo de ejecución: 0.4627 segundos\n"
          ]
        },
        {
          "output_type": "stream",
          "name": "stderr",
          "text": [
            "/usr/local/lib/python3.11/dist-packages/scipy/sparse/_index.py:151: SparseEfficiencyWarning: Changing the sparsity structure of a csr_matrix is expensive. lil and dok are more efficient.\n",
            "  self._set_arrayXarray(i, j, x)\n"
          ]
        },
        {
          "output_type": "stream",
          "name": "stdout",
          "text": [
            "Iteración 220: Convergió correctamente.\n",
            "Tiempo de ejecución: 0.6973 segundos\n"
          ]
        },
        {
          "output_type": "stream",
          "name": "stderr",
          "text": [
            "/usr/local/lib/python3.11/dist-packages/scipy/sparse/_index.py:151: SparseEfficiencyWarning: Changing the sparsity structure of a csr_matrix is expensive. lil and dok are more efficient.\n",
            "  self._set_arrayXarray(i, j, x)\n"
          ]
        },
        {
          "output_type": "stream",
          "name": "stdout",
          "text": [
            "Iteración 221: Convergió correctamente.\n",
            "Tiempo de ejecución: 0.6772 segundos\n"
          ]
        },
        {
          "output_type": "stream",
          "name": "stderr",
          "text": [
            "/usr/local/lib/python3.11/dist-packages/scipy/sparse/_index.py:151: SparseEfficiencyWarning: Changing the sparsity structure of a csr_matrix is expensive. lil and dok are more efficient.\n",
            "  self._set_arrayXarray(i, j, x)\n"
          ]
        },
        {
          "output_type": "stream",
          "name": "stdout",
          "text": [
            "Iteración 222: Convergió correctamente.\n",
            "Tiempo de ejecución: 0.6381 segundos\n"
          ]
        },
        {
          "output_type": "stream",
          "name": "stderr",
          "text": [
            "/usr/local/lib/python3.11/dist-packages/scipy/sparse/_index.py:151: SparseEfficiencyWarning: Changing the sparsity structure of a csr_matrix is expensive. lil and dok are more efficient.\n",
            "  self._set_arrayXarray(i, j, x)\n"
          ]
        },
        {
          "output_type": "stream",
          "name": "stdout",
          "text": [
            "Iteración 223: Convergió correctamente.\n",
            "Tiempo de ejecución: 0.4536 segundos\n"
          ]
        },
        {
          "output_type": "stream",
          "name": "stderr",
          "text": [
            "/usr/local/lib/python3.11/dist-packages/scipy/sparse/_index.py:151: SparseEfficiencyWarning: Changing the sparsity structure of a csr_matrix is expensive. lil and dok are more efficient.\n",
            "  self._set_arrayXarray(i, j, x)\n"
          ]
        },
        {
          "output_type": "stream",
          "name": "stdout",
          "text": [
            "Iteración 224: Convergió correctamente.\n",
            "Tiempo de ejecución: 0.4144 segundos\n"
          ]
        },
        {
          "output_type": "stream",
          "name": "stderr",
          "text": [
            "/usr/local/lib/python3.11/dist-packages/scipy/sparse/_index.py:151: SparseEfficiencyWarning: Changing the sparsity structure of a csr_matrix is expensive. lil and dok are more efficient.\n",
            "  self._set_arrayXarray(i, j, x)\n"
          ]
        },
        {
          "output_type": "stream",
          "name": "stdout",
          "text": [
            "Iteración 225: Convergió correctamente.\n",
            "Tiempo de ejecución: 0.4700 segundos\n"
          ]
        },
        {
          "output_type": "stream",
          "name": "stderr",
          "text": [
            "/usr/local/lib/python3.11/dist-packages/scipy/sparse/_index.py:151: SparseEfficiencyWarning: Changing the sparsity structure of a csr_matrix is expensive. lil and dok are more efficient.\n",
            "  self._set_arrayXarray(i, j, x)\n"
          ]
        },
        {
          "output_type": "stream",
          "name": "stdout",
          "text": [
            "Iteración 226: Convergió correctamente.\n",
            "Tiempo de ejecución: 0.4933 segundos\n"
          ]
        },
        {
          "output_type": "stream",
          "name": "stderr",
          "text": [
            "/usr/local/lib/python3.11/dist-packages/scipy/sparse/_index.py:151: SparseEfficiencyWarning: Changing the sparsity structure of a csr_matrix is expensive. lil and dok are more efficient.\n",
            "  self._set_arrayXarray(i, j, x)\n"
          ]
        },
        {
          "output_type": "stream",
          "name": "stdout",
          "text": [
            "Iteración 227: Convergió correctamente.\n",
            "Tiempo de ejecución: 0.4945 segundos\n"
          ]
        },
        {
          "output_type": "stream",
          "name": "stderr",
          "text": [
            "/usr/local/lib/python3.11/dist-packages/scipy/sparse/_index.py:151: SparseEfficiencyWarning: Changing the sparsity structure of a csr_matrix is expensive. lil and dok are more efficient.\n",
            "  self._set_arrayXarray(i, j, x)\n"
          ]
        },
        {
          "output_type": "stream",
          "name": "stdout",
          "text": [
            "Iteración 228: Convergió correctamente.\n",
            "Tiempo de ejecución: 0.4935 segundos\n"
          ]
        },
        {
          "output_type": "stream",
          "name": "stderr",
          "text": [
            "/usr/local/lib/python3.11/dist-packages/scipy/sparse/_index.py:151: SparseEfficiencyWarning: Changing the sparsity structure of a csr_matrix is expensive. lil and dok are more efficient.\n",
            "  self._set_arrayXarray(i, j, x)\n"
          ]
        },
        {
          "output_type": "stream",
          "name": "stdout",
          "text": [
            "Iteración 229: Convergió correctamente.\n",
            "Tiempo de ejecución: 0.4788 segundos\n"
          ]
        },
        {
          "output_type": "stream",
          "name": "stderr",
          "text": [
            "/usr/local/lib/python3.11/dist-packages/scipy/sparse/_index.py:151: SparseEfficiencyWarning: Changing the sparsity structure of a csr_matrix is expensive. lil and dok are more efficient.\n",
            "  self._set_arrayXarray(i, j, x)\n"
          ]
        },
        {
          "output_type": "stream",
          "name": "stdout",
          "text": [
            "Iteración 230: Convergió correctamente.\n",
            "Tiempo de ejecución: 0.5410 segundos\n"
          ]
        },
        {
          "output_type": "stream",
          "name": "stderr",
          "text": [
            "/usr/local/lib/python3.11/dist-packages/scipy/sparse/_index.py:151: SparseEfficiencyWarning: Changing the sparsity structure of a csr_matrix is expensive. lil and dok are more efficient.\n",
            "  self._set_arrayXarray(i, j, x)\n"
          ]
        },
        {
          "output_type": "stream",
          "name": "stdout",
          "text": [
            "Iteración 231: Convergió correctamente.\n",
            "Tiempo de ejecución: 0.4710 segundos\n"
          ]
        },
        {
          "output_type": "stream",
          "name": "stderr",
          "text": [
            "/usr/local/lib/python3.11/dist-packages/scipy/sparse/_index.py:151: SparseEfficiencyWarning: Changing the sparsity structure of a csr_matrix is expensive. lil and dok are more efficient.\n",
            "  self._set_arrayXarray(i, j, x)\n"
          ]
        },
        {
          "output_type": "stream",
          "name": "stdout",
          "text": [
            "Iteración 232: Convergió correctamente.\n",
            "Tiempo de ejecución: 0.5535 segundos\n"
          ]
        },
        {
          "output_type": "stream",
          "name": "stderr",
          "text": [
            "/usr/local/lib/python3.11/dist-packages/scipy/sparse/_index.py:151: SparseEfficiencyWarning: Changing the sparsity structure of a csr_matrix is expensive. lil and dok are more efficient.\n",
            "  self._set_arrayXarray(i, j, x)\n"
          ]
        },
        {
          "output_type": "stream",
          "name": "stdout",
          "text": [
            "Iteración 233: Convergió correctamente.\n",
            "Tiempo de ejecución: 0.4998 segundos\n"
          ]
        },
        {
          "output_type": "stream",
          "name": "stderr",
          "text": [
            "/usr/local/lib/python3.11/dist-packages/scipy/sparse/_index.py:151: SparseEfficiencyWarning: Changing the sparsity structure of a csr_matrix is expensive. lil and dok are more efficient.\n",
            "  self._set_arrayXarray(i, j, x)\n"
          ]
        },
        {
          "output_type": "stream",
          "name": "stdout",
          "text": [
            "Iteración 234: Convergió correctamente.\n",
            "Tiempo de ejecución: 0.4942 segundos\n"
          ]
        },
        {
          "output_type": "stream",
          "name": "stderr",
          "text": [
            "/usr/local/lib/python3.11/dist-packages/scipy/sparse/_index.py:151: SparseEfficiencyWarning: Changing the sparsity structure of a csr_matrix is expensive. lil and dok are more efficient.\n",
            "  self._set_arrayXarray(i, j, x)\n"
          ]
        },
        {
          "output_type": "stream",
          "name": "stdout",
          "text": [
            "Iteración 235: Convergió correctamente.\n",
            "Tiempo de ejecución: 0.5142 segundos\n"
          ]
        },
        {
          "output_type": "stream",
          "name": "stderr",
          "text": [
            "/usr/local/lib/python3.11/dist-packages/scipy/sparse/_index.py:151: SparseEfficiencyWarning: Changing the sparsity structure of a csr_matrix is expensive. lil and dok are more efficient.\n",
            "  self._set_arrayXarray(i, j, x)\n"
          ]
        },
        {
          "output_type": "stream",
          "name": "stdout",
          "text": [
            "Iteración 236: Convergió correctamente.\n",
            "Tiempo de ejecución: 0.5073 segundos\n"
          ]
        },
        {
          "output_type": "stream",
          "name": "stderr",
          "text": [
            "/usr/local/lib/python3.11/dist-packages/scipy/sparse/_index.py:151: SparseEfficiencyWarning: Changing the sparsity structure of a csr_matrix is expensive. lil and dok are more efficient.\n",
            "  self._set_arrayXarray(i, j, x)\n"
          ]
        },
        {
          "output_type": "stream",
          "name": "stdout",
          "text": [
            "Iteración 237: Convergió correctamente.\n",
            "Tiempo de ejecución: 0.4799 segundos\n"
          ]
        },
        {
          "output_type": "stream",
          "name": "stderr",
          "text": [
            "/usr/local/lib/python3.11/dist-packages/scipy/sparse/_index.py:151: SparseEfficiencyWarning: Changing the sparsity structure of a csr_matrix is expensive. lil and dok are more efficient.\n",
            "  self._set_arrayXarray(i, j, x)\n"
          ]
        },
        {
          "output_type": "stream",
          "name": "stdout",
          "text": [
            "Iteración 238: Convergió correctamente.\n",
            "Tiempo de ejecución: 0.5538 segundos\n"
          ]
        },
        {
          "output_type": "stream",
          "name": "stderr",
          "text": [
            "/usr/local/lib/python3.11/dist-packages/scipy/sparse/_index.py:151: SparseEfficiencyWarning: Changing the sparsity structure of a csr_matrix is expensive. lil and dok are more efficient.\n",
            "  self._set_arrayXarray(i, j, x)\n"
          ]
        },
        {
          "output_type": "stream",
          "name": "stdout",
          "text": [
            "Iteración 239: Convergió correctamente.\n",
            "Tiempo de ejecución: 0.5662 segundos\n"
          ]
        },
        {
          "output_type": "stream",
          "name": "stderr",
          "text": [
            "/usr/local/lib/python3.11/dist-packages/scipy/sparse/_index.py:151: SparseEfficiencyWarning: Changing the sparsity structure of a csr_matrix is expensive. lil and dok are more efficient.\n",
            "  self._set_arrayXarray(i, j, x)\n"
          ]
        },
        {
          "output_type": "stream",
          "name": "stdout",
          "text": [
            "Iteración 240: Convergió correctamente.\n",
            "Tiempo de ejecución: 0.4807 segundos\n"
          ]
        },
        {
          "output_type": "stream",
          "name": "stderr",
          "text": [
            "/usr/local/lib/python3.11/dist-packages/scipy/sparse/_index.py:151: SparseEfficiencyWarning: Changing the sparsity structure of a csr_matrix is expensive. lil and dok are more efficient.\n",
            "  self._set_arrayXarray(i, j, x)\n"
          ]
        },
        {
          "output_type": "stream",
          "name": "stdout",
          "text": [
            "Iteración 241: Convergió correctamente.\n",
            "Tiempo de ejecución: 0.5477 segundos\n"
          ]
        },
        {
          "output_type": "stream",
          "name": "stderr",
          "text": [
            "/usr/local/lib/python3.11/dist-packages/scipy/sparse/_index.py:151: SparseEfficiencyWarning: Changing the sparsity structure of a csr_matrix is expensive. lil and dok are more efficient.\n",
            "  self._set_arrayXarray(i, j, x)\n"
          ]
        },
        {
          "output_type": "stream",
          "name": "stdout",
          "text": [
            "Iteración 242: Convergió correctamente.\n",
            "Tiempo de ejecución: 0.5202 segundos\n"
          ]
        },
        {
          "output_type": "stream",
          "name": "stderr",
          "text": [
            "/usr/local/lib/python3.11/dist-packages/scipy/sparse/_index.py:151: SparseEfficiencyWarning: Changing the sparsity structure of a csr_matrix is expensive. lil and dok are more efficient.\n",
            "  self._set_arrayXarray(i, j, x)\n"
          ]
        },
        {
          "output_type": "stream",
          "name": "stdout",
          "text": [
            "Iteración 243: Convergió correctamente.\n",
            "Tiempo de ejecución: 0.9327 segundos\n"
          ]
        },
        {
          "output_type": "stream",
          "name": "stderr",
          "text": [
            "/usr/local/lib/python3.11/dist-packages/scipy/sparse/_index.py:151: SparseEfficiencyWarning: Changing the sparsity structure of a csr_matrix is expensive. lil and dok are more efficient.\n",
            "  self._set_arrayXarray(i, j, x)\n"
          ]
        },
        {
          "output_type": "stream",
          "name": "stdout",
          "text": [
            "Iteración 244: Convergió correctamente.\n",
            "Tiempo de ejecución: 0.7431 segundos\n"
          ]
        },
        {
          "output_type": "stream",
          "name": "stderr",
          "text": [
            "/usr/local/lib/python3.11/dist-packages/scipy/sparse/_index.py:151: SparseEfficiencyWarning: Changing the sparsity structure of a csr_matrix is expensive. lil and dok are more efficient.\n",
            "  self._set_arrayXarray(i, j, x)\n"
          ]
        },
        {
          "output_type": "stream",
          "name": "stdout",
          "text": [
            "Iteración 245: Convergió correctamente.\n",
            "Tiempo de ejecución: 0.4824 segundos\n"
          ]
        },
        {
          "output_type": "stream",
          "name": "stderr",
          "text": [
            "/usr/local/lib/python3.11/dist-packages/scipy/sparse/_index.py:151: SparseEfficiencyWarning: Changing the sparsity structure of a csr_matrix is expensive. lil and dok are more efficient.\n",
            "  self._set_arrayXarray(i, j, x)\n"
          ]
        },
        {
          "output_type": "stream",
          "name": "stdout",
          "text": [
            "Iteración 246: Convergió correctamente.\n",
            "Tiempo de ejecución: 0.5808 segundos\n"
          ]
        },
        {
          "output_type": "stream",
          "name": "stderr",
          "text": [
            "/usr/local/lib/python3.11/dist-packages/scipy/sparse/_index.py:151: SparseEfficiencyWarning: Changing the sparsity structure of a csr_matrix is expensive. lil and dok are more efficient.\n",
            "  self._set_arrayXarray(i, j, x)\n"
          ]
        },
        {
          "output_type": "stream",
          "name": "stdout",
          "text": [
            "Iteración 247: Convergió correctamente.\n",
            "Tiempo de ejecución: 0.5548 segundos\n"
          ]
        },
        {
          "output_type": "stream",
          "name": "stderr",
          "text": [
            "/usr/local/lib/python3.11/dist-packages/scipy/sparse/_index.py:151: SparseEfficiencyWarning: Changing the sparsity structure of a csr_matrix is expensive. lil and dok are more efficient.\n",
            "  self._set_arrayXarray(i, j, x)\n"
          ]
        },
        {
          "output_type": "stream",
          "name": "stdout",
          "text": [
            "Iteración 248: Convergió correctamente.\n",
            "Tiempo de ejecución: 0.5168 segundos\n"
          ]
        },
        {
          "output_type": "stream",
          "name": "stderr",
          "text": [
            "/usr/local/lib/python3.11/dist-packages/scipy/sparse/_index.py:151: SparseEfficiencyWarning: Changing the sparsity structure of a csr_matrix is expensive. lil and dok are more efficient.\n",
            "  self._set_arrayXarray(i, j, x)\n"
          ]
        },
        {
          "output_type": "stream",
          "name": "stdout",
          "text": [
            "Iteración 249: Convergió correctamente.\n",
            "Tiempo de ejecución: 0.5815 segundos\n"
          ]
        },
        {
          "output_type": "stream",
          "name": "stderr",
          "text": [
            "/usr/local/lib/python3.11/dist-packages/scipy/sparse/_index.py:151: SparseEfficiencyWarning: Changing the sparsity structure of a csr_matrix is expensive. lil and dok are more efficient.\n",
            "  self._set_arrayXarray(i, j, x)\n",
            "<ipython-input-5-e9ab6229a877>:57: SparseEfficiencyWarning: spilu converted its input to CSC format\n",
            "  ilu = spilu(sistema_sparse)\n"
          ]
        },
        {
          "output_type": "stream",
          "name": "stdout",
          "text": [
            "Iteración 250: Convergió correctamente.\n",
            "Tiempo de ejecución: 2.6631 segundos\n"
          ]
        },
        {
          "output_type": "stream",
          "name": "stderr",
          "text": [
            "/usr/local/lib/python3.11/dist-packages/scipy/sparse/_index.py:151: SparseEfficiencyWarning: Changing the sparsity structure of a csr_matrix is expensive. lil and dok are more efficient.\n",
            "  self._set_arrayXarray(i, j, x)\n"
          ]
        },
        {
          "output_type": "stream",
          "name": "stdout",
          "text": [
            "Iteración 251: Convergió correctamente.\n",
            "Tiempo de ejecución: 0.4285 segundos\n"
          ]
        },
        {
          "output_type": "stream",
          "name": "stderr",
          "text": [
            "/usr/local/lib/python3.11/dist-packages/scipy/sparse/_index.py:151: SparseEfficiencyWarning: Changing the sparsity structure of a csr_matrix is expensive. lil and dok are more efficient.\n",
            "  self._set_arrayXarray(i, j, x)\n"
          ]
        },
        {
          "output_type": "stream",
          "name": "stdout",
          "text": [
            "Iteración 252: Convergió correctamente.\n",
            "Tiempo de ejecución: 0.4125 segundos\n"
          ]
        },
        {
          "output_type": "stream",
          "name": "stderr",
          "text": [
            "/usr/local/lib/python3.11/dist-packages/scipy/sparse/_index.py:151: SparseEfficiencyWarning: Changing the sparsity structure of a csr_matrix is expensive. lil and dok are more efficient.\n",
            "  self._set_arrayXarray(i, j, x)\n"
          ]
        },
        {
          "output_type": "stream",
          "name": "stdout",
          "text": [
            "Iteración 253: Convergió correctamente.\n",
            "Tiempo de ejecución: 0.4490 segundos\n"
          ]
        },
        {
          "output_type": "stream",
          "name": "stderr",
          "text": [
            "/usr/local/lib/python3.11/dist-packages/scipy/sparse/_index.py:151: SparseEfficiencyWarning: Changing the sparsity structure of a csr_matrix is expensive. lil and dok are more efficient.\n",
            "  self._set_arrayXarray(i, j, x)\n"
          ]
        },
        {
          "output_type": "stream",
          "name": "stdout",
          "text": [
            "Iteración 254: Convergió correctamente.\n",
            "Tiempo de ejecución: 0.4374 segundos\n"
          ]
        },
        {
          "output_type": "stream",
          "name": "stderr",
          "text": [
            "/usr/local/lib/python3.11/dist-packages/scipy/sparse/_index.py:151: SparseEfficiencyWarning: Changing the sparsity structure of a csr_matrix is expensive. lil and dok are more efficient.\n",
            "  self._set_arrayXarray(i, j, x)\n"
          ]
        },
        {
          "output_type": "stream",
          "name": "stdout",
          "text": [
            "Iteración 255: Convergió correctamente.\n",
            "Tiempo de ejecución: 0.4357 segundos\n"
          ]
        },
        {
          "output_type": "stream",
          "name": "stderr",
          "text": [
            "/usr/local/lib/python3.11/dist-packages/scipy/sparse/_index.py:151: SparseEfficiencyWarning: Changing the sparsity structure of a csr_matrix is expensive. lil and dok are more efficient.\n",
            "  self._set_arrayXarray(i, j, x)\n"
          ]
        },
        {
          "output_type": "stream",
          "name": "stdout",
          "text": [
            "Iteración 256: Convergió correctamente.\n",
            "Tiempo de ejecución: 0.4531 segundos\n"
          ]
        },
        {
          "output_type": "stream",
          "name": "stderr",
          "text": [
            "/usr/local/lib/python3.11/dist-packages/scipy/sparse/_index.py:151: SparseEfficiencyWarning: Changing the sparsity structure of a csr_matrix is expensive. lil and dok are more efficient.\n",
            "  self._set_arrayXarray(i, j, x)\n"
          ]
        },
        {
          "output_type": "stream",
          "name": "stdout",
          "text": [
            "Iteración 257: Convergió correctamente.\n",
            "Tiempo de ejecución: 0.4335 segundos\n"
          ]
        },
        {
          "output_type": "stream",
          "name": "stderr",
          "text": [
            "/usr/local/lib/python3.11/dist-packages/scipy/sparse/_index.py:151: SparseEfficiencyWarning: Changing the sparsity structure of a csr_matrix is expensive. lil and dok are more efficient.\n",
            "  self._set_arrayXarray(i, j, x)\n"
          ]
        },
        {
          "output_type": "stream",
          "name": "stdout",
          "text": [
            "Iteración 258: Convergió correctamente.\n",
            "Tiempo de ejecución: 0.4480 segundos\n"
          ]
        },
        {
          "output_type": "stream",
          "name": "stderr",
          "text": [
            "/usr/local/lib/python3.11/dist-packages/scipy/sparse/_index.py:151: SparseEfficiencyWarning: Changing the sparsity structure of a csr_matrix is expensive. lil and dok are more efficient.\n",
            "  self._set_arrayXarray(i, j, x)\n"
          ]
        },
        {
          "output_type": "stream",
          "name": "stdout",
          "text": [
            "Iteración 259: Convergió correctamente.\n",
            "Tiempo de ejecución: 0.4479 segundos\n"
          ]
        },
        {
          "output_type": "stream",
          "name": "stderr",
          "text": [
            "/usr/local/lib/python3.11/dist-packages/scipy/sparse/_index.py:151: SparseEfficiencyWarning: Changing the sparsity structure of a csr_matrix is expensive. lil and dok are more efficient.\n",
            "  self._set_arrayXarray(i, j, x)\n"
          ]
        },
        {
          "output_type": "stream",
          "name": "stdout",
          "text": [
            "Iteración 260: Convergió correctamente.\n",
            "Tiempo de ejecución: 0.4579 segundos\n"
          ]
        },
        {
          "output_type": "stream",
          "name": "stderr",
          "text": [
            "/usr/local/lib/python3.11/dist-packages/scipy/sparse/_index.py:151: SparseEfficiencyWarning: Changing the sparsity structure of a csr_matrix is expensive. lil and dok are more efficient.\n",
            "  self._set_arrayXarray(i, j, x)\n"
          ]
        },
        {
          "output_type": "stream",
          "name": "stdout",
          "text": [
            "Iteración 261: Convergió correctamente.\n",
            "Tiempo de ejecución: 0.7004 segundos\n"
          ]
        },
        {
          "output_type": "stream",
          "name": "stderr",
          "text": [
            "/usr/local/lib/python3.11/dist-packages/scipy/sparse/_index.py:151: SparseEfficiencyWarning: Changing the sparsity structure of a csr_matrix is expensive. lil and dok are more efficient.\n",
            "  self._set_arrayXarray(i, j, x)\n"
          ]
        },
        {
          "output_type": "stream",
          "name": "stdout",
          "text": [
            "Iteración 262: Convergió correctamente.\n",
            "Tiempo de ejecución: 0.6665 segundos\n"
          ]
        },
        {
          "output_type": "stream",
          "name": "stderr",
          "text": [
            "/usr/local/lib/python3.11/dist-packages/scipy/sparse/_index.py:151: SparseEfficiencyWarning: Changing the sparsity structure of a csr_matrix is expensive. lil and dok are more efficient.\n",
            "  self._set_arrayXarray(i, j, x)\n"
          ]
        },
        {
          "output_type": "stream",
          "name": "stdout",
          "text": [
            "Iteración 263: Convergió correctamente.\n",
            "Tiempo de ejecución: 0.5715 segundos\n"
          ]
        },
        {
          "output_type": "stream",
          "name": "stderr",
          "text": [
            "/usr/local/lib/python3.11/dist-packages/scipy/sparse/_index.py:151: SparseEfficiencyWarning: Changing the sparsity structure of a csr_matrix is expensive. lil and dok are more efficient.\n",
            "  self._set_arrayXarray(i, j, x)\n"
          ]
        },
        {
          "output_type": "stream",
          "name": "stdout",
          "text": [
            "Iteración 264: Convergió correctamente.\n",
            "Tiempo de ejecución: 0.4745 segundos\n"
          ]
        },
        {
          "output_type": "stream",
          "name": "stderr",
          "text": [
            "/usr/local/lib/python3.11/dist-packages/scipy/sparse/_index.py:151: SparseEfficiencyWarning: Changing the sparsity structure of a csr_matrix is expensive. lil and dok are more efficient.\n",
            "  self._set_arrayXarray(i, j, x)\n"
          ]
        },
        {
          "output_type": "stream",
          "name": "stdout",
          "text": [
            "Iteración 265: Convergió correctamente.\n",
            "Tiempo de ejecución: 0.4401 segundos\n"
          ]
        },
        {
          "output_type": "stream",
          "name": "stderr",
          "text": [
            "/usr/local/lib/python3.11/dist-packages/scipy/sparse/_index.py:151: SparseEfficiencyWarning: Changing the sparsity structure of a csr_matrix is expensive. lil and dok are more efficient.\n",
            "  self._set_arrayXarray(i, j, x)\n"
          ]
        },
        {
          "output_type": "stream",
          "name": "stdout",
          "text": [
            "Iteración 266: Convergió correctamente.\n",
            "Tiempo de ejecución: 0.4697 segundos\n"
          ]
        },
        {
          "output_type": "stream",
          "name": "stderr",
          "text": [
            "/usr/local/lib/python3.11/dist-packages/scipy/sparse/_index.py:151: SparseEfficiencyWarning: Changing the sparsity structure of a csr_matrix is expensive. lil and dok are more efficient.\n",
            "  self._set_arrayXarray(i, j, x)\n"
          ]
        },
        {
          "output_type": "stream",
          "name": "stdout",
          "text": [
            "Iteración 267: Convergió correctamente.\n",
            "Tiempo de ejecución: 0.4628 segundos\n"
          ]
        },
        {
          "output_type": "stream",
          "name": "stderr",
          "text": [
            "/usr/local/lib/python3.11/dist-packages/scipy/sparse/_index.py:151: SparseEfficiencyWarning: Changing the sparsity structure of a csr_matrix is expensive. lil and dok are more efficient.\n",
            "  self._set_arrayXarray(i, j, x)\n"
          ]
        },
        {
          "output_type": "stream",
          "name": "stdout",
          "text": [
            "Iteración 268: Convergió correctamente.\n",
            "Tiempo de ejecución: 0.4456 segundos\n"
          ]
        },
        {
          "output_type": "stream",
          "name": "stderr",
          "text": [
            "/usr/local/lib/python3.11/dist-packages/scipy/sparse/_index.py:151: SparseEfficiencyWarning: Changing the sparsity structure of a csr_matrix is expensive. lil and dok are more efficient.\n",
            "  self._set_arrayXarray(i, j, x)\n"
          ]
        },
        {
          "output_type": "stream",
          "name": "stdout",
          "text": [
            "Iteración 269: Convergió correctamente.\n",
            "Tiempo de ejecución: 0.5360 segundos\n"
          ]
        },
        {
          "output_type": "stream",
          "name": "stderr",
          "text": [
            "/usr/local/lib/python3.11/dist-packages/scipy/sparse/_index.py:151: SparseEfficiencyWarning: Changing the sparsity structure of a csr_matrix is expensive. lil and dok are more efficient.\n",
            "  self._set_arrayXarray(i, j, x)\n"
          ]
        },
        {
          "output_type": "stream",
          "name": "stdout",
          "text": [
            "Iteración 270: Convergió correctamente.\n",
            "Tiempo de ejecución: 0.5409 segundos\n"
          ]
        },
        {
          "output_type": "stream",
          "name": "stderr",
          "text": [
            "/usr/local/lib/python3.11/dist-packages/scipy/sparse/_index.py:151: SparseEfficiencyWarning: Changing the sparsity structure of a csr_matrix is expensive. lil and dok are more efficient.\n",
            "  self._set_arrayXarray(i, j, x)\n"
          ]
        },
        {
          "output_type": "stream",
          "name": "stdout",
          "text": [
            "Iteración 271: Convergió correctamente.\n",
            "Tiempo de ejecución: 0.4998 segundos\n"
          ]
        },
        {
          "output_type": "stream",
          "name": "stderr",
          "text": [
            "/usr/local/lib/python3.11/dist-packages/scipy/sparse/_index.py:151: SparseEfficiencyWarning: Changing the sparsity structure of a csr_matrix is expensive. lil and dok are more efficient.\n",
            "  self._set_arrayXarray(i, j, x)\n"
          ]
        },
        {
          "output_type": "stream",
          "name": "stdout",
          "text": [
            "Iteración 272: Convergió correctamente.\n",
            "Tiempo de ejecución: 0.4588 segundos\n"
          ]
        },
        {
          "output_type": "stream",
          "name": "stderr",
          "text": [
            "/usr/local/lib/python3.11/dist-packages/scipy/sparse/_index.py:151: SparseEfficiencyWarning: Changing the sparsity structure of a csr_matrix is expensive. lil and dok are more efficient.\n",
            "  self._set_arrayXarray(i, j, x)\n"
          ]
        },
        {
          "output_type": "stream",
          "name": "stdout",
          "text": [
            "Iteración 273: Convergió correctamente.\n",
            "Tiempo de ejecución: 0.4638 segundos\n"
          ]
        },
        {
          "output_type": "stream",
          "name": "stderr",
          "text": [
            "/usr/local/lib/python3.11/dist-packages/scipy/sparse/_index.py:151: SparseEfficiencyWarning: Changing the sparsity structure of a csr_matrix is expensive. lil and dok are more efficient.\n",
            "  self._set_arrayXarray(i, j, x)\n"
          ]
        },
        {
          "output_type": "stream",
          "name": "stdout",
          "text": [
            "Iteración 274: Convergió correctamente.\n",
            "Tiempo de ejecución: 0.5071 segundos\n"
          ]
        },
        {
          "output_type": "stream",
          "name": "stderr",
          "text": [
            "/usr/local/lib/python3.11/dist-packages/scipy/sparse/_index.py:151: SparseEfficiencyWarning: Changing the sparsity structure of a csr_matrix is expensive. lil and dok are more efficient.\n",
            "  self._set_arrayXarray(i, j, x)\n"
          ]
        },
        {
          "output_type": "stream",
          "name": "stdout",
          "text": [
            "Iteración 275: Convergió correctamente.\n",
            "Tiempo de ejecución: 0.4654 segundos\n"
          ]
        },
        {
          "output_type": "stream",
          "name": "stderr",
          "text": [
            "/usr/local/lib/python3.11/dist-packages/scipy/sparse/_index.py:151: SparseEfficiencyWarning: Changing the sparsity structure of a csr_matrix is expensive. lil and dok are more efficient.\n",
            "  self._set_arrayXarray(i, j, x)\n"
          ]
        },
        {
          "output_type": "stream",
          "name": "stdout",
          "text": [
            "Iteración 276: Convergió correctamente.\n",
            "Tiempo de ejecución: 0.4746 segundos\n"
          ]
        },
        {
          "output_type": "stream",
          "name": "stderr",
          "text": [
            "/usr/local/lib/python3.11/dist-packages/scipy/sparse/_index.py:151: SparseEfficiencyWarning: Changing the sparsity structure of a csr_matrix is expensive. lil and dok are more efficient.\n",
            "  self._set_arrayXarray(i, j, x)\n"
          ]
        },
        {
          "output_type": "stream",
          "name": "stdout",
          "text": [
            "Iteración 277: Convergió correctamente.\n",
            "Tiempo de ejecución: 0.5231 segundos\n"
          ]
        },
        {
          "output_type": "stream",
          "name": "stderr",
          "text": [
            "/usr/local/lib/python3.11/dist-packages/scipy/sparse/_index.py:151: SparseEfficiencyWarning: Changing the sparsity structure of a csr_matrix is expensive. lil and dok are more efficient.\n",
            "  self._set_arrayXarray(i, j, x)\n"
          ]
        },
        {
          "output_type": "stream",
          "name": "stdout",
          "text": [
            "Iteración 278: Convergió correctamente.\n",
            "Tiempo de ejecución: 0.4726 segundos\n"
          ]
        },
        {
          "output_type": "stream",
          "name": "stderr",
          "text": [
            "/usr/local/lib/python3.11/dist-packages/scipy/sparse/_index.py:151: SparseEfficiencyWarning: Changing the sparsity structure of a csr_matrix is expensive. lil and dok are more efficient.\n",
            "  self._set_arrayXarray(i, j, x)\n"
          ]
        },
        {
          "output_type": "stream",
          "name": "stdout",
          "text": [
            "Iteración 279: Convergió correctamente.\n",
            "Tiempo de ejecución: 0.5721 segundos\n"
          ]
        },
        {
          "output_type": "stream",
          "name": "stderr",
          "text": [
            "/usr/local/lib/python3.11/dist-packages/scipy/sparse/_index.py:151: SparseEfficiencyWarning: Changing the sparsity structure of a csr_matrix is expensive. lil and dok are more efficient.\n",
            "  self._set_arrayXarray(i, j, x)\n"
          ]
        },
        {
          "output_type": "stream",
          "name": "stdout",
          "text": [
            "Iteración 280: Convergió correctamente.\n",
            "Tiempo de ejecución: 0.5600 segundos\n"
          ]
        },
        {
          "output_type": "stream",
          "name": "stderr",
          "text": [
            "/usr/local/lib/python3.11/dist-packages/scipy/sparse/_index.py:151: SparseEfficiencyWarning: Changing the sparsity structure of a csr_matrix is expensive. lil and dok are more efficient.\n",
            "  self._set_arrayXarray(i, j, x)\n"
          ]
        },
        {
          "output_type": "stream",
          "name": "stdout",
          "text": [
            "Iteración 281: Convergió correctamente.\n",
            "Tiempo de ejecución: 0.5384 segundos\n"
          ]
        },
        {
          "output_type": "stream",
          "name": "stderr",
          "text": [
            "/usr/local/lib/python3.11/dist-packages/scipy/sparse/_index.py:151: SparseEfficiencyWarning: Changing the sparsity structure of a csr_matrix is expensive. lil and dok are more efficient.\n",
            "  self._set_arrayXarray(i, j, x)\n"
          ]
        },
        {
          "output_type": "stream",
          "name": "stdout",
          "text": [
            "Iteración 282: Convergió correctamente.\n",
            "Tiempo de ejecución: 0.4629 segundos\n"
          ]
        },
        {
          "output_type": "stream",
          "name": "stderr",
          "text": [
            "/usr/local/lib/python3.11/dist-packages/scipy/sparse/_index.py:151: SparseEfficiencyWarning: Changing the sparsity structure of a csr_matrix is expensive. lil and dok are more efficient.\n",
            "  self._set_arrayXarray(i, j, x)\n"
          ]
        },
        {
          "output_type": "stream",
          "name": "stdout",
          "text": [
            "Iteración 283: Convergió correctamente.\n",
            "Tiempo de ejecución: 0.5625 segundos\n"
          ]
        },
        {
          "output_type": "stream",
          "name": "stderr",
          "text": [
            "/usr/local/lib/python3.11/dist-packages/scipy/sparse/_index.py:151: SparseEfficiencyWarning: Changing the sparsity structure of a csr_matrix is expensive. lil and dok are more efficient.\n",
            "  self._set_arrayXarray(i, j, x)\n"
          ]
        },
        {
          "output_type": "stream",
          "name": "stdout",
          "text": [
            "Iteración 284: Convergió correctamente.\n",
            "Tiempo de ejecución: 0.6921 segundos\n"
          ]
        },
        {
          "output_type": "stream",
          "name": "stderr",
          "text": [
            "/usr/local/lib/python3.11/dist-packages/scipy/sparse/_index.py:151: SparseEfficiencyWarning: Changing the sparsity structure of a csr_matrix is expensive. lil and dok are more efficient.\n",
            "  self._set_arrayXarray(i, j, x)\n"
          ]
        },
        {
          "output_type": "stream",
          "name": "stdout",
          "text": [
            "Iteración 285: Convergió correctamente.\n",
            "Tiempo de ejecución: 0.7499 segundos\n"
          ]
        },
        {
          "output_type": "stream",
          "name": "stderr",
          "text": [
            "/usr/local/lib/python3.11/dist-packages/scipy/sparse/_index.py:151: SparseEfficiencyWarning: Changing the sparsity structure of a csr_matrix is expensive. lil and dok are more efficient.\n",
            "  self._set_arrayXarray(i, j, x)\n"
          ]
        },
        {
          "output_type": "stream",
          "name": "stdout",
          "text": [
            "Iteración 286: Convergió correctamente.\n",
            "Tiempo de ejecución: 0.6018 segundos\n"
          ]
        },
        {
          "output_type": "stream",
          "name": "stderr",
          "text": [
            "/usr/local/lib/python3.11/dist-packages/scipy/sparse/_index.py:151: SparseEfficiencyWarning: Changing the sparsity structure of a csr_matrix is expensive. lil and dok are more efficient.\n",
            "  self._set_arrayXarray(i, j, x)\n"
          ]
        },
        {
          "output_type": "stream",
          "name": "stdout",
          "text": [
            "Iteración 287: Convergió correctamente.\n",
            "Tiempo de ejecución: 0.5107 segundos\n"
          ]
        },
        {
          "output_type": "stream",
          "name": "stderr",
          "text": [
            "/usr/local/lib/python3.11/dist-packages/scipy/sparse/_index.py:151: SparseEfficiencyWarning: Changing the sparsity structure of a csr_matrix is expensive. lil and dok are more efficient.\n",
            "  self._set_arrayXarray(i, j, x)\n"
          ]
        },
        {
          "output_type": "stream",
          "name": "stdout",
          "text": [
            "Iteración 288: Convergió correctamente.\n",
            "Tiempo de ejecución: 0.5208 segundos\n"
          ]
        },
        {
          "output_type": "stream",
          "name": "stderr",
          "text": [
            "/usr/local/lib/python3.11/dist-packages/scipy/sparse/_index.py:151: SparseEfficiencyWarning: Changing the sparsity structure of a csr_matrix is expensive. lil and dok are more efficient.\n",
            "  self._set_arrayXarray(i, j, x)\n"
          ]
        },
        {
          "output_type": "stream",
          "name": "stdout",
          "text": [
            "Iteración 289: Convergió correctamente.\n",
            "Tiempo de ejecución: 0.5698 segundos\n"
          ]
        },
        {
          "output_type": "stream",
          "name": "stderr",
          "text": [
            "/usr/local/lib/python3.11/dist-packages/scipy/sparse/_index.py:151: SparseEfficiencyWarning: Changing the sparsity structure of a csr_matrix is expensive. lil and dok are more efficient.\n",
            "  self._set_arrayXarray(i, j, x)\n"
          ]
        },
        {
          "output_type": "stream",
          "name": "stdout",
          "text": [
            "Iteración 290: Convergió correctamente.\n",
            "Tiempo de ejecución: 0.5281 segundos\n"
          ]
        },
        {
          "output_type": "stream",
          "name": "stderr",
          "text": [
            "/usr/local/lib/python3.11/dist-packages/scipy/sparse/_index.py:151: SparseEfficiencyWarning: Changing the sparsity structure of a csr_matrix is expensive. lil and dok are more efficient.\n",
            "  self._set_arrayXarray(i, j, x)\n"
          ]
        },
        {
          "output_type": "stream",
          "name": "stdout",
          "text": [
            "Iteración 291: Convergió correctamente.\n",
            "Tiempo de ejecución: 0.4901 segundos\n"
          ]
        },
        {
          "output_type": "stream",
          "name": "stderr",
          "text": [
            "/usr/local/lib/python3.11/dist-packages/scipy/sparse/_index.py:151: SparseEfficiencyWarning: Changing the sparsity structure of a csr_matrix is expensive. lil and dok are more efficient.\n",
            "  self._set_arrayXarray(i, j, x)\n"
          ]
        },
        {
          "output_type": "stream",
          "name": "stdout",
          "text": [
            "Iteración 292: Convergió correctamente.\n",
            "Tiempo de ejecución: 0.4961 segundos\n"
          ]
        },
        {
          "output_type": "stream",
          "name": "stderr",
          "text": [
            "/usr/local/lib/python3.11/dist-packages/scipy/sparse/_index.py:151: SparseEfficiencyWarning: Changing the sparsity structure of a csr_matrix is expensive. lil and dok are more efficient.\n",
            "  self._set_arrayXarray(i, j, x)\n"
          ]
        },
        {
          "output_type": "stream",
          "name": "stdout",
          "text": [
            "Iteración 293: Convergió correctamente.\n",
            "Tiempo de ejecución: 0.5509 segundos\n"
          ]
        },
        {
          "output_type": "stream",
          "name": "stderr",
          "text": [
            "/usr/local/lib/python3.11/dist-packages/scipy/sparse/_index.py:151: SparseEfficiencyWarning: Changing the sparsity structure of a csr_matrix is expensive. lil and dok are more efficient.\n",
            "  self._set_arrayXarray(i, j, x)\n"
          ]
        },
        {
          "output_type": "stream",
          "name": "stdout",
          "text": [
            "Iteración 294: Convergió correctamente.\n",
            "Tiempo de ejecución: 0.5287 segundos\n"
          ]
        },
        {
          "output_type": "stream",
          "name": "stderr",
          "text": [
            "/usr/local/lib/python3.11/dist-packages/scipy/sparse/_index.py:151: SparseEfficiencyWarning: Changing the sparsity structure of a csr_matrix is expensive. lil and dok are more efficient.\n",
            "  self._set_arrayXarray(i, j, x)\n"
          ]
        },
        {
          "output_type": "stream",
          "name": "stdout",
          "text": [
            "Iteración 295: Convergió correctamente.\n",
            "Tiempo de ejecución: 0.4889 segundos\n"
          ]
        },
        {
          "output_type": "stream",
          "name": "stderr",
          "text": [
            "/usr/local/lib/python3.11/dist-packages/scipy/sparse/_index.py:151: SparseEfficiencyWarning: Changing the sparsity structure of a csr_matrix is expensive. lil and dok are more efficient.\n",
            "  self._set_arrayXarray(i, j, x)\n"
          ]
        },
        {
          "output_type": "stream",
          "name": "stdout",
          "text": [
            "Iteración 296: Convergió correctamente.\n",
            "Tiempo de ejecución: 0.4950 segundos\n"
          ]
        },
        {
          "output_type": "stream",
          "name": "stderr",
          "text": [
            "/usr/local/lib/python3.11/dist-packages/scipy/sparse/_index.py:151: SparseEfficiencyWarning: Changing the sparsity structure of a csr_matrix is expensive. lil and dok are more efficient.\n",
            "  self._set_arrayXarray(i, j, x)\n"
          ]
        },
        {
          "output_type": "stream",
          "name": "stdout",
          "text": [
            "Iteración 297: Convergió correctamente.\n",
            "Tiempo de ejecución: 0.5844 segundos\n"
          ]
        },
        {
          "output_type": "stream",
          "name": "stderr",
          "text": [
            "/usr/local/lib/python3.11/dist-packages/scipy/sparse/_index.py:151: SparseEfficiencyWarning: Changing the sparsity structure of a csr_matrix is expensive. lil and dok are more efficient.\n",
            "  self._set_arrayXarray(i, j, x)\n"
          ]
        },
        {
          "output_type": "stream",
          "name": "stdout",
          "text": [
            "Iteración 298: Convergió correctamente.\n",
            "Tiempo de ejecución: 0.5852 segundos\n"
          ]
        },
        {
          "output_type": "stream",
          "name": "stderr",
          "text": [
            "/usr/local/lib/python3.11/dist-packages/scipy/sparse/_index.py:151: SparseEfficiencyWarning: Changing the sparsity structure of a csr_matrix is expensive. lil and dok are more efficient.\n",
            "  self._set_arrayXarray(i, j, x)\n"
          ]
        },
        {
          "output_type": "stream",
          "name": "stdout",
          "text": [
            "Iteración 299: Convergió correctamente.\n",
            "Tiempo de ejecución: 0.5772 segundos\n"
          ]
        },
        {
          "output_type": "stream",
          "name": "stderr",
          "text": [
            "/usr/local/lib/python3.11/dist-packages/scipy/sparse/_index.py:151: SparseEfficiencyWarning: Changing the sparsity structure of a csr_matrix is expensive. lil and dok are more efficient.\n",
            "  self._set_arrayXarray(i, j, x)\n",
            "<ipython-input-5-e9ab6229a877>:57: SparseEfficiencyWarning: spilu converted its input to CSC format\n",
            "  ilu = spilu(sistema_sparse)\n"
          ]
        },
        {
          "output_type": "stream",
          "name": "stdout",
          "text": [
            "Iteración 300: Convergió correctamente.\n",
            "Tiempo de ejecución: 3.5369 segundos\n"
          ]
        },
        {
          "output_type": "stream",
          "name": "stderr",
          "text": [
            "/usr/local/lib/python3.11/dist-packages/scipy/sparse/_index.py:151: SparseEfficiencyWarning: Changing the sparsity structure of a csr_matrix is expensive. lil and dok are more efficient.\n",
            "  self._set_arrayXarray(i, j, x)\n"
          ]
        },
        {
          "output_type": "stream",
          "name": "stdout",
          "text": [
            "Iteración 301: Convergió correctamente.\n",
            "Tiempo de ejecución: 0.6304 segundos\n"
          ]
        },
        {
          "output_type": "stream",
          "name": "stderr",
          "text": [
            "/usr/local/lib/python3.11/dist-packages/scipy/sparse/_index.py:151: SparseEfficiencyWarning: Changing the sparsity structure of a csr_matrix is expensive. lil and dok are more efficient.\n",
            "  self._set_arrayXarray(i, j, x)\n"
          ]
        },
        {
          "output_type": "stream",
          "name": "stdout",
          "text": [
            "Iteración 302: Convergió correctamente.\n",
            "Tiempo de ejecución: 0.5340 segundos\n"
          ]
        },
        {
          "output_type": "stream",
          "name": "stderr",
          "text": [
            "/usr/local/lib/python3.11/dist-packages/scipy/sparse/_index.py:151: SparseEfficiencyWarning: Changing the sparsity structure of a csr_matrix is expensive. lil and dok are more efficient.\n",
            "  self._set_arrayXarray(i, j, x)\n"
          ]
        },
        {
          "output_type": "stream",
          "name": "stdout",
          "text": [
            "Iteración 303: Convergió correctamente.\n",
            "Tiempo de ejecución: 0.4434 segundos\n"
          ]
        },
        {
          "output_type": "stream",
          "name": "stderr",
          "text": [
            "/usr/local/lib/python3.11/dist-packages/scipy/sparse/_index.py:151: SparseEfficiencyWarning: Changing the sparsity structure of a csr_matrix is expensive. lil and dok are more efficient.\n",
            "  self._set_arrayXarray(i, j, x)\n"
          ]
        },
        {
          "output_type": "stream",
          "name": "stdout",
          "text": [
            "Iteración 304: Convergió correctamente.\n",
            "Tiempo de ejecución: 0.5129 segundos\n"
          ]
        },
        {
          "output_type": "stream",
          "name": "stderr",
          "text": [
            "/usr/local/lib/python3.11/dist-packages/scipy/sparse/_index.py:151: SparseEfficiencyWarning: Changing the sparsity structure of a csr_matrix is expensive. lil and dok are more efficient.\n",
            "  self._set_arrayXarray(i, j, x)\n"
          ]
        },
        {
          "output_type": "stream",
          "name": "stdout",
          "text": [
            "Iteración 305: Convergió correctamente.\n",
            "Tiempo de ejecución: 0.4446 segundos\n"
          ]
        },
        {
          "output_type": "stream",
          "name": "stderr",
          "text": [
            "/usr/local/lib/python3.11/dist-packages/scipy/sparse/_index.py:151: SparseEfficiencyWarning: Changing the sparsity structure of a csr_matrix is expensive. lil and dok are more efficient.\n",
            "  self._set_arrayXarray(i, j, x)\n"
          ]
        },
        {
          "output_type": "stream",
          "name": "stdout",
          "text": [
            "Iteración 306: Convergió correctamente.\n",
            "Tiempo de ejecución: 0.4509 segundos\n"
          ]
        },
        {
          "output_type": "stream",
          "name": "stderr",
          "text": [
            "/usr/local/lib/python3.11/dist-packages/scipy/sparse/_index.py:151: SparseEfficiencyWarning: Changing the sparsity structure of a csr_matrix is expensive. lil and dok are more efficient.\n",
            "  self._set_arrayXarray(i, j, x)\n"
          ]
        },
        {
          "output_type": "stream",
          "name": "stdout",
          "text": [
            "Iteración 307: Convergió correctamente.\n",
            "Tiempo de ejecución: 0.4650 segundos\n"
          ]
        },
        {
          "output_type": "stream",
          "name": "stderr",
          "text": [
            "/usr/local/lib/python3.11/dist-packages/scipy/sparse/_index.py:151: SparseEfficiencyWarning: Changing the sparsity structure of a csr_matrix is expensive. lil and dok are more efficient.\n",
            "  self._set_arrayXarray(i, j, x)\n"
          ]
        },
        {
          "output_type": "stream",
          "name": "stdout",
          "text": [
            "Iteración 308: Convergió correctamente.\n",
            "Tiempo de ejecución: 0.5313 segundos\n"
          ]
        },
        {
          "output_type": "stream",
          "name": "stderr",
          "text": [
            "/usr/local/lib/python3.11/dist-packages/scipy/sparse/_index.py:151: SparseEfficiencyWarning: Changing the sparsity structure of a csr_matrix is expensive. lil and dok are more efficient.\n",
            "  self._set_arrayXarray(i, j, x)\n"
          ]
        },
        {
          "output_type": "stream",
          "name": "stdout",
          "text": [
            "Iteración 309: Convergió correctamente.\n",
            "Tiempo de ejecución: 0.4540 segundos\n"
          ]
        },
        {
          "output_type": "stream",
          "name": "stderr",
          "text": [
            "/usr/local/lib/python3.11/dist-packages/scipy/sparse/_index.py:151: SparseEfficiencyWarning: Changing the sparsity structure of a csr_matrix is expensive. lil and dok are more efficient.\n",
            "  self._set_arrayXarray(i, j, x)\n"
          ]
        },
        {
          "output_type": "stream",
          "name": "stdout",
          "text": [
            "Iteración 310: Convergió correctamente.\n",
            "Tiempo de ejecución: 0.5121 segundos\n"
          ]
        },
        {
          "output_type": "stream",
          "name": "stderr",
          "text": [
            "/usr/local/lib/python3.11/dist-packages/scipy/sparse/_index.py:151: SparseEfficiencyWarning: Changing the sparsity structure of a csr_matrix is expensive. lil and dok are more efficient.\n",
            "  self._set_arrayXarray(i, j, x)\n"
          ]
        },
        {
          "output_type": "stream",
          "name": "stdout",
          "text": [
            "Iteración 311: Convergió correctamente.\n",
            "Tiempo de ejecución: 0.5093 segundos\n"
          ]
        },
        {
          "output_type": "stream",
          "name": "stderr",
          "text": [
            "/usr/local/lib/python3.11/dist-packages/scipy/sparse/_index.py:151: SparseEfficiencyWarning: Changing the sparsity structure of a csr_matrix is expensive. lil and dok are more efficient.\n",
            "  self._set_arrayXarray(i, j, x)\n"
          ]
        },
        {
          "output_type": "stream",
          "name": "stdout",
          "text": [
            "Iteración 312: Convergió correctamente.\n",
            "Tiempo de ejecución: 0.3981 segundos\n"
          ]
        },
        {
          "output_type": "stream",
          "name": "stderr",
          "text": [
            "/usr/local/lib/python3.11/dist-packages/scipy/sparse/_index.py:151: SparseEfficiencyWarning: Changing the sparsity structure of a csr_matrix is expensive. lil and dok are more efficient.\n",
            "  self._set_arrayXarray(i, j, x)\n"
          ]
        },
        {
          "output_type": "stream",
          "name": "stdout",
          "text": [
            "Iteración 313: Convergió correctamente.\n",
            "Tiempo de ejecución: 0.4185 segundos\n"
          ]
        },
        {
          "output_type": "stream",
          "name": "stderr",
          "text": [
            "/usr/local/lib/python3.11/dist-packages/scipy/sparse/_index.py:151: SparseEfficiencyWarning: Changing the sparsity structure of a csr_matrix is expensive. lil and dok are more efficient.\n",
            "  self._set_arrayXarray(i, j, x)\n"
          ]
        },
        {
          "output_type": "stream",
          "name": "stdout",
          "text": [
            "Iteración 314: Convergió correctamente.\n",
            "Tiempo de ejecución: 0.4485 segundos\n"
          ]
        },
        {
          "output_type": "stream",
          "name": "stderr",
          "text": [
            "/usr/local/lib/python3.11/dist-packages/scipy/sparse/_index.py:151: SparseEfficiencyWarning: Changing the sparsity structure of a csr_matrix is expensive. lil and dok are more efficient.\n",
            "  self._set_arrayXarray(i, j, x)\n"
          ]
        },
        {
          "output_type": "stream",
          "name": "stdout",
          "text": [
            "Iteración 315: Convergió correctamente.\n",
            "Tiempo de ejecución: 0.4688 segundos\n"
          ]
        },
        {
          "output_type": "stream",
          "name": "stderr",
          "text": [
            "/usr/local/lib/python3.11/dist-packages/scipy/sparse/_index.py:151: SparseEfficiencyWarning: Changing the sparsity structure of a csr_matrix is expensive. lil and dok are more efficient.\n",
            "  self._set_arrayXarray(i, j, x)\n"
          ]
        },
        {
          "output_type": "stream",
          "name": "stdout",
          "text": [
            "Iteración 316: Convergió correctamente.\n",
            "Tiempo de ejecución: 0.4738 segundos\n"
          ]
        },
        {
          "output_type": "stream",
          "name": "stderr",
          "text": [
            "/usr/local/lib/python3.11/dist-packages/scipy/sparse/_index.py:151: SparseEfficiencyWarning: Changing the sparsity structure of a csr_matrix is expensive. lil and dok are more efficient.\n",
            "  self._set_arrayXarray(i, j, x)\n"
          ]
        },
        {
          "output_type": "stream",
          "name": "stdout",
          "text": [
            "Iteración 317: Convergió correctamente.\n",
            "Tiempo de ejecución: 0.5297 segundos\n"
          ]
        },
        {
          "output_type": "stream",
          "name": "stderr",
          "text": [
            "/usr/local/lib/python3.11/dist-packages/scipy/sparse/_index.py:151: SparseEfficiencyWarning: Changing the sparsity structure of a csr_matrix is expensive. lil and dok are more efficient.\n",
            "  self._set_arrayXarray(i, j, x)\n"
          ]
        },
        {
          "output_type": "stream",
          "name": "stdout",
          "text": [
            "Iteración 318: Convergió correctamente.\n",
            "Tiempo de ejecución: 0.5573 segundos\n"
          ]
        },
        {
          "output_type": "stream",
          "name": "stderr",
          "text": [
            "/usr/local/lib/python3.11/dist-packages/scipy/sparse/_index.py:151: SparseEfficiencyWarning: Changing the sparsity structure of a csr_matrix is expensive. lil and dok are more efficient.\n",
            "  self._set_arrayXarray(i, j, x)\n"
          ]
        },
        {
          "output_type": "stream",
          "name": "stdout",
          "text": [
            "Iteración 319: Convergió correctamente.\n",
            "Tiempo de ejecución: 0.5709 segundos\n"
          ]
        },
        {
          "output_type": "stream",
          "name": "stderr",
          "text": [
            "/usr/local/lib/python3.11/dist-packages/scipy/sparse/_index.py:151: SparseEfficiencyWarning: Changing the sparsity structure of a csr_matrix is expensive. lil and dok are more efficient.\n",
            "  self._set_arrayXarray(i, j, x)\n"
          ]
        },
        {
          "output_type": "stream",
          "name": "stdout",
          "text": [
            "Iteración 320: Convergió correctamente.\n",
            "Tiempo de ejecución: 0.5262 segundos\n"
          ]
        },
        {
          "output_type": "stream",
          "name": "stderr",
          "text": [
            "/usr/local/lib/python3.11/dist-packages/scipy/sparse/_index.py:151: SparseEfficiencyWarning: Changing the sparsity structure of a csr_matrix is expensive. lil and dok are more efficient.\n",
            "  self._set_arrayXarray(i, j, x)\n"
          ]
        },
        {
          "output_type": "stream",
          "name": "stdout",
          "text": [
            "Iteración 321: Convergió correctamente.\n",
            "Tiempo de ejecución: 0.5378 segundos\n"
          ]
        },
        {
          "output_type": "stream",
          "name": "stderr",
          "text": [
            "/usr/local/lib/python3.11/dist-packages/scipy/sparse/_index.py:151: SparseEfficiencyWarning: Changing the sparsity structure of a csr_matrix is expensive. lil and dok are more efficient.\n",
            "  self._set_arrayXarray(i, j, x)\n"
          ]
        },
        {
          "output_type": "stream",
          "name": "stdout",
          "text": [
            "Iteración 322: Convergió correctamente.\n",
            "Tiempo de ejecución: 0.4452 segundos\n"
          ]
        },
        {
          "output_type": "stream",
          "name": "stderr",
          "text": [
            "/usr/local/lib/python3.11/dist-packages/scipy/sparse/_index.py:151: SparseEfficiencyWarning: Changing the sparsity structure of a csr_matrix is expensive. lil and dok are more efficient.\n",
            "  self._set_arrayXarray(i, j, x)\n"
          ]
        },
        {
          "output_type": "stream",
          "name": "stdout",
          "text": [
            "Iteración 323: Convergió correctamente.\n",
            "Tiempo de ejecución: 0.7287 segundos\n"
          ]
        },
        {
          "output_type": "stream",
          "name": "stderr",
          "text": [
            "/usr/local/lib/python3.11/dist-packages/scipy/sparse/_index.py:151: SparseEfficiencyWarning: Changing the sparsity structure of a csr_matrix is expensive. lil and dok are more efficient.\n",
            "  self._set_arrayXarray(i, j, x)\n"
          ]
        },
        {
          "output_type": "stream",
          "name": "stdout",
          "text": [
            "Iteración 324: Convergió correctamente.\n",
            "Tiempo de ejecución: 0.8133 segundos\n"
          ]
        },
        {
          "output_type": "stream",
          "name": "stderr",
          "text": [
            "/usr/local/lib/python3.11/dist-packages/scipy/sparse/_index.py:151: SparseEfficiencyWarning: Changing the sparsity structure of a csr_matrix is expensive. lil and dok are more efficient.\n",
            "  self._set_arrayXarray(i, j, x)\n"
          ]
        },
        {
          "output_type": "stream",
          "name": "stdout",
          "text": [
            "Iteración 325: Convergió correctamente.\n",
            "Tiempo de ejecución: 0.5593 segundos\n"
          ]
        },
        {
          "output_type": "stream",
          "name": "stderr",
          "text": [
            "/usr/local/lib/python3.11/dist-packages/scipy/sparse/_index.py:151: SparseEfficiencyWarning: Changing the sparsity structure of a csr_matrix is expensive. lil and dok are more efficient.\n",
            "  self._set_arrayXarray(i, j, x)\n"
          ]
        },
        {
          "output_type": "stream",
          "name": "stdout",
          "text": [
            "Iteración 326: Convergió correctamente.\n",
            "Tiempo de ejecución: 0.5598 segundos\n"
          ]
        },
        {
          "output_type": "stream",
          "name": "stderr",
          "text": [
            "/usr/local/lib/python3.11/dist-packages/scipy/sparse/_index.py:151: SparseEfficiencyWarning: Changing the sparsity structure of a csr_matrix is expensive. lil and dok are more efficient.\n",
            "  self._set_arrayXarray(i, j, x)\n"
          ]
        },
        {
          "output_type": "stream",
          "name": "stdout",
          "text": [
            "Iteración 327: Convergió correctamente.\n",
            "Tiempo de ejecución: 0.5216 segundos\n"
          ]
        },
        {
          "output_type": "stream",
          "name": "stderr",
          "text": [
            "/usr/local/lib/python3.11/dist-packages/scipy/sparse/_index.py:151: SparseEfficiencyWarning: Changing the sparsity structure of a csr_matrix is expensive. lil and dok are more efficient.\n",
            "  self._set_arrayXarray(i, j, x)\n"
          ]
        },
        {
          "output_type": "stream",
          "name": "stdout",
          "text": [
            "Iteración 328: Convergió correctamente.\n",
            "Tiempo de ejecución: 0.5153 segundos\n"
          ]
        },
        {
          "output_type": "stream",
          "name": "stderr",
          "text": [
            "/usr/local/lib/python3.11/dist-packages/scipy/sparse/_index.py:151: SparseEfficiencyWarning: Changing the sparsity structure of a csr_matrix is expensive. lil and dok are more efficient.\n",
            "  self._set_arrayXarray(i, j, x)\n"
          ]
        },
        {
          "output_type": "stream",
          "name": "stdout",
          "text": [
            "Iteración 329: Convergió correctamente.\n",
            "Tiempo de ejecución: 0.4635 segundos\n"
          ]
        },
        {
          "output_type": "stream",
          "name": "stderr",
          "text": [
            "/usr/local/lib/python3.11/dist-packages/scipy/sparse/_index.py:151: SparseEfficiencyWarning: Changing the sparsity structure of a csr_matrix is expensive. lil and dok are more efficient.\n",
            "  self._set_arrayXarray(i, j, x)\n"
          ]
        },
        {
          "output_type": "stream",
          "name": "stdout",
          "text": [
            "Iteración 330: Convergió correctamente.\n",
            "Tiempo de ejecución: 0.5918 segundos\n"
          ]
        },
        {
          "output_type": "stream",
          "name": "stderr",
          "text": [
            "/usr/local/lib/python3.11/dist-packages/scipy/sparse/_index.py:151: SparseEfficiencyWarning: Changing the sparsity structure of a csr_matrix is expensive. lil and dok are more efficient.\n",
            "  self._set_arrayXarray(i, j, x)\n"
          ]
        },
        {
          "output_type": "stream",
          "name": "stdout",
          "text": [
            "Iteración 331: Convergió correctamente.\n",
            "Tiempo de ejecución: 0.5794 segundos\n"
          ]
        },
        {
          "output_type": "stream",
          "name": "stderr",
          "text": [
            "/usr/local/lib/python3.11/dist-packages/scipy/sparse/_index.py:151: SparseEfficiencyWarning: Changing the sparsity structure of a csr_matrix is expensive. lil and dok are more efficient.\n",
            "  self._set_arrayXarray(i, j, x)\n"
          ]
        },
        {
          "output_type": "stream",
          "name": "stdout",
          "text": [
            "Iteración 332: Convergió correctamente.\n",
            "Tiempo de ejecución: 0.5962 segundos\n"
          ]
        },
        {
          "output_type": "stream",
          "name": "stderr",
          "text": [
            "/usr/local/lib/python3.11/dist-packages/scipy/sparse/_index.py:151: SparseEfficiencyWarning: Changing the sparsity structure of a csr_matrix is expensive. lil and dok are more efficient.\n",
            "  self._set_arrayXarray(i, j, x)\n"
          ]
        },
        {
          "output_type": "stream",
          "name": "stdout",
          "text": [
            "Iteración 333: Convergió correctamente.\n",
            "Tiempo de ejecución: 0.6085 segundos\n"
          ]
        },
        {
          "output_type": "stream",
          "name": "stderr",
          "text": [
            "/usr/local/lib/python3.11/dist-packages/scipy/sparse/_index.py:151: SparseEfficiencyWarning: Changing the sparsity structure of a csr_matrix is expensive. lil and dok are more efficient.\n",
            "  self._set_arrayXarray(i, j, x)\n"
          ]
        },
        {
          "output_type": "stream",
          "name": "stdout",
          "text": [
            "Iteración 334: Convergió correctamente.\n",
            "Tiempo de ejecución: 0.6190 segundos\n"
          ]
        },
        {
          "output_type": "stream",
          "name": "stderr",
          "text": [
            "/usr/local/lib/python3.11/dist-packages/scipy/sparse/_index.py:151: SparseEfficiencyWarning: Changing the sparsity structure of a csr_matrix is expensive. lil and dok are more efficient.\n",
            "  self._set_arrayXarray(i, j, x)\n"
          ]
        },
        {
          "output_type": "stream",
          "name": "stdout",
          "text": [
            "Iteración 335: Convergió correctamente.\n",
            "Tiempo de ejecución: 0.6504 segundos\n"
          ]
        },
        {
          "output_type": "stream",
          "name": "stderr",
          "text": [
            "/usr/local/lib/python3.11/dist-packages/scipy/sparse/_index.py:151: SparseEfficiencyWarning: Changing the sparsity structure of a csr_matrix is expensive. lil and dok are more efficient.\n",
            "  self._set_arrayXarray(i, j, x)\n"
          ]
        },
        {
          "output_type": "stream",
          "name": "stdout",
          "text": [
            "Iteración 336: Convergió correctamente.\n",
            "Tiempo de ejecución: 0.5189 segundos\n"
          ]
        },
        {
          "output_type": "stream",
          "name": "stderr",
          "text": [
            "/usr/local/lib/python3.11/dist-packages/scipy/sparse/_index.py:151: SparseEfficiencyWarning: Changing the sparsity structure of a csr_matrix is expensive. lil and dok are more efficient.\n",
            "  self._set_arrayXarray(i, j, x)\n"
          ]
        },
        {
          "output_type": "stream",
          "name": "stdout",
          "text": [
            "Iteración 337: Convergió correctamente.\n",
            "Tiempo de ejecución: 0.5790 segundos\n"
          ]
        },
        {
          "output_type": "stream",
          "name": "stderr",
          "text": [
            "/usr/local/lib/python3.11/dist-packages/scipy/sparse/_index.py:151: SparseEfficiencyWarning: Changing the sparsity structure of a csr_matrix is expensive. lil and dok are more efficient.\n",
            "  self._set_arrayXarray(i, j, x)\n"
          ]
        },
        {
          "output_type": "stream",
          "name": "stdout",
          "text": [
            "Iteración 338: Convergió correctamente.\n",
            "Tiempo de ejecución: 0.5167 segundos\n"
          ]
        },
        {
          "output_type": "stream",
          "name": "stderr",
          "text": [
            "/usr/local/lib/python3.11/dist-packages/scipy/sparse/_index.py:151: SparseEfficiencyWarning: Changing the sparsity structure of a csr_matrix is expensive. lil and dok are more efficient.\n",
            "  self._set_arrayXarray(i, j, x)\n"
          ]
        },
        {
          "output_type": "stream",
          "name": "stdout",
          "text": [
            "Iteración 339: Convergió correctamente.\n",
            "Tiempo de ejecución: 0.5955 segundos\n"
          ]
        },
        {
          "output_type": "stream",
          "name": "stderr",
          "text": [
            "/usr/local/lib/python3.11/dist-packages/scipy/sparse/_index.py:151: SparseEfficiencyWarning: Changing the sparsity structure of a csr_matrix is expensive. lil and dok are more efficient.\n",
            "  self._set_arrayXarray(i, j, x)\n"
          ]
        },
        {
          "output_type": "stream",
          "name": "stdout",
          "text": [
            "Iteración 340: Convergió correctamente.\n",
            "Tiempo de ejecución: 0.5119 segundos\n"
          ]
        },
        {
          "output_type": "stream",
          "name": "stderr",
          "text": [
            "/usr/local/lib/python3.11/dist-packages/scipy/sparse/_index.py:151: SparseEfficiencyWarning: Changing the sparsity structure of a csr_matrix is expensive. lil and dok are more efficient.\n",
            "  self._set_arrayXarray(i, j, x)\n"
          ]
        },
        {
          "output_type": "stream",
          "name": "stdout",
          "text": [
            "Iteración 341: Convergió correctamente.\n",
            "Tiempo de ejecución: 0.6210 segundos\n"
          ]
        },
        {
          "output_type": "stream",
          "name": "stderr",
          "text": [
            "/usr/local/lib/python3.11/dist-packages/scipy/sparse/_index.py:151: SparseEfficiencyWarning: Changing the sparsity structure of a csr_matrix is expensive. lil and dok are more efficient.\n",
            "  self._set_arrayXarray(i, j, x)\n"
          ]
        },
        {
          "output_type": "stream",
          "name": "stdout",
          "text": [
            "Iteración 342: Convergió correctamente.\n",
            "Tiempo de ejecución: 0.5455 segundos\n"
          ]
        },
        {
          "output_type": "stream",
          "name": "stderr",
          "text": [
            "/usr/local/lib/python3.11/dist-packages/scipy/sparse/_index.py:151: SparseEfficiencyWarning: Changing the sparsity structure of a csr_matrix is expensive. lil and dok are more efficient.\n",
            "  self._set_arrayXarray(i, j, x)\n"
          ]
        },
        {
          "output_type": "stream",
          "name": "stdout",
          "text": [
            "Iteración 343: Convergió correctamente.\n",
            "Tiempo de ejecución: 0.8038 segundos\n"
          ]
        },
        {
          "output_type": "stream",
          "name": "stderr",
          "text": [
            "/usr/local/lib/python3.11/dist-packages/scipy/sparse/_index.py:151: SparseEfficiencyWarning: Changing the sparsity structure of a csr_matrix is expensive. lil and dok are more efficient.\n",
            "  self._set_arrayXarray(i, j, x)\n"
          ]
        },
        {
          "output_type": "stream",
          "name": "stdout",
          "text": [
            "Iteración 344: Convergió correctamente.\n",
            "Tiempo de ejecución: 0.9351 segundos\n"
          ]
        },
        {
          "output_type": "stream",
          "name": "stderr",
          "text": [
            "/usr/local/lib/python3.11/dist-packages/scipy/sparse/_index.py:151: SparseEfficiencyWarning: Changing the sparsity structure of a csr_matrix is expensive. lil and dok are more efficient.\n",
            "  self._set_arrayXarray(i, j, x)\n"
          ]
        },
        {
          "output_type": "stream",
          "name": "stdout",
          "text": [
            "Iteración 345: Convergió correctamente.\n",
            "Tiempo de ejecución: 0.5683 segundos\n"
          ]
        },
        {
          "output_type": "stream",
          "name": "stderr",
          "text": [
            "/usr/local/lib/python3.11/dist-packages/scipy/sparse/_index.py:151: SparseEfficiencyWarning: Changing the sparsity structure of a csr_matrix is expensive. lil and dok are more efficient.\n",
            "  self._set_arrayXarray(i, j, x)\n"
          ]
        },
        {
          "output_type": "stream",
          "name": "stdout",
          "text": [
            "Iteración 346: Convergió correctamente.\n",
            "Tiempo de ejecución: 0.6121 segundos\n"
          ]
        },
        {
          "output_type": "stream",
          "name": "stderr",
          "text": [
            "/usr/local/lib/python3.11/dist-packages/scipy/sparse/_index.py:151: SparseEfficiencyWarning: Changing the sparsity structure of a csr_matrix is expensive. lil and dok are more efficient.\n",
            "  self._set_arrayXarray(i, j, x)\n"
          ]
        },
        {
          "output_type": "stream",
          "name": "stdout",
          "text": [
            "Iteración 347: Convergió correctamente.\n",
            "Tiempo de ejecución: 0.6059 segundos\n"
          ]
        },
        {
          "output_type": "stream",
          "name": "stderr",
          "text": [
            "/usr/local/lib/python3.11/dist-packages/scipy/sparse/_index.py:151: SparseEfficiencyWarning: Changing the sparsity structure of a csr_matrix is expensive. lil and dok are more efficient.\n",
            "  self._set_arrayXarray(i, j, x)\n"
          ]
        },
        {
          "output_type": "stream",
          "name": "stdout",
          "text": [
            "Iteración 348: Convergió correctamente.\n",
            "Tiempo de ejecución: 0.6040 segundos\n"
          ]
        },
        {
          "output_type": "stream",
          "name": "stderr",
          "text": [
            "/usr/local/lib/python3.11/dist-packages/scipy/sparse/_index.py:151: SparseEfficiencyWarning: Changing the sparsity structure of a csr_matrix is expensive. lil and dok are more efficient.\n",
            "  self._set_arrayXarray(i, j, x)\n"
          ]
        },
        {
          "output_type": "stream",
          "name": "stdout",
          "text": [
            "Iteración 349: Convergió correctamente.\n",
            "Tiempo de ejecución: 0.5971 segundos\n"
          ]
        },
        {
          "output_type": "stream",
          "name": "stderr",
          "text": [
            "/usr/local/lib/python3.11/dist-packages/scipy/sparse/_index.py:151: SparseEfficiencyWarning: Changing the sparsity structure of a csr_matrix is expensive. lil and dok are more efficient.\n",
            "  self._set_arrayXarray(i, j, x)\n",
            "<ipython-input-5-e9ab6229a877>:57: SparseEfficiencyWarning: spilu converted its input to CSC format\n",
            "  ilu = spilu(sistema_sparse)\n"
          ]
        },
        {
          "output_type": "stream",
          "name": "stdout",
          "text": [
            "Iteración 350: Convergió correctamente.\n",
            "Tiempo de ejecución: 3.5105 segundos\n"
          ]
        },
        {
          "output_type": "stream",
          "name": "stderr",
          "text": [
            "/usr/local/lib/python3.11/dist-packages/scipy/sparse/_index.py:151: SparseEfficiencyWarning: Changing the sparsity structure of a csr_matrix is expensive. lil and dok are more efficient.\n",
            "  self._set_arrayXarray(i, j, x)\n"
          ]
        },
        {
          "output_type": "stream",
          "name": "stdout",
          "text": [
            "Iteración 351: Convergió correctamente.\n",
            "Tiempo de ejecución: 0.4418 segundos\n"
          ]
        },
        {
          "output_type": "stream",
          "name": "stderr",
          "text": [
            "/usr/local/lib/python3.11/dist-packages/scipy/sparse/_index.py:151: SparseEfficiencyWarning: Changing the sparsity structure of a csr_matrix is expensive. lil and dok are more efficient.\n",
            "  self._set_arrayXarray(i, j, x)\n"
          ]
        },
        {
          "output_type": "stream",
          "name": "stdout",
          "text": [
            "Iteración 352: Convergió correctamente.\n",
            "Tiempo de ejecución: 0.4276 segundos\n"
          ]
        },
        {
          "output_type": "stream",
          "name": "stderr",
          "text": [
            "/usr/local/lib/python3.11/dist-packages/scipy/sparse/_index.py:151: SparseEfficiencyWarning: Changing the sparsity structure of a csr_matrix is expensive. lil and dok are more efficient.\n",
            "  self._set_arrayXarray(i, j, x)\n"
          ]
        },
        {
          "output_type": "stream",
          "name": "stdout",
          "text": [
            "Iteración 353: Convergió correctamente.\n",
            "Tiempo de ejecución: 0.4801 segundos\n"
          ]
        },
        {
          "output_type": "stream",
          "name": "stderr",
          "text": [
            "/usr/local/lib/python3.11/dist-packages/scipy/sparse/_index.py:151: SparseEfficiencyWarning: Changing the sparsity structure of a csr_matrix is expensive. lil and dok are more efficient.\n",
            "  self._set_arrayXarray(i, j, x)\n"
          ]
        },
        {
          "output_type": "stream",
          "name": "stdout",
          "text": [
            "Iteración 354: Convergió correctamente.\n",
            "Tiempo de ejecución: 0.4993 segundos\n"
          ]
        },
        {
          "output_type": "stream",
          "name": "stderr",
          "text": [
            "/usr/local/lib/python3.11/dist-packages/scipy/sparse/_index.py:151: SparseEfficiencyWarning: Changing the sparsity structure of a csr_matrix is expensive. lil and dok are more efficient.\n",
            "  self._set_arrayXarray(i, j, x)\n"
          ]
        },
        {
          "output_type": "stream",
          "name": "stdout",
          "text": [
            "Iteración 355: Convergió correctamente.\n",
            "Tiempo de ejecución: 0.4736 segundos\n"
          ]
        },
        {
          "output_type": "stream",
          "name": "stderr",
          "text": [
            "/usr/local/lib/python3.11/dist-packages/scipy/sparse/_index.py:151: SparseEfficiencyWarning: Changing the sparsity structure of a csr_matrix is expensive. lil and dok are more efficient.\n",
            "  self._set_arrayXarray(i, j, x)\n"
          ]
        },
        {
          "output_type": "stream",
          "name": "stdout",
          "text": [
            "Iteración 356: Convergió correctamente.\n",
            "Tiempo de ejecución: 0.4824 segundos\n"
          ]
        },
        {
          "output_type": "stream",
          "name": "stderr",
          "text": [
            "/usr/local/lib/python3.11/dist-packages/scipy/sparse/_index.py:151: SparseEfficiencyWarning: Changing the sparsity structure of a csr_matrix is expensive. lil and dok are more efficient.\n",
            "  self._set_arrayXarray(i, j, x)\n"
          ]
        },
        {
          "output_type": "stream",
          "name": "stdout",
          "text": [
            "Iteración 357: Convergió correctamente.\n",
            "Tiempo de ejecución: 0.4929 segundos\n"
          ]
        },
        {
          "output_type": "stream",
          "name": "stderr",
          "text": [
            "/usr/local/lib/python3.11/dist-packages/scipy/sparse/_index.py:151: SparseEfficiencyWarning: Changing the sparsity structure of a csr_matrix is expensive. lil and dok are more efficient.\n",
            "  self._set_arrayXarray(i, j, x)\n"
          ]
        },
        {
          "output_type": "stream",
          "name": "stdout",
          "text": [
            "Iteración 358: Convergió correctamente.\n",
            "Tiempo de ejecución: 0.5631 segundos\n"
          ]
        },
        {
          "output_type": "stream",
          "name": "stderr",
          "text": [
            "/usr/local/lib/python3.11/dist-packages/scipy/sparse/_index.py:151: SparseEfficiencyWarning: Changing the sparsity structure of a csr_matrix is expensive. lil and dok are more efficient.\n",
            "  self._set_arrayXarray(i, j, x)\n"
          ]
        },
        {
          "output_type": "stream",
          "name": "stdout",
          "text": [
            "Iteración 359: Convergió correctamente.\n",
            "Tiempo de ejecución: 0.9109 segundos\n"
          ]
        },
        {
          "output_type": "stream",
          "name": "stderr",
          "text": [
            "/usr/local/lib/python3.11/dist-packages/scipy/sparse/_index.py:151: SparseEfficiencyWarning: Changing the sparsity structure of a csr_matrix is expensive. lil and dok are more efficient.\n",
            "  self._set_arrayXarray(i, j, x)\n"
          ]
        },
        {
          "output_type": "stream",
          "name": "stdout",
          "text": [
            "Iteración 360: Convergió correctamente.\n",
            "Tiempo de ejecución: 0.6382 segundos\n"
          ]
        },
        {
          "output_type": "stream",
          "name": "stderr",
          "text": [
            "/usr/local/lib/python3.11/dist-packages/scipy/sparse/_index.py:151: SparseEfficiencyWarning: Changing the sparsity structure of a csr_matrix is expensive. lil and dok are more efficient.\n",
            "  self._set_arrayXarray(i, j, x)\n"
          ]
        },
        {
          "output_type": "stream",
          "name": "stdout",
          "text": [
            "Iteración 361: Convergió correctamente.\n",
            "Tiempo de ejecución: 0.4659 segundos\n"
          ]
        },
        {
          "output_type": "stream",
          "name": "stderr",
          "text": [
            "/usr/local/lib/python3.11/dist-packages/scipy/sparse/_index.py:151: SparseEfficiencyWarning: Changing the sparsity structure of a csr_matrix is expensive. lil and dok are more efficient.\n",
            "  self._set_arrayXarray(i, j, x)\n"
          ]
        },
        {
          "output_type": "stream",
          "name": "stdout",
          "text": [
            "Iteración 362: Convergió correctamente.\n",
            "Tiempo de ejecución: 0.4877 segundos\n"
          ]
        },
        {
          "output_type": "stream",
          "name": "stderr",
          "text": [
            "/usr/local/lib/python3.11/dist-packages/scipy/sparse/_index.py:151: SparseEfficiencyWarning: Changing the sparsity structure of a csr_matrix is expensive. lil and dok are more efficient.\n",
            "  self._set_arrayXarray(i, j, x)\n"
          ]
        },
        {
          "output_type": "stream",
          "name": "stdout",
          "text": [
            "Iteración 363: Convergió correctamente.\n",
            "Tiempo de ejecución: 0.5761 segundos\n"
          ]
        },
        {
          "output_type": "stream",
          "name": "stderr",
          "text": [
            "/usr/local/lib/python3.11/dist-packages/scipy/sparse/_index.py:151: SparseEfficiencyWarning: Changing the sparsity structure of a csr_matrix is expensive. lil and dok are more efficient.\n",
            "  self._set_arrayXarray(i, j, x)\n"
          ]
        },
        {
          "output_type": "stream",
          "name": "stdout",
          "text": [
            "Iteración 364: Convergió correctamente.\n",
            "Tiempo de ejecución: 0.5956 segundos\n"
          ]
        },
        {
          "output_type": "stream",
          "name": "stderr",
          "text": [
            "/usr/local/lib/python3.11/dist-packages/scipy/sparse/_index.py:151: SparseEfficiencyWarning: Changing the sparsity structure of a csr_matrix is expensive. lil and dok are more efficient.\n",
            "  self._set_arrayXarray(i, j, x)\n"
          ]
        },
        {
          "output_type": "stream",
          "name": "stdout",
          "text": [
            "Iteración 365: Convergió correctamente.\n",
            "Tiempo de ejecución: 0.5813 segundos\n"
          ]
        },
        {
          "output_type": "stream",
          "name": "stderr",
          "text": [
            "/usr/local/lib/python3.11/dist-packages/scipy/sparse/_index.py:151: SparseEfficiencyWarning: Changing the sparsity structure of a csr_matrix is expensive. lil and dok are more efficient.\n",
            "  self._set_arrayXarray(i, j, x)\n"
          ]
        },
        {
          "output_type": "stream",
          "name": "stdout",
          "text": [
            "Iteración 366: Convergió correctamente.\n",
            "Tiempo de ejecución: 0.6227 segundos\n"
          ]
        },
        {
          "output_type": "stream",
          "name": "stderr",
          "text": [
            "/usr/local/lib/python3.11/dist-packages/scipy/sparse/_index.py:151: SparseEfficiencyWarning: Changing the sparsity structure of a csr_matrix is expensive. lil and dok are more efficient.\n",
            "  self._set_arrayXarray(i, j, x)\n"
          ]
        },
        {
          "output_type": "stream",
          "name": "stdout",
          "text": [
            "Iteración 367: Convergió correctamente.\n",
            "Tiempo de ejecución: 0.5113 segundos\n"
          ]
        },
        {
          "output_type": "stream",
          "name": "stderr",
          "text": [
            "/usr/local/lib/python3.11/dist-packages/scipy/sparse/_index.py:151: SparseEfficiencyWarning: Changing the sparsity structure of a csr_matrix is expensive. lil and dok are more efficient.\n",
            "  self._set_arrayXarray(i, j, x)\n"
          ]
        },
        {
          "output_type": "stream",
          "name": "stdout",
          "text": [
            "Iteración 368: Convergió correctamente.\n",
            "Tiempo de ejecución: 0.6020 segundos\n"
          ]
        },
        {
          "output_type": "stream",
          "name": "stderr",
          "text": [
            "/usr/local/lib/python3.11/dist-packages/scipy/sparse/_index.py:151: SparseEfficiencyWarning: Changing the sparsity structure of a csr_matrix is expensive. lil and dok are more efficient.\n",
            "  self._set_arrayXarray(i, j, x)\n"
          ]
        },
        {
          "output_type": "stream",
          "name": "stdout",
          "text": [
            "Iteración 369: Convergió correctamente.\n",
            "Tiempo de ejecución: 0.5218 segundos\n"
          ]
        },
        {
          "output_type": "stream",
          "name": "stderr",
          "text": [
            "/usr/local/lib/python3.11/dist-packages/scipy/sparse/_index.py:151: SparseEfficiencyWarning: Changing the sparsity structure of a csr_matrix is expensive. lil and dok are more efficient.\n",
            "  self._set_arrayXarray(i, j, x)\n"
          ]
        },
        {
          "output_type": "stream",
          "name": "stdout",
          "text": [
            "Iteración 370: Convergió correctamente.\n",
            "Tiempo de ejecución: 0.6060 segundos\n"
          ]
        },
        {
          "output_type": "stream",
          "name": "stderr",
          "text": [
            "/usr/local/lib/python3.11/dist-packages/scipy/sparse/_index.py:151: SparseEfficiencyWarning: Changing the sparsity structure of a csr_matrix is expensive. lil and dok are more efficient.\n",
            "  self._set_arrayXarray(i, j, x)\n"
          ]
        },
        {
          "output_type": "stream",
          "name": "stdout",
          "text": [
            "Iteración 371: Convergió correctamente.\n",
            "Tiempo de ejecución: 0.5996 segundos\n"
          ]
        },
        {
          "output_type": "stream",
          "name": "stderr",
          "text": [
            "/usr/local/lib/python3.11/dist-packages/scipy/sparse/_index.py:151: SparseEfficiencyWarning: Changing the sparsity structure of a csr_matrix is expensive. lil and dok are more efficient.\n",
            "  self._set_arrayXarray(i, j, x)\n"
          ]
        },
        {
          "output_type": "stream",
          "name": "stdout",
          "text": [
            "Iteración 372: Convergió correctamente.\n",
            "Tiempo de ejecución: 0.6191 segundos\n"
          ]
        },
        {
          "output_type": "stream",
          "name": "stderr",
          "text": [
            "/usr/local/lib/python3.11/dist-packages/scipy/sparse/_index.py:151: SparseEfficiencyWarning: Changing the sparsity structure of a csr_matrix is expensive. lil and dok are more efficient.\n",
            "  self._set_arrayXarray(i, j, x)\n"
          ]
        },
        {
          "output_type": "stream",
          "name": "stdout",
          "text": [
            "Iteración 373: Convergió correctamente.\n",
            "Tiempo de ejecución: 0.6076 segundos\n"
          ]
        },
        {
          "output_type": "stream",
          "name": "stderr",
          "text": [
            "/usr/local/lib/python3.11/dist-packages/scipy/sparse/_index.py:151: SparseEfficiencyWarning: Changing the sparsity structure of a csr_matrix is expensive. lil and dok are more efficient.\n",
            "  self._set_arrayXarray(i, j, x)\n"
          ]
        },
        {
          "output_type": "stream",
          "name": "stdout",
          "text": [
            "Iteración 374: Convergió correctamente.\n",
            "Tiempo de ejecución: 0.5862 segundos\n"
          ]
        },
        {
          "output_type": "stream",
          "name": "stderr",
          "text": [
            "/usr/local/lib/python3.11/dist-packages/scipy/sparse/_index.py:151: SparseEfficiencyWarning: Changing the sparsity structure of a csr_matrix is expensive. lil and dok are more efficient.\n",
            "  self._set_arrayXarray(i, j, x)\n"
          ]
        },
        {
          "output_type": "stream",
          "name": "stdout",
          "text": [
            "Iteración 375: Convergió correctamente.\n",
            "Tiempo de ejecución: 0.6238 segundos\n"
          ]
        },
        {
          "output_type": "stream",
          "name": "stderr",
          "text": [
            "/usr/local/lib/python3.11/dist-packages/scipy/sparse/_index.py:151: SparseEfficiencyWarning: Changing the sparsity structure of a csr_matrix is expensive. lil and dok are more efficient.\n",
            "  self._set_arrayXarray(i, j, x)\n"
          ]
        },
        {
          "output_type": "stream",
          "name": "stdout",
          "text": [
            "Iteración 376: Convergió correctamente.\n",
            "Tiempo de ejecución: 0.5000 segundos\n"
          ]
        },
        {
          "output_type": "stream",
          "name": "stderr",
          "text": [
            "/usr/local/lib/python3.11/dist-packages/scipy/sparse/_index.py:151: SparseEfficiencyWarning: Changing the sparsity structure of a csr_matrix is expensive. lil and dok are more efficient.\n",
            "  self._set_arrayXarray(i, j, x)\n"
          ]
        },
        {
          "output_type": "stream",
          "name": "stdout",
          "text": [
            "Iteración 377: Convergió correctamente.\n",
            "Tiempo de ejecución: 0.6041 segundos\n"
          ]
        },
        {
          "output_type": "stream",
          "name": "stderr",
          "text": [
            "/usr/local/lib/python3.11/dist-packages/scipy/sparse/_index.py:151: SparseEfficiencyWarning: Changing the sparsity structure of a csr_matrix is expensive. lil and dok are more efficient.\n",
            "  self._set_arrayXarray(i, j, x)\n"
          ]
        },
        {
          "output_type": "stream",
          "name": "stdout",
          "text": [
            "Iteración 378: Convergió correctamente.\n",
            "Tiempo de ejecución: 0.7253 segundos\n"
          ]
        },
        {
          "output_type": "stream",
          "name": "stderr",
          "text": [
            "/usr/local/lib/python3.11/dist-packages/scipy/sparse/_index.py:151: SparseEfficiencyWarning: Changing the sparsity structure of a csr_matrix is expensive. lil and dok are more efficient.\n",
            "  self._set_arrayXarray(i, j, x)\n"
          ]
        },
        {
          "output_type": "stream",
          "name": "stdout",
          "text": [
            "Iteración 379: Convergió correctamente.\n",
            "Tiempo de ejecución: 0.9134 segundos\n"
          ]
        },
        {
          "output_type": "stream",
          "name": "stderr",
          "text": [
            "/usr/local/lib/python3.11/dist-packages/scipy/sparse/_index.py:151: SparseEfficiencyWarning: Changing the sparsity structure of a csr_matrix is expensive. lil and dok are more efficient.\n",
            "  self._set_arrayXarray(i, j, x)\n"
          ]
        },
        {
          "output_type": "stream",
          "name": "stdout",
          "text": [
            "Iteración 380: Convergió correctamente.\n",
            "Tiempo de ejecución: 0.5377 segundos\n"
          ]
        },
        {
          "output_type": "stream",
          "name": "stderr",
          "text": [
            "/usr/local/lib/python3.11/dist-packages/scipy/sparse/_index.py:151: SparseEfficiencyWarning: Changing the sparsity structure of a csr_matrix is expensive. lil and dok are more efficient.\n",
            "  self._set_arrayXarray(i, j, x)\n"
          ]
        },
        {
          "output_type": "stream",
          "name": "stdout",
          "text": [
            "Iteración 381: Convergió correctamente.\n",
            "Tiempo de ejecución: 0.5609 segundos\n"
          ]
        },
        {
          "output_type": "stream",
          "name": "stderr",
          "text": [
            "/usr/local/lib/python3.11/dist-packages/scipy/sparse/_index.py:151: SparseEfficiencyWarning: Changing the sparsity structure of a csr_matrix is expensive. lil and dok are more efficient.\n",
            "  self._set_arrayXarray(i, j, x)\n"
          ]
        },
        {
          "output_type": "stream",
          "name": "stdout",
          "text": [
            "Iteración 382: Convergió correctamente.\n",
            "Tiempo de ejecución: 0.5698 segundos\n"
          ]
        },
        {
          "output_type": "stream",
          "name": "stderr",
          "text": [
            "/usr/local/lib/python3.11/dist-packages/scipy/sparse/_index.py:151: SparseEfficiencyWarning: Changing the sparsity structure of a csr_matrix is expensive. lil and dok are more efficient.\n",
            "  self._set_arrayXarray(i, j, x)\n"
          ]
        },
        {
          "output_type": "stream",
          "name": "stdout",
          "text": [
            "Iteración 383: Convergió correctamente.\n",
            "Tiempo de ejecución: 0.5488 segundos\n"
          ]
        },
        {
          "output_type": "stream",
          "name": "stderr",
          "text": [
            "/usr/local/lib/python3.11/dist-packages/scipy/sparse/_index.py:151: SparseEfficiencyWarning: Changing the sparsity structure of a csr_matrix is expensive. lil and dok are more efficient.\n",
            "  self._set_arrayXarray(i, j, x)\n"
          ]
        },
        {
          "output_type": "stream",
          "name": "stdout",
          "text": [
            "Iteración 384: Convergió correctamente.\n",
            "Tiempo de ejecución: 0.6279 segundos\n"
          ]
        },
        {
          "output_type": "stream",
          "name": "stderr",
          "text": [
            "/usr/local/lib/python3.11/dist-packages/scipy/sparse/_index.py:151: SparseEfficiencyWarning: Changing the sparsity structure of a csr_matrix is expensive. lil and dok are more efficient.\n",
            "  self._set_arrayXarray(i, j, x)\n"
          ]
        },
        {
          "output_type": "stream",
          "name": "stdout",
          "text": [
            "Iteración 385: Convergió correctamente.\n",
            "Tiempo de ejecución: 0.5748 segundos\n"
          ]
        },
        {
          "output_type": "stream",
          "name": "stderr",
          "text": [
            "/usr/local/lib/python3.11/dist-packages/scipy/sparse/_index.py:151: SparseEfficiencyWarning: Changing the sparsity structure of a csr_matrix is expensive. lil and dok are more efficient.\n",
            "  self._set_arrayXarray(i, j, x)\n"
          ]
        },
        {
          "output_type": "stream",
          "name": "stdout",
          "text": [
            "Iteración 386: Convergió correctamente.\n",
            "Tiempo de ejecución: 0.6191 segundos\n"
          ]
        },
        {
          "output_type": "stream",
          "name": "stderr",
          "text": [
            "/usr/local/lib/python3.11/dist-packages/scipy/sparse/_index.py:151: SparseEfficiencyWarning: Changing the sparsity structure of a csr_matrix is expensive. lil and dok are more efficient.\n",
            "  self._set_arrayXarray(i, j, x)\n"
          ]
        },
        {
          "output_type": "stream",
          "name": "stdout",
          "text": [
            "Iteración 387: Convergió correctamente.\n",
            "Tiempo de ejecución: 0.5988 segundos\n"
          ]
        },
        {
          "output_type": "stream",
          "name": "stderr",
          "text": [
            "/usr/local/lib/python3.11/dist-packages/scipy/sparse/_index.py:151: SparseEfficiencyWarning: Changing the sparsity structure of a csr_matrix is expensive. lil and dok are more efficient.\n",
            "  self._set_arrayXarray(i, j, x)\n"
          ]
        },
        {
          "output_type": "stream",
          "name": "stdout",
          "text": [
            "Iteración 388: Convergió correctamente.\n",
            "Tiempo de ejecución: 0.5236 segundos\n"
          ]
        },
        {
          "output_type": "stream",
          "name": "stderr",
          "text": [
            "/usr/local/lib/python3.11/dist-packages/scipy/sparse/_index.py:151: SparseEfficiencyWarning: Changing the sparsity structure of a csr_matrix is expensive. lil and dok are more efficient.\n",
            "  self._set_arrayXarray(i, j, x)\n"
          ]
        },
        {
          "output_type": "stream",
          "name": "stdout",
          "text": [
            "Iteración 389: Convergió correctamente.\n",
            "Tiempo de ejecución: 0.5341 segundos\n"
          ]
        },
        {
          "output_type": "stream",
          "name": "stderr",
          "text": [
            "/usr/local/lib/python3.11/dist-packages/scipy/sparse/_index.py:151: SparseEfficiencyWarning: Changing the sparsity structure of a csr_matrix is expensive. lil and dok are more efficient.\n",
            "  self._set_arrayXarray(i, j, x)\n"
          ]
        },
        {
          "output_type": "stream",
          "name": "stdout",
          "text": [
            "Iteración 390: Convergió correctamente.\n",
            "Tiempo de ejecución: 0.6108 segundos\n"
          ]
        },
        {
          "output_type": "stream",
          "name": "stderr",
          "text": [
            "/usr/local/lib/python3.11/dist-packages/scipy/sparse/_index.py:151: SparseEfficiencyWarning: Changing the sparsity structure of a csr_matrix is expensive. lil and dok are more efficient.\n",
            "  self._set_arrayXarray(i, j, x)\n"
          ]
        },
        {
          "output_type": "stream",
          "name": "stdout",
          "text": [
            "Iteración 391: Convergió correctamente.\n",
            "Tiempo de ejecución: 0.6570 segundos\n"
          ]
        },
        {
          "output_type": "stream",
          "name": "stderr",
          "text": [
            "/usr/local/lib/python3.11/dist-packages/scipy/sparse/_index.py:151: SparseEfficiencyWarning: Changing the sparsity structure of a csr_matrix is expensive. lil and dok are more efficient.\n",
            "  self._set_arrayXarray(i, j, x)\n"
          ]
        },
        {
          "output_type": "stream",
          "name": "stdout",
          "text": [
            "Iteración 392: Convergió correctamente.\n",
            "Tiempo de ejecución: 0.6176 segundos\n"
          ]
        },
        {
          "output_type": "stream",
          "name": "stderr",
          "text": [
            "/usr/local/lib/python3.11/dist-packages/scipy/sparse/_index.py:151: SparseEfficiencyWarning: Changing the sparsity structure of a csr_matrix is expensive. lil and dok are more efficient.\n",
            "  self._set_arrayXarray(i, j, x)\n"
          ]
        },
        {
          "output_type": "stream",
          "name": "stdout",
          "text": [
            "Iteración 393: Convergió correctamente.\n",
            "Tiempo de ejecución: 0.5583 segundos\n"
          ]
        },
        {
          "output_type": "stream",
          "name": "stderr",
          "text": [
            "/usr/local/lib/python3.11/dist-packages/scipy/sparse/_index.py:151: SparseEfficiencyWarning: Changing the sparsity structure of a csr_matrix is expensive. lil and dok are more efficient.\n",
            "  self._set_arrayXarray(i, j, x)\n"
          ]
        },
        {
          "output_type": "stream",
          "name": "stdout",
          "text": [
            "Iteración 394: Convergió correctamente.\n",
            "Tiempo de ejecución: 0.6421 segundos\n"
          ]
        },
        {
          "output_type": "stream",
          "name": "stderr",
          "text": [
            "/usr/local/lib/python3.11/dist-packages/scipy/sparse/_index.py:151: SparseEfficiencyWarning: Changing the sparsity structure of a csr_matrix is expensive. lil and dok are more efficient.\n",
            "  self._set_arrayXarray(i, j, x)\n"
          ]
        },
        {
          "output_type": "stream",
          "name": "stdout",
          "text": [
            "Iteración 395: Convergió correctamente.\n",
            "Tiempo de ejecución: 0.5192 segundos\n"
          ]
        },
        {
          "output_type": "stream",
          "name": "stderr",
          "text": [
            "/usr/local/lib/python3.11/dist-packages/scipy/sparse/_index.py:151: SparseEfficiencyWarning: Changing the sparsity structure of a csr_matrix is expensive. lil and dok are more efficient.\n",
            "  self._set_arrayXarray(i, j, x)\n"
          ]
        },
        {
          "output_type": "stream",
          "name": "stdout",
          "text": [
            "Iteración 396: Convergió correctamente.\n",
            "Tiempo de ejecución: 0.6675 segundos\n"
          ]
        },
        {
          "output_type": "stream",
          "name": "stderr",
          "text": [
            "/usr/local/lib/python3.11/dist-packages/scipy/sparse/_index.py:151: SparseEfficiencyWarning: Changing the sparsity structure of a csr_matrix is expensive. lil and dok are more efficient.\n",
            "  self._set_arrayXarray(i, j, x)\n"
          ]
        },
        {
          "output_type": "stream",
          "name": "stdout",
          "text": [
            "Iteración 397: Convergió correctamente.\n",
            "Tiempo de ejecución: 0.8045 segundos\n"
          ]
        },
        {
          "output_type": "stream",
          "name": "stderr",
          "text": [
            "/usr/local/lib/python3.11/dist-packages/scipy/sparse/_index.py:151: SparseEfficiencyWarning: Changing the sparsity structure of a csr_matrix is expensive. lil and dok are more efficient.\n",
            "  self._set_arrayXarray(i, j, x)\n"
          ]
        },
        {
          "output_type": "stream",
          "name": "stdout",
          "text": [
            "Iteración 398: Convergió correctamente.\n",
            "Tiempo de ejecución: 0.7180 segundos\n"
          ]
        },
        {
          "output_type": "stream",
          "name": "stderr",
          "text": [
            "/usr/local/lib/python3.11/dist-packages/scipy/sparse/_index.py:151: SparseEfficiencyWarning: Changing the sparsity structure of a csr_matrix is expensive. lil and dok are more efficient.\n",
            "  self._set_arrayXarray(i, j, x)\n"
          ]
        },
        {
          "output_type": "stream",
          "name": "stdout",
          "text": [
            "Iteración 399: Convergió correctamente.\n",
            "Tiempo de ejecución: 0.7105 segundos\n"
          ]
        },
        {
          "output_type": "stream",
          "name": "stderr",
          "text": [
            "/usr/local/lib/python3.11/dist-packages/scipy/sparse/_index.py:151: SparseEfficiencyWarning: Changing the sparsity structure of a csr_matrix is expensive. lil and dok are more efficient.\n",
            "  self._set_arrayXarray(i, j, x)\n",
            "<ipython-input-5-e9ab6229a877>:57: SparseEfficiencyWarning: spilu converted its input to CSC format\n",
            "  ilu = spilu(sistema_sparse)\n"
          ]
        },
        {
          "output_type": "stream",
          "name": "stdout",
          "text": [
            "Iteración 400: Convergió correctamente.\n",
            "Tiempo de ejecución: 4.7280 segundos\n"
          ]
        },
        {
          "output_type": "stream",
          "name": "stderr",
          "text": [
            "/usr/local/lib/python3.11/dist-packages/scipy/sparse/_index.py:151: SparseEfficiencyWarning: Changing the sparsity structure of a csr_matrix is expensive. lil and dok are more efficient.\n",
            "  self._set_arrayXarray(i, j, x)\n"
          ]
        },
        {
          "output_type": "stream",
          "name": "stdout",
          "text": [
            "Iteración 401: Convergió correctamente.\n",
            "Tiempo de ejecución: 0.4991 segundos\n"
          ]
        },
        {
          "output_type": "stream",
          "name": "stderr",
          "text": [
            "/usr/local/lib/python3.11/dist-packages/scipy/sparse/_index.py:151: SparseEfficiencyWarning: Changing the sparsity structure of a csr_matrix is expensive. lil and dok are more efficient.\n",
            "  self._set_arrayXarray(i, j, x)\n"
          ]
        },
        {
          "output_type": "stream",
          "name": "stdout",
          "text": [
            "Iteración 402: Convergió correctamente.\n",
            "Tiempo de ejecución: 0.4964 segundos\n"
          ]
        },
        {
          "output_type": "stream",
          "name": "stderr",
          "text": [
            "/usr/local/lib/python3.11/dist-packages/scipy/sparse/_index.py:151: SparseEfficiencyWarning: Changing the sparsity structure of a csr_matrix is expensive. lil and dok are more efficient.\n",
            "  self._set_arrayXarray(i, j, x)\n"
          ]
        },
        {
          "output_type": "stream",
          "name": "stdout",
          "text": [
            "Iteración 403: Convergió correctamente.\n",
            "Tiempo de ejecución: 0.5008 segundos\n"
          ]
        },
        {
          "output_type": "stream",
          "name": "stderr",
          "text": [
            "/usr/local/lib/python3.11/dist-packages/scipy/sparse/_index.py:151: SparseEfficiencyWarning: Changing the sparsity structure of a csr_matrix is expensive. lil and dok are more efficient.\n",
            "  self._set_arrayXarray(i, j, x)\n"
          ]
        },
        {
          "output_type": "stream",
          "name": "stdout",
          "text": [
            "Iteración 404: Convergió correctamente.\n",
            "Tiempo de ejecución: 0.5198 segundos\n"
          ]
        },
        {
          "output_type": "stream",
          "name": "stderr",
          "text": [
            "/usr/local/lib/python3.11/dist-packages/scipy/sparse/_index.py:151: SparseEfficiencyWarning: Changing the sparsity structure of a csr_matrix is expensive. lil and dok are more efficient.\n",
            "  self._set_arrayXarray(i, j, x)\n"
          ]
        },
        {
          "output_type": "stream",
          "name": "stdout",
          "text": [
            "Iteración 405: Convergió correctamente.\n",
            "Tiempo de ejecución: 0.4640 segundos\n"
          ]
        },
        {
          "output_type": "stream",
          "name": "stderr",
          "text": [
            "/usr/local/lib/python3.11/dist-packages/scipy/sparse/_index.py:151: SparseEfficiencyWarning: Changing the sparsity structure of a csr_matrix is expensive. lil and dok are more efficient.\n",
            "  self._set_arrayXarray(i, j, x)\n"
          ]
        },
        {
          "output_type": "stream",
          "name": "stdout",
          "text": [
            "Iteración 406: Convergió correctamente.\n",
            "Tiempo de ejecución: 0.4542 segundos\n"
          ]
        },
        {
          "output_type": "stream",
          "name": "stderr",
          "text": [
            "/usr/local/lib/python3.11/dist-packages/scipy/sparse/_index.py:151: SparseEfficiencyWarning: Changing the sparsity structure of a csr_matrix is expensive. lil and dok are more efficient.\n",
            "  self._set_arrayXarray(i, j, x)\n"
          ]
        },
        {
          "output_type": "stream",
          "name": "stdout",
          "text": [
            "Iteración 407: Convergió correctamente.\n",
            "Tiempo de ejecución: 0.4690 segundos\n"
          ]
        },
        {
          "output_type": "stream",
          "name": "stderr",
          "text": [
            "/usr/local/lib/python3.11/dist-packages/scipy/sparse/_index.py:151: SparseEfficiencyWarning: Changing the sparsity structure of a csr_matrix is expensive. lil and dok are more efficient.\n",
            "  self._set_arrayXarray(i, j, x)\n"
          ]
        },
        {
          "output_type": "stream",
          "name": "stdout",
          "text": [
            "Iteración 408: Convergió correctamente.\n",
            "Tiempo de ejecución: 0.4893 segundos\n"
          ]
        },
        {
          "output_type": "stream",
          "name": "stderr",
          "text": [
            "/usr/local/lib/python3.11/dist-packages/scipy/sparse/_index.py:151: SparseEfficiencyWarning: Changing the sparsity structure of a csr_matrix is expensive. lil and dok are more efficient.\n",
            "  self._set_arrayXarray(i, j, x)\n"
          ]
        },
        {
          "output_type": "stream",
          "name": "stdout",
          "text": [
            "Iteración 409: Convergió correctamente.\n",
            "Tiempo de ejecución: 0.5018 segundos\n"
          ]
        },
        {
          "output_type": "stream",
          "name": "stderr",
          "text": [
            "/usr/local/lib/python3.11/dist-packages/scipy/sparse/_index.py:151: SparseEfficiencyWarning: Changing the sparsity structure of a csr_matrix is expensive. lil and dok are more efficient.\n",
            "  self._set_arrayXarray(i, j, x)\n"
          ]
        },
        {
          "output_type": "stream",
          "name": "stdout",
          "text": [
            "Iteración 410: Convergió correctamente.\n",
            "Tiempo de ejecución: 0.5072 segundos\n"
          ]
        },
        {
          "output_type": "stream",
          "name": "stderr",
          "text": [
            "/usr/local/lib/python3.11/dist-packages/scipy/sparse/_index.py:151: SparseEfficiencyWarning: Changing the sparsity structure of a csr_matrix is expensive. lil and dok are more efficient.\n",
            "  self._set_arrayXarray(i, j, x)\n"
          ]
        },
        {
          "output_type": "stream",
          "name": "stdout",
          "text": [
            "Iteración 411: Convergió correctamente.\n",
            "Tiempo de ejecución: 1.0605 segundos\n"
          ]
        },
        {
          "output_type": "stream",
          "name": "stderr",
          "text": [
            "/usr/local/lib/python3.11/dist-packages/scipy/sparse/_index.py:151: SparseEfficiencyWarning: Changing the sparsity structure of a csr_matrix is expensive. lil and dok are more efficient.\n",
            "  self._set_arrayXarray(i, j, x)\n"
          ]
        },
        {
          "output_type": "stream",
          "name": "stdout",
          "text": [
            "Iteración 412: Convergió correctamente.\n",
            "Tiempo de ejecución: 0.6483 segundos\n"
          ]
        },
        {
          "output_type": "stream",
          "name": "stderr",
          "text": [
            "/usr/local/lib/python3.11/dist-packages/scipy/sparse/_index.py:151: SparseEfficiencyWarning: Changing the sparsity structure of a csr_matrix is expensive. lil and dok are more efficient.\n",
            "  self._set_arrayXarray(i, j, x)\n"
          ]
        },
        {
          "output_type": "stream",
          "name": "stdout",
          "text": [
            "Iteración 413: Convergió correctamente.\n",
            "Tiempo de ejecución: 0.5299 segundos\n"
          ]
        },
        {
          "output_type": "stream",
          "name": "stderr",
          "text": [
            "/usr/local/lib/python3.11/dist-packages/scipy/sparse/_index.py:151: SparseEfficiencyWarning: Changing the sparsity structure of a csr_matrix is expensive. lil and dok are more efficient.\n",
            "  self._set_arrayXarray(i, j, x)\n"
          ]
        },
        {
          "output_type": "stream",
          "name": "stdout",
          "text": [
            "Iteración 414: Convergió correctamente.\n",
            "Tiempo de ejecución: 0.5701 segundos\n"
          ]
        },
        {
          "output_type": "stream",
          "name": "stderr",
          "text": [
            "/usr/local/lib/python3.11/dist-packages/scipy/sparse/_index.py:151: SparseEfficiencyWarning: Changing the sparsity structure of a csr_matrix is expensive. lil and dok are more efficient.\n",
            "  self._set_arrayXarray(i, j, x)\n"
          ]
        },
        {
          "output_type": "stream",
          "name": "stdout",
          "text": [
            "Iteración 415: Convergió correctamente.\n",
            "Tiempo de ejecución: 0.5656 segundos\n"
          ]
        },
        {
          "output_type": "stream",
          "name": "stderr",
          "text": [
            "/usr/local/lib/python3.11/dist-packages/scipy/sparse/_index.py:151: SparseEfficiencyWarning: Changing the sparsity structure of a csr_matrix is expensive. lil and dok are more efficient.\n",
            "  self._set_arrayXarray(i, j, x)\n"
          ]
        },
        {
          "output_type": "stream",
          "name": "stdout",
          "text": [
            "Iteración 416: Convergió correctamente.\n",
            "Tiempo de ejecución: 0.6082 segundos\n"
          ]
        },
        {
          "output_type": "stream",
          "name": "stderr",
          "text": [
            "/usr/local/lib/python3.11/dist-packages/scipy/sparse/_index.py:151: SparseEfficiencyWarning: Changing the sparsity structure of a csr_matrix is expensive. lil and dok are more efficient.\n",
            "  self._set_arrayXarray(i, j, x)\n"
          ]
        },
        {
          "output_type": "stream",
          "name": "stdout",
          "text": [
            "Iteración 417: Convergió correctamente.\n",
            "Tiempo de ejecución: 0.5343 segundos\n"
          ]
        },
        {
          "output_type": "stream",
          "name": "stderr",
          "text": [
            "/usr/local/lib/python3.11/dist-packages/scipy/sparse/_index.py:151: SparseEfficiencyWarning: Changing the sparsity structure of a csr_matrix is expensive. lil and dok are more efficient.\n",
            "  self._set_arrayXarray(i, j, x)\n"
          ]
        },
        {
          "output_type": "stream",
          "name": "stdout",
          "text": [
            "Iteración 418: Convergió correctamente.\n",
            "Tiempo de ejecución: 0.6218 segundos\n"
          ]
        },
        {
          "output_type": "stream",
          "name": "stderr",
          "text": [
            "/usr/local/lib/python3.11/dist-packages/scipy/sparse/_index.py:151: SparseEfficiencyWarning: Changing the sparsity structure of a csr_matrix is expensive. lil and dok are more efficient.\n",
            "  self._set_arrayXarray(i, j, x)\n"
          ]
        },
        {
          "output_type": "stream",
          "name": "stdout",
          "text": [
            "Iteración 419: Convergió correctamente.\n",
            "Tiempo de ejecución: 0.5463 segundos\n"
          ]
        },
        {
          "output_type": "stream",
          "name": "stderr",
          "text": [
            "/usr/local/lib/python3.11/dist-packages/scipy/sparse/_index.py:151: SparseEfficiencyWarning: Changing the sparsity structure of a csr_matrix is expensive. lil and dok are more efficient.\n",
            "  self._set_arrayXarray(i, j, x)\n"
          ]
        },
        {
          "output_type": "stream",
          "name": "stdout",
          "text": [
            "Iteración 420: Convergió correctamente.\n",
            "Tiempo de ejecución: 0.5520 segundos\n"
          ]
        },
        {
          "output_type": "stream",
          "name": "stderr",
          "text": [
            "/usr/local/lib/python3.11/dist-packages/scipy/sparse/_index.py:151: SparseEfficiencyWarning: Changing the sparsity structure of a csr_matrix is expensive. lil and dok are more efficient.\n",
            "  self._set_arrayXarray(i, j, x)\n"
          ]
        },
        {
          "output_type": "stream",
          "name": "stdout",
          "text": [
            "Iteración 421: Convergió correctamente.\n",
            "Tiempo de ejecución: 0.5323 segundos\n"
          ]
        },
        {
          "output_type": "stream",
          "name": "stderr",
          "text": [
            "/usr/local/lib/python3.11/dist-packages/scipy/sparse/_index.py:151: SparseEfficiencyWarning: Changing the sparsity structure of a csr_matrix is expensive. lil and dok are more efficient.\n",
            "  self._set_arrayXarray(i, j, x)\n"
          ]
        },
        {
          "output_type": "stream",
          "name": "stdout",
          "text": [
            "Iteración 422: Convergió correctamente.\n",
            "Tiempo de ejecución: 0.5567 segundos\n"
          ]
        },
        {
          "output_type": "stream",
          "name": "stderr",
          "text": [
            "/usr/local/lib/python3.11/dist-packages/scipy/sparse/_index.py:151: SparseEfficiencyWarning: Changing the sparsity structure of a csr_matrix is expensive. lil and dok are more efficient.\n",
            "  self._set_arrayXarray(i, j, x)\n"
          ]
        },
        {
          "output_type": "stream",
          "name": "stdout",
          "text": [
            "Iteración 423: Convergió correctamente.\n",
            "Tiempo de ejecución: 0.5784 segundos\n"
          ]
        },
        {
          "output_type": "stream",
          "name": "stderr",
          "text": [
            "/usr/local/lib/python3.11/dist-packages/scipy/sparse/_index.py:151: SparseEfficiencyWarning: Changing the sparsity structure of a csr_matrix is expensive. lil and dok are more efficient.\n",
            "  self._set_arrayXarray(i, j, x)\n"
          ]
        },
        {
          "output_type": "stream",
          "name": "stdout",
          "text": [
            "Iteración 424: Convergió correctamente.\n",
            "Tiempo de ejecución: 0.5122 segundos\n"
          ]
        },
        {
          "output_type": "stream",
          "name": "stderr",
          "text": [
            "/usr/local/lib/python3.11/dist-packages/scipy/sparse/_index.py:151: SparseEfficiencyWarning: Changing the sparsity structure of a csr_matrix is expensive. lil and dok are more efficient.\n",
            "  self._set_arrayXarray(i, j, x)\n"
          ]
        },
        {
          "output_type": "stream",
          "name": "stdout",
          "text": [
            "Iteración 425: Convergió correctamente.\n",
            "Tiempo de ejecución: 0.5772 segundos\n"
          ]
        },
        {
          "output_type": "stream",
          "name": "stderr",
          "text": [
            "/usr/local/lib/python3.11/dist-packages/scipy/sparse/_index.py:151: SparseEfficiencyWarning: Changing the sparsity structure of a csr_matrix is expensive. lil and dok are more efficient.\n",
            "  self._set_arrayXarray(i, j, x)\n"
          ]
        },
        {
          "output_type": "stream",
          "name": "stdout",
          "text": [
            "Iteración 426: Convergió correctamente.\n",
            "Tiempo de ejecución: 0.5549 segundos\n"
          ]
        },
        {
          "output_type": "stream",
          "name": "stderr",
          "text": [
            "/usr/local/lib/python3.11/dist-packages/scipy/sparse/_index.py:151: SparseEfficiencyWarning: Changing the sparsity structure of a csr_matrix is expensive. lil and dok are more efficient.\n",
            "  self._set_arrayXarray(i, j, x)\n"
          ]
        },
        {
          "output_type": "stream",
          "name": "stdout",
          "text": [
            "Iteración 427: Convergió correctamente.\n",
            "Tiempo de ejecución: 0.5964 segundos\n"
          ]
        },
        {
          "output_type": "stream",
          "name": "stderr",
          "text": [
            "/usr/local/lib/python3.11/dist-packages/scipy/sparse/_index.py:151: SparseEfficiencyWarning: Changing the sparsity structure of a csr_matrix is expensive. lil and dok are more efficient.\n",
            "  self._set_arrayXarray(i, j, x)\n"
          ]
        },
        {
          "output_type": "stream",
          "name": "stdout",
          "text": [
            "Iteración 428: Convergió correctamente.\n",
            "Tiempo de ejecución: 0.5087 segundos\n"
          ]
        },
        {
          "output_type": "stream",
          "name": "stderr",
          "text": [
            "/usr/local/lib/python3.11/dist-packages/scipy/sparse/_index.py:151: SparseEfficiencyWarning: Changing the sparsity structure of a csr_matrix is expensive. lil and dok are more efficient.\n",
            "  self._set_arrayXarray(i, j, x)\n"
          ]
        },
        {
          "output_type": "stream",
          "name": "stdout",
          "text": [
            "Iteración 429: Convergió correctamente.\n",
            "Tiempo de ejecución: 0.6557 segundos\n"
          ]
        },
        {
          "output_type": "stream",
          "name": "stderr",
          "text": [
            "/usr/local/lib/python3.11/dist-packages/scipy/sparse/_index.py:151: SparseEfficiencyWarning: Changing the sparsity structure of a csr_matrix is expensive. lil and dok are more efficient.\n",
            "  self._set_arrayXarray(i, j, x)\n"
          ]
        },
        {
          "output_type": "stream",
          "name": "stdout",
          "text": [
            "Iteración 430: Convergió correctamente.\n",
            "Tiempo de ejecución: 1.0101 segundos\n"
          ]
        },
        {
          "output_type": "stream",
          "name": "stderr",
          "text": [
            "/usr/local/lib/python3.11/dist-packages/scipy/sparse/_index.py:151: SparseEfficiencyWarning: Changing the sparsity structure of a csr_matrix is expensive. lil and dok are more efficient.\n",
            "  self._set_arrayXarray(i, j, x)\n"
          ]
        },
        {
          "output_type": "stream",
          "name": "stdout",
          "text": [
            "Iteración 431: Convergió correctamente.\n",
            "Tiempo de ejecución: 0.7866 segundos\n"
          ]
        },
        {
          "output_type": "stream",
          "name": "stderr",
          "text": [
            "/usr/local/lib/python3.11/dist-packages/scipy/sparse/_index.py:151: SparseEfficiencyWarning: Changing the sparsity structure of a csr_matrix is expensive. lil and dok are more efficient.\n",
            "  self._set_arrayXarray(i, j, x)\n"
          ]
        },
        {
          "output_type": "stream",
          "name": "stdout",
          "text": [
            "Iteración 432: Convergió correctamente.\n",
            "Tiempo de ejecución: 0.5946 segundos\n"
          ]
        },
        {
          "output_type": "stream",
          "name": "stderr",
          "text": [
            "/usr/local/lib/python3.11/dist-packages/scipy/sparse/_index.py:151: SparseEfficiencyWarning: Changing the sparsity structure of a csr_matrix is expensive. lil and dok are more efficient.\n",
            "  self._set_arrayXarray(i, j, x)\n"
          ]
        },
        {
          "output_type": "stream",
          "name": "stdout",
          "text": [
            "Iteración 433: Convergió correctamente.\n",
            "Tiempo de ejecución: 0.5742 segundos\n"
          ]
        },
        {
          "output_type": "stream",
          "name": "stderr",
          "text": [
            "/usr/local/lib/python3.11/dist-packages/scipy/sparse/_index.py:151: SparseEfficiencyWarning: Changing the sparsity structure of a csr_matrix is expensive. lil and dok are more efficient.\n",
            "  self._set_arrayXarray(i, j, x)\n"
          ]
        },
        {
          "output_type": "stream",
          "name": "stdout",
          "text": [
            "Iteración 434: Convergió correctamente.\n",
            "Tiempo de ejecución: 0.6317 segundos\n"
          ]
        },
        {
          "output_type": "stream",
          "name": "stderr",
          "text": [
            "/usr/local/lib/python3.11/dist-packages/scipy/sparse/_index.py:151: SparseEfficiencyWarning: Changing the sparsity structure of a csr_matrix is expensive. lil and dok are more efficient.\n",
            "  self._set_arrayXarray(i, j, x)\n"
          ]
        },
        {
          "output_type": "stream",
          "name": "stdout",
          "text": [
            "Iteración 435: Convergió correctamente.\n",
            "Tiempo de ejecución: 0.6368 segundos\n"
          ]
        },
        {
          "output_type": "stream",
          "name": "stderr",
          "text": [
            "/usr/local/lib/python3.11/dist-packages/scipy/sparse/_index.py:151: SparseEfficiencyWarning: Changing the sparsity structure of a csr_matrix is expensive. lil and dok are more efficient.\n",
            "  self._set_arrayXarray(i, j, x)\n"
          ]
        },
        {
          "output_type": "stream",
          "name": "stdout",
          "text": [
            "Iteración 436: Convergió correctamente.\n",
            "Tiempo de ejecución: 0.6845 segundos\n"
          ]
        },
        {
          "output_type": "stream",
          "name": "stderr",
          "text": [
            "/usr/local/lib/python3.11/dist-packages/scipy/sparse/_index.py:151: SparseEfficiencyWarning: Changing the sparsity structure of a csr_matrix is expensive. lil and dok are more efficient.\n",
            "  self._set_arrayXarray(i, j, x)\n"
          ]
        },
        {
          "output_type": "stream",
          "name": "stdout",
          "text": [
            "Iteración 437: Convergió correctamente.\n",
            "Tiempo de ejecución: 0.6545 segundos\n"
          ]
        },
        {
          "output_type": "stream",
          "name": "stderr",
          "text": [
            "/usr/local/lib/python3.11/dist-packages/scipy/sparse/_index.py:151: SparseEfficiencyWarning: Changing the sparsity structure of a csr_matrix is expensive. lil and dok are more efficient.\n",
            "  self._set_arrayXarray(i, j, x)\n"
          ]
        },
        {
          "output_type": "stream",
          "name": "stdout",
          "text": [
            "Iteración 438: Convergió correctamente.\n",
            "Tiempo de ejecución: 0.6539 segundos\n"
          ]
        },
        {
          "output_type": "stream",
          "name": "stderr",
          "text": [
            "/usr/local/lib/python3.11/dist-packages/scipy/sparse/_index.py:151: SparseEfficiencyWarning: Changing the sparsity structure of a csr_matrix is expensive. lil and dok are more efficient.\n",
            "  self._set_arrayXarray(i, j, x)\n"
          ]
        },
        {
          "output_type": "stream",
          "name": "stdout",
          "text": [
            "Iteración 439: Convergió correctamente.\n",
            "Tiempo de ejecución: 0.6525 segundos\n"
          ]
        },
        {
          "output_type": "stream",
          "name": "stderr",
          "text": [
            "/usr/local/lib/python3.11/dist-packages/scipy/sparse/_index.py:151: SparseEfficiencyWarning: Changing the sparsity structure of a csr_matrix is expensive. lil and dok are more efficient.\n",
            "  self._set_arrayXarray(i, j, x)\n"
          ]
        },
        {
          "output_type": "stream",
          "name": "stdout",
          "text": [
            "Iteración 440: Convergió correctamente.\n",
            "Tiempo de ejecución: 0.6172 segundos\n"
          ]
        },
        {
          "output_type": "stream",
          "name": "stderr",
          "text": [
            "/usr/local/lib/python3.11/dist-packages/scipy/sparse/_index.py:151: SparseEfficiencyWarning: Changing the sparsity structure of a csr_matrix is expensive. lil and dok are more efficient.\n",
            "  self._set_arrayXarray(i, j, x)\n"
          ]
        },
        {
          "output_type": "stream",
          "name": "stdout",
          "text": [
            "Iteración 441: Convergió correctamente.\n",
            "Tiempo de ejecución: 0.6871 segundos\n"
          ]
        },
        {
          "output_type": "stream",
          "name": "stderr",
          "text": [
            "/usr/local/lib/python3.11/dist-packages/scipy/sparse/_index.py:151: SparseEfficiencyWarning: Changing the sparsity structure of a csr_matrix is expensive. lil and dok are more efficient.\n",
            "  self._set_arrayXarray(i, j, x)\n"
          ]
        },
        {
          "output_type": "stream",
          "name": "stdout",
          "text": [
            "Iteración 442: Convergió correctamente.\n",
            "Tiempo de ejecución: 0.5946 segundos\n"
          ]
        },
        {
          "output_type": "stream",
          "name": "stderr",
          "text": [
            "/usr/local/lib/python3.11/dist-packages/scipy/sparse/_index.py:151: SparseEfficiencyWarning: Changing the sparsity structure of a csr_matrix is expensive. lil and dok are more efficient.\n",
            "  self._set_arrayXarray(i, j, x)\n"
          ]
        },
        {
          "output_type": "stream",
          "name": "stdout",
          "text": [
            "Iteración 443: Convergió correctamente.\n",
            "Tiempo de ejecución: 0.6520 segundos\n"
          ]
        },
        {
          "output_type": "stream",
          "name": "stderr",
          "text": [
            "/usr/local/lib/python3.11/dist-packages/scipy/sparse/_index.py:151: SparseEfficiencyWarning: Changing the sparsity structure of a csr_matrix is expensive. lil and dok are more efficient.\n",
            "  self._set_arrayXarray(i, j, x)\n"
          ]
        },
        {
          "output_type": "stream",
          "name": "stdout",
          "text": [
            "Iteración 444: Convergió correctamente.\n",
            "Tiempo de ejecución: 0.6849 segundos\n"
          ]
        },
        {
          "output_type": "stream",
          "name": "stderr",
          "text": [
            "/usr/local/lib/python3.11/dist-packages/scipy/sparse/_index.py:151: SparseEfficiencyWarning: Changing the sparsity structure of a csr_matrix is expensive. lil and dok are more efficient.\n",
            "  self._set_arrayXarray(i, j, x)\n"
          ]
        },
        {
          "output_type": "stream",
          "name": "stdout",
          "text": [
            "Iteración 445: Convergió correctamente.\n",
            "Tiempo de ejecución: 0.4633 segundos\n"
          ]
        },
        {
          "output_type": "stream",
          "name": "stderr",
          "text": [
            "/usr/local/lib/python3.11/dist-packages/scipy/sparse/_index.py:151: SparseEfficiencyWarning: Changing the sparsity structure of a csr_matrix is expensive. lil and dok are more efficient.\n",
            "  self._set_arrayXarray(i, j, x)\n"
          ]
        },
        {
          "output_type": "stream",
          "name": "stdout",
          "text": [
            "Iteración 446: Convergió correctamente.\n",
            "Tiempo de ejecución: 0.6160 segundos\n"
          ]
        },
        {
          "output_type": "stream",
          "name": "stderr",
          "text": [
            "/usr/local/lib/python3.11/dist-packages/scipy/sparse/_index.py:151: SparseEfficiencyWarning: Changing the sparsity structure of a csr_matrix is expensive. lil and dok are more efficient.\n",
            "  self._set_arrayXarray(i, j, x)\n"
          ]
        },
        {
          "output_type": "stream",
          "name": "stdout",
          "text": [
            "Iteración 447: Convergió correctamente.\n",
            "Tiempo de ejecución: 0.7622 segundos\n"
          ]
        },
        {
          "output_type": "stream",
          "name": "stderr",
          "text": [
            "/usr/local/lib/python3.11/dist-packages/scipy/sparse/_index.py:151: SparseEfficiencyWarning: Changing the sparsity structure of a csr_matrix is expensive. lil and dok are more efficient.\n",
            "  self._set_arrayXarray(i, j, x)\n"
          ]
        },
        {
          "output_type": "stream",
          "name": "stdout",
          "text": [
            "Iteración 448: Convergió correctamente.\n",
            "Tiempo de ejecución: 0.9301 segundos\n"
          ]
        },
        {
          "output_type": "stream",
          "name": "stderr",
          "text": [
            "/usr/local/lib/python3.11/dist-packages/scipy/sparse/_index.py:151: SparseEfficiencyWarning: Changing the sparsity structure of a csr_matrix is expensive. lil and dok are more efficient.\n",
            "  self._set_arrayXarray(i, j, x)\n"
          ]
        },
        {
          "output_type": "stream",
          "name": "stdout",
          "text": [
            "Iteración 449: Convergió correctamente.\n",
            "Tiempo de ejecución: 0.5874 segundos\n"
          ]
        },
        {
          "output_type": "stream",
          "name": "stderr",
          "text": [
            "/usr/local/lib/python3.11/dist-packages/scipy/sparse/_index.py:151: SparseEfficiencyWarning: Changing the sparsity structure of a csr_matrix is expensive. lil and dok are more efficient.\n",
            "  self._set_arrayXarray(i, j, x)\n",
            "<ipython-input-5-e9ab6229a877>:57: SparseEfficiencyWarning: spilu converted its input to CSC format\n",
            "  ilu = spilu(sistema_sparse)\n"
          ]
        },
        {
          "output_type": "stream",
          "name": "stdout",
          "text": [
            "Iteración 450: Convergió correctamente.\n",
            "Tiempo de ejecución: 4.5379 segundos\n"
          ]
        },
        {
          "output_type": "stream",
          "name": "stderr",
          "text": [
            "/usr/local/lib/python3.11/dist-packages/scipy/sparse/_index.py:151: SparseEfficiencyWarning: Changing the sparsity structure of a csr_matrix is expensive. lil and dok are more efficient.\n",
            "  self._set_arrayXarray(i, j, x)\n"
          ]
        },
        {
          "output_type": "stream",
          "name": "stdout",
          "text": [
            "Iteración 451: Convergió correctamente.\n",
            "Tiempo de ejecución: 0.5170 segundos\n"
          ]
        },
        {
          "output_type": "stream",
          "name": "stderr",
          "text": [
            "/usr/local/lib/python3.11/dist-packages/scipy/sparse/_index.py:151: SparseEfficiencyWarning: Changing the sparsity structure of a csr_matrix is expensive. lil and dok are more efficient.\n",
            "  self._set_arrayXarray(i, j, x)\n"
          ]
        },
        {
          "output_type": "stream",
          "name": "stdout",
          "text": [
            "Iteración 452: Convergió correctamente.\n",
            "Tiempo de ejecución: 0.5075 segundos\n"
          ]
        },
        {
          "output_type": "stream",
          "name": "stderr",
          "text": [
            "/usr/local/lib/python3.11/dist-packages/scipy/sparse/_index.py:151: SparseEfficiencyWarning: Changing the sparsity structure of a csr_matrix is expensive. lil and dok are more efficient.\n",
            "  self._set_arrayXarray(i, j, x)\n"
          ]
        },
        {
          "output_type": "stream",
          "name": "stdout",
          "text": [
            "Iteración 453: Convergió correctamente.\n",
            "Tiempo de ejecución: 0.5352 segundos\n"
          ]
        },
        {
          "output_type": "stream",
          "name": "stderr",
          "text": [
            "/usr/local/lib/python3.11/dist-packages/scipy/sparse/_index.py:151: SparseEfficiencyWarning: Changing the sparsity structure of a csr_matrix is expensive. lil and dok are more efficient.\n",
            "  self._set_arrayXarray(i, j, x)\n"
          ]
        },
        {
          "output_type": "stream",
          "name": "stdout",
          "text": [
            "Iteración 454: Convergió correctamente.\n",
            "Tiempo de ejecución: 0.5664 segundos\n"
          ]
        },
        {
          "output_type": "stream",
          "name": "stderr",
          "text": [
            "/usr/local/lib/python3.11/dist-packages/scipy/sparse/_index.py:151: SparseEfficiencyWarning: Changing the sparsity structure of a csr_matrix is expensive. lil and dok are more efficient.\n",
            "  self._set_arrayXarray(i, j, x)\n"
          ]
        },
        {
          "output_type": "stream",
          "name": "stdout",
          "text": [
            "Iteración 455: Convergió correctamente.\n",
            "Tiempo de ejecución: 0.5524 segundos\n"
          ]
        },
        {
          "output_type": "stream",
          "name": "stderr",
          "text": [
            "/usr/local/lib/python3.11/dist-packages/scipy/sparse/_index.py:151: SparseEfficiencyWarning: Changing the sparsity structure of a csr_matrix is expensive. lil and dok are more efficient.\n",
            "  self._set_arrayXarray(i, j, x)\n"
          ]
        },
        {
          "output_type": "stream",
          "name": "stdout",
          "text": [
            "Iteración 456: Convergió correctamente.\n",
            "Tiempo de ejecución: 0.5285 segundos\n"
          ]
        },
        {
          "output_type": "stream",
          "name": "stderr",
          "text": [
            "/usr/local/lib/python3.11/dist-packages/scipy/sparse/_index.py:151: SparseEfficiencyWarning: Changing the sparsity structure of a csr_matrix is expensive. lil and dok are more efficient.\n",
            "  self._set_arrayXarray(i, j, x)\n"
          ]
        },
        {
          "output_type": "stream",
          "name": "stdout",
          "text": [
            "Iteración 457: Convergió correctamente.\n",
            "Tiempo de ejecución: 0.4800 segundos\n"
          ]
        },
        {
          "output_type": "stream",
          "name": "stderr",
          "text": [
            "/usr/local/lib/python3.11/dist-packages/scipy/sparse/_index.py:151: SparseEfficiencyWarning: Changing the sparsity structure of a csr_matrix is expensive. lil and dok are more efficient.\n",
            "  self._set_arrayXarray(i, j, x)\n"
          ]
        },
        {
          "output_type": "stream",
          "name": "stdout",
          "text": [
            "Iteración 458: Convergió correctamente.\n",
            "Tiempo de ejecución: 0.4996 segundos\n"
          ]
        },
        {
          "output_type": "stream",
          "name": "stderr",
          "text": [
            "/usr/local/lib/python3.11/dist-packages/scipy/sparse/_index.py:151: SparseEfficiencyWarning: Changing the sparsity structure of a csr_matrix is expensive. lil and dok are more efficient.\n",
            "  self._set_arrayXarray(i, j, x)\n"
          ]
        },
        {
          "output_type": "stream",
          "name": "stdout",
          "text": [
            "Iteración 459: Convergió correctamente.\n",
            "Tiempo de ejecución: 0.5461 segundos\n"
          ]
        },
        {
          "output_type": "stream",
          "name": "stderr",
          "text": [
            "/usr/local/lib/python3.11/dist-packages/scipy/sparse/_index.py:151: SparseEfficiencyWarning: Changing the sparsity structure of a csr_matrix is expensive. lil and dok are more efficient.\n",
            "  self._set_arrayXarray(i, j, x)\n"
          ]
        },
        {
          "output_type": "stream",
          "name": "stdout",
          "text": [
            "Iteración 460: Convergió correctamente.\n",
            "Tiempo de ejecución: 0.5752 segundos\n"
          ]
        },
        {
          "output_type": "stream",
          "name": "stderr",
          "text": [
            "/usr/local/lib/python3.11/dist-packages/scipy/sparse/_index.py:151: SparseEfficiencyWarning: Changing the sparsity structure of a csr_matrix is expensive. lil and dok are more efficient.\n",
            "  self._set_arrayXarray(i, j, x)\n"
          ]
        },
        {
          "output_type": "stream",
          "name": "stdout",
          "text": [
            "Iteración 461: Convergió correctamente.\n",
            "Tiempo de ejecución: 1.0257 segundos\n"
          ]
        },
        {
          "output_type": "stream",
          "name": "stderr",
          "text": [
            "/usr/local/lib/python3.11/dist-packages/scipy/sparse/_index.py:151: SparseEfficiencyWarning: Changing the sparsity structure of a csr_matrix is expensive. lil and dok are more efficient.\n",
            "  self._set_arrayXarray(i, j, x)\n"
          ]
        },
        {
          "output_type": "stream",
          "name": "stdout",
          "text": [
            "Iteración 462: Convergió correctamente.\n",
            "Tiempo de ejecución: 0.7702 segundos\n"
          ]
        },
        {
          "output_type": "stream",
          "name": "stderr",
          "text": [
            "/usr/local/lib/python3.11/dist-packages/scipy/sparse/_index.py:151: SparseEfficiencyWarning: Changing the sparsity structure of a csr_matrix is expensive. lil and dok are more efficient.\n",
            "  self._set_arrayXarray(i, j, x)\n"
          ]
        },
        {
          "output_type": "stream",
          "name": "stdout",
          "text": [
            "Iteración 463: Convergió correctamente.\n",
            "Tiempo de ejecución: 0.5113 segundos\n"
          ]
        },
        {
          "output_type": "stream",
          "name": "stderr",
          "text": [
            "/usr/local/lib/python3.11/dist-packages/scipy/sparse/_index.py:151: SparseEfficiencyWarning: Changing the sparsity structure of a csr_matrix is expensive. lil and dok are more efficient.\n",
            "  self._set_arrayXarray(i, j, x)\n"
          ]
        },
        {
          "output_type": "stream",
          "name": "stdout",
          "text": [
            "Iteración 464: Convergió correctamente.\n",
            "Tiempo de ejecución: 0.5453 segundos\n"
          ]
        },
        {
          "output_type": "stream",
          "name": "stderr",
          "text": [
            "/usr/local/lib/python3.11/dist-packages/scipy/sparse/_index.py:151: SparseEfficiencyWarning: Changing the sparsity structure of a csr_matrix is expensive. lil and dok are more efficient.\n",
            "  self._set_arrayXarray(i, j, x)\n"
          ]
        },
        {
          "output_type": "stream",
          "name": "stdout",
          "text": [
            "Iteración 465: Convergió correctamente.\n",
            "Tiempo de ejecución: 0.6263 segundos\n"
          ]
        },
        {
          "output_type": "stream",
          "name": "stderr",
          "text": [
            "/usr/local/lib/python3.11/dist-packages/scipy/sparse/_index.py:151: SparseEfficiencyWarning: Changing the sparsity structure of a csr_matrix is expensive. lil and dok are more efficient.\n",
            "  self._set_arrayXarray(i, j, x)\n"
          ]
        },
        {
          "output_type": "stream",
          "name": "stdout",
          "text": [
            "Iteración 466: Convergió correctamente.\n",
            "Tiempo de ejecución: 0.5672 segundos\n"
          ]
        },
        {
          "output_type": "stream",
          "name": "stderr",
          "text": [
            "/usr/local/lib/python3.11/dist-packages/scipy/sparse/_index.py:151: SparseEfficiencyWarning: Changing the sparsity structure of a csr_matrix is expensive. lil and dok are more efficient.\n",
            "  self._set_arrayXarray(i, j, x)\n"
          ]
        },
        {
          "output_type": "stream",
          "name": "stdout",
          "text": [
            "Iteración 467: Convergió correctamente.\n",
            "Tiempo de ejecución: 0.6282 segundos\n"
          ]
        },
        {
          "output_type": "stream",
          "name": "stderr",
          "text": [
            "/usr/local/lib/python3.11/dist-packages/scipy/sparse/_index.py:151: SparseEfficiencyWarning: Changing the sparsity structure of a csr_matrix is expensive. lil and dok are more efficient.\n",
            "  self._set_arrayXarray(i, j, x)\n"
          ]
        },
        {
          "output_type": "stream",
          "name": "stdout",
          "text": [
            "Iteración 468: Convergió correctamente.\n",
            "Tiempo de ejecución: 0.5579 segundos\n"
          ]
        },
        {
          "output_type": "stream",
          "name": "stderr",
          "text": [
            "/usr/local/lib/python3.11/dist-packages/scipy/sparse/_index.py:151: SparseEfficiencyWarning: Changing the sparsity structure of a csr_matrix is expensive. lil and dok are more efficient.\n",
            "  self._set_arrayXarray(i, j, x)\n"
          ]
        },
        {
          "output_type": "stream",
          "name": "stdout",
          "text": [
            "Iteración 469: Convergió correctamente.\n",
            "Tiempo de ejecución: 0.5783 segundos\n"
          ]
        },
        {
          "output_type": "stream",
          "name": "stderr",
          "text": [
            "/usr/local/lib/python3.11/dist-packages/scipy/sparse/_index.py:151: SparseEfficiencyWarning: Changing the sparsity structure of a csr_matrix is expensive. lil and dok are more efficient.\n",
            "  self._set_arrayXarray(i, j, x)\n"
          ]
        },
        {
          "output_type": "stream",
          "name": "stdout",
          "text": [
            "Iteración 470: Convergió correctamente.\n",
            "Tiempo de ejecución: 0.5447 segundos\n"
          ]
        },
        {
          "output_type": "stream",
          "name": "stderr",
          "text": [
            "/usr/local/lib/python3.11/dist-packages/scipy/sparse/_index.py:151: SparseEfficiencyWarning: Changing the sparsity structure of a csr_matrix is expensive. lil and dok are more efficient.\n",
            "  self._set_arrayXarray(i, j, x)\n"
          ]
        },
        {
          "output_type": "stream",
          "name": "stdout",
          "text": [
            "Iteración 471: Convergió correctamente.\n",
            "Tiempo de ejecución: 0.4960 segundos\n"
          ]
        },
        {
          "output_type": "stream",
          "name": "stderr",
          "text": [
            "/usr/local/lib/python3.11/dist-packages/scipy/sparse/_index.py:151: SparseEfficiencyWarning: Changing the sparsity structure of a csr_matrix is expensive. lil and dok are more efficient.\n",
            "  self._set_arrayXarray(i, j, x)\n"
          ]
        },
        {
          "output_type": "stream",
          "name": "stdout",
          "text": [
            "Iteración 472: Convergió correctamente.\n",
            "Tiempo de ejecución: 0.5503 segundos\n"
          ]
        },
        {
          "output_type": "stream",
          "name": "stderr",
          "text": [
            "/usr/local/lib/python3.11/dist-packages/scipy/sparse/_index.py:151: SparseEfficiencyWarning: Changing the sparsity structure of a csr_matrix is expensive. lil and dok are more efficient.\n",
            "  self._set_arrayXarray(i, j, x)\n"
          ]
        },
        {
          "output_type": "stream",
          "name": "stdout",
          "text": [
            "Iteración 473: Convergió correctamente.\n",
            "Tiempo de ejecución: 0.5682 segundos\n"
          ]
        },
        {
          "output_type": "stream",
          "name": "stderr",
          "text": [
            "/usr/local/lib/python3.11/dist-packages/scipy/sparse/_index.py:151: SparseEfficiencyWarning: Changing the sparsity structure of a csr_matrix is expensive. lil and dok are more efficient.\n",
            "  self._set_arrayXarray(i, j, x)\n"
          ]
        },
        {
          "output_type": "stream",
          "name": "stdout",
          "text": [
            "Iteración 474: Convergió correctamente.\n",
            "Tiempo de ejecución: 0.6319 segundos\n"
          ]
        },
        {
          "output_type": "stream",
          "name": "stderr",
          "text": [
            "/usr/local/lib/python3.11/dist-packages/scipy/sparse/_index.py:151: SparseEfficiencyWarning: Changing the sparsity structure of a csr_matrix is expensive. lil and dok are more efficient.\n",
            "  self._set_arrayXarray(i, j, x)\n"
          ]
        },
        {
          "output_type": "stream",
          "name": "stdout",
          "text": [
            "Iteración 475: Convergió correctamente.\n",
            "Tiempo de ejecución: 0.5801 segundos\n"
          ]
        },
        {
          "output_type": "stream",
          "name": "stderr",
          "text": [
            "/usr/local/lib/python3.11/dist-packages/scipy/sparse/_index.py:151: SparseEfficiencyWarning: Changing the sparsity structure of a csr_matrix is expensive. lil and dok are more efficient.\n",
            "  self._set_arrayXarray(i, j, x)\n"
          ]
        },
        {
          "output_type": "stream",
          "name": "stdout",
          "text": [
            "Iteración 476: Convergió correctamente.\n",
            "Tiempo de ejecución: 0.6047 segundos\n"
          ]
        },
        {
          "output_type": "stream",
          "name": "stderr",
          "text": [
            "/usr/local/lib/python3.11/dist-packages/scipy/sparse/_index.py:151: SparseEfficiencyWarning: Changing the sparsity structure of a csr_matrix is expensive. lil and dok are more efficient.\n",
            "  self._set_arrayXarray(i, j, x)\n"
          ]
        },
        {
          "output_type": "stream",
          "name": "stdout",
          "text": [
            "Iteración 477: Convergió correctamente.\n",
            "Tiempo de ejecución: 0.6351 segundos\n"
          ]
        },
        {
          "output_type": "stream",
          "name": "stderr",
          "text": [
            "/usr/local/lib/python3.11/dist-packages/scipy/sparse/_index.py:151: SparseEfficiencyWarning: Changing the sparsity structure of a csr_matrix is expensive. lil and dok are more efficient.\n",
            "  self._set_arrayXarray(i, j, x)\n"
          ]
        },
        {
          "output_type": "stream",
          "name": "stdout",
          "text": [
            "Iteración 478: Convergió correctamente.\n",
            "Tiempo de ejecución: 0.5720 segundos\n"
          ]
        },
        {
          "output_type": "stream",
          "name": "stderr",
          "text": [
            "/usr/local/lib/python3.11/dist-packages/scipy/sparse/_index.py:151: SparseEfficiencyWarning: Changing the sparsity structure of a csr_matrix is expensive. lil and dok are more efficient.\n",
            "  self._set_arrayXarray(i, j, x)\n"
          ]
        },
        {
          "output_type": "stream",
          "name": "stdout",
          "text": [
            "Iteración 479: Convergió correctamente.\n",
            "Tiempo de ejecución: 0.5765 segundos\n"
          ]
        },
        {
          "output_type": "stream",
          "name": "stderr",
          "text": [
            "/usr/local/lib/python3.11/dist-packages/scipy/sparse/_index.py:151: SparseEfficiencyWarning: Changing the sparsity structure of a csr_matrix is expensive. lil and dok are more efficient.\n",
            "  self._set_arrayXarray(i, j, x)\n"
          ]
        },
        {
          "output_type": "stream",
          "name": "stdout",
          "text": [
            "Iteración 480: Convergió correctamente.\n",
            "Tiempo de ejecución: 1.0311 segundos\n"
          ]
        },
        {
          "output_type": "stream",
          "name": "stderr",
          "text": [
            "/usr/local/lib/python3.11/dist-packages/scipy/sparse/_index.py:151: SparseEfficiencyWarning: Changing the sparsity structure of a csr_matrix is expensive. lil and dok are more efficient.\n",
            "  self._set_arrayXarray(i, j, x)\n"
          ]
        },
        {
          "output_type": "stream",
          "name": "stdout",
          "text": [
            "Iteración 481: Convergió correctamente.\n",
            "Tiempo de ejecución: 0.8008 segundos\n"
          ]
        },
        {
          "output_type": "stream",
          "name": "stderr",
          "text": [
            "/usr/local/lib/python3.11/dist-packages/scipy/sparse/_index.py:151: SparseEfficiencyWarning: Changing the sparsity structure of a csr_matrix is expensive. lil and dok are more efficient.\n",
            "  self._set_arrayXarray(i, j, x)\n"
          ]
        },
        {
          "output_type": "stream",
          "name": "stdout",
          "text": [
            "Iteración 482: Convergió correctamente.\n",
            "Tiempo de ejecución: 0.5965 segundos\n"
          ]
        },
        {
          "output_type": "stream",
          "name": "stderr",
          "text": [
            "/usr/local/lib/python3.11/dist-packages/scipy/sparse/_index.py:151: SparseEfficiencyWarning: Changing the sparsity structure of a csr_matrix is expensive. lil and dok are more efficient.\n",
            "  self._set_arrayXarray(i, j, x)\n"
          ]
        },
        {
          "output_type": "stream",
          "name": "stdout",
          "text": [
            "Iteración 483: Convergió correctamente.\n",
            "Tiempo de ejecución: 0.5682 segundos\n"
          ]
        },
        {
          "output_type": "stream",
          "name": "stderr",
          "text": [
            "/usr/local/lib/python3.11/dist-packages/scipy/sparse/_index.py:151: SparseEfficiencyWarning: Changing the sparsity structure of a csr_matrix is expensive. lil and dok are more efficient.\n",
            "  self._set_arrayXarray(i, j, x)\n"
          ]
        },
        {
          "output_type": "stream",
          "name": "stdout",
          "text": [
            "Iteración 484: Convergió correctamente.\n",
            "Tiempo de ejecución: 0.7136 segundos\n"
          ]
        },
        {
          "output_type": "stream",
          "name": "stderr",
          "text": [
            "/usr/local/lib/python3.11/dist-packages/scipy/sparse/_index.py:151: SparseEfficiencyWarning: Changing the sparsity structure of a csr_matrix is expensive. lil and dok are more efficient.\n",
            "  self._set_arrayXarray(i, j, x)\n"
          ]
        },
        {
          "output_type": "stream",
          "name": "stdout",
          "text": [
            "Iteración 485: Convergió correctamente.\n",
            "Tiempo de ejecución: 0.6150 segundos\n"
          ]
        },
        {
          "output_type": "stream",
          "name": "stderr",
          "text": [
            "/usr/local/lib/python3.11/dist-packages/scipy/sparse/_index.py:151: SparseEfficiencyWarning: Changing the sparsity structure of a csr_matrix is expensive. lil and dok are more efficient.\n",
            "  self._set_arrayXarray(i, j, x)\n"
          ]
        },
        {
          "output_type": "stream",
          "name": "stdout",
          "text": [
            "Iteración 486: Convergió correctamente.\n",
            "Tiempo de ejecución: 0.7100 segundos\n"
          ]
        },
        {
          "output_type": "stream",
          "name": "stderr",
          "text": [
            "/usr/local/lib/python3.11/dist-packages/scipy/sparse/_index.py:151: SparseEfficiencyWarning: Changing the sparsity structure of a csr_matrix is expensive. lil and dok are more efficient.\n",
            "  self._set_arrayXarray(i, j, x)\n"
          ]
        },
        {
          "output_type": "stream",
          "name": "stdout",
          "text": [
            "Iteración 487: Convergió correctamente.\n",
            "Tiempo de ejecución: 0.6836 segundos\n"
          ]
        },
        {
          "output_type": "stream",
          "name": "stderr",
          "text": [
            "/usr/local/lib/python3.11/dist-packages/scipy/sparse/_index.py:151: SparseEfficiencyWarning: Changing the sparsity structure of a csr_matrix is expensive. lil and dok are more efficient.\n",
            "  self._set_arrayXarray(i, j, x)\n"
          ]
        },
        {
          "output_type": "stream",
          "name": "stdout",
          "text": [
            "Iteración 488: Convergió correctamente.\n",
            "Tiempo de ejecución: 0.6594 segundos\n"
          ]
        },
        {
          "output_type": "stream",
          "name": "stderr",
          "text": [
            "/usr/local/lib/python3.11/dist-packages/scipy/sparse/_index.py:151: SparseEfficiencyWarning: Changing the sparsity structure of a csr_matrix is expensive. lil and dok are more efficient.\n",
            "  self._set_arrayXarray(i, j, x)\n"
          ]
        },
        {
          "output_type": "stream",
          "name": "stdout",
          "text": [
            "Iteración 489: Convergió correctamente.\n",
            "Tiempo de ejecución: 0.6142 segundos\n"
          ]
        },
        {
          "output_type": "stream",
          "name": "stderr",
          "text": [
            "/usr/local/lib/python3.11/dist-packages/scipy/sparse/_index.py:151: SparseEfficiencyWarning: Changing the sparsity structure of a csr_matrix is expensive. lil and dok are more efficient.\n",
            "  self._set_arrayXarray(i, j, x)\n"
          ]
        },
        {
          "output_type": "stream",
          "name": "stdout",
          "text": [
            "Iteración 490: Convergió correctamente.\n",
            "Tiempo de ejecución: 0.6076 segundos\n"
          ]
        },
        {
          "output_type": "stream",
          "name": "stderr",
          "text": [
            "/usr/local/lib/python3.11/dist-packages/scipy/sparse/_index.py:151: SparseEfficiencyWarning: Changing the sparsity structure of a csr_matrix is expensive. lil and dok are more efficient.\n",
            "  self._set_arrayXarray(i, j, x)\n"
          ]
        },
        {
          "output_type": "stream",
          "name": "stdout",
          "text": [
            "Iteración 491: Convergió correctamente.\n",
            "Tiempo de ejecución: 0.7262 segundos\n"
          ]
        },
        {
          "output_type": "stream",
          "name": "stderr",
          "text": [
            "/usr/local/lib/python3.11/dist-packages/scipy/sparse/_index.py:151: SparseEfficiencyWarning: Changing the sparsity structure of a csr_matrix is expensive. lil and dok are more efficient.\n",
            "  self._set_arrayXarray(i, j, x)\n"
          ]
        },
        {
          "output_type": "stream",
          "name": "stdout",
          "text": [
            "Iteración 492: Convergió correctamente.\n",
            "Tiempo de ejecución: 0.7386 segundos\n"
          ]
        },
        {
          "output_type": "stream",
          "name": "stderr",
          "text": [
            "/usr/local/lib/python3.11/dist-packages/scipy/sparse/_index.py:151: SparseEfficiencyWarning: Changing the sparsity structure of a csr_matrix is expensive. lil and dok are more efficient.\n",
            "  self._set_arrayXarray(i, j, x)\n"
          ]
        },
        {
          "output_type": "stream",
          "name": "stdout",
          "text": [
            "Iteración 493: Convergió correctamente.\n",
            "Tiempo de ejecución: 0.5811 segundos\n"
          ]
        },
        {
          "output_type": "stream",
          "name": "stderr",
          "text": [
            "/usr/local/lib/python3.11/dist-packages/scipy/sparse/_index.py:151: SparseEfficiencyWarning: Changing the sparsity structure of a csr_matrix is expensive. lil and dok are more efficient.\n",
            "  self._set_arrayXarray(i, j, x)\n"
          ]
        },
        {
          "output_type": "stream",
          "name": "stdout",
          "text": [
            "Iteración 494: Convergió correctamente.\n",
            "Tiempo de ejecución: 0.6770 segundos\n"
          ]
        },
        {
          "output_type": "stream",
          "name": "stderr",
          "text": [
            "/usr/local/lib/python3.11/dist-packages/scipy/sparse/_index.py:151: SparseEfficiencyWarning: Changing the sparsity structure of a csr_matrix is expensive. lil and dok are more efficient.\n",
            "  self._set_arrayXarray(i, j, x)\n"
          ]
        },
        {
          "output_type": "stream",
          "name": "stdout",
          "text": [
            "Iteración 495: Convergió correctamente.\n",
            "Tiempo de ejecución: 0.6961 segundos\n"
          ]
        },
        {
          "output_type": "stream",
          "name": "stderr",
          "text": [
            "/usr/local/lib/python3.11/dist-packages/scipy/sparse/_index.py:151: SparseEfficiencyWarning: Changing the sparsity structure of a csr_matrix is expensive. lil and dok are more efficient.\n",
            "  self._set_arrayXarray(i, j, x)\n"
          ]
        },
        {
          "output_type": "stream",
          "name": "stdout",
          "text": [
            "Iteración 496: Convergió correctamente.\n",
            "Tiempo de ejecución: 0.7489 segundos\n"
          ]
        },
        {
          "output_type": "stream",
          "name": "stderr",
          "text": [
            "/usr/local/lib/python3.11/dist-packages/scipy/sparse/_index.py:151: SparseEfficiencyWarning: Changing the sparsity structure of a csr_matrix is expensive. lil and dok are more efficient.\n",
            "  self._set_arrayXarray(i, j, x)\n"
          ]
        },
        {
          "output_type": "stream",
          "name": "stdout",
          "text": [
            "Iteración 497: Convergió correctamente.\n",
            "Tiempo de ejecución: 1.1166 segundos\n"
          ]
        },
        {
          "output_type": "stream",
          "name": "stderr",
          "text": [
            "/usr/local/lib/python3.11/dist-packages/scipy/sparse/_index.py:151: SparseEfficiencyWarning: Changing the sparsity structure of a csr_matrix is expensive. lil and dok are more efficient.\n",
            "  self._set_arrayXarray(i, j, x)\n"
          ]
        },
        {
          "output_type": "stream",
          "name": "stdout",
          "text": [
            "Iteración 498: Convergió correctamente.\n",
            "Tiempo de ejecución: 0.8231 segundos\n"
          ]
        },
        {
          "output_type": "stream",
          "name": "stderr",
          "text": [
            "/usr/local/lib/python3.11/dist-packages/scipy/sparse/_index.py:151: SparseEfficiencyWarning: Changing the sparsity structure of a csr_matrix is expensive. lil and dok are more efficient.\n",
            "  self._set_arrayXarray(i, j, x)\n"
          ]
        },
        {
          "output_type": "stream",
          "name": "stdout",
          "text": [
            "Iteración 499: Convergió correctamente.\n",
            "Tiempo de ejecución: 0.6591 segundos\n",
            "         2283836 function calls (2278302 primitive calls) in 325.283 seconds\n",
            "\n",
            "   Ordered by: cumulative time\n",
            "   List reduced from 693 to 40 due to restriction <40>\n",
            "\n",
            "   ncalls  tottime  percall  cumtime  percall filename:lineno(function)\n",
            "        3    0.000    0.000  325.477  108.492 /usr/local/lib/python3.11/dist-packages/IPython/core/interactiveshell.py:3512(run_code)\n",
            "      5/3    0.000    0.000  325.477  108.492 {built-in method builtins.exec}\n",
            "      500  124.468    0.249  187.046    0.374 <ipython-input-5-e9ab6229a877>:6(arbol)\n",
            "      500    7.058    0.014  110.782    0.222 /usr/local/lib/python3.11/dist-packages/scipy/sparse/linalg/_isolve/iterative.py:537(gmres)\n",
            "    20774    0.216    0.000   99.148    0.005 /usr/local/lib/python3.11/dist-packages/scipy/sparse/linalg/_interface.py:205(matvec)\n",
            "    10392    0.021    0.000   64.785    0.006 /usr/local/lib/python3.11/dist-packages/scipy/sparse/linalg/_interface.py:592(_matvec)\n",
            "    10392   64.764    0.006   64.764    0.006 {method 'solve' of 'SuperLU' objects}\n",
            "     1000    0.008    0.000   48.087    0.048 /usr/local/lib/python3.11/dist-packages/scipy/sparse/_csr.py:39(__setitem__)\n",
            "     1000    0.022    0.000   48.077    0.048 /usr/local/lib/python3.11/dist-packages/scipy/sparse/_index.py:101(__setitem__)\n",
            "     1000    0.324    0.000   47.917    0.048 /usr/local/lib/python3.11/dist-packages/scipy/sparse/_compressed.py:1027(_set_many)\n",
            "      500    0.004    0.000   47.849    0.096 /usr/local/lib/python3.11/dist-packages/scipy/sparse/_compressed.py:911(_set_arrayXarray)\n",
            "      500    5.015    0.010   47.289    0.095 /usr/local/lib/python3.11/dist-packages/scipy/sparse/_compressed.py:1086(_insert_many)\n",
            "      500    0.007    0.000   41.912    0.084 /usr/local/lib/python3.11/dist-packages/scipy/sparse/_compressed.py:1286(sort_indices)\n",
            "      500   41.903    0.084   41.903    0.084 {built-in method scipy.sparse._sparsetools.csr_sort_indices}\n",
            "    10382    0.027    0.000   34.051    0.003 /usr/local/lib/python3.11/dist-packages/scipy/sparse/linalg/_interface.py:193(_matvec)\n",
            "    10382    0.084    0.000   34.010    0.003 /usr/local/lib/python3.11/dist-packages/scipy/sparse/linalg/_interface.py:307(matmat)\n",
            "    10382    0.024    0.000   33.840    0.003 /usr/local/lib/python3.11/dist-packages/scipy/sparse/linalg/_interface.py:799(_matmat)\n",
            "    10382    0.041    0.000   33.816    0.003 /usr/local/lib/python3.11/dist-packages/scipy/sparse/_base.py:434(dot)\n",
            "    10382    0.032    0.000   33.656    0.003 /usr/local/lib/python3.11/dist-packages/scipy/sparse/_base.py:665(__matmul__)\n",
            "    10382    0.088    0.000   33.565    0.003 /usr/local/lib/python3.11/dist-packages/scipy/sparse/_base.py:544(_matmul_dispatch)\n",
            "    10382    0.151    0.000   33.424    0.003 /usr/local/lib/python3.11/dist-packages/scipy/sparse/_compressed.py:484(_matmul_vector)\n",
            "    10382   33.109    0.003   33.109    0.003 {built-in method scipy.sparse._sparsetools.csr_matvec}\n",
            "       10    0.005    0.000   24.941    2.494 /usr/local/lib/python3.11/dist-packages/scipy/sparse/linalg/_dsolve/linsolve.py:443(spilu)\n",
            "       10   24.547    2.455   24.547    2.455 {built-in method scipy.sparse.linalg._dsolve._superlu.gstrf}\n",
            "      500    0.257    0.001   14.476    0.029 <ipython-input-2-3560cf6945b7>:1(knn)\n",
            "      500    0.019    0.000   13.390    0.027 /usr/local/lib/python3.11/dist-packages/sklearn/neighbors/_base.py:763(kneighbors)\n",
            "      500    0.003    0.000   12.848    0.026 /usr/local/lib/python3.11/dist-packages/sklearn/utils/parallel.py:54(__call__)\n",
            "      500    0.015    0.000   12.844    0.026 /usr/local/lib/python3.11/dist-packages/joblib/parallel.py:1902(__call__)\n",
            "     2000    0.014    0.000   12.789    0.006 /usr/local/lib/python3.11/dist-packages/joblib/parallel.py:1638(_get_outputs)\n",
            "      571    0.012    0.000   11.124    0.019 /usr/local/lib/python3.11/dist-packages/joblib/parallel.py:1746(_retrieve)\n",
            "     1092   11.108    0.010   11.108    0.010 {built-in method time.sleep}\n",
            "    21264    0.252    0.000    4.447    0.000 /usr/local/lib/python3.11/dist-packages/numpy/linalg/_linalg.py:2566(norm)\n",
            "    21264    4.146    0.000    4.146    0.000 {method 'dot' of 'numpy.ndarray' objects}\n",
            "    21/11    0.001    0.000    2.700    0.245 /usr/local/lib/python3.11/dist-packages/scipy/sparse/_compressed.py:27(__init__)\n",
            "        1    0.000    0.000    2.335    2.335 <ipython-input-5-e9ab6229a877>:1(<cell line: 0>)\n",
            "        1    0.007    0.007    2.332    2.332 /usr/local/lib/python3.11/dist-packages/scipy/sparse/_coo.py:27(__init__)\n",
            "        1    2.325    2.325    2.325    2.325 {method 'nonzero' of 'numpy.ndarray' objects}\n",
            "10009/6509    0.007    0.000    1.353    0.000 {built-in method builtins.next}\n",
            "      500    0.002    0.000    1.322    0.003 /usr/local/lib/python3.11/dist-packages/joblib/parallel.py:1617(_start)\n",
            "     1500    0.020    0.000    1.320    0.001 /usr/local/lib/python3.11/dist-packages/joblib/parallel.py:1433(dispatch_one_batch)\n",
            "\n",
            "\n",
            "\n"
          ]
        }
      ]
    },
    {
      "cell_type": "code",
      "source": [
        "interact(plot_iteracion, iteracion=IntSlider(min=0, max=n_times-1, step=1, value=0))"
      ],
      "metadata": {
        "colab": {
          "base_uri": "https://localhost:8080/",
          "height": 568,
          "referenced_widgets": [
            "89628b9c21684df38ecb3108011c41f1",
            "f291cb6a3c824267b016ec5df02f1b18",
            "6c61458602da45d6ac3ea6d784ea1723",
            "ac2f3e67d90e4d588e112473ab6c23f2",
            "0ed4c8545d574ef49db0bc05f9154858",
            "372bda131da342aaacda5b7da52c9206",
            "e5258e3481e84adfbcb2ff9b710cd741"
          ]
        },
        "id": "7yzOrz_d1aZz",
        "outputId": "267b5221-7d5c-4ddd-9a9a-f489f54ff2f5"
      },
      "execution_count": 6,
      "outputs": [
        {
          "output_type": "display_data",
          "data": {
            "text/plain": [
              "interactive(children=(IntSlider(value=0, description='iteracion', max=499), Output()), _dom_classes=('widget-i…"
            ],
            "application/vnd.jupyter.widget-view+json": {
              "version_major": 2,
              "version_minor": 0,
              "model_id": "89628b9c21684df38ecb3108011c41f1"
            }
          },
          "metadata": {}
        },
        {
          "output_type": "execute_result",
          "data": {
            "text/plain": [
              "<function __main__.plot_iteracion(iteracion)>"
            ],
            "text/html": [
              "<div style=\"max-width:800px; border: 1px solid var(--colab-border-color);\"><style>\n",
              "      pre.function-repr-contents {\n",
              "        overflow-x: auto;\n",
              "        padding: 8px 12px;\n",
              "        max-height: 500px;\n",
              "      }\n",
              "\n",
              "      pre.function-repr-contents.function-repr-contents-collapsed {\n",
              "        cursor: pointer;\n",
              "        max-height: 100px;\n",
              "      }\n",
              "    </style>\n",
              "    <pre style=\"white-space: initial; background:\n",
              "         var(--colab-secondary-surface-color); padding: 8px 12px;\n",
              "         border-bottom: 1px solid var(--colab-border-color);\"><b>plot_iteracion</b><br/>def plot_iteracion(iteracion)</pre><pre class=\"function-repr-contents function-repr-contents-collapsed\" style=\"\"><a class=\"filepath\" style=\"display:none\" href=\"#\">/content/&lt;ipython-input-5-e9ab6229a877&gt;</a>&lt;no docstring&gt;</pre></div>"
            ]
          },
          "metadata": {},
          "execution_count": 6
        }
      ]
    },
    {
      "cell_type": "markdown",
      "source": [
        "#Gráfico de resultados"
      ],
      "metadata": {
        "id": "0k6sfvZqs4uq"
      }
    },
    {
      "cell_type": "code",
      "source": [
        "########################################################################################################\n",
        "########################## Gráfico de resultados #######################################################\n",
        "########################################################################################################\n",
        "\n",
        "#mapa de calor de potencia electrico\n",
        "ux = range(M2.shape[0] + 1)\n",
        "uy = range(M2.shape[1] + 1)\n",
        "xx_2d, yy_2d = np.meshgrid(ux, uy, indexing='ij')\n",
        "fig, ax = plt.subplots(figsize=(15, 12))\n",
        "pcm = ax.pcolormesh(np.max(uy) - yy_2d, np.max(ux) - xx_2d, V_2d, cmap='inferno')\n",
        "ax.set_aspect('equal', adjustable='box')\n",
        "divider = make_axes_locatable(ax)\n",
        "cax = divider.append_axes(\"right\", size=\"5%\", pad=0.1)\n",
        "cbar = plt.colorbar(pcm, cax=cax)\n",
        "cbar.set_label(\"Potencial V [kV]\", fontsize=16)\n",
        "ax.set_xlabel(\"x\", fontsize=18)\n",
        "ax.set_ylabel(\"y\", fontsize=18)\n",
        "ax.set_title(\"Mapa de Calor de la Solución del Sistema\", fontsize=20)\n",
        "ax.tick_params(axis='both', labelsize=14)\n",
        "cbar.ax.tick_params(labelsize=14)\n",
        "plt.show()\n",
        "\n",
        "#mapa de geometria\n",
        "cmap = mcolors.ListedColormap(['black', 'blue', 'green', 'yellow'])\n",
        "bounds = [-5, 0, 1, 9]\n",
        "norm = mcolors.BoundaryNorm(bounds, cmap.N)\n",
        "plt.figure(figsize=(15, 12))\n",
        "data_volteada = np.fliplr(M2['v'])\n",
        "plt.imshow(data_volteada, cmap=cmap, norm=norm, interpolation='nearest')\n",
        "plt.xticks(\n",
        "    ticks=np.linspace(0, data_volteada.shape[1] - 1, 5),\n",
        "    labels=np.linspace(0, 200, 5, dtype=int)\n",
        ")\n",
        "plt.show()\n",
        "\n",
        "#agregar un widget para ver como crece dinamicamente el arbol electrico"
      ],
      "metadata": {
        "id": "0N-ga9tqsnvZ",
        "colab": {
          "base_uri": "https://localhost:8080/",
          "height": 1000
        },
        "outputId": "1f4363ed-ddc1-45bb-b9b2-c5f183b6acd0"
      },
      "execution_count": 7,
      "outputs": [
        {
          "output_type": "display_data",
          "data": {
            "text/plain": [
              "<Figure size 1500x1200 with 2 Axes>"
            ],
            "image/png": "[encoded data removed]"
          },
          "metadata": {}
        },
        {
          "output_type": "display_data",
          "data": {
            "text/plain": [
              "<Figure size 1500x1200 with 1 Axes>"
            ],
            "image/png": "[encoded data removed]"
          },
          "metadata": {}
        }
      ]
    }
  ],
  "metadata": {
    "colab": {
      "provenance": []
    },
    "kernelspec": {
      "display_name": "Python 3",
      "name": "python3"
    },
    "language_info": {
      "name": "python"
    },
    "widgets": {
      "application/vnd.jupyter.widget-state+json": {
        "89628b9c21684df38ecb3108011c41f1": {
          "model_module": "@jupyter-widgets/controls",
          "model_name": "VBoxModel",
          "model_module_version": "1.5.0",
          "state": {
            "_dom_classes": [
              "widget-interact"
            ],
            "_model_module": "@jupyter-widgets/controls",
            "_model_module_version": "1.5.0",
            "_model_name": "VBoxModel",
            "_view_count": null,
            "_view_module": "@jupyter-widgets/controls",
            "_view_module_version": "1.5.0",
            "_view_name": "VBoxView",
            "box_style": "",
            "children": [
              "IPY_MODEL_f291cb6a3c824267b016ec5df02f1b18",
              "IPY_MODEL_6c61458602da45d6ac3ea6d784ea1723"
            ],
            "layout": "IPY_MODEL_ac2f3e67d90e4d588e112473ab6c23f2"
          }
        },
        "f291cb6a3c824267b016ec5df02f1b18": {
          "model_module": "@jupyter-widgets/controls",
          "model_name": "IntSliderModel",
          "model_module_version": "1.5.0",
          "state": {
            "_dom_classes": [],
            "_model_module": "@jupyter-widgets/controls",
            "_model_module_version": "1.5.0",
            "_model_name": "IntSliderModel",
            "_view_count": null,
            "_view_module": "@jupyter-widgets/controls",
            "_view_module_version": "1.5.0",
            "_view_name": "IntSliderView",
            "continuous_update": true,
            "description": "iteracion",
            "description_tooltip": null,
            "disabled": false,
            "layout": "IPY_MODEL_0ed4c8545d574ef49db0bc05f9154858",
            "max": 499,
            "min": 0,
            "orientation": "horizontal",
            "readout": true,
            "readout_format": "d",
            "step": 1,
            "style": "IPY_MODEL_372bda131da342aaacda5b7da52c9206",
            "value": 0
          }
        },
        "6c61458602da45d6ac3ea6d784ea1723": {
          "model_module": "@jupyter-widgets/output",
          "model_name": "OutputModel",
          "model_module_version": "1.0.0",
          "state": {
            "_dom_classes": [],
            "_model_module": "@jupyter-widgets/output",
            "_model_module_version": "1.0.0",
            "_model_name": "OutputModel",
            "_view_count": null,
            "_view_module": "@jupyter-widgets/output",
            "_view_module_version": "1.0.0",
            "_view_name": "OutputView",
            "layout": "IPY_MODEL_e5258e3481e84adfbcb2ff9b710cd741",
            "msg_id": "",
            "outputs": [
              {
                "output_type": "display_data",
                "data": {
                  "text/plain": "<Figure size 2000x1000 with 3 Axes>",
                  "image/png": "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\n"
                },
                "metadata": {}
              }
            ]
          }
        },
        "ac2f3e67d90e4d588e112473ab6c23f2": {
          "model_module": "@jupyter-widgets/base",
          "model_name": "LayoutModel",
          "model_module_version": "1.2.0",
          "state": {
            "_model_module": "@jupyter-widgets/base",
            "_model_module_version": "1.2.0",
            "_model_name": "LayoutModel",
            "_view_count": null,
            "_view_module": "@jupyter-widgets/base",
            "_view_module_version": "1.2.0",
            "_view_name": "LayoutView",
            "align_content": null,
            "align_items": null,
            "align_self": null,
            "border": null,
            "bottom": null,
            "display": null,
            "flex": null,
            "flex_flow": null,
            "grid_area": null,
            "grid_auto_columns": null,
            "grid_auto_flow": null,
            "grid_auto_rows": null,
            "grid_column": null,
            "grid_gap": null,
            "grid_row": null,
            "grid_template_areas": null,
            "grid_template_columns": null,
            "grid_template_rows": null,
            "height": null,
            "justify_content": null,
            "justify_items": null,
            "left": null,
            "margin": null,
            "max_height": null,
            "max_width": null,
            "min_height": null,
            "min_width": null,
            "object_fit": null,
            "object_position": null,
            "order": null,
            "overflow": null,
            "overflow_x": null,
            "overflow_y": null,
            "padding": null,
            "right": null,
            "top": null,
            "visibility": null,
            "width": null
          }
        },
        "0ed4c8545d574ef49db0bc05f9154858": {
          "model_module": "@jupyter-widgets/base",
          "model_name": "LayoutModel",
          "model_module_version": "1.2.0",
          "state": {
            "_model_module": "@jupyter-widgets/base",
            "_model_module_version": "1.2.0",
            "_model_name": "LayoutModel",
            "_view_count": null,
            "_view_module": "@jupyter-widgets/base",
            "_view_module_version": "1.2.0",
            "_view_name": "LayoutView",
            "align_content": null,
            "align_items": null,
            "align_self": null,
            "border": null,
            "bottom": null,
            "display": null,
            "flex": null,
            "flex_flow": null,
            "grid_area": null,
            "grid_auto_columns": null,
            "grid_auto_flow": null,
            "grid_auto_rows": null,
            "grid_column": null,
            "grid_gap": null,
            "grid_row": null,
            "grid_template_areas": null,
            "grid_template_columns": null,
            "grid_template_rows": null,
            "height": null,
            "justify_content": null,
            "justify_items": null,
            "left": null,
            "margin": null,
            "max_height": null,
            "max_width": null,
            "min_height": null,
            "min_width": null,
            "object_fit": null,
            "object_position": null,
            "order": null,
            "overflow": null,
            "overflow_x": null,
            "overflow_y": null,
            "padding": null,
            "right": null,
            "top": null,
            "visibility": null,
            "width": null
          }
        },
        "372bda131da342aaacda5b7da52c9206": {
          "model_module": "@jupyter-widgets/controls",
          "model_name": "SliderStyleModel",
          "model_module_version": "1.5.0",
          "state": {
            "_model_module": "@jupyter-widgets/controls",
            "_model_module_version": "1.5.0",
            "_model_name": "SliderStyleModel",
            "_view_count": null,
            "_view_module": "@jupyter-widgets/base",
            "_view_module_version": "1.2.0",
            "_view_name": "StyleView",
            "description_width": "",
            "handle_color": null
          }
        },
        "e5258e3481e84adfbcb2ff9b710cd741": {
          "model_module": "@jupyter-widgets/base",
          "model_name": "LayoutModel",
          "model_module_version": "1.2.0",
          "state": {
            "_model_module": "@jupyter-widgets/base",
            "_model_module_version": "1.2.0",
            "_model_name": "LayoutModel",
            "_view_count": null,
            "_view_module": "@jupyter-widgets/base",
            "_view_module_version": "1.2.0",
            "_view_name": "LayoutView",
            "align_content": null,
            "align_items": null,
            "align_self": null,
            "border": null,
            "bottom": null,
            "display": null,
            "flex": null,
            "flex_flow": null,
            "grid_area": null,
            "grid_auto_columns": null,
            "grid_auto_flow": null,
            "grid_auto_rows": null,
            "grid_column": null,
            "grid_gap": null,
            "grid_row": null,
            "grid_template_areas": null,
            "grid_template_columns": null,
            "grid_template_rows": null,
            "height": null,
            "justify_content": null,
            "justify_items": null,
            "left": null,
            "margin": null,
            "max_height": null,
            "max_width": null,
            "min_height": null,
            "min_width": null,
            "object_fit": null,
            "object_position": null,
            "order": null,
            "overflow": null,
            "overflow_x": null,
            "overflow_y": null,
            "padding": null,
            "right": null,
            "top": null,
            "visibility": null,
            "width": null
          }
        }
      }
    }
  },
  "nbformat": 4,
  "nbformat_minor": 0
}